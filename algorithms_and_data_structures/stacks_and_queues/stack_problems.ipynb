{
 "cells": [
  {
   "cell_type": "markdown",
   "metadata": {},
   "source": [
    "#  Valid parens\n",
    "\n",
    "Given a string containing just the characters '(', ')', '{', '}', '[' and ']', determine if the input string is valid.\n",
    "\n",
    "The brackets must close in the correct order, \"()\" and \"()[]{}\" are all valid but \"(]\" and \"([)]\" are not."
   ]
  },
  {
   "cell_type": "code",
   "execution_count": 8,
   "metadata": {
    "collapsed": false
   },
   "outputs": [
    {
     "name": "stdout",
     "output_type": "stream",
     "text": [
      "False\n",
      "False\n",
      "False\n",
      "True\n",
      "True\n"
     ]
    }
   ],
   "source": [
    "def has_valid_parens(s):\n",
    "    \"\"\"\n",
    "    :type s: str\n",
    "    :rtype: bool\n",
    "    \"\"\"\n",
    "    left_to_right = { \"{\": \"}\",\"[\" : \"]\",\"(\" : \")\" }\n",
    "    stack = []\n",
    "    for i in s:\n",
    "        if i in left_to_right.keys():\n",
    "            stack.append(i)\n",
    "        elif i in left_to_right.values():\n",
    "            if len(stack) == 0:\n",
    "                return False\n",
    "            last = stack.pop()\n",
    "            if left_to_right[last] == i:\n",
    "                continue\n",
    "            else:\n",
    "                return False\n",
    "        else:\n",
    "            continue\n",
    "\n",
    "    if len(stack) == 0:\n",
    "        return True\n",
    "    else:\n",
    "        return False\n",
    "\n",
    "\n",
    "print has_valid_parens(\")asdf\")\n",
    "print has_valid_parens(\"]asdf\")\n",
    "print has_valid_parens(\"}asdf\")\n",
    "print has_valid_parens(\"{a}(s)[df]\")\n",
    "print has_valid_parens(\"a[sd(fs)ad]fas{d[fsa]}\")"
   ]
  },
  {
   "cell_type": "code",
   "execution_count": null,
   "metadata": {
    "collapsed": false
   },
   "outputs": [],
   "source": [
    "import math\n",
    "def isPowerOfThree(n):\n",
    "    \"\"\"\n",
    "    :type n: int\n",
    "    :rtype: bool\n",
    "    \"\"\"\n",
    "    l = n\n",
    "    while math.sqrt(l) % 1 != 0:\n",
    "        l = math.sqrt(1)\n",
    "    \n",
    "    while n > 27:\n",
    "        n = n / float(27)\n",
    "    \n",
    "    if n == 1 or n == 3 or n == 9 or n == 27:\n",
    "        return True\n",
    "    else:\n",
    "        return False\n",
    "\n",
    "    \n",
    "print isPowerOfThree(3)\n",
    "print isPowerOfThree(9)\n",
    "print isPowerOfThree(27)\n",
    "print isPowerOfThree(28)"
   ]
  },
  {
   "cell_type": "code",
   "execution_count": null,
   "metadata": {
    "collapsed": true
   },
   "outputs": [],
   "source": []
  }
 ],
 "metadata": {
  "kernelspec": {
   "display_name": "Python 2",
   "language": "python",
   "name": "python2"
  },
  "language_info": {
   "codemirror_mode": {
    "name": "ipython",
    "version": 2
   },
   "file_extension": ".py",
   "mimetype": "text/x-python",
   "name": "python",
   "nbconvert_exporter": "python",
   "pygments_lexer": "ipython2",
   "version": "2.7.10"
  }
 },
 "nbformat": 4,
 "nbformat_minor": 0
}
