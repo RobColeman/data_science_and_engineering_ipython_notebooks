{
 "cells": [
  {
   "cell_type": "markdown",
   "metadata": {},
   "source": [
    "# Sort Algorithms"
   ]
  },
  {
   "cell_type": "markdown",
   "metadata": {},
   "source": [
    "## Merge sort"
   ]
  },
  {
   "cell_type": "code",
   "execution_count": 14,
   "metadata": {
    "collapsed": false
   },
   "outputs": [
    {
     "name": "stdout",
     "output_type": "stream",
     "text": [
      "unsorted : [9, 4, 14, 11, 3, 15, 18, 19, 12, 8, 7, 17, 6, 0, 16, 2, 1, 10, 13, 5]\n",
      "sorted   : [0, 1, 2, 3, 4, 5, 6, 7, 8, 9, 10, 11, 12, 13, 14, 15, 16, 17, 18, 19]\n"
     ]
    }
   ],
   "source": [
    "def merge(left, right):\n",
    "    result = []\n",
    "    left_idx, right_idx = 0,  0\n",
    "    while left_idx < len(left) and right_idx < len(right):\n",
    "        if left[left_idx] <= right[right_idx]:\n",
    "            result.append(left[left_idx])\n",
    "            left_idx += 1\n",
    "        else:\n",
    "            result.append(right[right_idx])\n",
    "            right_idx += 1\n",
    "    \n",
    "    if left_idx < len(left):\n",
    "        result.extend(left[left_idx:])\n",
    "    if right_idx < len(right):\n",
    "        result.extend(right[right_idx:])\n",
    "    \n",
    "    return result\n",
    "            \n",
    "def merge_sort(a):\n",
    "    n = len(a)\n",
    "    \n",
    "    if n <= 1:\n",
    "        return a\n",
    "    \n",
    "    mid = n // 2\n",
    "    \n",
    "    left = merge_sort(a[0:mid])\n",
    "    right = merge_sort(a[mid:])\n",
    "    \n",
    "    return merge(left, right)\n",
    "    \n",
    "a = list(range(20))\n",
    "shuffle(a)\n",
    "print(\"unsorted : {}\".format(a))\n",
    "print(\"sorted   : {}\".format(quicksort(a)))"
   ]
  },
  {
   "cell_type": "markdown",
   "metadata": {
    "collapsed": true
   },
   "source": [
    "# Quicksort"
   ]
  },
  {
   "cell_type": "code",
   "execution_count": 10,
   "metadata": {
    "collapsed": false
   },
   "outputs": [
    {
     "name": "stdout",
     "output_type": "stream",
     "text": [
      "unsorted : [14, 10, 16, 8, 9, 0, 1, 7, 5, 19, 12, 3, 11, 6, 18, 15, 17, 2, 4, 13]\n",
      "sorted   : [0, 1, 2, 3, 4, 5, 6, 7, 8, 9, 10, 11, 12, 13, 14, 15, 16, 17, 18, 19]\n"
     ]
    }
   ],
   "source": [
    "def quicksort(arr):\n",
    "    if len(arr) <= 1:\n",
    "        return arr\n",
    "    less = []\n",
    "    pivots = []\n",
    "    greater = []\n",
    "    \n",
    "    pivot = arr[0]\n",
    "    pivots.append(pivot)\n",
    "    for i in arr[1:]:\n",
    "        if i < pivot:\n",
    "            less.append(i)\n",
    "        elif i > pivot:\n",
    "            greater.append(i)\n",
    "        else:\n",
    "            pivots.append(i)\n",
    "    \n",
    "    return quicksort(less) + pivots + quicksort(greater)\n",
    "\n",
    "a = list(range(20))\n",
    "shuffle(a)\n",
    "print(\"unsorted : {}\".format(a))\n",
    "print(\"sorted   : {}\".format(quicksort(a)))"
   ]
  },
  {
   "cell_type": "markdown",
   "metadata": {
    "collapsed": true
   },
   "source": [
    "# Randomized quicksort\n",
    "\n",
    "Pivots are chosen randomly within the blocks."
   ]
  },
  {
   "cell_type": "code",
   "execution_count": 11,
   "metadata": {
    "collapsed": false
   },
   "outputs": [
    {
     "name": "stdout",
     "output_type": "stream",
     "text": [
      "unsorted : [18, 5, 13, 11, 2, 15, 14, 8, 9, 19, 3, 10, 17, 6, 12, 1, 7, 0, 16, 4]\n",
      "sorted   : [0, 1, 2, 3, 4, 5, 6, 7, 8, 9, 10, 11, 12, 13, 14, 15, 16, 17, 18, 19]\n"
     ]
    }
   ],
   "source": [
    "from random import randint, shuffle\n",
    "\n",
    "def quicksort_rand(arr):\n",
    "    if len(arr) <= 1:\n",
    "        return arr\n",
    "    less = []\n",
    "    pivots = []\n",
    "    greater = []\n",
    "    \n",
    "    pivot = arr.pop(randint(0,len(arr)-1))\n",
    "    pivots.append(pivot)\n",
    "    for i in arr:\n",
    "        if i < pivot:\n",
    "            less.append(i)\n",
    "        elif i > pivot:\n",
    "            greater.append(i)\n",
    "        else:\n",
    "            pivots.append(i)\n",
    "    \n",
    "    return quicksort(less) + pivots + quicksort(greater)\n",
    "\n",
    "a = list(range(20))\n",
    "shuffle(a)\n",
    "print(\"unsorted : {}\".format(a))\n",
    "print(\"sorted   : {}\".format(quicksort_rand(a)))"
   ]
  },
  {
   "cell_type": "code",
   "execution_count": null,
   "metadata": {
    "collapsed": true
   },
   "outputs": [],
   "source": []
  }
 ],
 "metadata": {
  "kernelspec": {
   "display_name": "Python 3",
   "language": "python",
   "name": "python3"
  },
  "language_info": {
   "codemirror_mode": {
    "name": "ipython",
    "version": 3
   },
   "file_extension": ".py",
   "mimetype": "text/x-python",
   "name": "python",
   "nbconvert_exporter": "python",
   "pygments_lexer": "ipython3",
   "version": "3.5.1"
  }
 },
 "nbformat": 4,
 "nbformat_minor": 0
}
