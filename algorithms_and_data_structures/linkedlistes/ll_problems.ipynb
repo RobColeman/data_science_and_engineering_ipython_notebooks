{
 "cells": [
  {
   "cell_type": "markdown",
   "metadata": {},
   "source": [
    "## Group odd and even elements of a linked list\n",
    "\n",
    "Given a singly linked list, group all odd nodes together followed by the even nodes. Please note here we are talking about the node number and not the value in the nodes.\n",
    "\n",
    "You should try to do it in place. The program should run in O(1) space complexity and O(nodes) time complexity.\n",
    "\n",
    "Example:\n",
    "Given 1->2->3->4->5->NULL,\n",
    "return 1->3->5->2->4->NULL.\n",
    "\n",
    "Note:\n",
    "The relative order inside both the even and odd groups should remain as it was in the input. \n",
    "The first node is considered odd, the second node even and so on ..."
   ]
  },
  {
   "cell_type": "code",
   "execution_count": 2,
   "metadata": {
    "collapsed": true
   },
   "outputs": [],
   "source": [
    "# class ListNode(object):\n",
    "#     def __init__(self, x):\n",
    "#         self.val = x\n",
    "#         self.next = None\n",
    "\n",
    "def oddEvenList(self, head):\n",
    "    \"\"\"\n",
    "    :type head: ListNode\n",
    "    :rtype: ListNode\n",
    "    \"\"\"\n",
    "    odd_head = None\n",
    "    odd_tail = None\n",
    "    even_head = None\n",
    "    even_tail = None\n",
    "    while not (head==None):\n",
    "        if head.val % 2 == 0:\n",
    "            if even_tail == None:\n",
    "                even_tail = head\n",
    "                even_head = head\n",
    "            else:\n",
    "                even_tail.next = head\n",
    "                even_tail = head\n",
    "        else:\n",
    "            if odd_tail == None:\n",
    "                odd_tail = head\n",
    "                odd_head = head\n",
    "            else:\n",
    "                odd_tail.next = head\n",
    "                odd_tail = head\n",
    "\n",
    "        head = head.next\n",
    "\n",
    "    odd_tail.next = even_head\n",
    "    return odd_head"
   ]
  },
  {
   "cell_type": "code",
   "execution_count": null,
   "metadata": {
    "collapsed": true
   },
   "outputs": [],
   "source": []
  }
 ],
 "metadata": {
  "kernelspec": {
   "display_name": "Python 2",
   "language": "python",
   "name": "python2"
  },
  "language_info": {
   "codemirror_mode": {
    "name": "ipython",
    "version": 2
   },
   "file_extension": ".py",
   "mimetype": "text/x-python",
   "name": "python",
   "nbconvert_exporter": "python",
   "pygments_lexer": "ipython2",
   "version": "2.7.10"
  }
 },
 "nbformat": 4,
 "nbformat_minor": 0
}
