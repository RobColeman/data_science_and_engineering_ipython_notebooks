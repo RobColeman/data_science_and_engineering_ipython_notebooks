{
 "cells": [
  {
   "cell_type": "code",
   "execution_count": 2,
   "metadata": {
    "collapsed": false
   },
   "outputs": [
    {
     "ename": "SyntaxError",
     "evalue": "invalid syntax (<ipython-input-2-74d0b95c497a>, line 3)",
     "output_type": "error",
     "traceback": [
      "\u001b[0;36m  File \u001b[0;32m\"<ipython-input-2-74d0b95c497a>\"\u001b[0;36m, line \u001b[0;32m3\u001b[0m\n\u001b[0;31m    A createa Trie tree for auto complete.\u001b[0m\n\u001b[0m            ^\u001b[0m\n\u001b[0;31mSyntaxError\u001b[0m\u001b[0;31m:\u001b[0m invalid syntax\n"
     ]
    }
   ],
   "source": [
    "# Create a Trie\n",
    "\n",
    "A createa Trie tree for auto complete."
   ]
  },
  {
   "cell_type": "code",
   "execution_count": 3,
   "metadata": {
    "collapsed": true
   },
   "outputs": [],
   "source": [
    "class Trie_simple:\n",
    "    \n",
    "    def __init__(self):\n",
    "        self._end = '_end_'\n",
    "        self._root = dict()\n",
    "    \n",
    "    def insert(self, word):\n",
    "        current_dict = self._root\n",
    "        for letter in word:\n",
    "            current_dict = current_dict.setdefault(letter, {})\n",
    "        current_dict[self._end] = self._end\n",
    "    \n",
    "    def contains(self, word):\n",
    "        current_dict = self._root\n",
    "        for letter in word:\n",
    "            if letter in current_dict:\n",
    "                current_dict = current_dict[letter]\n",
    "            else:\n",
    "                return False\n",
    "        # the _end flag indicates this is the end of a word\n",
    "        # if it's not there, the word continues\n",
    "        if self._end in current_dict:\n",
    "            return True\n",
    "        else:\n",
    "            return False"
   ]
  },
  {
   "cell_type": "markdown",
   "metadata": {},
   "source": []
  },
  {
   "cell_type": "code",
   "execution_count": 14,
   "metadata": {
    "collapsed": false
   },
   "outputs": [],
   "source": [
    "class Trie:\n",
    "    \n",
    "    def __init__(self):\n",
    "        self._end = '_end_'\n",
    "        self._root = dict()\n",
    "    \n",
    "    def insert(self, word):\n",
    "        word = word.lower()\n",
    "        current_dict = self._root\n",
    "        for letter in word:\n",
    "            current_dict = current_dict.setdefault(letter, {})\n",
    "        current_dict[self._end] = self._end\n",
    "    \n",
    "    def insert_batch(self, words):\n",
    "        for word in words:\n",
    "            self.insert(word)\n",
    "    \n",
    "    def view(self):\n",
    "        print(self._root)\n",
    "    \n",
    "    def view_root_keys(self):\n",
    "        print(sorted(list(self._root.keys())))\n",
    "    \n",
    "    def contains(self, word):\n",
    "        word = word.lower()\n",
    "        current_dict = self._root\n",
    "        for letter in word:\n",
    "            if letter in current_dict:\n",
    "                current_dict = current_dict[letter]\n",
    "            else:\n",
    "                return False\n",
    "        # the _end flag indicates this is the end of a word\n",
    "        # if it's not there, the word continues\n",
    "        if self._end in current_dict:\n",
    "            return True\n",
    "        else:\n",
    "            return False\n",
    "    \n",
    "\n",
    "    def suggest(self, partial, limit = 5):\n",
    "        \"\"\"\n",
    "        Since this trie doesn't store frequency of words as it trains, we're just \n",
    "        going to return the alphabetically first \n",
    "        'limit', shortest, terms.\n",
    "        \"\"\"\n",
    "        partial = partial.lower()\n",
    "        suggestions = []\n",
    "\n",
    "        def suggest_dfs(partial_dict, partial ):\n",
    "            nonlocal suggestions\n",
    "            if len(suggestions) < limit:\n",
    "                for ch in sorted(partial_dict.keys()): \n",
    "                    # sorting by alpha, this happens to give us _end_ first\n",
    "                    # could be pre-sorting by frequency for better \n",
    "                    #   speed and smarted recommendations\n",
    "                    if len(suggestions) >= limit:\n",
    "                        break\n",
    "                    elif ch == self._end:\n",
    "                        suggestions.append(partial)\n",
    "                    else:\n",
    "                        # recurse\n",
    "                        suggest_dfs(partial_dict[ch], partial + ch)\n",
    "\n",
    "        partial_dict = self._find_patial(partial)\n",
    "        if not partial_dict == None:\n",
    "            suggest_dfs(partial_dict, partial)\n",
    "        \n",
    "        return suggestions\n",
    "\n",
    "    def _find_patial(self, partial):\n",
    "        top_dict = self._root\n",
    "        for char in partial:\n",
    "            if char in top_dict:\n",
    "                top_dict = top_dict[char]\n",
    "            else:\n",
    "                # there are no words starting with this sequence\n",
    "                return None\n",
    "        return top_dict"
   ]
  },
  {
   "cell_type": "code",
   "execution_count": 15,
   "metadata": {
    "collapsed": false
   },
   "outputs": [],
   "source": [
    "def get_words():\n",
    "    f = open(\"data_en_words.txt\",\"r\")\n",
    "    return [w.replace(\"\\n\",\"\").lower() for w in f.readlines() if not w == \"\\n\"]\n",
    "\n",
    "words = get_words()\n",
    "\n",
    "trie = Trie()\n",
    "trie.insert_batch(words)"
   ]
  },
  {
   "cell_type": "code",
   "execution_count": 20,
   "metadata": {
    "collapsed": false
   },
   "outputs": [
    {
     "name": "stdout",
     "output_type": "stream",
     "text": [
      "['a', 'b', 'c', 'd', 'e', 'f', 'g', 'h', 'i', 'j', 'k', 'l', 'm', 'n', 'o', 'p', 'q', 'r', 's', 't', 'u', 'v', 'w', 'x', 'y', 'z']\n",
      "['back', 'backache', 'backaching', 'backachy', 'backage']\n"
     ]
    }
   ],
   "source": [
    "trie.view_root_keys()\n",
    "print(trie.suggest(\"back\"))"
   ]
  },
  {
   "cell_type": "code",
   "execution_count": null,
   "metadata": {
    "collapsed": true
   },
   "outputs": [],
   "source": []
  }
 ],
 "metadata": {
  "kernelspec": {
   "display_name": "Python [default]",
   "language": "python",
   "name": "python3"
  },
  "language_info": {
   "codemirror_mode": {
    "name": "ipython",
    "version": 3
   },
   "file_extension": ".py",
   "mimetype": "text/x-python",
   "name": "python",
   "nbconvert_exporter": "python",
   "pygments_lexer": "ipython3",
   "version": "3.5.2"
  }
 },
 "nbformat": 4,
 "nbformat_minor": 1
}
