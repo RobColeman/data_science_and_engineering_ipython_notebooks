{
 "cells": [
  {
   "cell_type": "markdown",
   "metadata": {},
   "source": [
    "Given two words (beginWord and endWord), and a dictionary's word list, find the length of shortest transformation sequence from beginWord to endWord, such that:\n",
    "\n",
    "Only one letter can be changed at a time.\n",
    "Each transformed word must exist in the word list. Note that beginWord is not a transformed word.\n",
    "For example,\n",
    "\n",
    "Given:\n",
    "\n",
    "beginWord = \"hit\"\n",
    "\n",
    "endWord = \"cog\"\n",
    "\n",
    "wordList = [\"hot\",\"dot\",\"dog\",\"lot\",\"log\",\"cog\"]\n",
    "\n",
    "As one shortest transformation is \"hit\" -> \"hot\" -> \"dot\" -> \"dog\" -> \"cog\",\n",
    "\n",
    "return its length 5.\n",
    "\n",
    "Note:\n",
    "\n",
    "Return 0 if there is no such transformation sequence.\n",
    "\n",
    "All words have the same length.\n",
    "\n",
    "All words contain only lowercase alphabetic characters.\n",
    "\n",
    "You may assume no duplicates in the word list.\n",
    "\n",
    "You may assume beginWord and endWord are non-empty and are not the same.\n"
   ]
  },
  {
   "cell_type": "markdown",
   "metadata": {},
   "source": [
    "## Solution\n",
    "\n",
    "The steps from word to word can be modeled as a graph.  So, the first step is tol build a graph from our word list.  We then need to do a search through the graph to find paths.\n",
    "\n",
    "We have the option of searching BF or DF.  Both should find us a solition, eventually.  However, path finding algorithms like dijkstra's can prevent of from needing to exhaustively search all paths."
   ]
  },
  {
   "cell_type": "code",
   "execution_count": 26,
   "metadata": {
    "collapsed": false
   },
   "outputs": [],
   "source": [
    "from copy import deepcopy\n",
    "\n",
    "def word_distance(a, b):\n",
    "    dist = 0\n",
    "    for aa, bb in zip(a,b):\n",
    "        if not aa == bb:\n",
    "            dist += 1\n",
    "    return dist\n",
    "\n",
    "\n",
    "def build_graph(word_list):\n",
    "    one_step = {}\n",
    "    for i, word1 in enumerate(word_list[:-1]):\n",
    "        for word2 in word_list[i+1:]:\n",
    "            if not word1 in one_step:\n",
    "                one_step[word1] = set()\n",
    "            if not word2 in one_step:\n",
    "                one_step[word2] = set()\n",
    "            if word_distance(word1, word2) == 1:\n",
    "                one_step[word1].add(word2)\n",
    "                one_step[word2].add(word1)\n",
    "    return one_step"
   ]
  },
  {
   "cell_type": "code",
   "execution_count": 27,
   "metadata": {
    "collapsed": false
   },
   "outputs": [
    {
     "name": "stdout",
     "output_type": "stream",
     "text": [
      "['lat', 'lot', 'log', 'cog']\n",
      "['a', 'c']\n"
     ]
    }
   ],
   "source": [
    "def dfs(curr_path, end_word, word_graph, best_path):\n",
    "    if len(best_path) > 0 and len(curr_path) >= len(best_path):\n",
    "        return best_path\n",
    "    next_words = word_graph[curr_path[-1]]\n",
    "    if end_word in next_words:\n",
    "        final_path = deepcopy(curr_path)\n",
    "        final_path.append(end_word)\n",
    "        return final_path\n",
    "    else:\n",
    "        for next_word in next_words:\n",
    "            if next_word in curr_path:\n",
    "                continue\n",
    "            next_path = deepcopy(curr_path)\n",
    "            next_path.append(next_word)\n",
    "            best_path = dfs(next_path, end_word, word_graph, best_path)\n",
    "        return best_path\n",
    "        \n",
    "    \n",
    "\n",
    "def word_ladder(begin_word, end_word, word_list):\n",
    "    if begin_word == end_word:\n",
    "        return 1\n",
    "    else:\n",
    "        gr = build_graph(word_list + [begin_word])\n",
    "        return dfs([begin_word], end_word, gr, [])\n",
    "    \n",
    "    \n",
    "l = [\"hot\",\"dot\",\"dog\",\"lot\",\"log\",\"cog\"]\n",
    "begin_word = \"lat\"\n",
    "end_word = \"cog\"\n",
    "sol = word_ladder(begin_word, end_word, l)\n",
    "print(sol)\n",
    "\n",
    "l = ['a', 'b', 'c']\n",
    "begin_word = \"a\"\n",
    "end_word = \"c\"\n",
    "sol = word_ladder(begin_word, end_word, l)\n",
    "print(sol)"
   ]
  },
  {
   "cell_type": "code",
   "execution_count": null,
   "metadata": {
    "collapsed": true
   },
   "outputs": [],
   "source": [
    "def bfs(curr_path, end_word, word_graph, best_path):\n",
    "    to_visit = word_graph[curr_path[-1]]\n",
    "    visited = set(curr_path)\n",
    "    ## todo"
   ]
  }
 ],
 "metadata": {
  "anaconda-cloud": {},
  "kernelspec": {
   "display_name": "Python [default]",
   "language": "python",
   "name": "python3"
  },
  "language_info": {
   "codemirror_mode": {
    "name": "ipython",
    "version": 3
   },
   "file_extension": ".py",
   "mimetype": "text/x-python",
   "name": "python",
   "nbconvert_exporter": "python",
   "pygments_lexer": "ipython3",
   "version": "3.5.2"
  }
 },
 "nbformat": 4,
 "nbformat_minor": 1
}
