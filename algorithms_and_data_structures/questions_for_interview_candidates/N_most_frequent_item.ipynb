{
 "cells": [
  {
   "cell_type": "markdown",
   "metadata": {},
   "source": [
    "# Given an array of letters, find the second most frequent item\n",
    "\n",
    "\n",
    "Solution:\n",
    "    \n",
    "    Create a hashmap for the items and their counts.  Also keep two pointers for the first and second most frequent elements.  For each new element, check if it's higher than first, or second highest count, if it is, replace them, and shift down the pointers.  This will take O(n) time and O(n) extra memory.  This is very specific to the kth most frequent element, and becomes very complicated as k becomes larger.\n",
    "    \n",
    "    There is also a with a max-heap, but this requires O(n*logn), because each insertion takes logn, and you have to insert possibly n times if every item is unique.  We can get the kth most frequent element more easily this way.  However, this is basically as expensive as counting and sorting.\n"
   ]
  },
  {
   "cell_type": "code",
   "execution_count": 1,
   "metadata": {},
   "outputs": [
    {
     "name": "stdout",
     "output_type": "stream",
     "text": [
      "a\n",
      "('a', 'e')\n"
     ]
    }
   ],
   "source": [
    "def find_second_most_frequent(arr):\n",
    "    counts_map = {arr[0] : 1}\n",
    "    first_most = arr[0]\n",
    "    idx = 1\n",
    "    while arr[idx] == first_most:\n",
    "        idx += 1\n",
    "        counts_map[arr[idx]] += 1\n",
    "    \n",
    "    counts_map[arr[idx]] = 1\n",
    "    second_most = arr[idx]\n",
    "    idx += 1\n",
    "    while arr[idx] == second_most:\n",
    "        idx += 1\n",
    "        counts_map[arr[idx]] += 1\n",
    "    \n",
    "    if counts_map[second_most] > counts_map[first_most]:\n",
    "        second_most, first_most = first_most, second_most\n",
    "    \n",
    "    n = len(arr)\n",
    "    # now we walk the rest of the array\n",
    "    while idx < n:\n",
    "        i = arr[idx]\n",
    "        \n",
    "        # increment\n",
    "        if i in counts_map:\n",
    "            counts_map[i] += 1\n",
    "        else:\n",
    "            counts_map[i] = 1\n",
    "        \n",
    "        # check if it was the second most, and if it's now the first most\n",
    "        if i == second_most and counts_map[i] > counts_map[first_most]:\n",
    "            # swap them\n",
    "            first_most, second_most = second_most, first_most\n",
    "        \n",
    "        # check if it's now the second most\n",
    "        elif not i == first_most and counts_map[i] > counts_map[second_most]:\n",
    "            # replace the second most\n",
    "            second_most = i\n",
    "        idx += 1\n",
    "    \n",
    "    if counts_map[second_most] == counts_map[first_most]:\n",
    "        return (first_most, second_most)\n",
    "    else:\n",
    "        return second_most\n",
    "\n",
    "    \n",
    "arr1 = ['a','b','c','a','a','a','b','b','b','c','d','d','d','e','e','e','e','e','e','e','e']\n",
    "print(find_second_most_frequent(arr1))\n",
    "arr2 = ['a','b','c','a','a','a','b','a','a','a','a','b','b','c','d','d','d','e','e','e','e','e','e','e','e']\n",
    "print(find_second_most_frequent(arr2))"
   ]
  },
  {
   "cell_type": "code",
   "execution_count": null,
   "metadata": {
    "collapsed": true
   },
   "outputs": [],
   "source": []
  }
 ],
 "metadata": {
  "kernelspec": {
   "display_name": "Python [default]",
   "language": "python",
   "name": "python3"
  },
  "language_info": {
   "codemirror_mode": {
    "name": "ipython",
    "version": 3
   },
   "file_extension": ".py",
   "mimetype": "text/x-python",
   "name": "python",
   "nbconvert_exporter": "python",
   "pygments_lexer": "ipython3",
   "version": "3.6.1"
  }
 },
 "nbformat": 4,
 "nbformat_minor": 2
}
