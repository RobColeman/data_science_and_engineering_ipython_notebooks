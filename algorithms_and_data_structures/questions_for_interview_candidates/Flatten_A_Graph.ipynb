{
 "cells": [
  {
   "cell_type": "markdown",
   "metadata": {},
   "source": [
    "# Flatten\n",
    "\n",
    "Given a graph of nodes, where the node type is like so, Node(val, down, right), return a flattened linked list, where we traverse down before right. \n",
    "\n",
    "Nodes pointed to with a down pointer do not have right pointers."
   ]
  },
  {
   "cell_type": "code",
   "execution_count": 1,
   "metadata": {
    "collapsed": true
   },
   "outputs": [],
   "source": [
    "import collections\n",
    "\n",
    "Node = collections.namedtuple('Node', ['val', 'down', 'right'])\n",
    "\n",
    "def flatten(head):\n",
    "    tail = head\n",
    "    \n",
    "    def flattenRec(root, output = None):\n",
    "        tail.right = root\n",
    "        tail = root\n",
    "        while tail.down:\n",
    "            tail.right = tail.down\n",
    "            tail = tail.down\n",
    "        if root.right:\n",
    "            return flattenRec(root.right)\n",
    "        else:\n",
    "            return head\n",
    "        \n",
    "    return flattenRec(head)"
   ]
  },
  {
   "cell_type": "code",
   "execution_count": null,
   "metadata": {
    "collapsed": true
   },
   "outputs": [],
   "source": []
  }
 ],
 "metadata": {
  "kernelspec": {
   "display_name": "Python [default]",
   "language": "python",
   "name": "python3"
  },
  "language_info": {
   "codemirror_mode": {
    "name": "ipython",
    "version": 3
   },
   "file_extension": ".py",
   "mimetype": "text/x-python",
   "name": "python",
   "nbconvert_exporter": "python",
   "pygments_lexer": "ipython3",
   "version": "3.5.2"
  }
 },
 "nbformat": 4,
 "nbformat_minor": 1
}
