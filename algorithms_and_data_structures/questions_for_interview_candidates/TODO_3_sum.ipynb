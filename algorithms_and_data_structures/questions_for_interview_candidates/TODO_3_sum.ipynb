{
 "cells": [
  {
   "cell_type": "markdown",
   "metadata": {},
   "source": [
    "# Find 3 numbers that sum to zero in an array\n",
    "\n",
    "Given an array of ints, and a int (3), find all combinations of 3 of the numbers, without repeating any numbers, that sum to zero.\n",
    "\n",
    "Solution:\n",
    "\n",
    "The trick here is to first convert the items to a set/hashtable, to remove duplicates.  This set also allows us to do fast lookups for items.\n",
    "We then need to do a two item deep DFS through the set, where we for each item A, one-by-one grab every other item B, then do set.contains(-(A + B)).  If that item is in there, we add the triplet to the output, otherwise we move on to the next pair.\n",
    "\n",
    "To get an output without duplicates we need to do some more trickery.  The output should also be a set/hashtable.  We need to \n",
    "\n",
    "    1) put the triple of values into an array\n",
    "    2) sort the array (trivial since it's three items)\n",
    "    3) create a comma-separated string from that array \n",
    "    4) then upsert the string into the set/hashtable.\n",
    "\n",
    "It's up to you if you want to post-process the strings and trurn numbers.\n",
    "\n",
    "Run-time should be O(n * (n-1) / 2), since we don't have to compare two items twice e.g. (A,B) and (B,A).  We'll need O(2*n) extra space for the set/hashtable and an iterable-subscriptbable, and O(3*n) for the output array.  In practice, those memory usage numbers should be much lower.\n",
    "\n",
    "This problem can be expanded to arbitrary #s of items and any base value, not just zero."
   ]
  },
  {
   "cell_type": "code",
   "execution_count": 3,
   "metadata": {},
   "outputs": [],
   "source": [
    "## todo"
   ]
  },
  {
   "cell_type": "code",
   "execution_count": null,
   "metadata": {
    "collapsed": true
   },
   "outputs": [],
   "source": []
  }
 ],
 "metadata": {
  "kernelspec": {
   "display_name": "Python [default]",
   "language": "python",
   "name": "python3"
  },
  "language_info": {
   "codemirror_mode": {
    "name": "ipython",
    "version": 3
   },
   "file_extension": ".py",
   "mimetype": "text/x-python",
   "name": "python",
   "nbconvert_exporter": "python",
   "pygments_lexer": "ipython3",
   "version": "3.6.1"
  }
 },
 "nbformat": 4,
 "nbformat_minor": 2
}
