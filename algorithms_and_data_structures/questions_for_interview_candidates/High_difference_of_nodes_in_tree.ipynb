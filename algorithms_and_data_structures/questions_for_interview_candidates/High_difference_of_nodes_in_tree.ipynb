{
 "cells": [
  {
   "cell_type": "markdown",
   "metadata": {},
   "source": [
    "# Get the higth difference of two nodes in a tree\n",
    "\n",
    "Solution:\n",
    "    \n",
    "\n",
    "DFS for both nodes and keep track of depth.  As you find the nodes, update the depth pointers.  Compare at the end.  Run time O(n) to find the nodes with DFS, with constant extra memory, just the two pointers."
   ]
  },
  {
   "cell_type": "code",
   "execution_count": 1,
   "metadata": {
    "collapsed": true
   },
   "outputs": [],
   "source": [
    "class Node:\n",
    "    \n",
    "    def __init__(self, val, children = []):\n",
    "        self.val = val\n",
    "        self.children = children\n",
    "\n",
    "def get_depth_difference(root, val1, val2):\n",
    "    \n",
    "    depth1 = None\n",
    "    depth2 = None\n",
    "    depth = 0\n",
    "    \n",
    "    def dfs_rec(node, val1, val2, depth1, depth2, cur_d):\n",
    "        if not depth1 and not depth2:\n",
    "            return (depth1, depth2)\n",
    "        if node.val == val1:\n",
    "            depth1 = cur_d\n",
    "        if node.val == val2:\n",
    "            depth2 = cur_d\n",
    "        \n",
    "        for c in node.children:\n",
    "            dfs_rec(c, val1, val2, depth1, depth2, cur_d+1)\n",
    "            \n",
    "    dfs_rec(root, val1, val2, depth1, depth2, 0)\n",
    "    return abs(depth1 - depth2)\n"
   ]
  },
  {
   "cell_type": "code",
   "execution_count": null,
   "metadata": {
    "collapsed": true
   },
   "outputs": [],
   "source": []
  }
 ],
 "metadata": {
  "kernelspec": {
   "display_name": "Python [default]",
   "language": "python",
   "name": "python3"
  },
  "language_info": {
   "codemirror_mode": {
    "name": "ipython",
    "version": 3
   },
   "file_extension": ".py",
   "mimetype": "text/x-python",
   "name": "python",
   "nbconvert_exporter": "python",
   "pygments_lexer": "ipython3",
   "version": "3.6.1"
  }
 },
 "nbformat": 4,
 "nbformat_minor": 2
}
