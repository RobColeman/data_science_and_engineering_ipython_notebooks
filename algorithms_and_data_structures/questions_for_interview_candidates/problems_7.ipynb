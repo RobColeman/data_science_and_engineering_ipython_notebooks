{
 "cells": [
  {
   "cell_type": "markdown",
   "metadata": {},
   "source": [
    "# Stock Price Stream\n",
    "\n",
    "An incomming stream of stock prices for a given stock come as tuples (timestamp, price).  Provide a class to store the stream and perform the operations\n",
    "\n",
    "- Given a timestamp, find the stock price at a given timestamp\n",
    "- return the highest stockprice and timestamp\n",
    "- return the lowest stockprice and timestamp"
   ]
  },
  {
   "cell_type": "markdown",
   "metadata": {},
   "source": [
    "## Solution\n",
    "\n",
    "We reasonably assuming the timestamps come in order.  If we store the tuples in an array, ordered by timestamp, we can find the find the price at the desiured timestamp in O(logN) using binary search through the timestamps.  For the min and max values, we can keep track of them as they come in, and store them as specific fields."
   ]
  },
  {
   "cell_type": "code",
   "execution_count": 3,
   "metadata": {
    "collapsed": false
   },
   "outputs": [],
   "source": [
    "class StockTracker:\n",
    "    \n",
    "    def __init__(self, stock):\n",
    "        self.name = stock\n",
    "        self.prices = []\n",
    "        self._len = 0\n",
    "        self.max_price = None\n",
    "        self.min_price = None\n",
    "    \n",
    "    def log_price(self, tup):\n",
    "        timestamp, price = tup\n",
    "        self.values.append(tup)\n",
    "        self._len += 1\n",
    "        \n",
    "        if not self.max_price:\n",
    "            self.max_price = tup\n",
    "        elif self.max_price[1] < price:\n",
    "                self.max_price = tup\n",
    "        if not self.min_price:\n",
    "            self.min_price = tup\n",
    "        elif self.min_price[1] > price:\n",
    "            self.min_price = tup\n",
    "    \n",
    "    def binary_search(self, sub_array, timestamp):\n",
    "        n = len(sub_array)\n",
    "        if sub_array[n//2][0] == timestamp:\n",
    "            return sub_array[n//2][1]\n",
    "        elif sub_array[n//2][0] > timestamp:\n",
    "            return self.binary_search(sub_array[:n//2], timestamp)\n",
    "        else:\n",
    "            return self.binary_search(sub_array[n//2:], timestamp)\n",
    "        \n",
    "    def get_price_at(self, timestamp):\n",
    "        # check for bad inputs and trivial solutions\n",
    "        if self._len == 0:\n",
    "            return None\n",
    "        elif timestamp == self.prices[0][0]:\n",
    "            return self.prices[0][1]\n",
    "        elif timestamp < self.prices[0][0]:\n",
    "            return None\n",
    "        elif timestamp == self.prices[-1][0]:\n",
    "            return self.prices[-1][1]\n",
    "        elif timestamp > self.prices[-1][0]:\n",
    "            return None\n",
    "        else:\n",
    "            # binary search for timestamp\n",
    "            return self.binary_search(self.prices, timestamp)"
   ]
  },
  {
   "cell_type": "code",
   "execution_count": null,
   "metadata": {
    "collapsed": true
   },
   "outputs": [],
   "source": []
  }
 ],
 "metadata": {
  "anaconda-cloud": {},
  "kernelspec": {
   "display_name": "Python [default]",
   "language": "python",
   "name": "python3"
  },
  "language_info": {
   "codemirror_mode": {
    "name": "ipython",
    "version": 3
   },
   "file_extension": ".py",
   "mimetype": "text/x-python",
   "name": "python",
   "nbconvert_exporter": "python",
   "pygments_lexer": "ipython3",
   "version": "3.5.2"
  }
 },
 "nbformat": 4,
 "nbformat_minor": 1
}
