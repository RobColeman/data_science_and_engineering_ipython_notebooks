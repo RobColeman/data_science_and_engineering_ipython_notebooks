{
 "cells": [
  {
   "cell_type": "markdown",
   "metadata": {},
   "source": [
    "# Find the closest comment parent of two nodes in a forest of blanced binary trees\n",
    "\n",
    "Given a forest of balnced, binary trees, and two nodes, n1 and n2, find their closest common parent.\n",
    "\n",
    "Nodes have the fields/methods:\n",
    "\n",
    "    Parent\n",
    "    Left\n",
    "    Right\n",
    "    ==\n",
    "    Do not have key or value\n",
    "   \n",
    "If n1 and n2 are not on the same tree, return null.\n",
    "\n",
    "Do this in O(logN) and O(1) memory.\n",
    "\n",
    "Solution:\n",
    "\n",
    "We first need the depth of n1 and n2.  So, with two pointers, and two counters, we walk up frm n1 and n2 until we reach a root for each, counting along the way.  \n",
    "\n",
    "Once we're at the root, we compare the two root pointers.  If the root pointers do not point to the same root, we return null, as the nodes are not in the same tree.\n",
    "\n",
    "Otherwise, we return to n1 and n2, with our counters.  We compare the pointers, and we walk up from n1 or n2, depending on which is deeper, decrimenting the counters as we walk, until the counters match and our pointers are at the same level.\n",
    "\n",
    "We then do pre-order walk up the tree, from the two pointers, moving both pointers each step, keeping them at the same level, and compare the nodes at the pointers.  Our pre-order operation is to compare the two nodes at the pointers, once they are pointing to the same node, we have found the common parent.\n",
    "\n",
    "Complexity O(logN) twice for the first climb, and twice again for the second.  Memory is O(1), we just need pointers."
   ]
  },
  {
   "cell_type": "markdown",
   "metadata": {},
   "source": [
    "# Given a self-balancing tree (AVL tree), find the median value of the keys.\n",
    "\n",
    "Solution:\n",
    "\n",
    "For a BST, which an AVL is, we can keep track of the number of nodes in the left and right sub-trees in constant additional time.  If we can do this, we can start at the root, and compare left.size vs right.size, and traverse to whichever size is larger, repeating until left.size and right.size match.  This can be done in O(logN).\n",
    "\n",
    "If we cannot do this, we must do a DSP of the tree.  When doing the DFS, we put the values into an auxillary array.  Once we're done with the traversal, we get the median value by selecting the n/2 index of the array.  This takes O(n) for the traversal and O(n) additional space for the array."
   ]
  },
  {
   "cell_type": "code",
   "execution_count": null,
   "metadata": {
    "collapsed": true
   },
   "outputs": [],
   "source": []
  }
 ],
 "metadata": {
  "kernelspec": {
   "display_name": "Python [default]",
   "language": "python",
   "name": "python3"
  },
  "language_info": {
   "codemirror_mode": {
    "name": "ipython",
    "version": 3
   },
   "file_extension": ".py",
   "mimetype": "text/x-python",
   "name": "python",
   "nbconvert_exporter": "python",
   "pygments_lexer": "ipython3",
   "version": "3.5.2"
  }
 },
 "nbformat": 4,
 "nbformat_minor": 1
}
