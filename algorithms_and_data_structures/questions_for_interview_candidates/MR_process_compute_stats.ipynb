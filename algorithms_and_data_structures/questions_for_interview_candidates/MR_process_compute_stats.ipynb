{
 "cells": [
  {
   "cell_type": "markdown",
   "metadata": {},
   "source": [
    "# Process files, compute avg and totals\n",
    "\n",
    "\n",
    "You have a folder full of .bin files, that are proprietary, and a class BinToTsvConverter with a method .convert(filename), which converts the .bin file to a .tsv file.  The .tsv file has the schema, and no header:\n",
    "\n",
    "    Total_Connections Latency Bandwidth\n",
    "    65                  70     20\n",
    "\n",
    "Calculate the average latency and total bandwidth.\n",
    "\n",
    "This should take us O(N) where N is the total number of rows in all of the files combined.  If we've got a huge amount of files, we can read the files in parallel and compute the statistics per file, then combine the statistics (MapReduce type stuff)."
   ]
  },
  {
   "cell_type": "code",
   "execution_count": 2,
   "metadata": {
    "collapsed": true
   },
   "outputs": [],
   "source": [
    "class BinToTsvConverter:\n",
    "\n",
    "    def __init__(self):\n",
    "        \"\"\"\n",
    "        initializes the class\n",
    "        \"\"\"\n",
    "    \n",
    "    def convert(self,filename):\n",
    "        \"\"\"\n",
    "        converts the file and writes filename.tsv\n",
    "        \"\"\"\n",
    "\n",
    "def read_calculate_latency_bandwidth(filenames):\n",
    "    \n",
    "    connections_total = 0\n",
    "    latency_total = 0\n",
    "    bandwidth_total = 0\n",
    "    rows_total = 0\n",
    "    \n",
    "    converter = BinToTsvConverter()\n",
    "    \n",
    "    for filename in filenames:\n",
    "        converter.convert(filename)\n",
    "        with open(\"{}.tsv\".format(filename)) as f:\n",
    "            for line in f.readlines():\n",
    "                connections, latency, bandwidth = line.split(\"\\t\")\n",
    "                connections_total += connections\n",
    "                latency_total += latency\n",
    "                bandwidth_total += bandwidth\n",
    "                rows_total += 1\n",
    "    \n",
    "    return (latency_total / rows_total, bandwidth_total)\n",
    "\n",
    "\n",
    "# map-reduce style\n",
    "\n",
    "def read_file_calc_stats(filename):\n",
    "    converter = BinToTsvConverter()\n",
    "    converter.convert(filename)\n",
    "    \n",
    "    connections_total = 0\n",
    "    latency_total = 0\n",
    "    bandwidth_total = 0\n",
    "    rows_total = 0\n",
    "    \n",
    "    with open(\"{}.tsv\".format(filename)) as f:\n",
    "        for line in f.readlines():\n",
    "            connections, latency, bandwidth = line.split(\"\\t\")\n",
    "            connections_total += connections\n",
    "            latency_total += latency\n",
    "            bandwidth_total += bandwidth\n",
    "            rows_total += 1\n",
    "    \n",
    "    return (connections_total, latency_total, bandwidth_total, rows_total)\n",
    "\n",
    "def combine_stats(t1, t2):\n",
    "    return (t1[0] + t2[0], t1[1] + t2[1], t1[2] + t2[2], t1[3] + t2[3])\n",
    "\n",
    "def compute_latency_bandwidth(summary_stats):\n",
    "    return (summary_stats[1] / summary_stats[3], summary_stats[2])\n",
    "\n",
    "# compute_latency_bandwidth(reduce(combine_stats, map(read_file_calc_stats, filenames)))"
   ]
  },
  {
   "cell_type": "code",
   "execution_count": null,
   "metadata": {
    "collapsed": true
   },
   "outputs": [],
   "source": []
  }
 ],
 "metadata": {
  "kernelspec": {
   "display_name": "Python [default]",
   "language": "python",
   "name": "python3"
  },
  "language_info": {
   "codemirror_mode": {
    "name": "ipython",
    "version": 3
   },
   "file_extension": ".py",
   "mimetype": "text/x-python",
   "name": "python",
   "nbconvert_exporter": "python",
   "pygments_lexer": "ipython3",
   "version": "3.6.1"
  }
 },
 "nbformat": 4,
 "nbformat_minor": 2
}
