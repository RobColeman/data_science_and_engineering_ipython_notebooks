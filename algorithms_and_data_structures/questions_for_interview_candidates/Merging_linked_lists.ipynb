{
 "cells": [
  {
   "cell_type": "markdown",
   "metadata": {},
   "source": [
    "# Merging Pre-sorted linked-lists\n",
    "\n",
    "Given two, sorted, singly linked-lists, return one linked-list containing all of the elements of both, in sorted order.\n",
    "Define the Linked List Data Structure.\n",
    "\n",
    "## Solution\n",
    "\n",
    "We can combine the linked lists in O(n) by creating a new LL, and taking the minimun of the two next canidates from each linked list.\n",
    "\n",
    "We'll need O(n) extra space, where N is the sum of the length of the two linked lists"
   ]
  },
  {
   "cell_type": "code",
   "execution_count": 2,
   "metadata": {
    "collapsed": false
   },
   "outputs": [],
   "source": [
    "import collections\n",
    "from random import randint\n",
    "\n",
    "class Node:\n",
    "    \n",
    "    def __init__(self, val):\n",
    "        self.val = val\n",
    "        self.next = None\n",
    "        \n",
    "def create_ll():\n",
    "    a_nums = sorted([randint(0,100) for i in range(10)])\n",
    "    a_head = Node(a_nums[0])\n",
    "    a_p = a_head\n",
    "    for num in a_nums[1:]:\n",
    "        n_next = Node(num)\n",
    "        a_p.next = n_next\n",
    "        a_p = n_next\n",
    "    return a_head\n",
    "\n",
    "a_head = create_ll()\n",
    "b_head = create_ll()\n",
    "\n",
    "def merge_ll(a_head, b_head):\n",
    "    a_p = a_head\n",
    "    b_p = b_head\n",
    "    \n",
    "    if a_p.val < b_p.val:\n",
    "        output_head = Node(a_p.val)\n",
    "        output_p = output_head\n",
    "        a_p = a_p.next\n",
    "    else:\n",
    "        output_head = Node(b_p.val)\n",
    "        output_p = output_head\n",
    "        b_p = b_p.next\n",
    "    \n",
    "    while not a_p.next == None and not b_p.next == None:\n",
    "        if a_p.next == None:\n",
    "            n_next = Node(b_p.val)\n",
    "            b_p = b_p.next\n",
    "        elif b_p == None:\n",
    "            n_next = Node(a_p.val)\n",
    "            a_p = a_p.next\n",
    "        elif a_p.val < b_p.val:\n",
    "            n_next = Node(a_p.val)\n",
    "            a_p = a_p.next\n",
    "        else:\n",
    "            n_next = Node(b_p.val)\n",
    "            b_p = b_p.next\n",
    "            \n",
    "        output_p.next = n_next\n",
    "        output_p = n_next\n",
    "    \n",
    "    return output_head"
   ]
  },
  {
   "cell_type": "code",
   "execution_count": null,
   "metadata": {
    "collapsed": true
   },
   "outputs": [],
   "source": []
  }
 ],
 "metadata": {
  "anaconda-cloud": {},
  "kernelspec": {
   "display_name": "Python [default]",
   "language": "python",
   "name": "python3"
  },
  "language_info": {
   "codemirror_mode": {
    "name": "ipython",
    "version": 3
   },
   "file_extension": ".py",
   "mimetype": "text/x-python",
   "name": "python",
   "nbconvert_exporter": "python",
   "pygments_lexer": "ipython3",
   "version": "3.5.2"
  }
 },
 "nbformat": 4,
 "nbformat_minor": 1
}
