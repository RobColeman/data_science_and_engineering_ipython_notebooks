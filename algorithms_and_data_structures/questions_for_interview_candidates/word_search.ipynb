{
 "cells": [
  {
   "cell_type": "markdown",
   "metadata": {},
   "source": [
    "# Word Search\n",
    "\n",
    "\n",
    "\n",
    "Given a 2D board and a word, find if the word exists in the grid.\n",
    "\n",
    "The word can be constructed from letters of sequentially adjacent cell, where \"adjacent\" cells are those horizontally or vertically neighboring. The same letter cell may not be used more than once.\n",
    "\n"
   ]
  },
  {
   "cell_type": "markdown",
   "metadata": {},
   "source": [
    "## Solution\n",
    "\n",
    "Given a starting index to check, checking in every direction is a recursive DFS in all four direction, except the direction we came from.  So, we can start by building this recusive DFS method.  For each recursive call, we have to keep track of the direction we came from, the index we've stepped towards, and the remaining part of the word.  If we make a recursive call with an empty word remainder, we've satisfied the search.  If the letter at the new index doesn't match the word remainders next letter, we've failed in this path of the DFS and can return False from this call.  Lastly, we have to keep track of the edges of the board, and not search out of bounds.\n",
    "\n",
    "This solitions requires starting a DFS at every location in the board, which will be O(n^2 * w!*4) in compute.  \n",
    "\n",
    "There are a few edge cases we can catch to speed this up.\n",
    "\n",
    "- the word is larger than the size of the board\n",
    "- the word has a letter that is not in the board, O(n*w) where n is the size of the board and w the length of the word.  This only helps us in some cases, and will be very expensive in others.\n",
    "- the word or the board is of zero length\n"
   ]
  },
  {
   "cell_type": "code",
   "execution_count": 20,
   "metadata": {
    "collapsed": true
   },
   "outputs": [],
   "source": []
  },
  {
   "cell_type": "code",
   "execution_count": 18,
   "metadata": {
    "collapsed": true
   },
   "outputs": [],
   "source": [
    "def exist(board, word):\n",
    "    \"\"\"\n",
    "    :type board: List[List[str]]\n",
    "    :type word: str\n",
    "    :rtype: bool\n",
    "    \"\"\"\n",
    "    h = len(board)\n",
    "    w = len(board[0])\n",
    "    \n",
    "    def search_at(i, j, word_part, last_dir):\n",
    "        nonlocal h\n",
    "        nonlocal w\n",
    "        nonlocal board\n",
    "        if len(word_part) == 0:\n",
    "            # success\n",
    "            return True\n",
    "        elif not word_part[0] == board[i][j]:\n",
    "            # failre\n",
    "            return False\n",
    "        else:\n",
    "            if i-1 >=0 and not last_dir == 2 and search_at(i-1, j, word_part[1:], 0):\n",
    "                # up\n",
    "                return True\n",
    "            elif j+1 < w and not last_dir == 3 and search_at(i, j+1, word_part[1:], 1):\n",
    "                # right\n",
    "                return True\n",
    "            elif i+1 < h and not last_dir == 0 and search_at(i+1, j, word_part[1:], 2):\n",
    "                # down\n",
    "                return True\n",
    "            elif j-1 >= 0 and not last_dir == 1 and search_at(i, j-1, word_part[1:], 3):\n",
    "                return True\n",
    "            else:\n",
    "                return False\n",
    "    \n",
    "    if h == 0 and w == 0:\n",
    "        return False\n",
    "    if len(word) == 0:\n",
    "        return False\n",
    "    if len(word) > h*w:\n",
    "        return False\n",
    "    \n",
    "    for i in range(len(board)):\n",
    "        for j in range(len(board[0])):\n",
    "            if search_at(i, j, word, -1):\n",
    "                return True\n",
    "            else:\n",
    "                continue\n",
    "\n",
    "\n",
    "    return False"
   ]
  },
  {
   "cell_type": "code",
   "execution_count": 22,
   "metadata": {
    "collapsed": false
   },
   "outputs": [
    {
     "name": "stdout",
     "output_type": "stream",
     "text": [
      "['A', 'B', 'C', 'E']\n",
      "['S', 'F', 'C', 'S']\n",
      "['A', 'D', 'E', 'E']\n",
      "True\n",
      "True\n",
      "False\n"
     ]
    }
   ],
   "source": [
    "board = [\n",
    "  ['A','B','C','E'],\n",
    "  ['S','F','C','S'],\n",
    "  ['A','D','E','E']\n",
    "]\n",
    "for row in board:\n",
    "    print(row)\n",
    "print(exist(board, \"ABCCED\"))\n",
    "print(exist(board, \"SEE\"))\n",
    "print(exist(board, \"ABCB\"))"
   ]
  }
 ],
 "metadata": {
  "anaconda-cloud": {},
  "kernelspec": {
   "display_name": "Python [default]",
   "language": "python",
   "name": "python3"
  },
  "language_info": {
   "codemirror_mode": {
    "name": "ipython",
    "version": 3
   },
   "file_extension": ".py",
   "mimetype": "text/x-python",
   "name": "python",
   "nbconvert_exporter": "python",
   "pygments_lexer": "ipython3",
   "version": "3.5.2"
  }
 },
 "nbformat": 4,
 "nbformat_minor": 1
}
