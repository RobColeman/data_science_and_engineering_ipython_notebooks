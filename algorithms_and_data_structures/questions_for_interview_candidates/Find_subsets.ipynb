{
 "cells": [
  {
   "cell_type": "markdown",
   "metadata": {},
   "source": [
    "# Find subsets that have property Min(subset) + Max(subset) < k\n",
    "\n",
    "Given a sorted array, find all the subsets, S_i, within the array which contain the property Min(S_i) + Max(S_i) = k, for some value k.\n",
    "\n",
    "\n",
    "## Solution\n",
    "With two pointers at either end of the array, walk the right (end) pointer from the end of the array towards the beginning until you find a[0] + a[i] < k.  This is your first solution.  All subsets from  from a[0] to a[i] should be added to the solition set.  Then step the left (beginning), up one position.  Check again, and if it doesn't meet the condition, walk the right pointer leftwards until you find the next solution.  Rinse, and repeate until the right pointer passes the left pointer.  Make sure to have them pass eachother, since a[i] + a[i]\n",
    "\n",
    "## Complexity\n",
    "This process has the pointers pass over the array once, so O(n), linear, time.  However, creating the output sets can be expensive.  If we have a solution from index 3 to 9, we have to produce 7 sets of numbers at indeces [3], [3,4], [3,4,5], and so on.  This is a pretty expensive operation if our array is large and our k is large.  For the case of k > arr[0] and arr[n-1], our output is N! in size. We can save a lot of space of time if we just output the pairs of min_idx, max_idx where all subsets are solitions.  This get's us back to O(N)\n",
    "\n",
    "Space complexity can be pretty big here since the output set can be O(n!).  We can save on space complexity if we just output the pairs of min_idx, max_idx where all subsets are solitions.  This get's us back to O(n)."
   ]
  },
  {
   "cell_type": "code",
   "execution_count": 1,
   "metadata": {},
   "outputs": [
    {
     "name": "stdout",
     "output_type": "stream",
     "text": [
      "[3, 4, 5, 6, 7, 8, 9, 10, 11]\n",
      "Full output : [[3], [3, 4], [3, 4, 5], [3, 4, 5, 6], [3, 4, 5, 6, 7], [3, 4, 5, 6, 7, 8], [4], [4, 5], [4, 5, 6], [4, 5, 6, 7], [5], [5, 6]]\n",
      "Limits indices output : [(0, 5), (1, 4), (2, 3)]\n"
     ]
    }
   ],
   "source": [
    "def find_subsets_with_min_max_k(arr, k):\n",
    "    # for constant time lookup of indexes\n",
    "    p_left = 0\n",
    "    p_right = len(arr) - 1\n",
    "    res = []\n",
    "    \n",
    "    while p_right >= p_left:\n",
    "        if arr[p_left] + arr[p_right] < k:\n",
    "                res.extend(\n",
    "                    [arr[p_left:i+1] for i in range(p_left, p_right+1)]\n",
    "                )\n",
    "                p_left += 1\n",
    "        else:\n",
    "            p_right -= 1\n",
    "    \n",
    "    return res\n",
    "\n",
    "def find_subsets_with_min_max_k_condensed_output(arr, k):\n",
    "    p_left = 0\n",
    "    p_right = len(arr) - 1\n",
    "    res = []\n",
    "    while p_right >= p_left:\n",
    "        if arr[p_left] + arr[p_right] < k:\n",
    "                res.append( (p_left, p_right) )\n",
    "                p_left += 1\n",
    "        else:\n",
    "            p_right -= 1\n",
    "    \n",
    "    return res\n",
    "\n",
    "arr = list(range(3,12))\n",
    "k = 12\n",
    "print(arr)\n",
    "print(\"Full output : {0}\".format(find_subsets_with_min_max_k(arr, k)))\n",
    "print(\"Limits indices output : {0}\".format(find_subsets_with_min_max_k_condensed_output(arr, k)))"
   ]
  },
  {
   "cell_type": "code",
   "execution_count": null,
   "metadata": {
    "collapsed": true
   },
   "outputs": [],
   "source": []
  }
 ],
 "metadata": {
  "kernelspec": {
   "display_name": "Python [default]",
   "language": "python",
   "name": "python3"
  },
  "language_info": {
   "codemirror_mode": {
    "name": "ipython",
    "version": 3
   },
   "file_extension": ".py",
   "mimetype": "text/x-python",
   "name": "python",
   "nbconvert_exporter": "python",
   "pygments_lexer": "ipython3",
   "version": "3.6.1"
  }
 },
 "nbformat": 4,
 "nbformat_minor": 2
}
