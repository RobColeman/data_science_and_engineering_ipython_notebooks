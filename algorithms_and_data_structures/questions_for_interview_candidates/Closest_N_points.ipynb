{
 "cells": [
  {
   "cell_type": "markdown",
   "metadata": {},
   "source": [
    "# Closest N points\n",
    "\n",
    "Given points in a cartesian plane (x,y), n points in that plane, and a point of interest (x_1, y_1), find the n closest points to the point of interest.\n",
    "\n",
    "Define the points in an NxD array \n",
    "\n",
    "## Solution\n",
    "\n",
    "Dynamic programming\n",
    "\n",
    "Keep a sorted solution set.  For each new candidate point, test it against the furthers kept point.  If it's smaller, insert it in order.\n",
    "\n",
    "## Complexity\n",
    "\n",
    "We need to touch every point once, so that's at least O(N).  \n",
    "Inserting into our solution set could cost O(m) to maintain order.\n",
    "In the worst case, keeping a large number of the points, in a set of points with descending distance, we'd have to insert every new point, and maintain order in our solition set.\n",
    "\n",
    "So the solution costs O(n X m), but in most cases the m portion is insignificant compared to n, so it would be O(n)\n",
    "\n",
    "We also need to keep our solution set in memory, but no more, so the space complexity is O(m)"
   ]
  },
  {
   "cell_type": "code",
   "execution_count": 2,
   "metadata": {},
   "outputs": [
    {
     "name": "stdout",
     "output_type": "stream",
     "text": [
      "5 closest points to [ 1.  1.] are :\n",
      "\n",
      "[-3.34814351 -2.14291245], at a distance of : 0.18522180744742833\n",
      "[ 2.00379577 -0.69084411], at a distance of : 0.20053330025286112\n",
      "[-1.36699234 -4.78985831], at a distance of : 0.25473687938032097\n",
      "[-4.08875574 -0.25474051], at a distance of : 0.2590945120555642\n",
      "[ 1.2447663   3.35975896], at a distance of : 0.26234197745659493\n"
     ]
    }
   ],
   "source": [
    "import numpy as np\n",
    "\n",
    "def L2_norm(a, b):\n",
    "    # L2 norm\n",
    "    return np.sqrt( (a[0]-b[0])**2 + (a[1]-b[1])**2 )\n",
    "        \n",
    "    \n",
    "def find_m_closest_points(points_to_search, point_of_interest, m, dist_func = L2_norm):\n",
    "    closest_points = []\n",
    "    \n",
    "    # collect the first closest points\n",
    "    for pi_idx in range(m):\n",
    "        pi = all_points_array[pi_idx]\n",
    "        closest_points.append([dist_func(point_of_interest, pi), pi_idx])\n",
    "\n",
    "    closest_points = sorted(closest_points)\n",
    "    \n",
    "    # test all the rest\n",
    "    for idx, pi in enumerate(all_points_array[m:]):\n",
    "        delta_i = dist_func(point_of_interest, pi)\n",
    "        # keeps most recent for ties\n",
    "        if delta_i <= closest_points[-1][0]:\n",
    "            # drop further currently kept\n",
    "            closest_points.pop(-1)\n",
    "            new_point_tup = [delta_i, idx]\n",
    "            inserted = False\n",
    "            for jdx, kept_point in enumerate(closest_points):\n",
    "                if delta_i <= kept_point[0]:\n",
    "                    closest_points = closest_points[:jdx] + [new_point_tup] + closest_points[jdx:]\n",
    "                    inserted = True\n",
    "                    break\n",
    "            # if we haven't placed yet, it goes at the end\n",
    "            if not inserted:\n",
    "                closest_points.append(new_point_tup)\n",
    "    \n",
    "    return closest_points\n",
    "\n",
    "\n",
    "\n",
    "n = 1000\n",
    "m = 5\n",
    "points_range = 10\n",
    "point_of_interest = np.array([1.0,1.0])\n",
    "all_points_array = (np.random.rand(n,2) * points_range) - (points_range/2)\n",
    "\n",
    "m_closest_points = find_m_closest_points(all_points_array, point_of_interest, m, L2_norm)\n",
    "\n",
    "print(\"{0} closest points to {1} are :\".format(m, point_of_interest))\n",
    "print(\"\")\n",
    "for delta_i, idx in m_closest_points:\n",
    "    s = \"{0}, at a distance of : {1}\".format(all_points_array[idx], delta_i)\n",
    "    print(s)\n"
   ]
  },
  {
   "cell_type": "code",
   "execution_count": null,
   "metadata": {
    "collapsed": true
   },
   "outputs": [],
   "source": []
  }
 ],
 "metadata": {
  "kernelspec": {
   "display_name": "Python [default]",
   "language": "python",
   "name": "python3"
  },
  "language_info": {
   "codemirror_mode": {
    "name": "ipython",
    "version": 3
   },
   "file_extension": ".py",
   "mimetype": "text/x-python",
   "name": "python",
   "nbconvert_exporter": "python",
   "pygments_lexer": "ipython3",
   "version": "3.6.1"
  }
 },
 "nbformat": 4,
 "nbformat_minor": 2
}
