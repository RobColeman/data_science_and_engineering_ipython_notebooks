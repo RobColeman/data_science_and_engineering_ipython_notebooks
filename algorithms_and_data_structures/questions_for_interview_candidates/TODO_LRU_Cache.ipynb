{
 "cells": [
  {
   "cell_type": "markdown",
   "metadata": {},
   "source": [
    "# Create an LRU cache\n",
    "\n",
    "Solution:\n",
    "    \n",
    "  Use a hashmap and a doubly-linked list with pointers to the head and tail.  The doubly linked list maintains the order, while the hash-map points from the key to the node.  When accessed, pop the element from the doubly-linked list and re-insert it at the front of the list.  To drop an elements from the cache because it times out, pop from the end of the list.\n"
   ]
  },
  {
   "cell_type": "code",
   "execution_count": null,
   "metadata": {
    "collapsed": true
   },
   "outputs": [],
   "source": []
  }
 ],
 "metadata": {
  "kernelspec": {
   "display_name": "Python [default]",
   "language": "python",
   "name": "python3"
  },
  "language_info": {
   "codemirror_mode": {
    "name": "ipython",
    "version": 3
   },
   "file_extension": ".py",
   "mimetype": "text/x-python",
   "name": "python",
   "nbconvert_exporter": "python",
   "pygments_lexer": "ipython3",
   "version": "3.6.1"
  }
 },
 "nbformat": 4,
 "nbformat_minor": 2
}
