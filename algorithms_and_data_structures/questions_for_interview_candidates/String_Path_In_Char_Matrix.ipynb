{
 "cells": [
  {
   "cell_type": "markdown",
   "metadata": {},
   "source": [
    "# String path in a matrix of chars\n",
    "\n",
    "Given a matrix of Chars, and a desired string, find if the string is in the matrix; the chars must be continuously connected but can go in any direction (up, down, left or right) and can change direction mid-string.\n",
    "\n",
    "\n",
    "Solution:\n",
    "\n",
    "Walk the matrix, in any order, but whenever we get the the first char of the string, begin a DFS in the four directions."
   ]
  },
  {
   "cell_type": "code",
   "execution_count": 2,
   "metadata": {
    "collapsed": true
   },
   "outputs": [],
   "source": [
    "def test_cell(y_i, x_i, s, mat):\n",
    "    return (y_i > 0) and (x_i > 0) and (y_i < len(max)) and (x_i < len(mat[0])) and (s[0] == mat[y_i][x_i])\n",
    "\n",
    "def strDFS(y, x, s, mat):\n",
    "    if len(s) == 0:\n",
    "        return True\n",
    "    # up\n",
    "    elif test_cell(y-1, x, s, mat):\n",
    "        strDFS(y-1, x, s[1:], mat)\n",
    "    # down\n",
    "    elif test_cell(y+1, x, s, mat):\n",
    "        strDFS(y+1, x, s[1:], mat)\n",
    "    # left\n",
    "    elif test_cell(y, x-1, s, mat):\n",
    "        strDFS(y, x-1, s[1:], mat)\n",
    "    # right\n",
    "    elif test_cell(y, x+1, s, mat):\n",
    "        strDFS(y, x+1, s[1:], mat)\n",
    "    else:\n",
    "        return False\n",
    "\n",
    "def find_string_in_char_matrix(mat, s):\n",
    "    found = []\n",
    "    if not ((len(s) == 0) or (len(mat) == 0)):\n",
    "        for i in range(len(mat[0])):\n",
    "            for j in range(len(mat)):\n",
    "                if (mat[j][i] == s[0]) and strDFS(j, i, s[1:], mat):\n",
    "                    found.append((j,i))\n",
    "    return found"
   ]
  },
  {
   "cell_type": "code",
   "execution_count": null,
   "metadata": {
    "collapsed": true
   },
   "outputs": [],
   "source": []
  }
 ],
 "metadata": {
  "kernelspec": {
   "display_name": "Python [default]",
   "language": "python",
   "name": "python3"
  },
  "language_info": {
   "codemirror_mode": {
    "name": "ipython",
    "version": 3
   },
   "file_extension": ".py",
   "mimetype": "text/x-python",
   "name": "python",
   "nbconvert_exporter": "python",
   "pygments_lexer": "ipython3",
   "version": "3.6.1"
  }
 },
 "nbformat": 4,
 "nbformat_minor": 2
}
