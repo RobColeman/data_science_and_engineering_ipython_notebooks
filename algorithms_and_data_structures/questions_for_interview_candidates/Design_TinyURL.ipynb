{
 "cells": [
  {
   "cell_type": "markdown",
   "metadata": {},
   "source": [
    "# Design a TinyURL application\n",
    "\n",
    "- How many unique identifiers possible? Will you run out of unique URLs?\n",
    "- Should the identifier be increment or not? Which is easier to design? Pros and cons?\n",
    "- Mapping an identifier to an URL and its reversal - Does this problem ring a bell to you?\n",
    "- How do you store the URLs? Does a simple flat file database work?\n",
    "- What is the bottleneck of the system? Is it read-heavy or write-heavy?\n",
    "- Estimate the maximum number of URLs a single machine can store.\n",
    "- Estimate the maximum number of queries per second (QPS) for decoding a shortened URL in a single machine.\n",
    "- How would you scale the service? For example, a viral link which is shared in social media could result in a peak QPS at a moment's notice.\n",
    "- How could you handle redundancy? i,e, if a server is down, how could you ensure the service is still operational?\n",
    "- Keep URLs forever or prune, pros/cons? How we do pruning?\n",
    "- What API would you provide to a third-party developer?\n",
    "- If you can enable caching, what would you cache and what's the expiry time?"
   ]
  },
  {
   "cell_type": "markdown",
   "metadata": {},
   "source": [
    "## Solution\n",
    "\n",
    "We're essentially creating a massive hashmap from a real-url to a unique string alias that will be at http://www.tinyURL.com/<alias>.\n",
    "\n",
    "### How many can we support?\n",
    "\n",
    "\n",
    "We'll make things easy on ourselves by making the aliases fixed, length strings using the character set [A-Z, a-z, 0-9], which, with 62 unique characters, can produce 62^L unique aliases, where L is the length of the string.\n",
    "\n",
    "There are currently >1Billion unique URLs, so 6 character length string would give us ~56.8B urls, and 7 charactes would give us ~3.5 Trillion URLs.  \n",
    "\n",
    "To be on the safe side, we can choose an alias lenght of 7.\n",
    "\n",
    "### Cost\n",
    "\n",
    "7 * 4 bytes + 2084 * 4 bytes + 8 byte + 8 bytes= \n",
    "28 + 8336 + 8 + 8 = 8.4 Kb\n",
    "alias + URL + timestamp (long) + counter (long)\n",
    "\n",
    "If we stored 1M rows, 8.4 GB\n",
    "If we stored 1B rows, 8.4 TB\n",
    "If we stored 1T rows 8.4 PB\n",
    "If we store 5T rows 42PB (more than our alias capacity)\n",
    "\n",
    "### How to create the the aliases?\n",
    "\n",
    "Should we increment them?\n",
    "\n",
    "We can build an incrementer directly into the hash, or we can keep track of the creation timestamp.  If it's build into the hash, sorting is done without a join."
   ]
  }
 ],
 "metadata": {
  "kernelspec": {
   "display_name": "Python [default]",
   "language": "python",
   "name": "python3"
  },
  "language_info": {
   "codemirror_mode": {
    "name": "ipython",
    "version": 3
   },
   "file_extension": ".py",
   "mimetype": "text/x-python",
   "name": "python",
   "nbconvert_exporter": "python",
   "pygments_lexer": "ipython3",
   "version": "3.6.1"
  }
 },
 "nbformat": 4,
 "nbformat_minor": 2
}
