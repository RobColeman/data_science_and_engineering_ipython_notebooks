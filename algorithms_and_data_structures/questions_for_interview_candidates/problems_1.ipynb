{
 "cells": [
  {
   "cell_type": "markdown",
   "metadata": {},
   "source": [
    "# Random problems"
   ]
  },
  {
   "cell_type": "markdown",
   "metadata": {},
   "source": [
    "### P1\n",
    "\n",
    "Problem: \n",
    "\n",
    "We have a bunch of servers that allow for infinite many connections, and an unbounded number of clients which can connect to any server for any length of time.  We're interested in knowing, for a given day: \n",
    "- which server gets the most connections\n",
    "- the exact time at which it got the most connections\n",
    "- which clients were connected at the time"
   ]
  },
  {
   "cell_type": "code",
   "execution_count": null,
   "metadata": {
    "collapsed": true
   },
   "outputs": [],
   "source": [
    "# P1 solution\n",
    "\n",
    "class server:\n",
    "    \n",
    "    def __init__(self, server_id):\n",
    "        self.id = server_id\n",
    "        self.max_connections = 0.0\n",
    "        self.max_connection_start_time = 0\n",
    "        self.max_connections_end_time = 0\n",
    "    \n",
    "    def connect(self):\n"
   ]
  }
 ],
 "metadata": {
  "kernelspec": {
   "display_name": "Python 2",
   "language": "python",
   "name": "python2"
  },
  "language_info": {
   "codemirror_mode": {
    "name": "ipython",
    "version": 2
   },
   "file_extension": ".py",
   "mimetype": "text/x-python",
   "name": "python",
   "nbconvert_exporter": "python",
   "pygments_lexer": "ipython2",
   "version": "2.7.10"
  }
 },
 "nbformat": 4,
 "nbformat_minor": 0
}
