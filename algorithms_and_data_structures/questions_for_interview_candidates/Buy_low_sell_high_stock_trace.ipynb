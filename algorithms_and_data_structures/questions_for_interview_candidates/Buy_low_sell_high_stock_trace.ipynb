{
 "cells": [
  {
   "cell_type": "markdown",
   "metadata": {},
   "source": [
    "# Find largest stock buy, sell profit given a stock trace\n",
    "\n",
    "This problem is similar to some other dynamic programming problems, all of which are looking for the largest cumulative sum sub-array.  In this case, we're not looking for the largest cumulative sum, but the most positive a[right_idx] - a[left_idx].\n",
    "\n",
    "\n",
    "General solution:\n",
    "\n",
    "The crux of the solution is to keep a left pointer, and run right pointers forward, cumulatively summing the elements as we go.  If our cumulative sum is larger than any we've found so far, we replace that best result with the new one.  We stop each of these cumulative runs when the cumulative sum drops to zero.  When the cumulative sum drops to zero, we move the left pointer to the location of the right pointer and begin another forward run with the right pointer.\n",
    "\n",
    "We stop the whole process when the right pointer reaches the end.\n",
    "\n",
    "Specific solution:\n",
    "\n",
    "In this case, we don't compute a cumulative sum, but the a[right_idx] - a[left_idx].\n",
    "\n",
    "The complexity will be O(n) in compute, since for each new run, we move the left pointer to meet the right pointer.  Memory use will be O(1) in memory since the only auxilary data structures we need are pointers and the best difference."
   ]
  },
  {
   "cell_type": "code",
   "execution_count": 3,
   "metadata": {
    "collapsed": false
   },
   "outputs": [],
   "source": [
    "def buy_low_sell_high(stock_trace):\n",
    "    best_diff = 0\n",
    "    best_left = -1\n",
    "    best_right = -1\n",
    "    \n",
    "    left_idx = 0\n",
    "    right_idx = 0\n",
    "    while right_idx < len(stock_trace) - 1:\n",
    "        right_idx = left_idx + 1\n",
    "        \n",
    "        # run, right pointer\n",
    "        while right_idx < len(stock_trace) - 1:\n",
    "            diff = stock_trace[right_idx] - stock_trace[left_idx]\n",
    "            if diff > best_diff:\n",
    "                best_diff = diff\n",
    "                best_left = left_idx\n",
    "                best_right = right_idx\n",
    "            elif diff <= 0:\n",
    "                # move left pointer to right pointers location\n",
    "                left_idx = right_idx\n",
    "                # start a new run\n",
    "                break\n",
    "        \n",
    "            right_idx += 1\n",
    "    \n",
    "    print(\"best return: {}\".format(best_diff))\n",
    "    print(\"buy at  (val, idx): ({},{})\".format(stock_trace[best_left], best_left))\n",
    "    print(\"sell at (val, idx): ({},{})\".format(stock_trace[best_right], best_right))"
   ]
  },
  {
   "cell_type": "code",
   "execution_count": 4,
   "metadata": {
    "collapsed": false
   },
   "outputs": [
    {
     "name": "stdout",
     "output_type": "stream",
     "text": [
      "Stock Trace 1\n",
      "best return: 9.390049641773377\n",
      "buy at  (val, idx): (0.010813118732461158,0)\n",
      "sell at (val, idx): (9.400862760505838,14)\n",
      "Stock Trace 2\n",
      "best return: 9.390049641773377\n",
      "buy at  (val, idx): (0.010813118732461158,10)\n",
      "sell at (val, idx): (9.400862760505838,14)\n",
      "Stock Trace 3\n",
      "best return: 8.121879769310974\n",
      "buy at  (val, idx): (1.2789829911948636,10)\n",
      "sell at (val, idx): (9.400862760505838,13)\n"
     ]
    }
   ],
   "source": [
    "\n",
    "stock_trace1 = [\n",
    " 0.010813118732461158,\n",
    " 7.848782642974635,\n",
    " 6.412165671008653,\n",
    " 2.41400198901051,\n",
    " 7.380876605993766,\n",
    " 7.050665938613819,\n",
    " 1.545930172530945,\n",
    " 4.890855121484591,\n",
    " 4.007390799132676,\n",
    " 4.959796684292704,\n",
    " 8.252891965307231,\n",
    " 1.2789829911948636,\n",
    " 3.0432514514857867,\n",
    " 6.694507808651309,\n",
    " 9.400862760505838,\n",
    " 0.5439483796581279,\n",
    " 5.538854666259302,\n",
    " 0.15483879273656131,\n",
    " 5.923645176042162,\n",
    " 1.6929368892019125\n",
    "]\n",
    "\n",
    "stock_trace2 = [\n",
    " 7.848782642974635,\n",
    " 6.412165671008653,\n",
    " 2.41400198901051,\n",
    " 7.380876605993766,\n",
    " 7.050665938613819,\n",
    " 1.545930172530945,\n",
    " 4.890855121484591,\n",
    " 4.007390799132676,\n",
    " 4.959796684292704,\n",
    " 8.252891965307231,\n",
    " 0.010813118732461158,\n",
    " 1.2789829911948636,\n",
    " 3.0432514514857867,\n",
    " 6.694507808651309,\n",
    " 9.400862760505838,\n",
    " 0.5439483796581279,\n",
    " 5.538854666259302,\n",
    " 0.15483879273656131,\n",
    " 5.923645176042162,\n",
    " 1.6929368892019125\n",
    "]\n",
    "\n",
    "stock_trace3 = [\n",
    " 7.848782642974635,\n",
    " 6.412165671008653,\n",
    " 2.41400198901051,\n",
    " 7.380876605993766,\n",
    " 7.050665938613819,\n",
    " 1.545930172530945,\n",
    " 4.890855121484591,\n",
    " 4.007390799132676,\n",
    " 4.959796684292704,\n",
    " 8.252891965307231,\n",
    " 1.2789829911948636,\n",
    " 3.0432514514857867,\n",
    " 6.694507808651309,\n",
    " 9.400862760505838,\n",
    " 0.5439483796581279,\n",
    " 5.538854666259302,\n",
    " 0.010813118732461158,\n",
    " 0.15483879273656131,\n",
    " 5.923645176042162,\n",
    " 1.6929368892019125\n",
    "]\n",
    "\n",
    "print(\"Stock Trace 1\")\n",
    "buy_low_sell_high(stock_trace1)\n",
    "print(\"Stock Trace 2\")\n",
    "buy_low_sell_high(stock_trace2)\n",
    "print(\"Stock Trace 3\")\n",
    "buy_low_sell_high(stock_trace3)"
   ]
  },
  {
   "cell_type": "code",
   "execution_count": null,
   "metadata": {
    "collapsed": true
   },
   "outputs": [],
   "source": []
  }
 ],
 "metadata": {
  "kernelspec": {
   "display_name": "Python [default]",
   "language": "python",
   "name": "python3"
  },
  "language_info": {
   "codemirror_mode": {
    "name": "ipython",
    "version": 3
   },
   "file_extension": ".py",
   "mimetype": "text/x-python",
   "name": "python",
   "nbconvert_exporter": "python",
   "pygments_lexer": "ipython3",
   "version": "3.5.2"
  }
 },
 "nbformat": 4,
 "nbformat_minor": 1
}
