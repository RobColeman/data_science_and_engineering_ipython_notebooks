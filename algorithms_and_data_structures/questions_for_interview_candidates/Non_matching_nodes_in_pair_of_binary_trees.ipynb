{
 "cells": [
  {
   "cell_type": "markdown",
   "metadata": {},
   "source": [
    "# Given two binary trees, return the first pair of leaves that are non-matching\n",
    "\n",
    "ex:\n",
    "\n",
    "    tree1: A, B, C, D, E, None, None\n",
    "    tree2: A, D, B\n",
    "    \n",
    "    return: (E,B)\n",
    "   \n",
    "Trivial solution: Do a DFS on both threes and store the leaves in two arrays.  After completing the DFSs, compare the arrays and return the first non-matching leaves.  Run-time O(2* (N + M) ), with O(N+M) extra memory, since we don't know of these are balanced binary trees."
   ]
  },
  {
   "cell_type": "code",
   "execution_count": 2,
   "metadata": {
    "collapsed": true
   },
   "outputs": [],
   "source": [
    "class TreeNode:\n",
    "    \n",
    "    def __init__(self, key, left=None, right=None):\n",
    "        self.left = left\n",
    "        self.right = right\n",
    "        self.key = key\n",
    "    \n",
    "    def is_leaf(self):\n",
    "        if self.left or self.right:\n",
    "            return False\n",
    "        else:\n",
    "            return True\n",
    "\n",
    "\n",
    "tree1 = TreeNode('A', \n",
    "                TreeNode('B',\n",
    "                         TreeNode('D'),\n",
    "                         TreeNode('E')\n",
    "                        ),\n",
    "                TreeNode('C')\n",
    "                )\n",
    "\n",
    "\n",
    "tree2 = TreeNode('A', TreeNode('D'), TreeNode('B'))"
   ]
  },
  {
   "cell_type": "code",
   "execution_count": 3,
   "metadata": {},
   "outputs": [
    {
     "name": "stdout",
     "output_type": "stream",
     "text": [
      "[['D', None, None, 'E', None, None, 'C', None, None], ['D', None, None, 'B', None, None]]\n"
     ]
    },
    {
     "data": {
      "text/plain": [
       "('E', 'B')"
      ]
     },
     "execution_count": 3,
     "metadata": {},
     "output_type": "execute_result"
    }
   ],
   "source": [
    "leaves = [[],[]]\n",
    "\n",
    "def collectLeaves(tree1, tree2):\n",
    "    \n",
    "    # pre-order dfs\n",
    "    def dfs(node, tree_num):\n",
    "        if node.is_leaf():\n",
    "            leaves[tree_num].append(node.key)\n",
    "        if node.left:\n",
    "            dfs(node.left, tree_num)\n",
    "        else:\n",
    "            leaves[tree_num].append(None)\n",
    "        if node.right:\n",
    "            dfs(node.right, tree_num)\n",
    "        else:\n",
    "            leaves[tree_num].append(None)\n",
    "    \n",
    "    dfs(tree1, 0)\n",
    "    dfs(tree2, 1)\n",
    "\n",
    "    \n",
    "\n",
    "def compare_leaves(leaves):\n",
    "    if len(leaves[0]) > len(leaves[1]):\n",
    "        for i in range(len(leaves[0])):\n",
    "            l1 = leaves[0][i]\n",
    "            if i > len(leaves[1])-1:\n",
    "                l2 = None\n",
    "            else:\n",
    "                l2 = leaves[1][i]\n",
    "            if not l1 == l2:\n",
    "                return (l1,l2)\n",
    "    else:\n",
    "        for i in range(len(leaves[1])):\n",
    "            l2 = leaves[1][i]\n",
    "            if i > len(leaves[0])-1:\n",
    "                l1 = None\n",
    "            else:\n",
    "                l1 = leaves[0][i]\n",
    "            if not l1 == l2:\n",
    "                return (l1,l2)\n",
    "    \n",
    "    return (None, None)\n",
    "# there is a weird bug in traversing the second tree, it goes right then left\n",
    "collectLeaves(tree1, tree2)\n",
    "print(leaves)\n",
    "compare_leaves(leaves)"
   ]
  },
  {
   "cell_type": "code",
   "execution_count": null,
   "metadata": {
    "collapsed": true
   },
   "outputs": [],
   "source": []
  }
 ],
 "metadata": {
  "kernelspec": {
   "display_name": "Python [default]",
   "language": "python",
   "name": "python3"
  },
  "language_info": {
   "codemirror_mode": {
    "name": "ipython",
    "version": 3
   },
   "file_extension": ".py",
   "mimetype": "text/x-python",
   "name": "python",
   "nbconvert_exporter": "python",
   "pygments_lexer": "ipython3",
   "version": "3.6.1"
  }
 },
 "nbformat": 4,
 "nbformat_minor": 2
}
