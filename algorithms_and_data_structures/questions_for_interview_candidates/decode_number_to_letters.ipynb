{
 "cells": [
  {
   "cell_type": "markdown",
   "metadata": {},
   "source": [
    "A message containing letters from A-Z is being encoded to numbers using the following mapping:\n",
    "    a -> 1\n",
    "    b -> 2\n",
    "    ...\n",
    "    z -> 26\n",
    "\n",
    "Given an encoded message containing digits, determine the total number of ways to decode it.\n",
    "\n",
    "For example,\n",
    "Given encoded message \"12\", it could be decoded as \"AB\" (1 2) or \"L\" (12).\n",
    "\n",
    "The number of ways decoding \"12\" is 2."
   ]
  },
  {
   "cell_type": "code",
   "execution_count": null,
   "metadata": {
    "collapsed": true
   },
   "outputs": [],
   "source": []
  },
  {
   "cell_type": "code",
   "execution_count": 47,
   "metadata": {
    "collapsed": false
   },
   "outputs": [
    {
     "name": "stdout",
     "output_type": "stream",
     "text": [
      "lc\n",
      "aw\n",
      "abc\n"
     ]
    },
    {
     "data": {
      "text/plain": [
       "3"
      ]
     },
     "execution_count": 47,
     "metadata": {},
     "output_type": "execute_result"
    }
   ],
   "source": [
    "from copy import deepcopy\n",
    "\n",
    "\n",
    "\n",
    "def numDecodings(s):\n",
    "    \"\"\"\n",
    "    :type s: str\n",
    "    :rtype: int\n",
    "    \"\"\"\n",
    "    d = dict(zip(list(range(1,27)), 'abcdefghijklmnopqrstuvwxyz'))\n",
    "\n",
    "    def dfs(sub_s, counter, seq):\n",
    "        nonlocal d\n",
    "        if len(sub_s) == 0:\n",
    "            out = ''\n",
    "            for n in seq:\n",
    "                out += d[n]\n",
    "            print(out)\n",
    "            counter += 1\n",
    "        elif sub_s[0] == '0':\n",
    "            return counter\n",
    "        else:\n",
    "            if len(sub_s) > 1 and int(sub_s[0:2]) <= 26:\n",
    "                # search two digit solutions\n",
    "                counter = dfs(sub_s[2:], counter, seq + [int(sub_s[0:2])])\n",
    "            counter = dfs(sub_s[1:], counter, seq + [int(sub_s[0])])\n",
    "        \n",
    "        return counter\n",
    "                        \n",
    "    if len(s) == 0:\n",
    "        return 0\n",
    "    else:\n",
    "        return dfs(s, 0, [])\n",
    "\n",
    "numDecodings('123')"
   ]
  },
  {
   "cell_type": "code",
   "execution_count": 48,
   "metadata": {
    "collapsed": false
   },
   "outputs": [
    {
     "data": {
      "text/plain": [
       "3"
      ]
     },
     "execution_count": 48,
     "metadata": {},
     "output_type": "execute_result"
    }
   ],
   "source": [
    "def numDecodings(s):\n",
    "    \"\"\"\n",
    "    :type s: str\n",
    "    :rtype: int\n",
    "    \"\"\"\n",
    "\n",
    "    def dfs(sub_s, counter):\n",
    "        if len(sub_s) == 0:\n",
    "            counter += 1\n",
    "        elif sub_s[0] == '0':\n",
    "            return counter\n",
    "        else:\n",
    "            if len(sub_s) > 1 and int(sub_s[0:2]) <= 26:\n",
    "                # search two digit solutions\n",
    "                counter = dfs(sub_s[2:], counter)\n",
    "            counter = dfs(sub_s[1:], counter)\n",
    "        \n",
    "        return counter\n",
    "    \n",
    "    if len(s) == 0:\n",
    "        return 0\n",
    "    else:\n",
    "        return dfs(s, 0)\n",
    "\n",
    "numDecodings('123')"
   ]
  },
  {
   "cell_type": "code",
   "execution_count": null,
   "metadata": {
    "collapsed": true
   },
   "outputs": [],
   "source": []
  }
 ],
 "metadata": {
  "kernelspec": {
   "display_name": "Python [default]",
   "language": "python",
   "name": "python3"
  },
  "language_info": {
   "codemirror_mode": {
    "name": "ipython",
    "version": 3
   },
   "file_extension": ".py",
   "mimetype": "text/x-python",
   "name": "python",
   "nbconvert_exporter": "python",
   "pygments_lexer": "ipython3",
   "version": "3.5.2"
  }
 },
 "nbformat": 4,
 "nbformat_minor": 1
}
