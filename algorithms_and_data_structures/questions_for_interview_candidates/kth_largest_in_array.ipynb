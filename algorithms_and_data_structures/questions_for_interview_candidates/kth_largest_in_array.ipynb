{
 "cells": [
  {
   "cell_type": "markdown",
   "metadata": {},
   "source": [
    "# Select the kth largest value in an array\n",
    "\n",
    "## Solution\n",
    "    \n",
    "Use a min-head of size K.  Initialize the heap with the first K values.  Then, run through the array, test if the next array element is larger than the minimum heap value O(1).  If so, delete the min-value O(lnK).  THen return the min value from the heap when you're done.  Total operation time O(N*lnK); assymptotically this would be either O(N) for a k of 1 or N.  FOr everything else the max is O(Nln(N/2)), if K > N/2 we can flip the search critertial to the N/2 - k th smallest value."
   ]
  },
  {
   "cell_type": "code",
   "execution_count": 2,
   "metadata": {
    "collapsed": true
   },
   "outputs": [],
   "source": [
    "import heapq\n",
    "\n",
    "def find_kth_largest(arr, k):\n",
    "    q = [sorted(arr[:k])] # get first k, O(KlnK)\n",
    "    \n",
    "    for i in arr[k:]:\n",
    "        if i > q[0]:\n",
    "            last_largest = heapq.heappop(q)\n",
    "            heapq.heappush(q, i) \n",
    "            # heapq.heappushpop(q, i) does the last two liners\n",
    "    \n",
    "    return heapq.heappop(q)"
   ]
  },
  {
   "cell_type": "code",
   "execution_count": null,
   "metadata": {
    "collapsed": true
   },
   "outputs": [],
   "source": []
  }
 ],
 "metadata": {
  "kernelspec": {
   "display_name": "Python [default]",
   "language": "python",
   "name": "python3"
  },
  "language_info": {
   "codemirror_mode": {
    "name": "ipython",
    "version": 3
   },
   "file_extension": ".py",
   "mimetype": "text/x-python",
   "name": "python",
   "nbconvert_exporter": "python",
   "pygments_lexer": "ipython3",
   "version": "3.5.2"
  }
 },
 "nbformat": 4,
 "nbformat_minor": 1
}
