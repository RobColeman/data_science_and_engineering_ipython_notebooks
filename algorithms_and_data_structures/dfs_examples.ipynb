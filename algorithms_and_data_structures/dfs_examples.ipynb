{
 "cells": [
  {
   "cell_type": "markdown",
   "metadata": {},
   "source": [
    "## compute factors of an integer"
   ]
  },
  {
   "cell_type": "code",
   "execution_count": 5,
   "metadata": {
    "collapsed": false
   },
   "outputs": [
    {
     "name": "stdout",
     "output_type": "stream",
     "text": [
      "[]\n",
      "[[2, 4], [2, 2, 2]]\n",
      "[[2, 7]]\n",
      "[[2, 10], [2, 2, 5], [4, 5]]\n",
      "[[3, 7]]\n",
      "[[2, 18], [2, 2, 9], [2, 2, 3, 3], [2, 3, 6], [3, 12], [3, 3, 4], [4, 9], [6, 6]]\n"
     ]
    }
   ],
   "source": [
    "import math\n",
    "def getFactors(n):\n",
    "    out, curr = [], []\n",
    "    if n <= 2:\n",
    "        return out\n",
    "\n",
    "\n",
    "    def dfs(start, n):\n",
    "        for i in range(start, int(math.sqrt(n))+1):\n",
    "            # if i is a factor\n",
    "            if n%i == 0 and i <= n//i:\n",
    "                # it means [i,n/i] is a combination\n",
    "                curr.append(i)\n",
    "                out.append(curr+[n//i])\n",
    "                dfs(i, n//i) # solve all factors starting with i\n",
    "                curr.remove(i)\n",
    "\n",
    "    dfs(2, n)\n",
    "    return out\n",
    "\n",
    "\n",
    "print getFactors(2)\n",
    "print getFactors(8)\n",
    "print getFactors(14)\n",
    "print getFactors(20)\n",
    "print getFactors(21)\n",
    "print getFactors(36)"
   ]
  },
  {
   "cell_type": "code",
   "execution_count": null,
   "metadata": {
    "collapsed": true
   },
   "outputs": [],
   "source": []
  }
 ],
 "metadata": {
  "kernelspec": {
   "display_name": "Python 2",
   "language": "python",
   "name": "python2"
  },
  "language_info": {
   "codemirror_mode": {
    "name": "ipython",
    "version": 2
   },
   "file_extension": ".py",
   "mimetype": "text/x-python",
   "name": "python",
   "nbconvert_exporter": "python",
   "pygments_lexer": "ipython2",
   "version": "2.7.10"
  }
 },
 "nbformat": 4,
 "nbformat_minor": 0
}
