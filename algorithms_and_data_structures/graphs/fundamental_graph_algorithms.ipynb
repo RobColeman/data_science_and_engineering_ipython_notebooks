{
 "cells": [
  {
   "cell_type": "markdown",
   "metadata": {},
   "source": [
    "# Graphs and Graph Algorithms"
   ]
  },
  {
   "cell_type": "code",
   "execution_count": 8,
   "metadata": {
    "collapsed": false
   },
   "outputs": [],
   "source": [
    "class Node:\n",
    "    \n",
    "    def __init__(self, value):\n",
    "        self.data = value\n",
    "        self.color = None\n",
    "        self.explored = False\n",
    "        self.num_neighbors = 0\n",
    "        self.neighbors = {}\n",
    "    \n",
    "    def remove_neighbor(self, n):\n",
    "        if n in self.neighbors:\n",
    "            self.neighbors.pop(n)\n",
    "            self.num_neighbors -= 1\n",
    "    \n",
    "    def add_neighbor(self, n):\n",
    "        if not n.data in self.neighbors:\n",
    "            self.neighbors[n.data] = n\n",
    "            self.num_neighbors += 1\n",
    "        \n",
    "    def show_neighbors(self):\n",
    "        print \"        neighbors: \" + str([n.data for n in self.neighbors.values()])\n",
    "    \n",
    "    def show(self):\n",
    "        print \"Node %s: \" % self.data\n",
    "        print \"        color: \" + str( self.color )\n",
    "        print \"        explored: \" + str(self.explored)\n",
    "        print \"        neighbors: \" + str([n.data for n in self.neighbors.values()])\n",
    "        print \"\"\n",
    "\n",
    "\n",
    "class Graph:\n",
    "    \n",
    "    def __init__(self, edges, directed = False):\n",
    "        self.directed = directed\n",
    "        self.vertices = {}\n",
    "        \n",
    "        for e in set(edges):\n",
    "            self.add_edge(e)\n",
    "    \n",
    "    def add_edge(self, e):\n",
    "        self.add_vertex(e[0], neighbors = [e[1]])\n",
    "    \n",
    "    def add_vertex(self, v, neighbors = []):\n",
    "        if not v in self.vertices:\n",
    "            self.vertices[v] = Node(v)\n",
    "        for n in neighbors:\n",
    "            self.add_vertex(n)\n",
    "            self.vertices[v].add_neighbor(self.vertices[n])\n",
    "            if not self.directed:\n",
    "                self.vertices[n].add_neighbor(self.vertices[v])\n",
    "    \n",
    "    def delete_edge(self,e):\n",
    "        if e[1] in self.vertices[e[0]].neighbors:\n",
    "            self.vertices[e[0]].remove_neighbor(e[1])\n",
    "        if not self.directed:\n",
    "            if e[0] in self.vertices[e[1]].neighbors:\n",
    "                self.vertices[e[1]].remove_neighbor(e[0])\n",
    "    \n",
    "    def delete_vertex(self, del_val):\n",
    "        if del_val in self.vertices:\n",
    "            del_node = self.vertices.pop(del_val) # remove from vertex list\n",
    "        if self.directed:\n",
    "            # O(|V|) for a directed graph\n",
    "            for v, n in self.vertices.items():\n",
    "                n.remove_neighbor(del_val)\n",
    "        else:\n",
    "            # O(|V_i|) for an undirected graph, where i is the degree of the node being deleted\n",
    "            for v, n in del_node.neighbors.items():\n",
    "                n.remove_neighbor(del_val)\n",
    "    \n",
    "    def show(self):\n",
    "        print \"directed: %s\" % str(self.directed)\n",
    "        for v in self.vertices.values():\n",
    "            v.show()"
   ]
  },
  {
   "cell_type": "code",
   "execution_count": 9,
   "metadata": {
    "collapsed": false
   },
   "outputs": [
    {
     "name": "stdout",
     "output_type": "stream",
     "text": [
      "\n",
      "Undirected: \n",
      "\n",
      "directed: False\n",
      "Node A: \n",
      "        color: None\n",
      "        explored: False\n",
      "        neighbors: ['B', 'D']\n",
      "\n",
      "Node C: \n",
      "        color: None\n",
      "        explored: False\n",
      "        neighbors: ['B', 'D']\n",
      "\n",
      "Node B: \n",
      "        color: None\n",
      "        explored: False\n",
      "        neighbors: ['A', 'C']\n",
      "\n",
      "Node D: \n",
      "        color: None\n",
      "        explored: False\n",
      "        neighbors: ['A', 'C']\n",
      "\n",
      "\n",
      "\n",
      "Directed: \n",
      "\n",
      "directed: True\n",
      "Node A: \n",
      "        color: None\n",
      "        explored: False\n",
      "        neighbors: ['B', 'D']\n",
      "\n",
      "Node C: \n",
      "        color: None\n",
      "        explored: False\n",
      "        neighbors: ['D']\n",
      "\n",
      "Node B: \n",
      "        color: None\n",
      "        explored: False\n",
      "        neighbors: ['C']\n",
      "\n",
      "Node D: \n",
      "        color: None\n",
      "        explored: False\n",
      "        neighbors: []\n",
      "\n"
     ]
    }
   ],
   "source": [
    "edges = [(\"A\",\"B\"),(\"A\",\"D\"),(\"B\",\"C\"),(\"C\",\"D\")]\n",
    "\n",
    "print \"\"\n",
    "print \"Undirected: \"\n",
    "print \"\"\n",
    "graph = Graph(edges)\n",
    "graph.show()\n",
    "\n",
    "print \"\"\n",
    "print \"\"\n",
    "\n",
    "print \"Directed: \"\n",
    "print \"\"\n",
    "graph = Graph(edges, True)\n",
    "graph.show()"
   ]
  },
  {
   "cell_type": "code",
   "execution_count": 10,
   "metadata": {
    "collapsed": false
   },
   "outputs": [
    {
     "name": "stdout",
     "output_type": "stream",
     "text": [
      "directed: True\n",
      "Node A: \n",
      "        color: None\n",
      "        explored: False\n",
      "        neighbors: ['B', 'D']\n",
      "\n",
      "Node C: \n",
      "        color: None\n",
      "        explored: False\n",
      "        neighbors: ['D']\n",
      "\n",
      "Node B: \n",
      "        color: None\n",
      "        explored: False\n",
      "        neighbors: ['C']\n",
      "\n",
      "Node D: \n",
      "        color: None\n",
      "        explored: False\n",
      "        neighbors: []\n",
      "\n",
      "\n",
      "Delete 'd': \n",
      "directed: True\n",
      "Node A: \n",
      "        color: None\n",
      "        explored: False\n",
      "        neighbors: ['B']\n",
      "\n",
      "Node C: \n",
      "        color: None\n",
      "        explored: False\n",
      "        neighbors: []\n",
      "\n",
      "Node B: \n",
      "        color: None\n",
      "        explored: False\n",
      "        neighbors: ['C']\n",
      "\n"
     ]
    }
   ],
   "source": [
    "edges = [(\"A\",\"B\"),(\"A\",\"D\"),(\"B\",\"C\"),(\"C\",\"D\")]\n",
    "graph = Graph(edges, True)\n",
    "graph.show()\n",
    "print \"\"\n",
    "print \"Delete 'd': \"\n",
    "graph.delete_vertex(\"D\")\n",
    "graph.show()"
   ]
  },
  {
   "cell_type": "markdown",
   "metadata": {
    "collapsed": false
   },
   "source": [
    "## Bipartite Graph"
   ]
  },
  {
   "cell_type": "code",
   "execution_count": 11,
   "metadata": {
    "collapsed": false
   },
   "outputs": [
    {
     "name": "stdout",
     "output_type": "stream",
     "text": [
      "Exploring: A\n",
      "Exploring: B\n",
      "Exploring: C\n",
      "Exploring: D\n",
      "Exploring: D\n",
      "Graph 1 is a bipartite graph: True\n",
      "\n",
      "Exploring: A\n",
      "Exploring: C\n",
      "Graph 2 is a bipartite graph: False\n"
     ]
    }
   ],
   "source": [
    "def is_bypartite_graph(n):\n",
    "    explored = set()\n",
    "    explored.add(n.data)\n",
    "    def _is_bypartite_graph_rec(n):\n",
    "        print \"Exploring: \" + str(n.data)\n",
    "        for u in n.neighbors.values():\n",
    "            if u.color == n.color: # we found the same colors next to each other\n",
    "                return False\n",
    "            if u.color == None:\n",
    "                u.color = (not n.color)\n",
    "        \n",
    "        to_explore = set(n.neighbors.keys()).difference(explored)\n",
    "        if len(to_explore) < 1:\n",
    "            return True\n",
    "        else:\n",
    "            res = True\n",
    "            for u in to_explore:\n",
    "                explored.add(u)\n",
    "                res = res and _is_bypartite_graph_rec(n.neighbors[u])\n",
    "            return res\n",
    "    # call rec\n",
    "    return _is_bypartite_graph_rec(n)\n",
    "\n",
    "        \n",
    "edges = [(\"A\",\"B\"),(\"A\",\"D\"),(\"B\",\"C\"),(\"C\",\"D\")]\n",
    "graph = Graph(edges)\n",
    "start = graph.vertices.values()[0]\n",
    "start.color = False\n",
    "print \"Graph 1 is a bipartite graph: \" + str(is_bypartite_graph(start) == True)\n",
    "print \"\"\n",
    "\n",
    "edges =  [(\"A\",\"C\"),(\"A\",\"D\"),(\"B\",\"C\"),(\"C\",\"D\")]\n",
    "graph2 = Graph(edges)\n",
    "start2 = graph2.vertices.values()[0]\n",
    "start2.color = False\n",
    "print \"Graph 2 is a bipartite graph: \" + str(is_bypartite_graph(start2) == True)"
   ]
  },
  {
   "cell_type": "markdown",
   "metadata": {},
   "source": [
    "## Path finding"
   ]
  },
  {
   "cell_type": "markdown",
   "metadata": {},
   "source": [
    "### There exists a path from a to b\n",
    "In a given grid (graph), find if there exists a path from a starting point to an end point (0,0 -> 5,5) "
   ]
  },
  {
   "cell_type": "code",
   "execution_count": 12,
   "metadata": {
    "collapsed": false
   },
   "outputs": [
    {
     "name": "stdout",
     "output_type": "stream",
     "text": [
      "visiting 0,0\n",
      "visiting 1,0\n",
      "visiting 2,0\n",
      "visiting 3,0\n",
      "visiting 4,0\n",
      "wall at 5,0\n",
      "visiting 4,1\n",
      "wall at 5,1\n",
      "visiting 4,2\n",
      "visiting 5,2\n",
      "wall at 5,3\n",
      "visited at 4,2\n",
      "wall at 5,1\n",
      "visiting 4,3\n",
      "wall at 5,3\n",
      "wall at 4,4\n",
      "wall at 3,3\n",
      "visited at 4,2\n",
      "wall at 3,2\n",
      "visited at 4,1\n",
      "visiting 3,1\n",
      "visited at 4,1\n",
      "wall at 3,2\n",
      "visiting 2,1\n",
      "visited at 3,1\n",
      "visiting 2,2\n",
      "wall at 3,2\n",
      "visiting 2,3\n",
      "wall at 3,3\n",
      "visiting 2,4\n",
      "visiting 3,4\n",
      "wall at 4,4\n",
      "visiting 3,5\n",
      "visiting 4,5\n",
      "found at 5,5\n"
     ]
    },
    {
     "data": {
      "text/plain": [
       "True"
      ]
     },
     "execution_count": 12,
     "metadata": {},
     "output_type": "execute_result"
    }
   ],
   "source": [
    "grid = [[0, 0, 0, 0, 0, 1],\n",
    "        [1, 1, 0, 0, 0, 1],\n",
    "        [0, 0, 0, 1, 0, 0],\n",
    "        [0, 1, 0, 1, 0, 1],\n",
    "        [0, 1, 0, 0, 1, 0],\n",
    "        [0, 1, 0, 0, 0, 2]]\n",
    "\n",
    "\n",
    "def search_rec(x, y):\n",
    "    if grid[y][x] == 2:\n",
    "        print 'found end at %d,%d' % (x, y)\n",
    "        return True\n",
    "    elif grid[y][x] == 1:\n",
    "        print 'wall at %d,%d' % (x, y)\n",
    "        return False\n",
    "    elif grid[y][x] == 3:\n",
    "        print 'visited at %d,%d' % (x, y)\n",
    "        return False\n",
    "    \n",
    "    print 'visiting %d,%d' % (x, y)\n",
    "\n",
    "    # mark as visited\n",
    "    grid[y][x] = 3\n",
    "\n",
    "    # explore neighbors clockwise starting by the one on the right\n",
    "    if (\n",
    "        (x < len(grid[0])-1 and search_rec(x+1, y))  # right\n",
    "        or (y < len(grid)-1 and search_rec(x, y+1)) # down\n",
    "        or (x > 0 and search_rec(x-1, y))        # search left\n",
    "        or (y > 0 and search_rec(x, y-1))        # search up\n",
    "        ):\n",
    "        return True\n",
    "\n",
    "    return False\n",
    "\n",
    "search_rec(0, 0)"
   ]
  },
  {
   "cell_type": "markdown",
   "metadata": {},
   "source": [
    "### Depth First Traversal"
   ]
  },
  {
   "cell_type": "code",
   "execution_count": 30,
   "metadata": {
    "collapsed": false
   },
   "outputs": [],
   "source": [
    "def deapth_first_traversal(start_node, prefix = True, func = None):\n",
    "    if func == None:\n",
    "        def print_value(node):\n",
    "            print node.data\n",
    "        func = print_value\n",
    "    \n",
    "    def dfs_rec(this_node):\n",
    "        this_node.explored = True\n",
    "        \n",
    "        if prefix:\n",
    "            func(this_node)\n",
    "        \n",
    "        for n in this_node.neighbors.values():\n",
    "            if not n.explored:\n",
    "                dfs_rec(n)\n",
    "           \n",
    "        if not prefix:\n",
    "            func(this_node)\n",
    "    \n",
    "    dfs_rec(start_node)"
   ]
  },
  {
   "cell_type": "code",
   "execution_count": 34,
   "metadata": {
    "collapsed": false
   },
   "outputs": [
    {
     "name": "stdout",
     "output_type": "stream",
     "text": [
      "A\n",
      "B\n",
      "C\n",
      "D\n",
      "E\n",
      "F\n",
      "G\n"
     ]
    }
   ],
   "source": [
    "edges = [(\"A\",\"B\"),(\"A\",\"D\"),(\"B\",\"C\"),(\"C\",\"D\"),(\"D\",\"E\"),(\"B\",\"F\"),(\"F\",\"G\")]\n",
    "graph = Graph(edges)\n",
    "start_node = graph.vertices.values()[0]\n",
    "deapth_first_traversal(start_node)"
   ]
  },
  {
   "cell_type": "markdown",
   "metadata": {
    "collapsed": true
   },
   "source": [
    "### Breadth First Traversal"
   ]
  },
  {
   "cell_type": "code",
   "execution_count": 35,
   "metadata": {
    "collapsed": true
   },
   "outputs": [],
   "source": [
    "\n",
    "def breadth_first_traversal(start_node, func = None):\n",
    "    if func == None:\n",
    "        def print_value(node):\n",
    "            print node.data\n",
    "        func = print_value\n",
    "    \n",
    "    def breadth_rec(this_node):\n",
    "        this_node.explored = True\n",
    "        \n",
    "        for n in this_node.neighbors.values():\n",
    "            if not n.color:\n",
    "                n.color = \"done\"\n",
    "                func(n)\n",
    "        \n",
    "        for n in this_node.neighbors.values():\n",
    "            if not n.explored:\n",
    "                breadth_rec(n)\n",
    "    \n",
    "    func(start_node)\n",
    "    start_node.color = \"done\"\n",
    "    breadth_rec(start_node)"
   ]
  },
  {
   "cell_type": "code",
   "execution_count": 36,
   "metadata": {
    "collapsed": false
   },
   "outputs": [
    {
     "name": "stdout",
     "output_type": "stream",
     "text": [
      "A\n",
      "B\n",
      "D\n",
      "C\n",
      "F\n",
      "E\n",
      "G\n"
     ]
    }
   ],
   "source": [
    "edges = [(\"A\",\"B\"),(\"A\",\"D\"),(\"B\",\"C\"),(\"C\",\"D\"),(\"D\",\"E\"),(\"B\",\"F\"),(\"F\",\"G\")]\n",
    "graph = Graph(edges)\n",
    "start_node = graph.vertices.values()[0]\n",
    "breadth_first_traversal(start_node)\n",
    "\n",
    "from sets import Set\n",
    "from collections import namedtuple\n",
    "\n"
   ]
  },
  {
   "cell_type": "markdown",
   "metadata": {
    "collapsed": true
   },
   "source": [
    "### A* search\n",
    "\n",
    "Impliment the A* search algorithm to find a path from a to b"
   ]
  },
  {
   "cell_type": "code",
   "execution_count": null,
   "metadata": {
    "collapsed": true
   },
   "outputs": [],
   "source": []
  }
 ],
 "metadata": {
  "kernelspec": {
   "display_name": "Python 3",
   "language": "python",
   "name": "python3"
  },
  "language_info": {
   "codemirror_mode": {
    "name": "ipython",
    "version": 3
   },
   "file_extension": ".py",
   "mimetype": "text/x-python",
   "name": "python",
   "nbconvert_exporter": "python",
   "pygments_lexer": "ipython3",
   "version": "3.5.1"
  }
 },
 "nbformat": 4,
 "nbformat_minor": 0
}
