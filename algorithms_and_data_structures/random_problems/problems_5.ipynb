{
 "cells": [
  {
   "cell_type": "markdown",
   "metadata": {},
   "source": [
    "# Find the missing number in n-1 numbers\n",
    "\n",
    "You're given an array of unsorted numbers in range 1 to n, of length n-1, with one missing.  Find the missing number\n",
    "\n",
    "Solution:\n",
    "    \n",
    "    The sum of all integers from 1 to n is n*(n+1)/2\n",
    "    We can then do this in O(n-1) with constant extra memory\n",
    "    \n",
    "    Another approach is to create a set/hashtable of numbers from 1 to n, \n",
    "    and walk the array, popping elements from the hash table until we're left with the last one.\n",
    "    This os O(2*n) and O(n) extra memory.\n"
   ]
  },
  {
   "cell_type": "code",
   "execution_count": 4,
   "metadata": {
    "collapsed": false
   },
   "outputs": [
    {
     "name": "stdout",
     "output_type": "stream",
     "text": [
      "8\n",
      "8\n"
     ]
    }
   ],
   "source": [
    "from random import shuffle\n",
    "\n",
    "def find_missing_number(arr):\n",
    "    n = len(arr) + 1 # O(1)\n",
    "    expected_sum = int(n * (n + 1) / 2)\n",
    "    s = sum(arr) # O(n)\n",
    "    return expected_sum - s\n",
    "\n",
    "arr = list(range(1,11))\n",
    "shuffle(arr)\n",
    "print(arr.pop(4))\n",
    "print(find_missing_number(arr))"
   ]
  },
  {
   "cell_type": "markdown",
   "metadata": {},
   "source": [
    "# Create an LRU cache\n",
    "\n",
    "Solution:\n",
    "    \n",
    "  Use a hashmap and a doubly-linked list with pointers to the head and tail.  The doubly linked list maintains the order, while the hash-map points from the key to the node.  When accessed, pop the element from the doubly-linked list and re-insert it at the front of the list.  To drop an elements from the cache because it times out, pop from the end of the list.\n"
   ]
  },
  {
   "cell_type": "markdown",
   "metadata": {},
   "source": [
    "# Find if a name, from a list of names, exists in a document.  Do this in O(n) time.\n",
    "\n",
    "Solution:\n",
    "\n",
    "Build a trie/suffix tree from the list of names, with spaces.  This is pre-processing, so it won't effect the run-time cost of the algorithm.  Then walk the documnet, and test the trie at each word.  You can return a full list of names in the doc if you choose.\n",
    "\n",
    "This should run in O(k*n), where k is the average length of the words/names in the tree.  For large n, the k is negligable, so basically O(n)."
   ]
  },
  {
   "cell_type": "markdown",
   "metadata": {},
   "source": [
    "# Given an array of letters, find the second most frequent item\n",
    "\n",
    "\n",
    "Solution:\n",
    "    \n",
    "    Create a hashmap for the items and their counts.  Also keep two pointers for the first and second most frequent elements.  For each new element, check if it's higher than first, or second highest count, if it is, replace them, and shift down the pointers.  This will take O(n) time and O(n) extra memory.  This is very specific to the kth most frequent element, and becomes very complicated as k becomes larger.\n",
    "    \n",
    "    There is also a with a max-heap, but this requires O(n*logn), because each insertion takes logn, and you have to insert possibly n times if every item is unique.  We can get the kth most frequent element more easily this way.  However, this is basically as expensive as counting and sorting.\n"
   ]
  },
  {
   "cell_type": "code",
   "execution_count": 23,
   "metadata": {
    "collapsed": false
   },
   "outputs": [
    {
     "name": "stdout",
     "output_type": "stream",
     "text": [
      "a\n",
      "('a', 'e')\n"
     ]
    }
   ],
   "source": [
    "def find_second_most_frequent(arr):\n",
    "    counts_map = {arr[0] : 1}\n",
    "    first_most = arr[0]\n",
    "    idx = 1\n",
    "    while arr[idx] == first_most:\n",
    "        idx += 1\n",
    "        counts_map[arr[idx]] += 1\n",
    "    \n",
    "    counts_map[arr[idx]] = 1\n",
    "    second_most = arr[idx]\n",
    "    idx += 1\n",
    "    while arr[idx] == second_most:\n",
    "        idx += 1\n",
    "        counts_map[arr[idx]] += 1\n",
    "    \n",
    "    if counts_map[second_most] > counts_map[first_most]:\n",
    "        second_most, first_most = first_most, second_most\n",
    "    \n",
    "    n = len(arr)\n",
    "    # now we walk the rest of the array\n",
    "    while idx < n:\n",
    "        i = arr[idx]\n",
    "        \n",
    "        # increment\n",
    "        if i in counts_map:\n",
    "            counts_map[i] += 1\n",
    "        else:\n",
    "            counts_map[i] = 1\n",
    "        \n",
    "        # check if it was the second most, and if it's now the first most\n",
    "        if i == second_most and counts_map[i] > counts_map[first_most]:\n",
    "            # swap them\n",
    "            first_most, second_most = second_most, first_most\n",
    "        \n",
    "        # check if it's now the second most\n",
    "        elif not i == first_most and counts_map[i] > counts_map[second_most]:\n",
    "            # replace the second most\n",
    "            second_most = i\n",
    "        idx += 1\n",
    "    \n",
    "    if counts_map[second_most] == counts_map[first_most]:\n",
    "        return (first_most, second_most)\n",
    "    else:\n",
    "        return second_most\n",
    "\n",
    "    \n",
    "arr1 = ['a','b','c','a','a','a','b','b','b','c','d','d','d','e','e','e','e','e','e','e','e']\n",
    "print(find_second_most_frequent(arr1))\n",
    "arr2 = ['a','b','c','a','a','a','b','a','a','a','a','b','b','c','d','d','d','e','e','e','e','e','e','e','e']\n",
    "print(find_second_most_frequent(arr2))"
   ]
  },
  {
   "cell_type": "markdown",
   "metadata": {},
   "source": [
    "# Test if a tree is a valid binary tree\n",
    "\n",
    "Solution:\n",
    "    \n",
    "    DFS or BFS the tree and test if each node has at most two children.\n",
    "   \n",
    "# Test if a tree is a valid binary search tree\n",
    "\n",
    "Solution:\n",
    "    use min and max pointers"
   ]
  },
  {
   "cell_type": "code",
   "execution_count": 33,
   "metadata": {
    "collapsed": false
   },
   "outputs": [
    {
     "name": "stdout",
     "output_type": "stream",
     "text": [
      "True\n"
     ]
    }
   ],
   "source": [
    "INT_MAX = 10000000000\n",
    "INT_MIN =-10000000000\n",
    " \n",
    "# A binary tree node\n",
    "class Node:\n",
    " \n",
    "    # Constructor to create a new node\n",
    "    def __init__(self, val, left = None, right = None):\n",
    "        self.val = val \n",
    "        self.left = left\n",
    "        self.right = right\n",
    "\n",
    "\n",
    "def is_BST(root, mi, ma):\n",
    "    \n",
    "    def is_BST_rec(node, mi, ma):\n",
    "        if node is None:\n",
    "            return True\n",
    "        \n",
    "        if node.val < mi or node.val > ma:\n",
    "            return False\n",
    "        \n",
    "        return is_BST_rec(node.left, mi, node.val - 1) and is_BST_rec(node.right, node.val + 1, ma)\n",
    "\n",
    "    \n",
    "    return is_BST_rec(root, mi, ma)\n",
    "\n",
    "root = Node(4,\n",
    "           Node(2, \n",
    "                Node(1), \n",
    "                Node(3)\n",
    "               ),\n",
    "           Node(5)\n",
    "           )\n",
    "\n",
    "print(is_BST(root, INT_MIN, INT_MAX))"
   ]
  },
  {
   "cell_type": "markdown",
   "metadata": {},
   "source": [
    "# Get the higth difference of two nodes in a tree\n",
    "\n",
    "Solution:\n",
    "    \n",
    "\n",
    "DFS for both nodes and keep track of depth.  As you find the nodes, update the depth pointers.  Compare at the end.  Run time O(n) to find the nodes with DFS, with constant extra memory, just the two pointers."
   ]
  },
  {
   "cell_type": "code",
   "execution_count": 34,
   "metadata": {
    "collapsed": true
   },
   "outputs": [],
   "source": [
    "class Node:\n",
    "    \n",
    "    def __init__(self, val, children = []):\n",
    "        self.val = val\n",
    "        self.children = children\n",
    "\n",
    "def get_depth_difference(root, val1, val2):\n",
    "    \n",
    "    depth1 = None\n",
    "    depth2 = None\n",
    "    depth = 0\n",
    "    \n",
    "    def dfs_rec(node, val1, val2, depth1, depth2, cur_d):\n",
    "        if not depth1 and not depth2:\n",
    "            return (depth1, depth2)\n",
    "        if node.val == val1:\n",
    "            depth1 = cur_d\n",
    "        if node.val == val2:\n",
    "            depth2 = cur_d\n",
    "        \n",
    "        for c in node.children:\n",
    "            dfs_rec(c, val1, val2, depth1, depth2, cur_d+1)\n",
    "            \n",
    "    dfs_rec(root, val1, val2, depth1, depth2, 0)\n",
    "    return abs(depth1 - depth2)\n"
   ]
  },
  {
   "cell_type": "markdown",
   "metadata": {},
   "source": [
    "# Design a media player, to which songs can be added, and can play the songs in random order, without repeats\n",
    "\n",
    "Solution:\n",
    "\n",
    "We can store the songs in a sequential directory structure, with indices from 0 to n-1. Adding songs requires only appending to sequential directory.  We can play randomly by keeping an array of indices from 0 to n-1 and selecting randomly.  After the first song, we can ensure no repeats by swapping the current item with the item at the end of the index array, and subsiquently sampling from 0 to n-2."
   ]
  },
  {
   "cell_type": "code",
   "execution_count": 37,
   "metadata": {
    "collapsed": false
   },
   "outputs": [],
   "source": [
    "from random import randint\n",
    "\n",
    "class MediaPlayer:\n",
    "    \n",
    "    def __init__(self, songs):\n",
    "        self.songs = songs\n",
    "        self.n = len(songs)\n",
    "        self.indices = list(range(n))\n",
    "    \n",
    "    def add_song(self, song):\n",
    "        self.songs.append(song)\n",
    "        self.n += 1\n",
    "        self.indices.append(self.n)\n",
    "        if n > 1:\n",
    "            # put newest at second to last to maintain current at index -1\n",
    "            self.indices[-2], self.indices[-1] = self.indices[-1], self.indices[-2]\n",
    "    \n",
    "    def get_song(self, idx):\n",
    "        # read the song from directory and return it\n",
    "        return self.song[idx]\n",
    "    \n",
    "    def play(self, song):\n",
    "        # play the song\n",
    "        print(\"playing song\")\n",
    "    \n",
    "    def start(self):\n",
    "        idx = randint(0,n)\n",
    "        # put current songs idx at the end\n",
    "        self.indices[idx], self.indices[-1] = self.indices[-1], self.indices[idx]\n",
    "        return idx\n",
    "    \n",
    "    def next(self):\n",
    "        idx = randint(0, n-1)\n",
    "        self.indices[idx], self.indices[-1] = self.indices[-1], self.indices[idx]\n",
    "        return idx"
   ]
  },
  {
   "cell_type": "code",
   "execution_count": null,
   "metadata": {
    "collapsed": true
   },
   "outputs": [],
   "source": []
  }
 ],
 "metadata": {
  "kernelspec": {
   "display_name": "Python 3",
   "language": "python",
   "name": "python3"
  },
  "language_info": {
   "codemirror_mode": {
    "name": "ipython",
    "version": 3
   },
   "file_extension": ".py",
   "mimetype": "text/x-python",
   "name": "python",
   "nbconvert_exporter": "python",
   "pygments_lexer": "ipython3",
   "version": "3.5.1"
  }
 },
 "nbformat": 4,
 "nbformat_minor": 0
}
