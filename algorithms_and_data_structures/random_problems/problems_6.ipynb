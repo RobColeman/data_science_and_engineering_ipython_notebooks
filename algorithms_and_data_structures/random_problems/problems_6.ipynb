{
 "cells": [
  {
   "cell_type": "markdown",
   "metadata": {},
   "source": [
    "Given points in a cartesian plane (x,y), n points in that plane, and a point of interest (x_1, y_1), find the n closest points to the point of interest.\n",
    "\n",
    "Define the points in an NxD array "
   ]
  },
  {
   "cell_type": "code",
   "execution_count": null,
   "metadata": {
    "collapsed": true
   },
   "outputs": [],
   "source": [
    "import numpy as np\n",
    "\n",
    "n = 1000\n",
    "m = 5\n",
    "points_range = 10\n",
    "point_of_interest = np.array([[1.0,1.0]])\n",
    "\n",
    "all_points_array = (np.random.rand(n,2) * range) - (range/2)\n",
    "\n",
    "\n",
    "def distance_metric(a, b):\n",
    "    # L2 norm\n",
    "    return np.sqrt( (a[0]-b[0])**2 + (a[1]-b[1])**2 )\n",
    "    \n",
    "\n",
    "def test_new_point(pi, pi_idx, PoI, closest_points):\n",
    "    delta = distance_metric(PoI, pi)\n",
    "    if len(closest_points) == 0:\n",
    "        closest_points.append( [delta, pi_idx, pi[0], pi[1]] )\n",
    "    elif len(closest_points) < m:\n",
    "        \n",
    "        for jdx, kept_point\n",
    "        \n",
    "\n",
    "closest_points = []\n",
    "for idx, pi in enumerate(all_points_array):\n",
    "    \n",
    "    \n",
    "\n"
   ]
  }
 ],
 "metadata": {
  "kernelspec": {
   "display_name": "Python [conda root]",
   "language": "python",
   "name": "conda-root-py"
  },
  "language_info": {
   "codemirror_mode": {
    "name": "ipython",
    "version": 3
   },
   "file_extension": ".py",
   "mimetype": "text/x-python",
   "name": "python",
   "nbconvert_exporter": "python",
   "pygments_lexer": "ipython3",
   "version": "3.5.2"
  }
 },
 "nbformat": 4,
 "nbformat_minor": 2
}
