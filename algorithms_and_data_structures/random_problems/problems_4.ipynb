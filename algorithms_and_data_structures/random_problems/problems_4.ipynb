{
 "cells": [
  {
   "cell_type": "markdown",
   "metadata": {},
   "source": [
    "# Remove numbers in an array\n",
    "\n",
    "Given an array, and a number, remove all instances of that number from the array, and return the edited array and it's new length.\n",
    "\n",
    "Solution:\n",
    "For a mutable array, we can perform this operation in O(n), with one pass, with O(1) extra memory usage.\n",
    "We can also do this while maintaining the original order of the items.\n",
    "\n",
    "\n",
    "The process involves removing and re-inserting every item as we walk the array of length (l).  While doing so, we keep a counter of the number of times we've seen the item to delete (k).  At every index (i), we check the item at that index is the item to delete.  If it is, we incriment our counter, and move on.  If not, we copy that item to index (i-k).  At the end, we drop the last K items by return the portion of the array from 0 until l - k.\n"
   ]
  },
  {
   "cell_type": "code",
   "execution_count": 9,
   "metadata": {
    "collapsed": false
   },
   "outputs": [
    {
     "name": "stdout",
     "output_type": "stream",
     "text": [
      "[1, 2, 3, 4, 5, 6, 7, 8, 9]\n",
      "[9, 2, 3, 4, 1, 5, 5, 6, 3]\n",
      "[1]\n",
      "[0, 0, 0, 0, 0, 0, 0]\n"
     ]
    }
   ],
   "source": [
    "def remove_item_from_array(arr, item):\n",
    "    k = 0\n",
    "    l = len(arr)\n",
    "    for idx, j in enumerate(arr):\n",
    "        if j == item:\n",
    "            k += 1\n",
    "        else:\n",
    "            arr[idx - k] = j\n",
    "    \n",
    "    return arr[0:(l-k)]\n",
    "\n",
    "\n",
    "arr1 = [0,1,2,3,0,4,5,6,7,0,8,0,9]\n",
    "arr2 = [9,2,3,4,1,5,5,6,0,0,0,3,0]\n",
    "arr3 = [0,0,0,0,0,0,0,1,0]\n",
    "\n",
    "print(remove_item_from_array(arr1,0))\n",
    "print(remove_item_from_array(arr2,0))\n",
    "print(remove_item_from_array(arr3,0))\n",
    "print(remove_item_from_array(arr3,1))"
   ]
  },
  {
   "cell_type": "markdown",
   "metadata": {},
   "source": [
    "# String path in a matrix of chars\n",
    "\n",
    "Given a matrix of Chars, and a desired string, find if the string is in the matrix; the chars must be continuously connected but can go in any direction (up, down, left or right) and can change direction mid-string.\n",
    "\n",
    "\n",
    "Solution:\n",
    "\n",
    "Walk the matrix, in any order, but whenever we get the the first char of the string, begin a DFS in the four directions."
   ]
  },
  {
   "cell_type": "code",
   "execution_count": 1,
   "metadata": {
    "collapsed": false
   },
   "outputs": [],
   "source": [
    "def test_cell(y_i, x_i, s, mat):\n",
    "    return (y_i > 0) and (x_i > 0) and (y_i < len(max)) and (x_i < len(mat[0])) and (s[0] == mat[y_i][x_i])\n",
    "\n",
    "def strDFS(y, x, s, mat):\n",
    "    if len(s) == 0:\n",
    "        return True\n",
    "    # up\n",
    "    elif test_cell(y-1, x, s, mat):\n",
    "        strDFS(y-1, x, s[1:], mat)\n",
    "    # down\n",
    "    elif test_cell(y+1, x, s, mat):\n",
    "        strDFS(y+1, x, s[1:], mat)\n",
    "    # left\n",
    "    elif test_cell(y, x-1, s, mat):\n",
    "        strDFS(y, x-1, s[1:], mat)\n",
    "    # right\n",
    "    elif test_cell(y, x+1, s, mat):\n",
    "        strDFS(y, x+1, s[1:], mat)\n",
    "    else:\n",
    "        return False\n",
    "\n",
    "def find_string_in_char_matrix(mat, s):\n",
    "    found = []\n",
    "    if not ((len(s) == 0) or (len(mat) == 0)):\n",
    "        for i in range(len(mat[0])):\n",
    "            for j in range(len(mat)):\n",
    "                if (mat[j][i] == s[0]) and strDFS(j, i, s[1:], mat):\n",
    "                    found.append((j,i))\n",
    "    return found"
   ]
  },
  {
   "cell_type": "markdown",
   "metadata": {
    "collapsed": true
   },
   "source": [
    "# Search a rotated, sorted array\n",
    "\n",
    "An array is rotated if some elements from the front are moved to the end, maintaining their order.  Given an array that was sorted in ascending order, with some rotation, perform a search for an item.  Assume there are no duplicates."
   ]
  },
  {
   "cell_type": "code",
   "execution_count": 9,
   "metadata": {
    "collapsed": false
   },
   "outputs": [
    {
     "name": "stdout",
     "output_type": "stream",
     "text": [
      "[5, 6, 7, 8, 9, 10, 11, 12, 13, 14, 15, 16, 17, 18, 19, 0, 1, 2, 3, 4]\n",
      "10\n"
     ]
    }
   ],
   "source": [
    "def search_in_rotation(arr, lP, rP, item):\n",
    "    if lP > rP:\n",
    "        return None\n",
    "    elif item == arr[lP]:\n",
    "        return lP\n",
    "    elif item == arr[rP]:\n",
    "        return rP\n",
    "    \n",
    "    mP = lP + ((rP - lP) // 2)\n",
    "    if arr[mP] == item:\n",
    "        return mP\n",
    "    \n",
    "    if arr[lP] < arr[mP]:\n",
    "        # in first increasing array\n",
    "        if item > arr[lP] and item < arr[mP]:\n",
    "            # search left\n",
    "            return search_in_rotation(arr, lP+1, mP-1, item)\n",
    "        else:\n",
    "            # search right\n",
    "            return search_in_rotation(arr, mP+1, rP-1, item)\n",
    "    else:\n",
    "        # in the second increasing array\n",
    "        if item > arr[mP] and item < arr[rP]:\n",
    "            # search right\n",
    "            return search_in_rotation(arr, mP+1, rP-1, item)\n",
    "        else:\n",
    "            # search left\n",
    "            return search_in_rotation(arr, lP+1, mP-1, item)\n",
    "\n",
    "def binary_search_rotated_array(array, item):\n",
    "    l = len(array)\n",
    "    if l == 0:\n",
    "        return None\n",
    "    elif l == 1 and array[0] == item:\n",
    "        return 0\n",
    "    \n",
    "    return search_in_rotation(array, 0, len(array)-1, item)\n",
    "        \n",
    "    \n",
    "a = list(range(20))\n",
    "a = a[5:] + a[:5]\n",
    "print(a)\n",
    "print(binary_search_rotated_array(a, 15))"
   ]
  },
  {
   "cell_type": "markdown",
   "metadata": {},
   "source": [
    "# Min splits to make palandromes from a string\n",
    "\n",
    "Strings can be broken into n sub-strings of length >= 1 which are all palandromes. "
   ]
  },
  {
   "cell_type": "code",
   "execution_count": 22,
   "metadata": {
    "collapsed": false
   },
   "outputs": [
    {
     "name": "stdout",
     "output_type": "stream",
     "text": [
      "False\n",
      "12\n"
     ]
    }
   ],
   "source": [
    "def is_panadrome(s):\n",
    "    if len(s) == 1 or len(s) == 2:\n",
    "        return True\n",
    "    else:\n",
    "        m = len(s) // 2\n",
    "        # O(n)\n",
    "        return s[:m] == s[-m:][::-1]\n",
    "\n",
    "def min_palandrome_splits(string):\n",
    "    if len(string) == 0:\n",
    "        return -1\n",
    "    elif is_panadrome(string):\n",
    "        return 0\n",
    "    else:\n",
    "        # the last element contains the minimum, worst case min_splits == n\n",
    "        splits = list(range(1,len(string)+1))\n",
    "        \n",
    "        for i in range(len(string)):\n",
    "            if is_panadrome(string[:i]):\n",
    "                splits[i] = 0\n",
    "            \n",
    "            for j in range(0,i):\n",
    "                if is_panadrome(string[j+1:i]) and splits[i] > splits[j] + 1:\n",
    "                    splits[i] == splits[j] + 1\n",
    "        \n",
    "    return splits[-1]\n",
    "\n",
    "s = \"madamifmadam\"\n",
    "print(is_panadrome(s))\n",
    "print(min_palandrome_splits(s))\n",
    "\n",
    "    "
   ]
  },
  {
   "cell_type": "markdown",
   "metadata": {
    "collapsed": true
   },
   "source": [
    "# Given two binary trees, return the first pair of leaves that are non-matching\n",
    "\n",
    "ex:\n",
    "\n",
    "    tree1: A, B, C, D, E, None, None\n",
    "    tree2: A, D, B\n",
    "    \n",
    "    return: (E,B)\n",
    "   \n",
    "Trivial solution: Do a DFS on both threes and store the leaves in two arrays.  After completing the DFSs, compare the arrays and return the first non-matching leaves.  Run-time O(2* (N + M) ), with O(N+M) extra memory, since we don't know of these are balanced binary trees."
   ]
  },
  {
   "cell_type": "code",
   "execution_count": 1,
   "metadata": {
    "collapsed": true
   },
   "outputs": [],
   "source": [
    "class TreeNode:\n",
    "    \n",
    "    def __init__(self, key, left=None, right=None):\n",
    "        self.left = left\n",
    "        self.right = right\n",
    "        self.key = key\n",
    "    \n",
    "    def is_leaf(self):\n",
    "        if self.left or self.right:\n",
    "            return False\n",
    "        else:\n",
    "            return True\n",
    "\n",
    "\n",
    "tree1 = TreeNode('A', \n",
    "                TreeNode('B',\n",
    "                         TreeNode('D'),\n",
    "                         TreeNode('E')\n",
    "                        ),\n",
    "                TreeNode('C')\n",
    "                )\n",
    "\n",
    "\n",
    "tree2 = TreeNode('A', TreeNode('D'), TreeNode('B'))"
   ]
  },
  {
   "cell_type": "code",
   "execution_count": 16,
   "metadata": {
    "collapsed": false
   },
   "outputs": [
    {
     "name": "stdout",
     "output_type": "stream",
     "text": [
      "D\n",
      "E\n",
      "C\n",
      "B\n",
      "D\n",
      "[['D', None, None, 'E', None, None, 'C', None, None], ['B', None, None, 'D', None, None]]\n"
     ]
    },
    {
     "data": {
      "text/plain": [
       "('D', 'B')"
      ]
     },
     "execution_count": 16,
     "metadata": {},
     "output_type": "execute_result"
    }
   ],
   "source": [
    "leaves = [[],[]]\n",
    "\n",
    "def collectLeaves(tree1, tree2):\n",
    "    \n",
    "    # pre-order dfs\n",
    "    def dfs(node, tree_num):\n",
    "        if node.is_leaf():\n",
    "            leaves[tree_num].append(node.key)\n",
    "        if node.left:\n",
    "            dfs(node.left, tree_num)\n",
    "        else:\n",
    "            leaves[tree_num].append(None)\n",
    "        if node.right:\n",
    "            dfs(node.right, tree_num)\n",
    "        else:\n",
    "            leaves[tree_num].append(None)\n",
    "    \n",
    "    dfs(tree1, 0)\n",
    "    dfs(tree2, 1)\n",
    "\n",
    "    \n",
    "\n",
    "def compare_leaves(leaves):\n",
    "    if len(leaves[0]) > len(leaves[1]):\n",
    "        for i in range(len(leaves[0])):\n",
    "            l1 = leaves[0][i]\n",
    "            if i > len(leaves[1])-1:\n",
    "                l2 = None\n",
    "            else:\n",
    "                l2 = leaves[1][i]\n",
    "            if not l1 == l2:\n",
    "                return (l1,l2)\n",
    "    else:\n",
    "        for i in range(len(leaves[1])):\n",
    "            l2 = leaves[1][i]\n",
    "            if i > len(leaves[0])-1:\n",
    "                l1 = None\n",
    "            else:\n",
    "                l1 = leaves[0][i]\n",
    "            if not l1 == l2:\n",
    "                return (l1,l2)\n",
    "    \n",
    "    return (None, None)\n",
    "# there is a weird bug in traversing the second tree, it goes right then left\n",
    "collectLeaves(tree1, tree2)\n",
    "print(leaves)\n",
    "compare_leaves(leaves)"
   ]
  },
  {
   "cell_type": "markdown",
   "metadata": {},
   "source": [
    "# Sort an array of integers squared\n",
    "\n",
    "Given an array of integers, either positive or negative, sort the square of those integers."
   ]
  },
  {
   "cell_type": "code",
   "execution_count": 17,
   "metadata": {
    "collapsed": false
   },
   "outputs": [
    {
     "data": {
      "text/plain": [
       "[0, 1, 1, 4, 4, 9, 9, 16, 16, 25, 25, 36, 36, 49, 49, 64, 64, 81, 81, 100]"
      ]
     },
     "execution_count": 17,
     "metadata": {},
     "output_type": "execute_result"
    }
   ],
   "source": [
    "def sort_squared(arr):\n",
    "    negs = []\n",
    "    output = []\n",
    "    for i in arr:\n",
    "        j = i**2\n",
    "        if i < 0:\n",
    "            negs.append(j)\n",
    "        else:\n",
    "            if len(negs) > 0 and j >= negs[-1]:\n",
    "                output.append(negs.pop())\n",
    "            output.append(j)\n",
    "    # if there are negatives left\n",
    "    \n",
    "    for j in negs[::-1]:\n",
    "        output.append(j)\n",
    "    \n",
    "    return output\n",
    "\n",
    "\n",
    "a = list(range(-10,10))\n",
    "sort_squared(a)"
   ]
  },
  {
   "cell_type": "markdown",
   "metadata": {
    "collapsed": true
   },
   "source": [
    "# Compute processing time while awaiting repeated tasks\n",
    "\n",
    "Given a list of tasks to run, [A,B,C,D,A,F,C] where each task takes 1 unit, except there a wait-time (k) to run a repeated task, if k = 3 [A,B,C,wait1 A, wait2 C, wait3 C], return the run time of the list of tasks.\n",
    "\n",
    "\n",
    "Solution:\n",
    "\n",
    "Use an auxilliary hashmap, 'task -> last time completed', {taskId : last time completed }, and a total time spent.  Walk through the list, check if the task is in the map.  If so, check if the (current time - last time < k).  If so, jump forward in time to (last time + k).  Incriment the timer by one for each iteration, and put (taskId -> current time) into the map.\n",
    "\n",
    "This will take O(n) to run, since you walk through the map once. You'll need O(n) memory, because you need to use an auxilliary hashmap, which could have up to n unique tasks in it."
   ]
  },
  {
   "cell_type": "code",
   "execution_count": 21,
   "metadata": {
    "collapsed": false
   },
   "outputs": [
    {
     "name": "stdout",
     "output_type": "stream",
     "text": [
      "4\n",
      "6\n",
      "16\n"
     ]
    }
   ],
   "source": [
    "def compute_processing_time(tasks, k):\n",
    "    if k == 0:\n",
    "        return len(tasks)\n",
    "    if len(tasks) == 1:\n",
    "        return 1\n",
    "    \n",
    "    time = 0\n",
    "    last_time = {}\n",
    "    \n",
    "    for task in tasks:\n",
    "        if task in last_time and (time - last_time[task] < k):\n",
    "            time = last_time[task] + k\n",
    "        time += 1\n",
    "        last_time[task] = time\n",
    "    \n",
    "    return time\n",
    "\n",
    "tasks1 = ['A','B','C','D'] # k = 3, 4\n",
    "tasks2 = ['A','B','A','C'] # k = 3, 6\n",
    "tasks3 = ['A','A','A','A'] # k = 4, 16\n",
    "\n",
    "print(compute_processing_time(tasks1, 3))\n",
    "print(compute_processing_time(tasks2, 3))\n",
    "print(compute_processing_time(tasks3, 4))"
   ]
  },
  {
   "cell_type": "markdown",
   "metadata": {},
   "source": [
    "# Process files, compute avg and totals\n",
    "\n",
    "\n",
    "You have a folder full of .bin files, that are proprietary, and a class BinToTsvConverter with a method .convert(filename), which converts the .bin file to a .tsv file.  The .tsv file has the schema, and no header:\n",
    "\n",
    "    Total_Connections Latency Bandwidth\n",
    "    65                  70     20\n",
    "\n",
    "Calculate the average latency and total bandwidth.\n",
    "\n",
    "This should take us O(N) where N is the total number of rows in all of the files combined.  If we've got a huge amount of files, we can read the files in parallel and compute the statistics per file, then combine the statistics (MapReduce type stuff)."
   ]
  },
  {
   "cell_type": "code",
   "execution_count": 25,
   "metadata": {
    "collapsed": false
   },
   "outputs": [],
   "source": [
    "class BinToTsvConverter:\n",
    "\n",
    "    def __init__(self):\n",
    "        \"\"\"\n",
    "        initializes the class\n",
    "        \"\"\"\n",
    "    \n",
    "    def convert(self,filename):\n",
    "        \"\"\"\n",
    "        converts the file and writes filename.tsv\n",
    "        \"\"\"\n",
    "\n",
    "def read_calculate_latency_bandwidth(filenames):\n",
    "    \n",
    "    connections_total = 0\n",
    "    latency_total = 0\n",
    "    bandwidth_total = 0\n",
    "    rows_total = 0\n",
    "    \n",
    "    converter = BinToTsvConverter()\n",
    "    \n",
    "    for filename in filenames:\n",
    "        converter.convert(filename)\n",
    "        with open(\"{}.tsv\".format(filename)) as f:\n",
    "            for line in f.readlines():\n",
    "                connections, latency, bandwidth = line.split(\"\\t\")\n",
    "                connections_total += connections\n",
    "                latency_total += latency\n",
    "                bandwidth_total += bandwidth\n",
    "                rows_total += 1\n",
    "    \n",
    "    return (latency_total / rows_total, bandwidth_total)\n",
    "\n",
    "\n",
    "# map-reduce style\n",
    "\n",
    "def read_file_calc_stats(filename):\n",
    "    converter = BinToTsvConverter()\n",
    "    converter.convert(filename)\n",
    "    \n",
    "    connections_total = 0\n",
    "    latency_total = 0\n",
    "    bandwidth_total = 0\n",
    "    rows_total = 0\n",
    "    \n",
    "    with open(\"{}.tsv\".format(filename)) as f:\n",
    "        for line in f.readlines():\n",
    "            connections, latency, bandwidth = line.split(\"\\t\")\n",
    "            connections_total += connections\n",
    "            latency_total += latency\n",
    "            bandwidth_total += bandwidth\n",
    "            rows_total += 1\n",
    "    \n",
    "    return (connections_total, latency_total, bandwidth_total, rows_total)\n",
    "\n",
    "def combine_stats(t1, t2):\n",
    "    return (t1[0] + t2[0], t1[1] + t2[1], t1[2] + t2[2], t1[3] + t2[3])\n",
    "\n",
    "def compute_latency_bandwidth(summary_stats):\n",
    "    return (summary_stats[1] / summary_stats[3], summary_stats[2])\n",
    "\n",
    "# compute_latency_bandwidth(reduce(combine_stats, map(read_file_calc_stats, filenames)))"
   ]
  },
  {
   "cell_type": "markdown",
   "metadata": {},
   "source": [
    "# Find 3 numbers that sum to zero in an array\n",
    "\n",
    "Given an array of ints, and a int (3), find all combinations of 3 of the numbers, without repeating any numbers, that sum to zero.\n",
    "\n",
    "Solution:\n",
    "\n",
    "The trick here is to first convert the items to a set/hashtable, to remove duplicates.  This set also allows us to do fast lookups for items.\n",
    "We then need to do a two item deep DFS through the set, where we for each item A, one-by-one grab every other item B, then do set.contains(-(A + B)).  If that item is in there, we add the triplet to the output, otherwise we move on to the next pair.\n",
    "\n",
    "To get an output without duplicates we need to do some more trickery.  The output should also be a set/hashtable.  We need to \n",
    "\n",
    "    1) put the triple of values into an array\n",
    "    2) sort the array (trivial since it's three items)\n",
    "    3) create a comma-separated string from that array \n",
    "    4) then upsert the string into the set/hashtable.\n",
    "\n",
    "It's up to you if you want to post-process the strings and trurn numbers.\n",
    "\n",
    "Run-time should be O(n * (n-1) / 2), since we don't have to compare two items twice e.g. (A,B) and (B,A).  We'll need O(2*n) extra space for the set/hashtable and an iterable-subscriptbable, and O(3*n) for the output array.  In practice, those memory usage numbers should be much lower.\n",
    "\n",
    "This problem can be expanded to arbitrary #s of items and any base value, not just zero."
   ]
  },
  {
   "cell_type": "code",
   "execution_count": 37,
   "metadata": {
    "collapsed": false
   },
   "outputs": [
    {
     "data": {
      "text/plain": [
       "{'-1,0,1',\n",
       " '-10,1,9',\n",
       " '-10,2,8',\n",
       " '-10,3,7',\n",
       " '-10,4,6',\n",
       " '-2,-1,3',\n",
       " '-2,0,2',\n",
       " '-3,-1,4',\n",
       " '-3,-2,5',\n",
       " '-3,0,3',\n",
       " '-3,1,2',\n",
       " '-4,-1,5',\n",
       " '-4,-2,6',\n",
       " '-4,-3,7',\n",
       " '-4,0,4',\n",
       " '-4,1,3',\n",
       " '-5,-1,6',\n",
       " '-5,-2,7',\n",
       " '-5,-3,8',\n",
       " '-5,-4,9',\n",
       " '-5,0,5',\n",
       " '-5,1,4',\n",
       " '-5,2,3',\n",
       " '-6,-1,7',\n",
       " '-6,-2,8',\n",
       " '-6,-3,9',\n",
       " '-6,0,6',\n",
       " '-6,1,5',\n",
       " '-6,2,4',\n",
       " '-7,-1,8',\n",
       " '-7,-2,9',\n",
       " '-7,0,7',\n",
       " '-7,1,6',\n",
       " '-7,2,5',\n",
       " '-7,3,4',\n",
       " '-8,-1,9',\n",
       " '-8,0,8',\n",
       " '-8,1,7',\n",
       " '-8,2,6',\n",
       " '-8,3,5',\n",
       " '-9,0,9',\n",
       " '-9,1,8',\n",
       " '-9,2,7',\n",
       " '-9,3,6',\n",
       " '-9,4,5'}"
      ]
     },
     "execution_count": 37,
     "metadata": {},
     "output_type": "execute_result"
    }
   ],
   "source": [
    "def find_zero_triples(arr):\n",
    "    s = set(arr)\n",
    "    l = list(s)\n",
    "    output = set()\n",
    "    \n",
    "    for i, a in enumerate(l[:-2]):\n",
    "        for b in l[i+1:]:\n",
    "            c = -(a+b)\n",
    "            if not (c == a) and not (c == b) and c in s:\n",
    "                # these aren't unique solutions\n",
    "                output.add(\",\".join(sorted([a,b,c])))\n",
    "                \n",
    "    return output\n",
    "\n",
    "a = list(range(-10,10))\n",
    "find_zero_triples(a)"
   ]
  },
  {
   "cell_type": "code",
   "execution_count": null,
   "metadata": {
    "collapsed": true
   },
   "outputs": [],
   "source": []
  }
 ],
 "metadata": {
  "kernelspec": {
   "display_name": "Python 3",
   "language": "python",
   "name": "python3"
  },
  "language_info": {
   "codemirror_mode": {
    "name": "ipython",
    "version": 3
   },
   "file_extension": ".py",
   "mimetype": "text/x-python",
   "name": "python",
   "nbconvert_exporter": "python",
   "pygments_lexer": "ipython3",
   "version": "3.5.1"
  }
 },
 "nbformat": 4,
 "nbformat_minor": 0
}
