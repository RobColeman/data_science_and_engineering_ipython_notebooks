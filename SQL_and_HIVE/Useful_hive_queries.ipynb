{
 "cells": [
  {
   "cell_type": "markdown",
   "metadata": {},
   "source": [
    "# Useful Hive querys"
   ]
  },
  {
   "cell_type": "markdown",
   "metadata": {},
   "source": [
    "Generate a new table by selecting a random sample of size N from another table.\n",
    "\n",
    "The order by rand() approach can be pretty inefficient, but will give you a truly random sample.\n",
    "\n",
    "```\n",
    ">>>CREATE TABLE <new_Table> AS\n",
    "SELECT * FROM <existing_table>\n",
    "<filter logic>\n",
    "ORDER BY rand()\n",
    "LIMIT N;\n",
    "```"
   ]
  },
  {
   "cell_type": "markdown",
   "metadata": {},
   "source": [
    "A more efficient approach is to sort by a random value, but we can't guarentee that this will be truly random since reduce keys are chosen by elements of the data.  So, to fix that, we can explicitly state a random reduce key.\n",
    "\n",
    "```\n",
    ">>>CREATE TABLE <new_Table> AS\n",
    "SELECT * FROM <existing_table>\n",
    "<filter logic>\n",
    "DISTRIBUTE BY rand()\n",
    "SORT BY rand()\n",
    "LIMIT N;\n",
    "```"
   ]
  },
  {
   "cell_type": "code",
   "execution_count": null,
   "metadata": {
    "collapsed": true
   },
   "outputs": [],
   "source": []
  }
 ],
 "metadata": {
  "kernelspec": {
   "display_name": "Python 3",
   "language": "python",
   "name": "python3"
  },
  "language_info": {
   "codemirror_mode": {
    "name": "ipython",
    "version": 3
   },
   "file_extension": ".py",
   "mimetype": "text/x-python",
   "name": "python",
   "nbconvert_exporter": "python",
   "pygments_lexer": "ipython3",
   "version": "3.5.1"
  }
 },
 "nbformat": 4,
 "nbformat_minor": 0
}
