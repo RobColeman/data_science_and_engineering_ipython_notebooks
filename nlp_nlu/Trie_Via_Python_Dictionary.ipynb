{
 "cells": [
  {
   "cell_type": "code",
   "execution_count": 11,
   "metadata": {
    "collapsed": true
   },
   "outputs": [],
   "source": [
    "%matplotlib inline\n",
    "#%load_ext autoreload\n",
    "#%autoreload 2\n",
    "%reload_ext autoreload\n",
    "import numpy as np\n",
    "import matplotlib.pyplot as plt\n",
    "import math, sys, os\n",
    "from numpy.random import randn"
   ]
  },
  {
   "cell_type": "code",
   "execution_count": 12,
   "metadata": {
    "collapsed": true
   },
   "outputs": [],
   "source": [
    "def get_words():\n",
    "    p = os.getcwd().replace(\"/nlp_nlu\",\"/data/text/words/en\")\n",
    "    f = open(p,\"r+\")\n",
    "    return [w.replace(\"\\n\",\"\") for w in f.readlines() if not w == \"\\n\"]"
   ]
  },
  {
   "cell_type": "code",
   "execution_count": 13,
   "metadata": {
    "collapsed": false
   },
   "outputs": [],
   "source": [
    "class Trie_dict:\n",
    "    \n",
    "    def __init__(self):\n",
    "        self._end = '_end_'\n",
    "        self._root = dict()\n",
    "    \n",
    "    def insert(self, word):\n",
    "        current_dict = self._root\n",
    "        for letter in word:\n",
    "            current_dict = current_dict.setdefault(letter, {})\n",
    "        current_dict[self._end] = self._end\n",
    "    \n",
    "    def insert_batch(self, words):\n",
    "        for word in words:\n",
    "            self.insert(word)\n",
    "    \n",
    "    def view(self):\n",
    "        print self._root\n",
    "    \n",
    "    def view_root_keys(self):\n",
    "        print self._root.keys()\n",
    "    \n",
    "    def contains(self, word):\n",
    "        current_dict = self._root\n",
    "        for letter in word:\n",
    "            if letter in current_dict:\n",
    "                current_dict = current_dict[letter]\n",
    "            else:\n",
    "                return False\n",
    "        # the _end flag indicates this is the end of a word\n",
    "        # if it's not there, the word continues\n",
    "        if self._end in current_dict:\n",
    "            return True\n",
    "        else:\n",
    "            return False\n",
    "    \n",
    "\n",
    "    def suggest(self, partial, limit = 5):\n",
    "        \"\"\"\n",
    "        Since this trie doesn't store frequency of words as it trains, we're just \n",
    "        going to return the alphabetically first \n",
    "        'limit', shortest, terms.\n",
    "        \"\"\"\n",
    "        suggestions = []\n",
    "\n",
    "        def suggest_dfs(partial_dict, partial ):\n",
    "                if len(suggestions) < limit:\n",
    "                    for ch in sorted(partial_dict.keys()): \n",
    "                        # sorting by alpha, this happens to give us _end_ first\n",
    "                        # could be pre-sorting by frequency for better \n",
    "                        #   speed and smarted recommendations\n",
    "                        if len(suggestions) >= limit:\n",
    "                            break\n",
    "                        elif ch == self._end:\n",
    "                            suggestions.append(partial)\n",
    "                        else:\n",
    "                            # recurse\n",
    "                            suggest_dfs(partial_dict[ch], partial + ch)\n",
    "\n",
    "        partial_dict = self._find_patial(partial)\n",
    "        if not partial_dict == None:\n",
    "            suggest_dfs(partial_dict, partial)\n",
    "        \n",
    "        return suggestions\n",
    "\n",
    "    def _find_patial(self, partial):\n",
    "        top_dict = self._root\n",
    "        for char in partial:\n",
    "            if char in top_dict:\n",
    "                top_dict = top_dict[char]\n",
    "            else:\n",
    "                # there are no words starting with this sequence\n",
    "                return None\n",
    "        return top_dict\n",
    "        \n",
    "\n",
    "        "
   ]
  },
  {
   "cell_type": "code",
   "execution_count": 14,
   "metadata": {
    "collapsed": false
   },
   "outputs": [],
   "source": [
    "trie = Trie_dict()\n",
    "trie.insert_batch(get_words())"
   ]
  },
  {
   "cell_type": "code",
   "execution_count": 15,
   "metadata": {
    "collapsed": false
   },
   "outputs": [
    {
     "name": "stdout",
     "output_type": "stream",
     "text": [
      "suggestions\n",
      "\n",
      "'reac': \n",
      "['reacceptance', 'reaccess', 'reaccession', 'reacclimatization', 'reacclimatize']\n",
      "\n",
      "'poo': \n",
      "['pooa', 'pooch', 'pooder', 'poodle', 'poodledom']\n",
      "\n",
      "'whal': \n",
      "['whale', 'whaleback', 'whalebacker', 'whalebird', 'whaleboat']\n",
      "\n",
      "'dan': \n",
      "['dan', 'danaid', 'danaide', 'danaine', 'danaite']\n",
      "\n"
     ]
    }
   ],
   "source": [
    "print \"suggestions\"\n",
    "print \"\"\n",
    "print \"'reac': \"\n",
    "print trie.suggest(\"reac\")\n",
    "print \"\"\n",
    "print \"'poo': \"\n",
    "print trie.suggest(\"poo\")\n",
    "print \"\"\n",
    "print \"'whal': \"\n",
    "print trie.suggest(\"whal\")\n",
    "print \"\"\n",
    "print \"'dan': \"\n",
    "print trie.suggest(\"dan\")\n",
    "print \"\""
   ]
  },
  {
   "cell_type": "code",
   "execution_count": 108,
   "metadata": {
    "collapsed": false
   },
   "outputs": [],
   "source": []
  }
 ],
 "metadata": {
  "kernelspec": {
   "display_name": "Python 2",
   "language": "python",
   "name": "python2"
  },
  "language_info": {
   "codemirror_mode": {
    "name": "ipython",
    "version": 2
   },
   "file_extension": ".py",
   "mimetype": "text/x-python",
   "name": "python",
   "nbconvert_exporter": "python",
   "pygments_lexer": "ipython2",
   "version": "2.7.10"
  }
 },
 "nbformat": 4,
 "nbformat_minor": 0
}
