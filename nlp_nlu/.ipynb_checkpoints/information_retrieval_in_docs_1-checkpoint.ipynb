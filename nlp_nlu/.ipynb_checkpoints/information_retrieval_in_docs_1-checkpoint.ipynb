{
 "cells": [
  {
   "cell_type": "code",
   "execution_count": 164,
   "metadata": {
    "collapsed": true
   },
   "outputs": [],
   "source": [
    "%matplotlib inline\n",
    "#%load_ext autoreload\n",
    "#%autoreload 2\n",
    "%reload_ext autoreload\n",
    "import numpy as np\n",
    "import matplotlib.pyplot as plt\n",
    "import math, sys, os\n",
    "from numpy.random import randn"
   ]
  },
  {
   "cell_type": "code",
   "execution_count": 165,
   "metadata": {
    "collapsed": false
   },
   "outputs": [],
   "source": [
    "# loading methods\n",
    "def get_text_files(cwd = os.getcwd().replace(\"/nlp_nlu\",\"/data/text/gutenberg\")):\n",
    "    paths = []\n",
    "    for f in os.listdir(cwd):\n",
    "        if f.endswith(\".txt\"):\n",
    "            paths.append(cwd + \"/\" + f )\n",
    "    return paths\n",
    "\n",
    "\n",
    "def clean_line(line):\n",
    "    remove_chs = [\"\\n\",\".\",\",\",\";\",\":\",\"/\",\"!\",\"[\",\"]\",\"?\"]\n",
    "    for ch in remove_chs:\n",
    "        line = line.replace(ch,\"\")\n",
    "    return line.lower()\n",
    "\n",
    "\n",
    "def get_local_filename(file_path): \n",
    "    return file_path.split(\"/\")[-1].replace(\".txt\",\"\")\n",
    "\n",
    "\n",
    "def tokenize_line(line, doc_name = False):\n",
    "    line = clean_line(line)\n",
    "    if len(line) == 0: \n",
    "        return []\n",
    "    if doc_name:\n",
    "        return [((doc_name,word),1) for word in line.split(\" \")]\n",
    "    else:\n",
    "        return [(word,1) for word in line.split(\" \")]\n",
    "\n",
    "\n",
    "def tokenize_text_file(file_path, with_doc_name = False):\n",
    "    tokens = []\n",
    "    if with_doc_name:\n",
    "        doc_name = get_local_filename(file_path)\n",
    "    else:\n",
    "        doc_name = False\n",
    "    tokens = []\n",
    "    for line in open(file_path,\"r+\"):\n",
    "        tokens.extend(tokenize_line(line, doc_name))\n",
    "    \n",
    "    return tokens\n",
    "\n",
    "total_count_key = \"_total\"\n",
    "doc_name_key = \"_document_name\"\n",
    "\n",
    "def word_count_hash_from_text_file(file_path):\n",
    "    wch = {total_count_key: 0, \n",
    "           doc_name_key: get_local_filename(file_path)}\n",
    "    \n",
    "    for line in open(file_path,\"r+\"):\n",
    "        line = clean_line(line)\n",
    "        if len(line) == 0: \n",
    "            continue\n",
    "        for word in line.split(\" \"):\n",
    "            if word in wch:\n",
    "                wch[word] += 1\n",
    "            else:\n",
    "                wch[word] = 1\n",
    "            wch[total_count_key] += 1\n",
    "    \n",
    "    return wch\n",
    "\n",
    "def word_frequency_hash_from_text_file(file_path):\n",
    "    wch = word_count_hash_from_text_file(file_path)\n",
    "    total = float(wch[total_count_key])\n",
    "    for word, count in wch.items():\n",
    "        if word == total_count_key:\n",
    "            continue\n",
    "        if not type(count) == int:\n",
    "            continue\n",
    "        wch[word] = count / total\n",
    "    return wch\n",
    "    "
   ]
  },
  {
   "cell_type": "code",
   "execution_count": null,
   "metadata": {
    "collapsed": false
   },
   "outputs": [],
   "source": []
  },
  {
   "cell_type": "code",
   "execution_count": 166,
   "metadata": {
    "collapsed": false
   },
   "outputs": [
    {
     "name": "stdout",
     "output_type": "stream",
     "text": [
      "True\n"
     ]
    }
   ],
   "source": [
    "# load data\n",
    "fp = get_text_files()\n",
    "tokens = tokenize_text_file(fp[1],True)\n",
    "wch = word_count_hash_from_text_file(fp[1])\n",
    "\n",
    "print len(tokens) == wch[total_count_key]"
   ]
  },
  {
   "cell_type": "markdown",
   "metadata": {},
   "source": [
    "## Boolean queries"
   ]
  },
  {
   "cell_type": "code",
   "execution_count": 167,
   "metadata": {
    "collapsed": true
   },
   "outputs": [],
   "source": [
    "def get_inverted_index_and_counts(file_paths):\n",
    "    index = {}\n",
    "    wchs = {}\n",
    "    for file_path in file_paths:\n",
    "        wch = word_count_hash_from_text_file(file_path)\n",
    "        \n",
    "        for w in wch.keys():\n",
    "            if w in index:\n",
    "                index[w].add(wch[doc_name_key]) # add doc to posting list\n",
    "            else:\n",
    "                index[w] = set([wch[doc_name_key]]) # create new word key and doc to posting list\n",
    "        wchs[wch[doc_name_key]] = wch\n",
    "    \n",
    "    return (index, wchs)"
   ]
  },
  {
   "cell_type": "code",
   "execution_count": 168,
   "metadata": {
    "collapsed": false
   },
   "outputs": [],
   "source": [
    "inverted_index, wchs = get_inverted_index_and_counts(get_text_files())"
   ]
  },
  {
   "cell_type": "code",
   "execution_count": null,
   "metadata": {
    "collapsed": false
   },
   "outputs": [],
   "source": []
  },
  {
   "cell_type": "code",
   "execution_count": 169,
   "metadata": {
    "collapsed": false
   },
   "outputs": [],
   "source": [
    "## TF-IDF"
   ]
  },
  {
   "cell_type": "code",
   "execution_count": 171,
   "metadata": {
    "collapsed": true
   },
   "outputs": [],
   "source": [
    "def term_frequency_inverse_document_frequency(file_paths):\n",
    "    index = {}\n",
    "    docs_to_tfidf = {}\n",
    "    for file_path in file_paths:\n",
    "        tfh = word_frequency_hash_from_text_file(file_path)\n",
    "        for t in tfh.keys():\n",
    "            if w in index:\n",
    "                index[t].add(tfh[doc_name_key])\n",
    "            else:\n",
    "                index[t] = set([tfh[doc_name_key]])\n",
    "        docs_to_tfidf[tfh[doc_name_key]] = tfh\n",
    "    \n",
    "    n_docs = len(file_paths)\n",
    "    tfidf = {}\n",
    "    for doc, tfh in docs_to_tfidf.items():\n",
    "        for term, freq in tfh.items():\n",
    "            if type(freq) == float:\n",
    "                #            word frequency * inverse document frequency\n",
    "                docs_to_tfidf[doc][term] = freq * (float(n_docs) / len(index[term]))\n",
    "    return (index, docs_to_tfidf)"
   ]
  },
  {
   "cell_type": "code",
   "execution_count": 174,
   "metadata": {
    "collapsed": false
   },
   "outputs": [
    {
     "ename": "NameError",
     "evalue": "global name 'w' is not defined",
     "output_type": "error",
     "traceback": [
      "\u001b[0;31m---------------------------------------------------------------------------\u001b[0m",
      "\u001b[0;31mNameError\u001b[0m                                 Traceback (most recent call last)",
      "\u001b[0;32m<ipython-input-174-c87f686e1bbf>\u001b[0m in \u001b[0;36m<module>\u001b[0;34m()\u001b[0m\n\u001b[0;32m----> 1\u001b[0;31m \u001b[0minverted_index\u001b[0m\u001b[0;34m,\u001b[0m \u001b[0mtfidf\u001b[0m \u001b[0;34m=\u001b[0m \u001b[0mterm_frequency_inverse_document_frequency\u001b[0m\u001b[0;34m(\u001b[0m\u001b[0mget_text_files\u001b[0m\u001b[0;34m(\u001b[0m\u001b[0;34m)\u001b[0m\u001b[0;34m)\u001b[0m\u001b[0;34m\u001b[0m\u001b[0m\n\u001b[0m",
      "\u001b[0;32m<ipython-input-171-c8054c7e2142>\u001b[0m in \u001b[0;36mterm_frequency_inverse_document_frequency\u001b[0;34m(file_paths)\u001b[0m\n\u001b[1;32m      5\u001b[0m         \u001b[0mtfh\u001b[0m \u001b[0;34m=\u001b[0m \u001b[0mword_frequency_hash_from_text_file\u001b[0m\u001b[0;34m(\u001b[0m\u001b[0mfile_path\u001b[0m\u001b[0;34m)\u001b[0m\u001b[0;34m\u001b[0m\u001b[0m\n\u001b[1;32m      6\u001b[0m         \u001b[0;32mfor\u001b[0m \u001b[0mt\u001b[0m \u001b[0;32min\u001b[0m \u001b[0mtfh\u001b[0m\u001b[0;34m.\u001b[0m\u001b[0mkeys\u001b[0m\u001b[0;34m(\u001b[0m\u001b[0;34m)\u001b[0m\u001b[0;34m:\u001b[0m\u001b[0;34m\u001b[0m\u001b[0m\n\u001b[0;32m----> 7\u001b[0;31m             \u001b[0;32mif\u001b[0m \u001b[0mw\u001b[0m \u001b[0;32min\u001b[0m \u001b[0mindex\u001b[0m\u001b[0;34m:\u001b[0m\u001b[0;34m\u001b[0m\u001b[0m\n\u001b[0m\u001b[1;32m      8\u001b[0m                 \u001b[0mindex\u001b[0m\u001b[0;34m[\u001b[0m\u001b[0mt\u001b[0m\u001b[0;34m]\u001b[0m\u001b[0;34m.\u001b[0m\u001b[0madd\u001b[0m\u001b[0;34m(\u001b[0m\u001b[0mwfh\u001b[0m\u001b[0;34m[\u001b[0m\u001b[0mdoc_name_key\u001b[0m\u001b[0;34m]\u001b[0m\u001b[0;34m)\u001b[0m\u001b[0;34m\u001b[0m\u001b[0m\n\u001b[1;32m      9\u001b[0m             \u001b[0;32melse\u001b[0m\u001b[0;34m:\u001b[0m\u001b[0;34m\u001b[0m\u001b[0m\n",
      "\u001b[0;31mNameError\u001b[0m: global name 'w' is not defined"
     ]
    }
   ],
   "source": [
    "inverted_index, tfidf = term_frequency_inverse_document_frequency(get_text_files())"
   ]
  },
  {
   "cell_type": "code",
   "execution_count": 163,
   "metadata": {
    "collapsed": false
   },
   "outputs": [
    {
     "name": "stdout",
     "output_type": "stream",
     "text": [
      "considered\": \n"
     ]
    },
    {
     "ename": "NameError",
     "evalue": "name 'tfidf' is not defined",
     "output_type": "error",
     "traceback": [
      "\u001b[0;31m---------------------------------------------------------------------------\u001b[0m",
      "\u001b[0;31mNameError\u001b[0m                                 Traceback (most recent call last)",
      "\u001b[0;32m<ipython-input-163-40636979b31e>\u001b[0m in \u001b[0;36m<module>\u001b[0;34m()\u001b[0m\n\u001b[1;32m      2\u001b[0m \u001b[0;32mprint\u001b[0m \u001b[0mterm\u001b[0m \u001b[0;34m+\u001b[0m \u001b[0;34m\": \"\u001b[0m\u001b[0;34m\u001b[0m\u001b[0m\n\u001b[1;32m      3\u001b[0m \u001b[0;32mfor\u001b[0m \u001b[0mdoc\u001b[0m \u001b[0;32min\u001b[0m \u001b[0minverted_index\u001b[0m\u001b[0;34m[\u001b[0m\u001b[0mterm\u001b[0m\u001b[0;34m]\u001b[0m\u001b[0;34m:\u001b[0m\u001b[0;34m\u001b[0m\u001b[0m\n\u001b[0;32m----> 4\u001b[0;31m     \u001b[0;32mprint\u001b[0m \u001b[0mdoc\u001b[0m \u001b[0;34m+\u001b[0m \u001b[0;34m\" : \"\u001b[0m \u001b[0;34m+\u001b[0m \u001b[0mstr\u001b[0m\u001b[0;34m(\u001b[0m\u001b[0mtfidf\u001b[0m\u001b[0;34m[\u001b[0m\u001b[0mdoc\u001b[0m\u001b[0;34m]\u001b[0m\u001b[0;34m.\u001b[0m\u001b[0msetdefault\u001b[0m\u001b[0;34m(\u001b[0m\u001b[0mword\u001b[0m\u001b[0;34m,\u001b[0m\u001b[0;36m0.0\u001b[0m\u001b[0;34m)\u001b[0m\u001b[0;34m)\u001b[0m\u001b[0;34m\u001b[0m\u001b[0m\n\u001b[0m",
      "\u001b[0;31mNameError\u001b[0m: name 'tfidf' is not defined"
     ]
    }
   ],
   "source": [
    "term = inverted_index.keys()[6]\n",
    "print term + \": \"\n",
    "for doc in inverted_index[term]:\n",
    "    print doc + \" : \" + str(tfidf[doc].setdefault(word,0.0))"
   ]
  },
  {
   "cell_type": "code",
   "execution_count": 139,
   "metadata": {
    "collapsed": false
   },
   "outputs": [
    {
     "data": {
      "text/plain": [
       "'gentlemen--of'"
      ]
     },
     "execution_count": 139,
     "metadata": {},
     "output_type": "execute_result"
    }
   ],
   "source": [
    "word"
   ]
  },
  {
   "cell_type": "code",
   "execution_count": null,
   "metadata": {
    "collapsed": true
   },
   "outputs": [],
   "source": []
  }
 ],
 "metadata": {
  "kernelspec": {
   "display_name": "Python 2",
   "language": "python",
   "name": "python2"
  },
  "language_info": {
   "codemirror_mode": {
    "name": "ipython",
    "version": 2
   },
   "file_extension": ".py",
   "mimetype": "text/x-python",
   "name": "python",
   "nbconvert_exporter": "python",
   "pygments_lexer": "ipython2",
   "version": "2.7.10"
  }
 },
 "nbformat": 4,
 "nbformat_minor": 0
}
