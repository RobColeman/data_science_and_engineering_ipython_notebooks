{
 "cells": [
  {
   "cell_type": "code",
   "execution_count": 2,
   "metadata": {
    "collapsed": true
   },
   "outputs": [],
   "source": [
    "%matplotlib inline\n",
    "#%load_ext autoreload\n",
    "#%autoreload 2\n",
    "%reload_ext autoreload\n",
    "import numpy as np\n",
    "import matplotlib.pyplot as plt\n",
    "import math, sys, os\n",
    "from numpy.random import randn"
   ]
  },
  {
   "cell_type": "code",
   "execution_count": 146,
   "metadata": {
    "collapsed": false
   },
   "outputs": [],
   "source": [
    "# loading methods\n",
    "def get_text_files(cwd = os.getcwd().replace(\"/nlp_nlu\",\"/data/text/gutenberg\")):\n",
    "    paths = []\n",
    "    for f in os.listdir(cwd):\n",
    "        if f.endswith(\".txt\"):\n",
    "            paths.append(cwd + \"/\" + f )\n",
    "    return paths\n",
    "\n",
    "\n",
    "def clean_line(line):\n",
    "    remove_chs = [\"\\n\",\".\",\",\",\";\",\":\",\"/\",\"!\",\"[\",\"]\",\"?\"]\n",
    "    for ch in remove_chs:\n",
    "        line = line.replace(ch,\"\")\n",
    "    return line.lower()\n",
    "\n",
    "\n",
    "def get_local_filename(file_path): \n",
    "    return file_path.split(\"/\")[-1].replace(\".txt\",\"\")\n",
    "\n",
    "\n",
    "def tokenize_line(line, doc_name = False):\n",
    "    line = clean_line(line)\n",
    "    if len(line) == 0: \n",
    "        return []\n",
    "    if doc_name:\n",
    "        return [((doc_name,word),1) for word in line.split(\" \")]\n",
    "    else:\n",
    "        return [(word,1) for word in line.split(\" \")]\n",
    "\n",
    "\n",
    "def tokenize_text_file(file_path, with_doc_name = False):\n",
    "    tokens = []\n",
    "    if with_doc_name:\n",
    "        doc_name = get_local_filename(file_path)\n",
    "    else:\n",
    "        doc_name = False\n",
    "    tokens = []\n",
    "    for line in open(file_path,\"r+\"):\n",
    "        tokens.extend(tokenize_line(line, doc_name))\n",
    "    \n",
    "    return tokens\n",
    "\n",
    "total_count_key = \"_total\"\n",
    "doc_name_key = \"_document_name\"\n",
    "\n",
    "def word_count_hash_from_text_file(file_path):\n",
    "    wch = {total_count_key: 0, \n",
    "           doc_name_key: get_local_filename(file_path)}\n",
    "    \n",
    "    for line in open(file_path,\"r+\"):\n",
    "        line = clean_line(line)\n",
    "        if len(line) == 0: \n",
    "            continue\n",
    "        for word in line.split(\" \"):\n",
    "            if word in wch:\n",
    "                wch[word] += 1\n",
    "            else:\n",
    "                wch[word] = 1\n",
    "            wch[total_count_key] += 1\n",
    "    \n",
    "    return wch\n",
    "\n",
    "def word_frequency_hash_from_text_file(file_path):\n",
    "    wch = word_count_hash_from_text_file(file_path)\n",
    "    total = float(wch[total_count_key])\n",
    "    for word, count in wch.items():\n",
    "        if word == total_count_key:\n",
    "            continue\n",
    "        if not type(count) == int:\n",
    "            continue\n",
    "        wch[word] = count / total\n",
    "    return wch\n",
    "    "
   ]
  },
  {
   "cell_type": "code",
   "execution_count": null,
   "metadata": {
    "collapsed": false
   },
   "outputs": [],
   "source": []
  },
  {
   "cell_type": "code",
   "execution_count": 148,
   "metadata": {
    "collapsed": false
   },
   "outputs": [
    {
     "name": "stdout",
     "output_type": "stream",
     "text": [
      "True\n"
     ]
    }
   ],
   "source": [
    "# load data\n",
    "fp = get_text_files()\n",
    "tokens = tokenize_text_file(fp[1],True)\n",
    "wch = word_count_hash_from_text_file(fp[1])\n",
    "\n",
    "print len(tokens) == wch[total_count_key]"
   ]
  },
  {
   "cell_type": "markdown",
   "metadata": {},
   "source": [
    "## Boolean queries"
   ]
  },
  {
   "cell_type": "code",
   "execution_count": 149,
   "metadata": {
    "collapsed": true
   },
   "outputs": [],
   "source": [
    "def get_inverted_index_and_counts(file_paths):\n",
    "    index = {}\n",
    "    wchs = {}\n",
    "    for file_path in file_paths:\n",
    "        wch = word_count_hash_from_text_file(file_path)\n",
    "        \n",
    "        for w in wch.keys():\n",
    "            if w in index:\n",
    "                index[w].add(wch[doc_name_key]) # add doc to posting list\n",
    "            else:\n",
    "                index[w] = set([wch[doc_name_key]]) # create new word key and doc to posting list\n",
    "        wchs[wch[doc_name_key]] = wch\n",
    "    \n",
    "    return (index, wchs)"
   ]
  },
  {
   "cell_type": "code",
   "execution_count": 150,
   "metadata": {
    "collapsed": false
   },
   "outputs": [],
   "source": [
    "inverted_index, wchs = get_inverted_index_and_counts(get_text_files())"
   ]
  },
  {
   "cell_type": "code",
   "execution_count": null,
   "metadata": {
    "collapsed": false
   },
   "outputs": [],
   "source": []
  },
  {
   "cell_type": "code",
   "execution_count": 151,
   "metadata": {
    "collapsed": false
   },
   "outputs": [],
   "source": [
    "## WF-IDF"
   ]
  },
  {
   "cell_type": "code",
   "execution_count": 152,
   "metadata": {
    "collapsed": true
   },
   "outputs": [],
   "source": [
    "def word_frequency_inverse_document_frequency(file_paths):\n",
    "    index = {}\n",
    "    docs_to_wfidf = {}\n",
    "    for file_path in file_paths:\n",
    "        wfh = word_frequency_hash_from_text_file(file_path)\n",
    "        for w in wfh.keys():\n",
    "            if w in index:\n",
    "                index[w].add(wfh[doc_name_key])\n",
    "            else:\n",
    "                index[w] = set([wfh[doc_name_key]])\n",
    "        docs_to_wfidf[wfh[doc_name_key]] = wfh\n",
    "    \n",
    "    n_docs = len(file_paths)\n",
    "    wfidf = {}\n",
    "    for doc, wfh in docs_to_wfidf.items():\n",
    "        for word, freq in wfh.items():\n",
    "            if type(freq) == float:\n",
    "                #            word frequency * inverse document frequency\n",
    "                docs_to_wfidf[doc][word] = freq * (float(n_docs) / len(index[word]))\n",
    "    return (index, docs_to_wfidf)"
   ]
  },
  {
   "cell_type": "code",
   "execution_count": 153,
   "metadata": {
    "collapsed": false
   },
   "outputs": [],
   "source": [
    "inverted_index, wfidf = word_frequency_inverse_document_frequency(get_text_files())"
   ]
  },
  {
   "cell_type": "code",
   "execution_count": 155,
   "metadata": {
    "collapsed": false
   },
   "outputs": [
    {
     "name": "stdout",
     "output_type": "stream",
     "text": [
      "amplification\r",
      ": \n",
      "edgeworth-parents : 0.000101303437563\n"
     ]
    }
   ],
   "source": [
    "word = inverted_index.keys()[3]\n",
    "print word + \": \"\n",
    "for doc in inverted_index[word]:\n",
    "    print doc + \" : \" + str(wfidf[doc].setdefault(word,0.0))\n",
    "    "
   ]
  },
  {
   "cell_type": "code",
   "execution_count": 139,
   "metadata": {
    "collapsed": false
   },
   "outputs": [
    {
     "data": {
      "text/plain": [
       "'gentlemen--of'"
      ]
     },
     "execution_count": 139,
     "metadata": {},
     "output_type": "execute_result"
    }
   ],
   "source": [
    "word"
   ]
  },
  {
   "cell_type": "code",
   "execution_count": null,
   "metadata": {
    "collapsed": true
   },
   "outputs": [],
   "source": []
  }
 ],
 "metadata": {
  "kernelspec": {
   "display_name": "Python 2",
   "language": "python",
   "name": "python2"
  },
  "language_info": {
   "codemirror_mode": {
    "name": "ipython",
    "version": 2
   },
   "file_extension": ".py",
   "mimetype": "text/x-python",
   "name": "python",
   "nbconvert_exporter": "python",
   "pygments_lexer": "ipython2",
   "version": "2.7.10"
  }
 },
 "nbformat": 4,
 "nbformat_minor": 0
}
