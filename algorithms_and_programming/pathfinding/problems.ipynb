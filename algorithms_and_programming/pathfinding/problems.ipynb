{
 "cells": [
  {
   "cell_type": "code",
   "execution_count": null,
   "metadata": {
    "collapsed": true
   },
   "outputs": [],
   "source": []
  },
  {
   "cell_type": "code",
   "execution_count": null,
   "metadata": {
    "collapsed": true
   },
   "outputs": [],
   "source": []
  },
  {
   "cell_type": "markdown",
   "metadata": {},
   "source": [
    "## Find shortest distance point\n",
    "\n",
    "On a given 2-D grid, find the point that is shortest distance from any empty point (0) of the objectives (1), not passing through a blocked point (2).\n",
    "\n",
    "\n",
    "For example, given three objectives at (0,0), (0,4), (2,2), and an obstacle at (0,2):\n",
    "\n",
    "\n",
    "```\n",
    "1 - 0 - 2 - 0 - 1\n",
    "|   |   |   |   |\n",
    "0 - 0 - 0 - 0 - 0\n",
    "|   |   |   |   |\n",
    "0 - 0 - 1 - 0 - 0\n",
    "```\n",
    "\n",
    "would be represented as a list of lists, like so:\n",
    "\n",
    "`[[1,0,2,0,1],[0,0,0,0,0],[0,0,1,0,0]]`\n"
   ]
  },
  {
   "cell_type": "code",
   "execution_count": 1,
   "metadata": {
    "collapsed": true
   },
   "outputs": [],
   "source": [
    "def shortestDistance(self, grid):\n",
    "    if not grid or not grid[0]: \n",
    "        return -1\n",
    "    \n",
    "    rows, cols = len(grid), len(grid[0])\n",
    "    objectives = sum(val for line in grid for val in line if val == 1)\n",
    "    \n",
    "    hit = [[0] * cols for i in range(rows)]\n",
    "    distSum = [[0] * cols for i in range(rows)]\n",
    "\n",
    "    def BFS(start_x, start_y):\n",
    "        visited = [[False] * cols for k in range(rows)]\n",
    "        visited[start_x][start_y] = True\n",
    "        \n",
    "        count1 = 1\n",
    "        queue = collections.deque([(start_x, start_y, 0)])\n",
    "        \n",
    "        while queue:\n",
    "            x, y, dist = queue.popleft()\n",
    "            for i, j in ((x + 1, y), (x - 1, y), (x, y + 1), (x, y - 1)):\n",
    "                if 0 <= i < rows and 0 <= j < cols and not visited[i][j]:\n",
    "                    visited[i][j] = True\n",
    "                    if not grid[i][j]:\n",
    "                        queue.append((i, j, dist + 1))\n",
    "                        hit[i][j] += 1\n",
    "                        distSum[i][j] += dist + 1\n",
    "                    elif grid[i][j] == 1:\n",
    "                        count1 += 1\n",
    "        return count1 == objectives  \n",
    "\n",
    "    for x in range(rows):\n",
    "        for y in range(cols):\n",
    "            if grid[x][y] == 1:\n",
    "                if not BFS(x, y): return -1\n",
    "    \n",
    "    return min([distSum[i][j] for i in range(rows) for j in range(cols) if not grid[i][j] and hit[i][j] == objectives] or [-1])"
   ]
  },
  {
   "cell_type": "code",
   "execution_count": null,
   "metadata": {
    "collapsed": true
   },
   "outputs": [],
   "source": []
  }
 ],
 "metadata": {
  "kernelspec": {
   "display_name": "Python 2",
   "language": "python",
   "name": "python2"
  },
  "language_info": {
   "codemirror_mode": {
    "name": "ipython",
    "version": 2
   },
   "file_extension": ".py",
   "mimetype": "text/x-python",
   "name": "python",
   "nbconvert_exporter": "python",
   "pygments_lexer": "ipython2",
   "version": "2.7.10"
  }
 },
 "nbformat": 4,
 "nbformat_minor": 0
}
