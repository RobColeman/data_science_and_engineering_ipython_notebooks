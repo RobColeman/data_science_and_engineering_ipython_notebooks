{
 "cells": [
  {
   "cell_type": "markdown",
   "metadata": {},
   "source": [
    "# Recursion"
   ]
  },
  {
   "cell_type": "code",
   "execution_count": null,
   "metadata": {
    "collapsed": true
   },
   "outputs": [],
   "source": []
  },
  {
   "cell_type": "markdown",
   "metadata": {},
   "source": [
    "## Binary search"
   ]
  },
  {
   "cell_type": "code",
   "execution_count": 6,
   "metadata": {
    "collapsed": false
   },
   "outputs": [
    {
     "name": "stdout",
     "output_type": "stream",
     "text": [
      "True\n"
     ]
    }
   ],
   "source": [
    "def binary_search(item, A):\n",
    "    l = len(A)\n",
    "    if l < 1:\n",
    "        raise ValueError(\"A must be a non-empty array of numbers\")\n",
    "    \n",
    "    # closure\n",
    "    def search_rec(start = 0, stop = l-1):\n",
    "        sz = stop - start\n",
    "        if sz < 0:\n",
    "            return None\n",
    "        else:\n",
    "            m = (sz / 2) + start\n",
    "            if A[m] == item:\n",
    "                return m\n",
    "            elif A[m] > item:\n",
    "                return search_rec(start = start, stop = m) # search left\n",
    "            else:\n",
    "                return search_rec(start = m + 1, stop = stop) # search right\n",
    "    \n",
    "    A = sorted(A)\n",
    "    return search_rec(0, l-1)\n",
    "\n",
    "A = [-1,-2,1,9,2,8,3,0,5,6,7,4]\n",
    "answer = 2\n",
    "print binary_search(0,A) == 2"
   ]
  },
  {
   "cell_type": "markdown",
   "metadata": {},
   "source": [
    "## Exponentiation"
   ]
  },
  {
   "cell_type": "code",
   "execution_count": 5,
   "metadata": {
    "collapsed": false
   },
   "outputs": [
    {
     "name": "stdout",
     "output_type": "stream",
     "text": [
      "True\n",
      "True\n"
     ]
    }
   ],
   "source": [
    "def pow1(x,n):\n",
    "    if n == 0:\n",
    "        return 1\n",
    "    else:\n",
    "        return x * pow(x, n-1)\n",
    "\n",
    "    \n",
    "def pow2(x,n):\n",
    "    out = None\n",
    "    if n == 1:\n",
    "        out = 0\n",
    "    else:\n",
    "        out = (pow(x, n / 2) ** 2)\n",
    "        if n % 2 == 1:\n",
    "            out = out * x\n",
    "    return out\n",
    "\n",
    "print pow1(2,4) == pow2(2,4) == 2**4\n",
    "print pow1(3,3) == pow1(3,3) == 3**3"
   ]
  },
  {
   "cell_type": "markdown",
   "metadata": {},
   "source": [
    "## Reverse an array in-place"
   ]
  },
  {
   "cell_type": "code",
   "execution_count": 9,
   "metadata": {
    "collapsed": false
   },
   "outputs": [
    {
     "name": "stdout",
     "output_type": "stream",
     "text": [
      "True\n"
     ]
    }
   ],
   "source": [
    "def reverse_in_place(A):\n",
    "    \"\"\" swap left and right elements, recursing outward in\"\"\"\n",
    "    def reverse_rec(A, start, stop):\n",
    "        if start < stop - 1:\n",
    "            tmp = A[stop - 1]\n",
    "            A[stop - 1] = A[start]\n",
    "            A[start] = tmp\n",
    "            reverse_rec(A, start+1, stop-1)\n",
    "    reverse_rec(A, 0, len(A))\n",
    "    return A\n",
    "\n",
    "A = list(range(10))\n",
    "answer = [9, 8, 7, 6, 5, 4, 3, 2, 1, 0]\n",
    "print reverse_in_place(A) == answer"
   ]
  },
  {
   "cell_type": "markdown",
   "metadata": {},
   "source": [
    "# Tail Recursion"
   ]
  },
  {
   "cell_type": "code",
   "execution_count": 14,
   "metadata": {
    "collapsed": false
   },
   "outputs": [
    {
     "data": {
      "text/plain": [
       "True"
      ]
     },
     "execution_count": 14,
     "metadata": {},
     "output_type": "execute_result"
    }
   ],
   "source": [
    "def binary_search_iterative(data, target):\n",
    "    low = 0\n",
    "    high = len(data) - 1\n",
    "    while low <= high:\n",
    "        mid = (low + high) / 2\n",
    "        if target == data[mid]:\n",
    "            return True\n",
    "        elif target < data[mid]:\n",
    "            # search lower half\n",
    "            high = mid - 1\n",
    "        else:\n",
    "            # search upper half\n",
    "            low = mid + 1\n",
    "    return False\n",
    "\n",
    "A = list(range(20))\n",
    "binary_search_iterative(A, 15)"
   ]
  },
  {
   "cell_type": "code",
   "execution_count": 19,
   "metadata": {
    "collapsed": false
   },
   "outputs": [
    {
     "name": "stdout",
     "output_type": "stream",
     "text": [
      "True\n"
     ]
    }
   ],
   "source": [
    "def reverse_iterative(A):\n",
    "    start, stop = 0, len(A)\n",
    "    while start < stop - 1:\n",
    "        tmp = A[start]\n",
    "        A[start] = A[stop - 1]\n",
    "        A[stop - 1] = tmp\n",
    "        start += 1\n",
    "        stop -= 1\n",
    "\n",
    "A = list(range(10))\n",
    "answer = [9, 8, 7, 6, 5, 4, 3, 2, 1, 0]\n",
    "reverse_iterative(A) # in place, using pointer\n",
    "print A == answer"
   ]
  },
  {
   "cell_type": "code",
   "execution_count": null,
   "metadata": {
    "collapsed": true
   },
   "outputs": [],
   "source": []
  }
 ],
 "metadata": {
  "kernelspec": {
   "display_name": "Python 2",
   "language": "python",
   "name": "python2"
  },
  "language_info": {
   "codemirror_mode": {
    "name": "ipython",
    "version": 2
   },
   "file_extension": ".py",
   "mimetype": "text/x-python",
   "name": "python",
   "nbconvert_exporter": "python",
   "pygments_lexer": "ipython2",
   "version": "2.7.10"
  }
 },
 "nbformat": 4,
 "nbformat_minor": 0
}
