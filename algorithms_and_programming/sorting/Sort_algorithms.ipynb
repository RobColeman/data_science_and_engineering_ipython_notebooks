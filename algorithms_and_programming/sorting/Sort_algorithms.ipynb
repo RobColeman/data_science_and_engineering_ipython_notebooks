{
 "cells": [
  {
   "cell_type": "markdown",
   "metadata": {},
   "source": [
    "# Sort Algorithms"
   ]
  },
  {
   "cell_type": "markdown",
   "metadata": {},
   "source": [
    "## Merge sort"
   ]
  },
  {
   "cell_type": "code",
   "execution_count": 1,
   "metadata": {
    "collapsed": true
   },
   "outputs": [],
   "source": [
    "def merge(S1,S2,S):\n",
    "    \"\"\"\n",
    "    S1: left\n",
    "    S2: right\n",
    "    S: merged\n",
    "    \"\"\"\n",
    "    i = j = 0\n",
    "    while i + j < len(S):\n",
    "        if j == len(S) or (i < len(S1) and S1[i] < S2[i]):\n",
    "            S[i+j] = S1[i]\n",
    "            i += 1\n",
    "        else:\n",
    "            S[i+j] = S2[j]\n",
    "            j += 1\n",
    "    # no-return, we are relaying on side-effects of the external array\n",
    "\n",
    "            \n",
    "def merge_sort(S):\n",
    "    n = len(S)\n",
    "    if n < 2:\n",
    "        return\n",
    "    mid = n / 2\n",
    "    S1 = S[0:mid]\n",
    "    S2 = S[mid:]\n",
    "    merge_sort(S1)\n",
    "    merge_sort(S2)\n",
    "    merge(S1,S2,S)\n",
    "    \n",
    "        "
   ]
  },
  {
   "cell_type": "code",
   "execution_count": null,
   "metadata": {
    "collapsed": true
   },
   "outputs": [],
   "source": []
  },
  {
   "cell_type": "code",
   "execution_count": null,
   "metadata": {
    "collapsed": true
   },
   "outputs": [],
   "source": []
  }
 ],
 "metadata": {
  "kernelspec": {
   "display_name": "Python 2",
   "language": "python",
   "name": "python2"
  },
  "language_info": {
   "codemirror_mode": {
    "name": "ipython",
    "version": 2
   },
   "file_extension": ".py",
   "mimetype": "text/x-python",
   "name": "python",
   "nbconvert_exporter": "python",
   "pygments_lexer": "ipython2",
   "version": "2.7.10"
  }
 },
 "nbformat": 4,
 "nbformat_minor": 0
}
