{
 "cells": [
  {
   "cell_type": "code",
   "execution_count": 3,
   "metadata": {
    "collapsed": true
   },
   "outputs": [],
   "source": [
    "import numpy as np\n",
    "from copy import deepcopy"
   ]
  },
  {
   "cell_type": "markdown",
   "metadata": {},
   "source": [
    "# Find maximum sum of sub-arrays\n",
    "\n",
    "Given an array, of alln(n+1)/2 sub-arrays, find the max_i(sum(sub_array_i))"
   ]
  },
  {
   "cell_type": "code",
   "execution_count": 2,
   "metadata": {
    "collapsed": false
   },
   "outputs": [
    {
     "name": "stdout",
     "output_type": "stream",
     "text": [
      "True\n",
      "[3, 10, -4, 7, 2]\n"
     ]
    }
   ],
   "source": [
    "def find_max_sub_array_sum_only(a):\n",
    "    if a == None: \n",
    "        return None\n",
    "    l = len(a)\n",
    "    if l < 2: \n",
    "        return sum(l)\n",
    "    cur_sum = 0\n",
    "    max_sum = 0\n",
    "    for idx,val in enumerate(a):\n",
    "        if cur_sum <= 0:\n",
    "            cur_sum = val\n",
    "        else:\n",
    "            cur_sum += val\n",
    "        \n",
    "        if cur_sum > max_sum:\n",
    "            max_sum = cur_sum\n",
    "        \n",
    "    return max_sum\n",
    "\n",
    "def find_max_sub_array(a):\n",
    "    if a == None: \n",
    "        return None\n",
    "    l = len(a)\n",
    "    if l < 2: \n",
    "        return sum(l)\n",
    "    cur_sum, max_sum = (0, 0)\n",
    "    cur_array, max_array = ([], [])\n",
    "    for idx,val in enumerate(a):\n",
    "        if cur_sum <= 0:\n",
    "            cur_sum = val\n",
    "            cur_array = [idx]\n",
    "        else:\n",
    "            cur_sum += val\n",
    "            cur_array.append(idx)\n",
    "        \n",
    "        if cur_sum > max_sum:\n",
    "            max_sum = deepcopy(cur_sum)\n",
    "            max_array = deepcopy(cur_array)\n",
    "    \n",
    "    return [a[i] for i in max_array]\n",
    "\n",
    "\n",
    "a = [1, -2, 3, 10, -4, 7, 2, -5]\n",
    "max_sub_array = [3, 10, -4, 7, 2]\n",
    "\n",
    "print find_max_sub_array(a) == max_sub_array\n",
    "print find_max_sub_array(a)"
   ]
  },
  {
   "cell_type": "markdown",
   "metadata": {},
   "source": [
    "# Count the Number of Paths  <=  a max-cost\n",
    "\n",
    "Given a matrix, with a cost placed in each cell, count the number of paths from the \n",
    "top-left to the bottom-right without the sum of the path exceeding some max-cost (k)"
   ]
  },
  {
   "cell_type": "code",
   "execution_count": 36,
   "metadata": {
    "collapsed": false
   },
   "outputs": [
    {
     "name": "stdout",
     "output_type": "stream",
     "text": [
      "True\n"
     ]
    }
   ],
   "source": [
    "# run\n",
    "\n",
    "\n",
    "def count_path_rec(mat, m, n, k):\n",
    "    # base case\n",
    "    if (m < 0) or (n < 0):\n",
    "        return 0\n",
    "    elif (m==n==0) and (k >= mat[m][n]): \n",
    "        return 1\n",
    "    else:\n",
    "        return count_path_rec(mat, m-1, n, k - mat[m][n]) + count_path_rec(mat, m, n-1, k - mat[m][n])\n",
    "\n",
    "def path_count(mat, k):\n",
    "    m = len(mat) - 1\n",
    "    n = len(mat[0]) - 1\n",
    "    if m == n == 0:\n",
    "        return 1 if mat[0][0] == k else 0\n",
    "\n",
    "    return count_path_rec(mat, m, n, k)\n",
    "\n",
    "mat = [[1, 2, 3],\n",
    "       [4, 6, 5],\n",
    "       [3, 2, 1]]\n",
    "\n",
    "tests = [\n",
    "    path_count(mat,10) == 0,\n",
    "    path_count(mat,11) == 1,\n",
    "    path_count(mat,12) == 3,\n",
    "    path_count(mat,13) == 3,\n",
    "    path_count(mat,14) == 4,\n",
    "    path_count(mat,15) == 5,\n",
    "    path_count(mat,16) == 5,\n",
    "    path_count(mat,17) == 6 ]\n",
    "\n",
    "print all(tests)\n",
    "\n"
   ]
  },
  {
   "cell_type": "markdown",
   "metadata": {},
   "source": [
    "# Find largest sub-matrix\n",
    "\n",
    "In a binary matrix, find the largest sub-matrix of all 1's"
   ]
  },
  {
   "cell_type": "code",
   "execution_count": 40,
   "metadata": {
    "collapsed": false
   },
   "outputs": [
    {
     "name": "stdout",
     "output_type": "stream",
     "text": [
      "[[0 1 1 0 1]\n",
      " [1 1 0 1 0]\n",
      " [0 1 1 1 0]\n",
      " [1 1 2 2 0]\n",
      " [1 2 2 3 1]\n",
      " [0 0 0 0 0]]\n",
      "3\n",
      "(4, 3)\n"
     ]
    }
   ],
   "source": [
    "def find_max_pos_sub_mat(M):\n",
    "    R = len(mat)\n",
    "    C = len(mat[0])\n",
    "    S = deepcopy(mat)\n",
    "    \n",
    "    maximum = 0\n",
    "    for r in range(1,R):\n",
    "        for c in range(1,C):\n",
    "            # increase the counter if current is one, \n",
    "            # left, above, and left_above coutners are all non-zero\n",
    "            if M[r][c]:\n",
    "                S[r][c] = min(S[r][c-1], S[r-1][c], S[r-1][c-1]) + 1\n",
    "            else:\n",
    "                S[r][c] = 0\n",
    "            \n",
    "            if maximum < S[r][c]:\n",
    "                maximum = S[r][c]\n",
    "                max_pos = (r,c)\n",
    "\n",
    "    top_left = 9\n",
    "    return (S, maximum, max_pos)\n",
    "\n",
    "\n",
    "mat =  [[0,1,1,0,1],\n",
    "        [1,1,0,1,0],\n",
    "        [0,1,1,1,0],\n",
    "        [1,1,1,1,0],\n",
    "        [1,1,1,1,1],\n",
    "        [0,0,0,0,0]]\n",
    "\n",
    "# solution: (2,1) to (4,3)\n",
    "S, maximum, max_pos = find_max_pos_sub_mat(mat)   \n",
    "print np.array(S)\n",
    "print maximum\n",
    "print max_pos"
   ]
  },
  {
   "cell_type": "markdown",
   "metadata": {},
   "source": [
    "## Build the power set"
   ]
  },
  {
   "cell_type": "code",
   "execution_count": 9,
   "metadata": {
    "collapsed": false
   },
   "outputs": [
    {
     "name": "stdout",
     "output_type": "stream",
     "text": [
      "True\n"
     ]
    }
   ],
   "source": [
    "\n",
    "def build_power_set(in_set):\n",
    "    out = [[]] # start with empty set\n",
    "    for i in in_set:\n",
    "        new_sets = []\n",
    "        for previous_set in out:\n",
    "            new_sets.append(deepcopy(previous_set) + [i])\n",
    "        out.extend(new_sets)\n",
    "    return out\n",
    "\n",
    "s = list(range(3))\n",
    "ps = build_power_set(s)\n",
    "answer = [[], [0], [1], [0, 1], [2], [0, 2], [1, 2], [0, 1, 2]]\n",
    "print ps == answer"
   ]
  },
  {
   "cell_type": "code",
   "execution_count": null,
   "metadata": {
    "collapsed": true
   },
   "outputs": [],
   "source": []
  }
 ],
 "metadata": {
  "kernelspec": {
   "display_name": "Python 2",
   "language": "python",
   "name": "python2"
  },
  "language_info": {
   "codemirror_mode": {
    "name": "ipython",
    "version": 2
   },
   "file_extension": ".py",
   "mimetype": "text/x-python",
   "name": "python",
   "nbconvert_exporter": "python",
   "pygments_lexer": "ipython2",
   "version": "2.7.10"
  }
 },
 "nbformat": 4,
 "nbformat_minor": 0
}
