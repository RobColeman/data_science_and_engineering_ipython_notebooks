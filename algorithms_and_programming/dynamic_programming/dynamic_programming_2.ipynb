{
 "cells": [
  {
   "cell_type": "markdown",
   "metadata": {},
   "source": [
    "# Sub matrix sum\n",
    "\n",
    "Given a 2D array (matrix), define a method that efficiently computes the sum of the sub-matrix indexed by x_1, y_1 in the upper left, and x_2, y_2 in the lower right"
   ]
  },
  {
   "cell_type": "code",
   "execution_count": 9,
   "metadata": {
    "collapsed": false
   },
   "outputs": [],
   "source": [
    "# This is solved most efficiently at query time by doing some pre-processing.  \n",
    "# When the method is configured, we compute a Summed-Area-Table.\n",
    "\n",
    "def getSafeMatValue(m, x, y):\n",
    "    r = len(m)\n",
    "    c = len(m[0])\n",
    "    if y >= 0 and y < r and x >=0 and x < c:\n",
    "        return m[y][x]\n",
    "    else:\n",
    "        return 0\n",
    "        \n",
    "def buildSAT(m):\n",
    "    r = len(m)\n",
    "    c = len(m[0])\n",
    "    SAT = [[0 for x in range(c)] for y in range(r)]\n",
    "    for x in range(c):\n",
    "        for y in range(r):\n",
    "            SAT[y][x] = getSafeMatValue(m, x, y)\n",
    "            + getSafeMatValue(SAT,x-1,y) \n",
    "            + getSafeMatValue(SAT,x,y-1) \n",
    "            - getSafeMatValue(SAT,x-1,y-1)\n",
    "    return SAT\n",
    "\n",
    "def config_sum_matrix_sum(m):\n",
    "    SAT = buildSAT(m)\n",
    "    def sumMatrixSum(x1, y1, x2, y2):\n",
    "        s = getSafeMatValue(SAT, x2, y2)\n",
    "        + getSafeMatValue(SAT, x1, y1)\n",
    "        - getSafeMatValue(SAT,y1-1,x2) \n",
    "        - getSafeMatValue(SAT,y2,x1-1)\n",
    "        return s\n",
    "    return sumMatrixSum\n",
    "\n",
    "\n",
    "\n"
   ]
  },
  {
   "cell_type": "code",
   "execution_count": null,
   "metadata": {
    "collapsed": true
   },
   "outputs": [],
   "source": []
  }
 ],
 "metadata": {
  "kernelspec": {
   "display_name": "Python 3",
   "language": "python",
   "name": "python3"
  },
  "language_info": {
   "codemirror_mode": {
    "name": "ipython",
    "version": 3
   },
   "file_extension": ".py",
   "mimetype": "text/x-python",
   "name": "python",
   "nbconvert_exporter": "python",
   "pygments_lexer": "ipython3",
   "version": "3.5.1"
  }
 },
 "nbformat": 4,
 "nbformat_minor": 0
}
