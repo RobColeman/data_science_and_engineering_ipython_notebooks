{
 "cells": [
  {
   "cell_type": "markdown",
   "metadata": {},
   "source": [
    "# Search Algorithms"
   ]
  },
  {
   "cell_type": "markdown",
   "metadata": {},
   "source": [
    "## Binary search"
   ]
  },
  {
   "cell_type": "code",
   "execution_count": 8,
   "metadata": {
    "collapsed": false
   },
   "outputs": [
    {
     "name": "stdout",
     "output_type": "stream",
     "text": [
      "True\n"
     ]
    }
   ],
   "source": [
    "def binary_search(item, A):\n",
    "    l = len(A)\n",
    "    if l < 1:\n",
    "        raise ValueError(\"A must be a non-empty array of numbers\")\n",
    "    \n",
    "    # closure\n",
    "    def search_rec(start = 0, stop = l-1):\n",
    "        sz = stop - start\n",
    "        if sz < 0:\n",
    "            return None\n",
    "        else:\n",
    "            m = (sz / 2) + start\n",
    "            if A[m] == item:\n",
    "                return m\n",
    "            elif A[m] > item:\n",
    "                return search_rec(start = start, stop = m) # search left\n",
    "            else:\n",
    "                return search_rec(start = m + 1, stop = stop) # search right\n",
    "    \n",
    "    A = sorted(A)\n",
    "    return search_rec(0, l-1)\n",
    "\n",
    "A = [-1,-2,1,9,2,8,3,0,5,6,7,4]\n",
    "answer = 2\n",
    "print binary_search(0,A) == 2"
   ]
  },
  {
   "cell_type": "code",
   "execution_count": null,
   "metadata": {
    "collapsed": false
   },
   "outputs": [],
   "source": []
  },
  {
   "cell_type": "code",
   "execution_count": null,
   "metadata": {
    "collapsed": true
   },
   "outputs": [],
   "source": []
  },
  {
   "cell_type": "code",
   "execution_count": null,
   "metadata": {
    "collapsed": true
   },
   "outputs": [],
   "source": []
  },
  {
   "cell_type": "code",
   "execution_count": null,
   "metadata": {
    "collapsed": true
   },
   "outputs": [],
   "source": []
  }
 ],
 "metadata": {
  "kernelspec": {
   "display_name": "Python 2",
   "language": "python",
   "name": "python2"
  },
  "language_info": {
   "codemirror_mode": {
    "name": "ipython",
    "version": 2
   },
   "file_extension": ".py",
   "mimetype": "text/x-python",
   "name": "python",
   "nbconvert_exporter": "python",
   "pygments_lexer": "ipython2",
   "version": "2.7.10"
  }
 },
 "nbformat": 4,
 "nbformat_minor": 0
}
