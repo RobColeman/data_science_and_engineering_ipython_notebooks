{
 "cells": [
  {
   "cell_type": "markdown",
   "metadata": {},
   "source": [
    "# Remove numbers in an array\n",
    "\n",
    "Given an array, and a number, remove all instances of that number from the array, and return the edited array and it's new length.\n",
    "\n",
    "Solution:\n",
    "For a mutable array, we can perform this operation in O(n), with one pass, with O(1) extra memory usage.\n",
    "We can also do this while maintaining the original order of the items.\n",
    "\n",
    "\n",
    "The process involves removing and re-inserting every item as we walk the array of length (l).  While doing so, we keep a counter of the number of times we've seen the item to delete (k).  At every index (i), we check the item at that index is the item to delete.  If it is, we incriment our counter, and move on.  If not, we copy that item to index (i-k).  At the end, we drop the last K items by return the portion of the array from 0 until l - k.\n"
   ]
  },
  {
   "cell_type": "code",
   "execution_count": 9,
   "metadata": {
    "collapsed": false
   },
   "outputs": [
    {
     "name": "stdout",
     "output_type": "stream",
     "text": [
      "[1, 2, 3, 4, 5, 6, 7, 8, 9]\n",
      "[9, 2, 3, 4, 1, 5, 5, 6, 3]\n",
      "[1]\n",
      "[0, 0, 0, 0, 0, 0, 0]\n"
     ]
    }
   ],
   "source": [
    "def remove_item_from_array(arr, item):\n",
    "    k = 0\n",
    "    l = len(arr)\n",
    "    for idx, j in enumerate(arr):\n",
    "        if j == item:\n",
    "            k += 1\n",
    "        else:\n",
    "            arr[idx - k] = j\n",
    "    \n",
    "    return arr[0:(l-k)]\n",
    "\n",
    "\n",
    "arr1 = [0,1,2,3,0,4,5,6,7,0,8,0,9]\n",
    "arr2 = [9,2,3,4,1,5,5,6,0,0,0,3,0]\n",
    "arr3 = [0,0,0,0,0,0,0,1,0]\n",
    "\n",
    "print(remove_item_from_array(arr1,0))\n",
    "print(remove_item_from_array(arr2,0))\n",
    "print(remove_item_from_array(arr3,0))\n",
    "print(remove_item_from_array(arr3,1))"
   ]
  },
  {
   "cell_type": "markdown",
   "metadata": {},
   "source": [
    "# String path in a matrix of chars\n",
    "\n",
    "Given a matrix of Chars, and a desired string, find if the string is in the matrix; the chars must be continuously connected but can go in any direction (up, down, left or right) and can change direction mid-string.\n",
    "\n",
    "\n",
    "Solution:\n",
    "\n",
    "Walk the matrix, in any order, but whenever we get the the first char of the string, begin a DFS in the four directions."
   ]
  },
  {
   "cell_type": "code",
   "execution_count": 18,
   "metadata": {
    "collapsed": false
   },
   "outputs": [
    {
     "ename": "IndentationError",
     "evalue": "expected an indented block (<ipython-input-18-7501e0c3eb09>, line 26)",
     "output_type": "error",
     "traceback": [
      "\u001b[0;36m  File \u001b[0;32m\"<ipython-input-18-7501e0c3eb09>\"\u001b[0;36m, line \u001b[0;32m26\u001b[0m\n\u001b[0;31m    else:\u001b[0m\n\u001b[0m       ^\u001b[0m\n\u001b[0;31mIndentationError\u001b[0m\u001b[0;31m:\u001b[0m expected an indented block\n"
     ]
    }
   ],
   "source": [
    "def test_cell(y_i, x_i, s, mat):\n",
    "    return (y_i > 0) and (x_i > 0) and (y_i < len(max)) and (x_i < len(mat[0])) and (s[0] == mat[y_i][x_i])\n",
    "\n",
    "def strDFS(y, x, s, mat):\n",
    "    if len(s) == 0:\n",
    "        return True\n",
    "    # up\n",
    "    elif test_cell(y-1, x, s, mat):\n",
    "        strDFS(y-1, x, s[1:], mat)\n",
    "    # down\n",
    "    elif test_cell(y+1, x, s, mat):\n",
    "        strDFS(y+1, x, s[1:], mat)\n",
    "    # left\n",
    "    elif test_cell(y, x-1, s, mat):\n",
    "        strDFS(y, x-1, s[1:], mat)\n",
    "    # right\n",
    "    elif test_cell(y, x+1, s, mat):\n",
    "        strDFS(y, x+1, s[1:], mat)\n",
    "    else:\n",
    "        return False\n",
    "\n",
    "def find_string_in_char_matrix(mat, s):\n",
    "    found = []\n",
    "    if (len(s) == 0) or (len(mat) == 0):\n",
    "        # skip\n",
    "    else:\n",
    "        for i in range(len(mat[0])):\n",
    "            for j in range(len(mat)):\n",
    "                if (mat[j][i] == s[0]) and strDFS(j, i, s[1:], mat):\n",
    "                    found.append((j,i))\n",
    "    return found"
   ]
  },
  {
   "cell_type": "code",
   "execution_count": null,
   "metadata": {
    "collapsed": true
   },
   "outputs": [],
   "source": []
  }
 ],
 "metadata": {
  "kernelspec": {
   "display_name": "Python 3",
   "language": "python",
   "name": "python3"
  },
  "language_info": {
   "codemirror_mode": {
    "name": "ipython",
    "version": 3
   },
   "file_extension": ".py",
   "mimetype": "text/x-python",
   "name": "python",
   "nbconvert_exporter": "python",
   "pygments_lexer": "ipython3",
   "version": "3.5.1"
  }
 },
 "nbformat": 4,
 "nbformat_minor": 0
}
