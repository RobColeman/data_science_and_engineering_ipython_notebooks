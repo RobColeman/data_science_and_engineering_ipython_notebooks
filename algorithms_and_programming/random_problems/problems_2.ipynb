{
 "cells": [
  {
   "cell_type": "markdown",
   "metadata": {},
   "source": [
    "# Sparse Matrix\n",
    "\n",
    "Create a sparse matrix class, impliment the following methods: \n",
    "- set(col, row, val) # (int, int, float/double)\n",
    "- sum(col, row) # sum the sub-matrix from (0,0) to (col, row)"
   ]
  },
  {
   "cell_type": "code",
   "execution_count": 3,
   "metadata": {
    "collapsed": false
   },
   "outputs": [],
   "source": [
    "class SparseMatrix:\n",
    "    \n",
    "    def __init__(self, nCols, nRows, elements):\n",
    "        \"\"\" Initialize with a size, and some elements. \"\"\"\n",
    "        self.num_cols = num_cols\n",
    "        self.num_cows = num_rows\n",
    "        self.rows = {}\n",
    "        for e in elements:\n",
    "            self.set(e.col, e.row, e.val)\n",
    "        \n",
    "    \n",
    "    def set(self, col, row, val):\n",
    "        \"\"\" update a value inplace, indexes start at zero \"\"\"\n",
    "        if col < 0 or col > (self.num_cols - 1):\n",
    "            raise Exception('col out of bounds')\n",
    "        elif row < 0 or row > (self.num_rows - 1):\n",
    "            raise Exception('row out of bounds')\n",
    "        elif row in self.rows:\n",
    "            self.rows[row][col] = val\n",
    "        else:\n",
    "            self.rows[row] = {col: val}\n",
    "    \n",
    "    def sum(self, col, row):\n",
    "        \"\"\" Sum the sub-matrix from (0,0) to (row, col)\"\"\"\n",
    "        \"\"\" this can be faster with better data-structures \"\"\"\n",
    "        \n",
    "        for r, cols in self.rows.items():\n",
    "            s = 0\n",
    "            if r <= row:\n",
    "                for c, v in cols.items():\n",
    "                    if c <= col:\n",
    "                        s += v\n",
    "        return s"
   ]
  },
  {
   "cell_type": "markdown",
   "metadata": {},
   "source": [
    "# Convert a number to english\n",
    "\n",
    "def convert(100) => \"One Hundred\"\n"
   ]
  },
  {
   "cell_type": "code",
   "execution_count": 11,
   "metadata": {
    "collapsed": false
   },
   "outputs": [],
   "source": [
    "def convert(number):\n",
    "    \n",
    "    firstTwenty = [\"zero\", \"one\", \"two\", \"three\", \"four\", \"five\", \"six\", \"seven\", \"eight\", \"nine\",\"ten\", \"eleven\", \"twelve\", \"thirteen\", \"fourteen\", \"fifteen\", \"sixteen\", \"seventeen\", \"eighteen\", \"nineteen\"]\n",
    "    tens = [\"\", \"twenty\", \"thirty\", \"fourty\", \"fifty\", \"sixty\", \"seventy\", \"eighty\", \"ninty\"]\n",
    "    thousands = [\"\", \"thousand\", \"million\", \"billion\", \"trillion\"]\n",
    "    \n",
    "    def teen_string(num):\n",
    "        if num < 20:\n",
    "            return firstTwenty[num]\n",
    "        else:\n",
    "            return tens[num/20] + \" \" + firstTwenty[num%20]\n",
    "    \n",
    "    def hundreds_string(num):\n",
    "        output = \"\"\n",
    "        if (num / 100) > 0:\n",
    "            output += firstTwenty[num / 100] + \" and \"\n",
    "        output += teen_string(num % 100)\n",
    "        return output\n",
    "    \n",
    "    if number < 1000:\n",
    "        return hundreds_string(number)\n",
    "    else:\n",
    "        power = 1\n",
    "        output = hundreds_string(number)\n",
    "        while number > 0:\n",
    "            pNum = number % 1000\n",
    "            output = hundreds_string(pNum) + \" \" + thousands[power]  + \", \" + output\n",
    "            power += 1\n",
    "            number = number / 1000\n",
    "    \n",
    "    return output"
   ]
  },
  {
   "cell_type": "markdown",
   "metadata": {},
   "source": [
    "# Flatten\n",
    "\n",
    "Given a graph of nodes, where the node type is like so, Node(val, down, right), return a flattened linked list, where we traverse down before right. \n",
    "\n",
    "Nodes pointed to with a down pointer do not have right pointers."
   ]
  },
  {
   "cell_type": "code",
   "execution_count": 10,
   "metadata": {
    "collapsed": false
   },
   "outputs": [],
   "source": [
    "import collections\n",
    "\n",
    "Node = collections.namedtuple('Node', ['val', 'down', 'right'])\n",
    "\n",
    "def flatten(head):\n",
    "    tail = head\n",
    "    \n",
    "    def flattenRec(root, output = None):\n",
    "        tail.right = root\n",
    "        tail = root\n",
    "        while tail.down:\n",
    "            tail.right = tail.down\n",
    "            tail = tail.down\n",
    "        if root.right:\n",
    "            return flattenRec(root.right)\n",
    "        else:\n",
    "            return head\n",
    "        \n",
    "    return flattenRec(head)"
   ]
  },
  {
   "cell_type": "markdown",
   "metadata": {},
   "source": [
    "# Print Tree columns\n",
    "\n",
    "Given a binary tree, print the nodes in order of the column they are in, from left to right.  Within the column, print from top to bottom.\n",
    "\n",
    "<img src=\"print_tree_columns.png\">\n",
    "\n"
   ]
  },
  {
   "cell_type": "code",
   "execution_count": 13,
   "metadata": {
    "collapsed": true
   },
   "outputs": [],
   "source": [
    "import collections\n",
    "\n",
    "TreeNode = collections.namedtuple('TreeNode', ['val', 'left', 'right'])\n",
    "\n",
    "tree_root = TreeNode(6, \n",
    "            TreeNode(3,\n",
    "                 TreeNode(5,\n",
    "                      TreeNode(9, None, None),\n",
    "                      TreeNode(2, \n",
    "                           None, \n",
    "                           TreeNode(7, None, None)\n",
    "                          )\n",
    "                     ),\n",
    "                 TreeNode(1,None,None)\n",
    "                ),\n",
    "            TreeNode(4,\n",
    "                 None,\n",
    "                 TreeNode(0,\n",
    "                     TreeNode(8, None, None), \n",
    "                     None\n",
    "                     )\n",
    "                )\n",
    "           )"
   ]
  },
  {
   "cell_type": "code",
   "execution_count": 2,
   "metadata": {
    "collapsed": true
   },
   "outputs": [],
   "source": [
    "\"\"\"\n",
    "Solution:\n",
    "\n",
    "\n",
    "Also create an auxilary hashmap of column_number -> array[int], \n",
    "    where the ints will be the TreeNode values, in order from top to bottom.\n",
    "    \n",
    "We then do a pre-order, depth first traversal, where we keep track of the column number by starting at 0 at the root, \n",
    "    then modifying the column number -= 1 when we go left, and += 1 when we go right.\n",
    "    For each node, we check if the column number is in the map, if it is, \n",
    "        we append the current nodes value to the list at that column number, if it is not, \n",
    "        we add a new column number key, and a new list with that new node value\n",
    "\n",
    "After the traversal, we get the keys from the map, and sort them in ascending order.  \n",
    "    We walk the ordered keys and print the node values at that key, in the order they were inserted.\n",
    "\n",
    "run time will be O(n) most of the time, unless the tree is degenerate and has a lot of columns.\n",
    "    In which case, the run-time could be as bad as O(nlogn) because of the sorting of the column numbers\n",
    "\"\"\"\n",
    "        \n",
    "        \n",
    "def print_tree_columns(root):\n",
    "    columns = {}\n",
    "    def preorder_dfs_traversal(node, col_num):\n",
    "        if node is not None:\n",
    "            if col_num in columns:\n",
    "                columns[col_num].append(node.val)\n",
    "            else:\n",
    "                columns[col_num] = [node.val]\n",
    "            preorder_dfs_traversal(node.left, col_num - 1)\n",
    "            preorder_dfs_traversal(node.right, col_num + 1)\n",
    "    preorder_dfs_traversal(root, 0)\n",
    "    \n",
    "    output = \"\"\n",
    "    for col_num in sorted(columns.keys()):\n",
    "        for val in columns[col_num]:\n",
    "            output += str(val) + \" \"\n",
    "    print(output)\n"
   ]
  },
  {
   "cell_type": "code",
   "execution_count": null,
   "metadata": {
    "collapsed": true
   },
   "outputs": [],
   "source": []
  }
 ],
 "metadata": {
  "kernelspec": {
   "display_name": "Python 3",
   "language": "python",
   "name": "python3"
  },
  "language_info": {
   "codemirror_mode": {
    "name": "ipython",
    "version": 3
   },
   "file_extension": ".py",
   "mimetype": "text/x-python",
   "name": "python",
   "nbconvert_exporter": "python",
   "pygments_lexer": "ipython3",
   "version": "3.5.1"
  }
 },
 "nbformat": 4,
 "nbformat_minor": 0
}
