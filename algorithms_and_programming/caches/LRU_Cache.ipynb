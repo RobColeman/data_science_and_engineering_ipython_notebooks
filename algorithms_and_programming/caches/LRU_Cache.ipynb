{
 "cells": [
  {
   "cell_type": "markdown",
   "metadata": {},
   "source": [
    "# A naive implimentation of a Least Recently Used Cache"
   ]
  },
  {
   "cell_type": "code",
   "execution_count": 1,
   "metadata": {
    "collapsed": true
   },
   "outputs": [],
   "source": [
    "class LRUCacheNaive:\n",
    "    def __init__(self, capacity):\n",
    "        self.capacity = capacity\n",
    "        self.tm = 0\n",
    "        self.cache = {}\n",
    "        self.lru = {}\n",
    "\n",
    "    def get(self, key):\n",
    "        if key in self.cache:\n",
    "            self.lru[key] = self.tm\n",
    "            self.tm += 1\n",
    "            return self.cache[key]\n",
    "        return -1\n",
    "\n",
    "    def set(self, key, value):\n",
    "        if len(self.cache) >= self.capacity:\n",
    "            # find the LRU entry\n",
    "            # this is an O(n) search for the minimum lookup value\n",
    "            old_key = min(self.lru.keys(), key=lambda k:self.lru[k])\n",
    "            self.cache.pop(old_key)\n",
    "            self.lru.pop(old_key)\n",
    "        self.cache[key] = value\n",
    "        self.lru[key] = self.tm\n",
    "        self.tm += 1"
   ]
  },
  {
   "cell_type": "markdown",
   "metadata": {},
   "source": [
    "# A constant time implimentation using python's OrderedDict"
   ]
  },
  {
   "cell_type": "code",
   "execution_count": 2,
   "metadata": {
    "collapsed": true
   },
   "outputs": [],
   "source": [
    "import collections\n",
    "\n",
    "class LRUCache:\n",
    "    def __init__(self, capacity):\n",
    "        self.capacity = capacity\n",
    "        # ordered dict\n",
    "        self.cache = collections.OrderedDict()\n",
    "\n",
    "    def get(self, key):\n",
    "        # we re-insert the item after each lookup, thus the ordered dict is ordering items by their last access\n",
    "        try:\n",
    "            value = self.cache.pop(key)\n",
    "            self.cache[key] = value\n",
    "            return value\n",
    "        except KeyError:\n",
    "            return -1\n",
    "\n",
    "    def set(self, key, value):\n",
    "        try:\n",
    "            # if in the cache, remove it\n",
    "            self.cache.pop(key)\n",
    "        except KeyError:\n",
    "            # if we're over capacity, remove the oldest item\n",
    "            if len(self.cache) >= self.capacity:\n",
    "                self.cache.popitem(last=False)\n",
    "        # re-insert it\n",
    "        self.cache[key] = value"
   ]
  },
  {
   "cell_type": "markdown",
   "metadata": {},
   "source": [
    "# Using python base types"
   ]
  },
  {
   "cell_type": "code",
   "execution_count": 5,
   "metadata": {
    "collapsed": false
   },
   "outputs": [],
   "source": [
    "class KeyNode:\n",
    "    # doubly linked list\n",
    "    def __init__(self, key, value, prev = None, next = None):\n",
    "        self.key = key\n",
    "        self.value = value\n",
    "        self.next = next\n",
    "        self.prev = prev\n",
    "\n",
    "    def pop_self(self):\n",
    "        self.prev.next = self.next\n",
    "        self.next.prev = self.prev\n",
    "        return self.key\n",
    "\n",
    "\n",
    "class DoubleLinkedList:\n",
    "\n",
    "    def __init__(self):\n",
    "        # explicit head and tail nodes\n",
    "        self.tail = KeyNode(\"tail\", None, None, None)\n",
    "        self.head.next = KeyNode(\"head\", None, prev = None, next = self.tail)\n",
    "        self.tail.prev = self.head\n",
    "    \n",
    "    def insert(self, new_node):\n",
    "        new_node.prev = self.tail.prev\n",
    "        new_node.next = self.tail\n",
    "        self.tail.prev.next = new_node # old last node points to new\n",
    "        self.tail.prev = new_node # old tail points to newest node\n",
    "    \n",
    "    def pop_oldest(self):\n",
    "        return self.head.next.pop_self()\n",
    "            \n",
    "\n",
    "class LRUCache:\n",
    "    def __init__(self, capacity = 10):\n",
    "        self.capacity = capacity\n",
    "        self.size = 0\n",
    "        self.cache = {}\n",
    "        self.order = DoubleLinkedList()\n",
    "\n",
    "    \n",
    "    def get(self, key):\n",
    "        if key in self.cache():\n",
    "            node = self.cache[key]\n",
    "            node.pop_self()\n",
    "            self.order.insert(node)\n",
    "            return node.value\n",
    "        else:\n",
    "            return None\n",
    "    \n",
    "    \n",
    "    def set(self, key, value):\n",
    "        if (self.size + 1) > self.capacity:\n",
    "            oldest_key = self.order.pop_oldest() # remove oldest form order\n",
    "            self.cache.pop(oldest_key) # remove oldest from dict\n",
    "        else:\n",
    "            self.size += 1\n",
    "        new_node = KeyNode(key, value, None, None)\n",
    "        self.cache[key] = new_node # insert new into dict\n",
    "        self.order.insert(new_node) # insert new into end of ordering\n",
    "    \n",
    "    \n",
    "    def remove(self, key):\n",
    "        if key in self.cache:\n",
    "            node = self.cache.pop(key)\n",
    "            node.pop_self()\n",
    "            self.size -= 1\n",
    "            return node.value\n",
    "        else:\n",
    "            return None"
   ]
  },
  {
   "cell_type": "code",
   "execution_count": null,
   "metadata": {
    "collapsed": true
   },
   "outputs": [],
   "source": []
  }
 ],
 "metadata": {
  "kernelspec": {
   "display_name": "Python 2",
   "language": "python",
   "name": "python2"
  },
  "language_info": {
   "codemirror_mode": {
    "name": "ipython",
    "version": 2
   },
   "file_extension": ".py",
   "mimetype": "text/x-python",
   "name": "python",
   "nbconvert_exporter": "python",
   "pygments_lexer": "ipython2",
   "version": "2.7.10"
  }
 },
 "nbformat": 4,
 "nbformat_minor": 0
}
