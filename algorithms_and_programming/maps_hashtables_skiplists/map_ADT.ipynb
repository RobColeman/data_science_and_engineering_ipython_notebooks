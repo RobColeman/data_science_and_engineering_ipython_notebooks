{
 "cells": [
  {
   "cell_type": "markdown",
   "metadata": {},
   "source": [
    "# MAP Abstract Data Type"
   ]
  },
  {
   "cell_type": "markdown",
   "metadata": {},
   "source": [
    "- M[key] : returns value stored at 'key'\n",
    "- M[key] = value : insert 'key' that points to 'value'\n",
    "- del M[key] : remove 'key' from the set of keys and any value that to which it points\n",
    "- len(M) : return the number of keys in the map\n",
    "- iter(M) : iterate over the sequence of keys, if this is not an ordered map, then ordering is not guarenteed\n",
    "\n",
    "- M.get(k) : same as M[key]\n",
    "- M.setdefault(key, default_v) : get the 'value' at 'key', else return the 'default_v'\n",
    "- M.pop(key, default_v) : same as M.setdefault, but remove 'key' from the map\n",
    "- M.keys() : return an iterable of the set of keys in the map\n",
    "- M.values() : return an iterable of the set of values in the map\n",
    "- M.update(M2) : for every (key -> value) in M2, either insert or replace the current (key -> value) in M\n",
    "- M.clear() : remove all (key -> value) from M"
   ]
  },
  {
   "cell_type": "markdown",
   "metadata": {},
   "source": [
    "## inheriting from mutableMap"
   ]
  },
  {
   "cell_type": "code",
   "execution_count": 3,
   "metadata": {
    "collapsed": false
   },
   "outputs": [
    {
     "ename": "SyntaxError",
     "evalue": "unexpected EOF while parsing (<ipython-input-3-a653b245d246>, line 1)",
     "output_type": "error",
     "traceback": [
      "\u001b[0;36m  File \u001b[0;32m\"<ipython-input-3-a653b245d246>\"\u001b[0;36m, line \u001b[0;32m1\u001b[0m\n\u001b[0;31m    class MapBase(MutableMapping):\u001b[0m\n\u001b[0m                                  ^\u001b[0m\n\u001b[0;31mSyntaxError\u001b[0m\u001b[0;31m:\u001b[0m unexpected EOF while parsing\n"
     ]
    }
   ],
   "source": [
    "from collections import MutableMapping\n",
    "\n",
    "class MapBase(MutableMapping):\n",
    "    class Item:\n",
    "        __slots__ = '_key', '_value'\n",
    "        \n",
    "        def __init__(self,k,v):\n",
    "            self._key = k\n",
    "            self._value = v\n",
    "            \n",
    "            "
   ]
  },
  {
   "cell_type": "code",
   "execution_count": null,
   "metadata": {
    "collapsed": true
   },
   "outputs": [],
   "source": []
  }
 ],
 "metadata": {
  "kernelspec": {
   "display_name": "Python 2",
   "language": "python",
   "name": "python2"
  },
  "language_info": {
   "codemirror_mode": {
    "name": "ipython",
    "version": 2
   },
   "file_extension": ".py",
   "mimetype": "text/x-python",
   "name": "python",
   "nbconvert_exporter": "python",
   "pygments_lexer": "ipython2",
   "version": "2.7.10"
  }
 },
 "nbformat": 4,
 "nbformat_minor": 0
}
