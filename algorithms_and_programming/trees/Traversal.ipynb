{
 "cells": [
  {
   "cell_type": "code",
   "execution_count": 52,
   "metadata": {
    "collapsed": false
   },
   "outputs": [],
   "source": [
    "from collections import namedtuple\n",
    "from sys import stdout\n",
    "\n",
    "Node = namedtuple('Node', 'data, left, right')\n",
    "\n",
    "def write_spaced(i):\n",
    "    stdout.write(\"%i \" % i)"
   ]
  },
  {
   "cell_type": "code",
   "execution_count": 54,
   "metadata": {
    "collapsed": false
   },
   "outputs": [],
   "source": [
    "tree = Node(0,\n",
    "            Node(1,\n",
    "                 Node(3,\n",
    "                      Node(7, None, None),\n",
    "                      Node(8, None, None)\n",
    "                     ),\n",
    "                 Node(4, None, None)\n",
    "                ),\n",
    "            Node(2,\n",
    "                 Node(5,\n",
    "                      None,\n",
    "                      None),\n",
    "                 Node(6,\n",
    "                      None, \n",
    "                      Node(9, None, None)\n",
    "                     )\n",
    "                 )\n",
    "           )\n",
    "\n",
    "def post_order_breadth_first_traversal(node, remaining = None, func = write_spaced):\n",
    "    if node is not None:\n",
    "        if remaining is None:\n",
    "            remaining = []\n",
    "        remaining.append(node.left)\n",
    "        remaining.append(node.right)\n",
    "        func(node.data)\n",
    "    if remaining:    \n",
    "        post_order_breadth_first_traversal(remaining.pop(0), remaining, func)\n",
    "\n",
    "def preorder_dfs_traversal(node, func = write_spaced):\n",
    "    if node is not None:\n",
    "        func(node.data)\n",
    "        preorder_dfs_traversal(node.left, func)\n",
    "        preorder_dfs_traversal(node.right, func)\n",
    "\n",
    "def in_order_traversal(node, func = write_spaced):\n",
    "    \"\"\" In order for binary search trees \"\"\"\n",
    "    if node is not None:\n",
    "        in_order_traversal(node.left, func)\n",
    "        func(node.data)\n",
    "        in_order_traversal(node.right, func)\n",
    "\n",
    "def postorder_dfs_traversal(node, func = write_spaced):\n",
    "    if node is not None:\n",
    "        postorder_dfs_traversal(node.left, func)\n",
    "        postorder_dfs_traversal(node.right, func)\n",
    "        func(node.data)"
   ]
  },
  {
   "cell_type": "code",
   "execution_count": 55,
   "metadata": {
    "collapsed": false
   },
   "outputs": [
    {
     "name": "stdout",
     "output_type": "stream",
     "text": [
      "Breadth first traversal: 0 1 2 3 4 5 6 7 8 9 \n",
      "Preorder dfs traversal: 0 1 3 7 8 4 2 5 6 9 \n",
      "In order traversal: 7 3 8 1 4 0 5 2 6 9 \n",
      "Postorder traversal: 7 8 3 4 1 5 9 6 2 0 "
     ]
    }
   ],
   "source": [
    "stdout.write(\"Breadth first traversal: \")\n",
    "breadth_first_traversal(tree)\n",
    "\n",
    "stdout.write(\"\\nPreorder dfs traversal: \")\n",
    "preorder_traversal(tree)\n",
    "\n",
    "stdout.write(\"\\nIn order traversal: \")\n",
    "in_order_traversal(tree)\n",
    "\n",
    "stdout.write(\"\\nPostorder traversal: \")\n",
    "postorder_traversal(tree)"
   ]
  },
  {
   "cell_type": "code",
   "execution_count": 51,
   "metadata": {
    "collapsed": false
   },
   "outputs": [
    {
     "name": "stdout",
     "output_type": "stream",
     "text": [
      "\n",
      "In order traversal: 0 1 2 3 4 5 6 7 8 9 10 "
     ]
    }
   ],
   "source": [
    "binary_search_tree = Node(5,\n",
    "            Node(3,\n",
    "                 Node(1,\n",
    "                      Node(0, None, None),\n",
    "                      Node(2, None, None)\n",
    "                     ),\n",
    "                 Node(4, None, None)\n",
    "                ),\n",
    "            Node(8,\n",
    "                 Node(7,\n",
    "                      Node(6, None, None),\n",
    "                      None\n",
    "                      ),\n",
    "                 Node(9,\n",
    "                      None, \n",
    "                      Node(10, None, None)\n",
    "                     )\n",
    "                 )\n",
    "           )\n",
    "\n",
    "stdout.write(\"\\nIn order traversal: \")\n",
    "in_order_traversal(bst)"
   ]
  },
  {
   "cell_type": "code",
   "execution_count": null,
   "metadata": {
    "collapsed": true
   },
   "outputs": [],
   "source": []
  }
 ],
 "metadata": {
  "kernelspec": {
   "display_name": "Python 3",
   "language": "python",
   "name": "python3"
  },
  "language_info": {
   "codemirror_mode": {
    "name": "ipython",
    "version": 3
   },
   "file_extension": ".py",
   "mimetype": "text/x-python",
   "name": "python",
   "nbconvert_exporter": "python",
   "pygments_lexer": "ipython3",
   "version": "3.5.1"
  }
 },
 "nbformat": 4,
 "nbformat_minor": 0
}
