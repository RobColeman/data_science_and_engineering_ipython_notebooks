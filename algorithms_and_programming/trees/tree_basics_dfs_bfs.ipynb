{
 "cells": [
  {
   "cell_type": "code",
   "execution_count": 15,
   "metadata": {
    "collapsed": true
   },
   "outputs": [],
   "source": [
    "# Definition for a binary tree node.\n",
    "# class TreeNode(object):\n",
    "#     def __init__(self, x):\n",
    "#         self.val = x\n",
    "#         self.left = None\n",
    "#         self.right = None\n",
    "\n",
    "def preorderTraversal(root):\n",
    "    \"\"\"\n",
    "    :type root: TreeNode\n",
    "    :rtype: List[int]\n",
    "    \"\"\"\n",
    "    order = [] # external log\n",
    "    def dfs(n):\n",
    "        if n:\n",
    "            # preorder operation\n",
    "            order.append(n.val)\n",
    "            if n.left:\n",
    "                dfs(n.left)\n",
    "            if n.right:\n",
    "                dfs(n.right)\n",
    "    dfs(root)\n",
    "    return order"
   ]
  },
  {
   "cell_type": "code",
   "execution_count": 16,
   "metadata": {
    "collapsed": true
   },
   "outputs": [],
   "source": [
    "# Definition for a binary tree node.\n",
    "# class TreeNode(object):\n",
    "#     def __init__(self, x):\n",
    "#         self.val = x\n",
    "#         self.left = None\n",
    "#         self.right = None\n",
    "\n",
    "def postorderTraversal(root):\n",
    "    \"\"\"\n",
    "    :type root: TreeNode\n",
    "    :rtype: List[int]\n",
    "    \"\"\"\n",
    "    order = []\n",
    "\n",
    "    def dfs(n):\n",
    "        if n:\n",
    "            if n.left: dfs(n.left)\n",
    "            if n.right: dfs(n.right)\n",
    "            # post-order operation\n",
    "            order.append(n.val)\n",
    "\n",
    "    dfs(root)\n",
    "    return order"
   ]
  },
  {
   "cell_type": "code",
   "execution_count": null,
   "metadata": {
    "collapsed": false
   },
   "outputs": [],
   "source": [
    "# breadth first search\n",
    "\n",
    "# Definition for a binary tree node.\n",
    "class TreeNode:\n",
    "    def __init__(self, x):\n",
    "        self.val = x\n",
    "        self.left = None\n",
    "        self.right = None\n",
    "\n",
    "class TreeNode\n",
    "\n",
    "def print_val(node):\n",
    "    print(node.val)\n",
    "\n",
    "def bfs(root, operation = print_val):\n",
    "    \"\"\"\n",
    "    do a bredth first search of a tree, in this case a binary tree.\n",
    "    \n",
    "    To search at each depth, we need to keep a 'to_explore_queue'.  We start by\n",
    "    adding the root node to the 'to_explore_queue'.  Then we perform a while loop as long as their are items in \n",
    "    the queue.  At each step,\n",
    "    We first do our operation, \n",
    "    then we append each nodes children, left to right, to the 'to_explore_queue'.\n",
    "    Then move on to the next item in the queue.\n",
    "    \n",
    "    If we're doing a search, we need to break out when we find our item.\n",
    "    \"\"\"\n",
    "    to_explore_queue = [root]\n",
    "    while len(to_explore_queue) > 0:\n",
    "        this_node = to_explore_queue.pop(0)\n",
    "        # do operation\n",
    "        operation(this_node)\n",
    "        # add children to the explored\n",
    "        if this_node.left:\n",
    "            to_explore_queue.append(this_node.left)\n",
    "        if this_node.right:\n",
    "            to_explore_queue.append(this_node.right)\n",
    "    "
   ]
  },
  {
   "cell_type": "code",
   "execution_count": null,
   "metadata": {
    "collapsed": true
   },
   "outputs": [],
   "source": []
  }
 ],
 "metadata": {
  "kernelspec": {
   "display_name": "Python 3",
   "language": "python",
   "name": "python3"
  },
  "language_info": {
   "codemirror_mode": {
    "name": "ipython",
    "version": 3
   },
   "file_extension": ".py",
   "mimetype": "text/x-python",
   "name": "python",
   "nbconvert_exporter": "python",
   "pygments_lexer": "ipython3",
   "version": "3.5.1"
  }
 },
 "nbformat": 4,
 "nbformat_minor": 0
}
