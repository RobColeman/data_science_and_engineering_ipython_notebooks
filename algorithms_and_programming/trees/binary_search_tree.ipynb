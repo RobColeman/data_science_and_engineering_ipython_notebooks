{
 "cells": [
  {
   "cell_type": "code",
   "execution_count": null,
   "metadata": {
    "collapsed": true
   },
   "outputs": [],
   "source": [
    "## Test for valid binary search tree"
   ]
  },
  {
   "cell_type": "code",
   "execution_count": null,
   "metadata": {
    "collapsed": true
   },
   "outputs": [],
   "source": [
    "from sys import maxint\n",
    "# Definition for a binary tree node.\n",
    "# class TreeNode(object):\n",
    "#     def __init__(self, x):\n",
    "#         self.val = x\n",
    "#         self.left = None\n",
    "#         self.right = None\n",
    "\n",
    "\n",
    "def is_valid_BST(root):\n",
    "    \"\"\"\n",
    "    :type root: TreeNode\n",
    "    :rtype: bool\n",
    "    \"\"\"\n",
    "\n",
    "    def dfs(node, gt = -maxint, lt = maxint):\n",
    "        # pre-order\n",
    "        if node.left:\n",
    "            if not node.left.val < lt:\n",
    "                return False\n",
    "        if node.right:\n",
    "            if not node.right.val > gt:\n",
    "                return False\n",
    "        \n",
    "        if node.left and node.right:\n",
    "            return dfs(node.left, gt = gt, lt = min(lt, node.val)) and \n",
    "                       dfs(node.right, gt = max(gt,node.val), lt = lt)\n",
    "        elif node.left:\n",
    "            return dfs(node.left, gt = gt, lt = min(lt, node.val))\n",
    "        elif node.right:\n",
    "            return dfs(node.right, gt = max(gt,node.val), lt = lt)\n",
    "        else:\n",
    "            retur True\n",
    "\n",
    "    if dfs(root.left, lt = node.val):\n",
    "        return dfs(root.right, gt = node.val)\n",
    "    else:\n",
    "        return False\n",
    "            "
   ]
  }
 ],
 "metadata": {
  "kernelspec": {
   "display_name": "Python 3",
   "language": "python",
   "name": "python3"
  },
  "language_info": {
   "codemirror_mode": {
    "name": "ipython",
    "version": 3
   },
   "file_extension": ".py",
   "mimetype": "text/x-python",
   "name": "python",
   "nbconvert_exporter": "python",
   "pygments_lexer": "ipython3",
   "version": "3.5.1"
  }
 },
 "nbformat": 4,
 "nbformat_minor": 0
}
