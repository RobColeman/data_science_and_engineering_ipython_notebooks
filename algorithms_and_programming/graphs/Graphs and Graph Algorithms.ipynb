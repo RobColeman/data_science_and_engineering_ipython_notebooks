{
 "cells": [
  {
   "cell_type": "markdown",
   "metadata": {},
   "source": [
    "# Graphs and Graph Algorithms"
   ]
  },
  {
   "cell_type": "code",
   "execution_count": 5,
   "metadata": {
    "collapsed": true
   },
   "outputs": [],
   "source": [
    "class Node:\n",
    "    def __init__(self, value):\n",
    "        self.data = value\n",
    "        self.color = None\n",
    "        self.explored = False\n",
    "        self.neighbors = set()\n",
    "    \n",
    "    def show_neighbors(self):\n",
    "        print \"Node: \" + str(self.data)\n",
    "        for u in self.neighbors:\n",
    "            print str(u.data) + \":\"\n",
    "            print \"explored: \" + str(u.explored)\n",
    "            print \"color: \" + str(u.color)\n",
    "    \n",
    "    def get_unexplored_neighbors(self):\n",
    "        return filter(lambda x: x.explored == False, self.neighbors)\n"
   ]
  },
  {
   "cell_type": "code",
   "execution_count": 6,
   "metadata": {
    "collapsed": false
   },
   "outputs": [],
   "source": [
    "def build_undirected_graph(tuples):\n",
    "    \"\"\"\n",
    "    accepts a list of tuples of node names (\"A\",\"B\"), indicating edges between nodes in the graph\n",
    "    \"\"\"\n",
    "    data = set()\n",
    "    for t in tuples:\n",
    "        data.add(t[0])\n",
    "        data.add(t[1])\n",
    "    # make nodes\n",
    "    nodes = {}\n",
    "    \n",
    "    for t in tuples:\n",
    "        if t[0] not in nodes:\n",
    "            nodes[t[0]] = Node(t[0])\n",
    "        if t[1] not in nodes:\n",
    "            nodes[t[1]] = Node(t[1])\n",
    "        nodes[t[0]].neighbors.add(nodes[t[1]])\n",
    "        nodes[t[1]].neighbors.add(nodes[t[0]])\n",
    "        \n",
    "    return nodes.values()\n",
    "\n",
    "graph_desc = [(\"A\",\"B\"),(\"A\",\"D\"),(\"B\",\"C\"),(\"C\",\"D\")]\n",
    "graph = build_undirected_graph(graph_desc)"
   ]
  },
  {
   "cell_type": "code",
   "execution_count": 7,
   "metadata": {
    "collapsed": false
   },
   "outputs": [
    {
     "name": "stdout",
     "output_type": "stream",
     "text": [
      "[<__main__.Node instance at 0x10a8c4d40>, <__main__.Node instance at 0x10a8c4ef0>, <__main__.Node instance at 0x10a8c4a70>, <__main__.Node instance at 0x10a8c4ab8>]\n"
     ]
    }
   ],
   "source": [
    "print graph"
   ]
  },
  {
   "cell_type": "markdown",
   "metadata": {},
   "source": [
    "## bipartite graph"
   ]
  },
  {
   "cell_type": "code",
   "execution_count": 18,
   "metadata": {
    "collapsed": false
   },
   "outputs": [
    {
     "name": "stdout",
     "output_type": "stream",
     "text": [
      "Exploring: A\n",
      "Exploring: B\n",
      "Exploring: C\n",
      "Exploring: D\n",
      "Exploring: D\n",
      "Graph 1 is a bipartite graph: True\n",
      "\n",
      "Exploring: A\n",
      "Exploring: D\n",
      "Exploring: C\n",
      "Graph 2 is a bipartite graph: False\n"
     ]
    }
   ],
   "source": [
    "\n",
    "def is_bypartite_graph(n):\n",
    "    n.explored = True\n",
    "    print \"Exploring: \" + str(n.data)\n",
    "    for u in n.neighbors:\n",
    "        if u.color == n.color: # we found the same colors next to each other\n",
    "            return False\n",
    "        if u.color == None:\n",
    "            u.color = (not n.color)\n",
    "\n",
    "    to_explore = n.get_unexplored_neighbors()\n",
    "    if len(to_explore) < 1:\n",
    "        return True\n",
    "    else:\n",
    "        return all([is_bypartite_graph(u) for u in to_explore])\n",
    "        \n",
    "\n",
    "        \n",
    "graph_desc = [(\"A\",\"B\"),(\"A\",\"D\"),(\"B\",\"C\"),(\"C\",\"D\")]\n",
    "graph = build_undirected_graph(graph_desc)\n",
    "\n",
    "start = graph[0]\n",
    "start.color = False\n",
    "print \"Graph 1 is a bipartite graph: \" + str(is_bypartite_graph(start) == True)\n",
    "print \"\"\n",
    "\n",
    "graph_desc = [(\"A\",\"C\"),(\"A\",\"D\"),(\"B\",\"C\"),(\"C\",\"D\")]\n",
    "graph2 = build_undirected_graph(graph_desc)\n",
    "start2 = graph2[0]\n",
    "start2.color = False\n",
    "print \"Graph 2 is a bipartite graph: \" + str(is_bypartite_graph(start2) == True)"
   ]
  },
  {
   "cell_type": "markdown",
   "metadata": {},
   "source": [
    "## Path finding"
   ]
  },
  {
   "cell_type": "markdown",
   "metadata": {},
   "source": [
    "### There exists a path from a to b\n",
    "In a given grid (graph), find if there exists a path from a starting point to an end point (0,0 -> 5,5) "
   ]
  },
  {
   "cell_type": "code",
   "execution_count": 20,
   "metadata": {
    "collapsed": false
   },
   "outputs": [
    {
     "name": "stdout",
     "output_type": "stream",
     "text": [
      "visiting 0,0\n",
      "visiting 1,0\n",
      "visiting 2,0\n",
      "visiting 3,0\n",
      "visiting 4,0\n",
      "wall at 5,0\n",
      "visiting 4,1\n",
      "wall at 5,1\n",
      "visiting 4,2\n",
      "visiting 5,2\n",
      "wall at 5,3\n",
      "visited at 4,2\n",
      "wall at 5,1\n",
      "visiting 4,3\n",
      "wall at 5,3\n",
      "wall at 4,4\n",
      "wall at 3,3\n",
      "visited at 4,2\n",
      "wall at 3,2\n",
      "visited at 4,1\n",
      "visiting 3,1\n",
      "visited at 4,1\n",
      "wall at 3,2\n",
      "visiting 2,1\n",
      "visited at 3,1\n",
      "visiting 2,2\n",
      "wall at 3,2\n",
      "visiting 2,3\n",
      "wall at 3,3\n",
      "visiting 2,4\n",
      "visiting 3,4\n",
      "wall at 4,4\n",
      "visiting 3,5\n",
      "visiting 4,5\n",
      "found at 5,5\n"
     ]
    },
    {
     "data": {
      "text/plain": [
       "True"
      ]
     },
     "execution_count": 20,
     "metadata": {},
     "output_type": "execute_result"
    }
   ],
   "source": [
    "grid = [[0, 0, 0, 0, 0, 1],\n",
    "        [1, 1, 0, 0, 0, 1],\n",
    "        [0, 0, 0, 1, 0, 0],\n",
    "        [0, 1, 0, 1, 0, 1],\n",
    "        [0, 1, 0, 0, 1, 0],\n",
    "        [0, 1, 0, 0, 0, 2]]\n",
    "\n",
    "\n",
    "def search_rec(x, y):\n",
    "    if grid[y][x] == 2:\n",
    "        print 'found at %d,%d' % (x, y)\n",
    "        return True\n",
    "    elif grid[y][x] == 1:\n",
    "        print 'wall at %d,%d' % (x, y)\n",
    "        return False\n",
    "    elif grid[y][x] == 3:\n",
    "        print 'visited at %d,%d' % (x, y)\n",
    "        return False\n",
    "    \n",
    "    print 'visiting %d,%d' % (x, y)\n",
    "\n",
    "    # mark as visited\n",
    "    grid[y][x] = 3\n",
    "\n",
    "    # explore neighbors clockwise starting by the one on the right\n",
    "    if (\n",
    "        (x < len(grid[0])-1 and search_rec(x+1, y))  # right\n",
    "        or (y < len(grid)-1 and search_rec(x, y+1)) # down\n",
    "        or (x > 0 and search_rec(x-1, y))        # search left\n",
    "        or (y > 0 and search_rec(x, y-1))        # search up\n",
    "        ):\n",
    "        return True\n",
    "\n",
    "    return False\n",
    "\n",
    "search_rec(0, 0)"
   ]
  },
  {
   "cell_type": "markdown",
   "metadata": {},
   "source": [
    "### A* search\n",
    "\n",
    "Impliment the A* search algorithm to find a path from a to b"
   ]
  },
  {
   "cell_type": "code",
   "execution_count": 22,
   "metadata": {
    "collapsed": true
   },
   "outputs": [],
   "source": [
    "# WIP"
   ]
  },
  {
   "cell_type": "code",
   "execution_count": null,
   "metadata": {
    "collapsed": true
   },
   "outputs": [],
   "source": []
  }
 ],
 "metadata": {
  "kernelspec": {
   "display_name": "Python 2",
   "language": "python",
   "name": "python2"
  },
  "language_info": {
   "codemirror_mode": {
    "name": "ipython",
    "version": 2
   },
   "file_extension": ".py",
   "mimetype": "text/x-python",
   "name": "python",
   "nbconvert_exporter": "python",
   "pygments_lexer": "ipython2",
   "version": "2.7.10"
  }
 },
 "nbformat": 4,
 "nbformat_minor": 0
}
