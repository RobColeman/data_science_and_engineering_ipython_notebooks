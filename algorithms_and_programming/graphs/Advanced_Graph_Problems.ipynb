{
 "cells": [
  {
   "cell_type": "markdown",
   "metadata": {},
   "source": [
    "# Guards in a Museum\n",
    "\n",
    "A museum is represented by a matrix of size n, rows, by m columns.  Each square has either an \"o\" for an open space, a \"w\" for a wall, or a \"g\" for a guard.  For a given museum matrix, return another matrix where all of the \"o\" spaces are replaced with their manhattan distance from the nearest guard.\n",
    "\n",
    "Solution:\n",
    "    \n",
    "Walk though the matrix, O(n * m) or O(N) where N is number of entries in the matrix, and keep track of the guard locations.\n",
    "Then iterate through the guards, and do a BFS outward, and count the distance as you walk.  Stop the BFS from each guard when you reach an already filled in space where the entry is <= the current distance.  The run-time is O(GxN), where G is the number of guards.  Space complexity should be O(N + G), because we can replace the \"o\"'s in place, and we need a stack for the guards.  In the case we don't want to modify the original matrix, it's O(2N + G) space."
   ]
  },
  {
   "cell_type": "code",
   "execution_count": 2,
   "metadata": {
    "collapsed": true
   },
   "outputs": [],
   "source": [
    "m = [\n",
    "    [\"O\", \"O\", \"O\", \"O\", \"O\", \"O\", \"O\", \"W\", \"O\", \"G\"],\n",
    "    [\"O\", \"O\", \"O\", \"O\", \"O\", \"O\", \"O\", \"W\", \"O\", \"O\"],\n",
    "    [\"O\", \"O\", \"O\", \"O\", \"W\", \"O\", \"O\", \"W\", \"O\", \"O\"],\n",
    "    [\"O\", \"O\", \"O\", \"O\", \"W\", \"O\", \"O\", \"W\", \"W\", \"W\"],\n",
    "    [\"O\", \"O\", \"O\", \"O\", \"W\", \"O\", \"G\", \"O\", \"O\", \"O\"],\n",
    "    [\"W\", \"W\", \"W\", \"O\", \"W\", \"O\", \"O\", \"O\", \"O\", \"O\"],\n",
    "    [\"O\", \"O\", \"O\", \"O\", \"W\", \"O\", \"O\", \"O\", \"O\", \"O\"],\n",
    "    [\"O\", \"O\", \"O\", \"O\", \"W\", \"O\", \"O\", \"O\", \"O\", \"O\"],\n",
    "    [\"O\", \"O\", \"O\", \"O\", \"W\", \"O\", \"O\", \"O\", \"O\", \"O\"],\n",
    "    [\"G\", \"O\", \"O\", \"O\", \"W\", \"O\", \"O\", \"O\", \"O\", \"O\"],\n",
    "]"
   ]
  },
  {
   "cell_type": "code",
   "execution_count": 3,
   "metadata": {
    "collapsed": true
   },
   "outputs": [],
   "source": [
    "def make_guard_distance_map(m):\n",
    "    n_rows = len(m)\n",
    "    n_cols = len(m[0])\n",
    "    \n",
    "    def valid_next_space(row, col, dist):\n",
    "        if (-1 < row < n_rows) and (-1 < col < n_cols):\n",
    "            if not m[row][col] == \"G\" and not m[row][col] == \"W\":\n",
    "                if m[row][col] == \"O\":\n",
    "                    return True\n",
    "                if m[row][col] > dist:\n",
    "                    return True\n",
    "        return False\n",
    "    \n",
    "    def find_guards():\n",
    "        guards = []\n",
    "        for row in range(n_rows):\n",
    "            for col in len(n_cols):\n",
    "                if m[row][col] == \"G\":\n",
    "                    guards.append((row, col, 0))\n",
    "        return guards\n",
    "    \n",
    "    \n",
    "    def bfs_step(this_step):\n",
    "        n_this = len(this_step)\n",
    "        next_step = []\n",
    "        for i in range(n_this):\n",
    "            row, col, dist = this_list.pop()\n",
    "            # up\n",
    "            if valid_next_space(row + 1, col, dist + 1):\n",
    "                m[row + 1][col] = dist + 1\n",
    "                next_step.append((row + 1, col, dist + 1))\n",
    "            # down\n",
    "            if valid_next_space(row - 1, col, dist + 1):\n",
    "                m[row - 1][col] = dist + 1\n",
    "                next_step.append((row - 1, col, dist + 1))\n",
    "            # left\n",
    "            if valid_next_space(row, col - 1, dist + 1):\n",
    "                m[row][col - 1] = dist + 1\n",
    "                next_step.append((row, col - 1, dist + 1))\n",
    "            # right\n",
    "            if valid_next_space(row, col + 1, dist + 1):\n",
    "                m[row][col + 1] = dist + 1\n",
    "                next_step.append((row, col + 1, dist + 1))\n",
    "\n",
    "        if next_step:\n",
    "            bfs_step(next_step)\n",
    "    \n",
    "    guards = find_guards()\n",
    "    \n",
    "    for g in guards:\n",
    "        bfs([g])\n",
    "    \n",
    "    \n",
    "    \n",
    "    "
   ]
  },
  {
   "cell_type": "code",
   "execution_count": null,
   "metadata": {
    "collapsed": true
   },
   "outputs": [],
   "source": []
  }
 ],
 "metadata": {
  "kernelspec": {
   "display_name": "Python 3",
   "language": "python",
   "name": "python3"
  },
  "language_info": {
   "codemirror_mode": {
    "name": "ipython",
    "version": 3
   },
   "file_extension": ".py",
   "mimetype": "text/x-python",
   "name": "python",
   "nbconvert_exporter": "python",
   "pygments_lexer": "ipython3",
   "version": "3.5.1"
  }
 },
 "nbformat": 4,
 "nbformat_minor": 0
}
