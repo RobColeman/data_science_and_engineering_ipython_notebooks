{
 "cells": [
  {
   "cell_type": "markdown",
   "metadata": {},
   "source": [
    "# Guards in a Museum\n",
    "\n",
    "A museum is represented by a matrix of size n, rows, by m columns.  Each square has either an \"o\" for an open space, a \"w\" for a wall, or a \"g\" for a guard.  For a given museum matrix, return another matrix where all of the \"o\" spaces are replaced with their manhattan distance from the nearest guard.\n",
    "\n",
    "Solution:\n",
    "    \n",
    "Walk though the matrix, O(n * m) or O(N) where N is number of entries in the matrix, and keep track of the guard locations.\n",
    "Then iterate through the guards, and do a BFS outward, and count the distance as you walk.  Stop the BFS from each guard when you reach an already filled in space where the entry is <= the current distance.  The run-time is O(GxN), where G is the number of guards.  Space complexity should be O(N + G), because we can replace the \"o\"'s in place, and we need a stack for the guards.  In the case we don't want to modify the original matrix, it's O(2N + G) space."
   ]
  },
  {
   "cell_type": "code",
   "execution_count": 15,
   "metadata": {
    "collapsed": false
   },
   "outputs": [],
   "source": [
    "m = [\n",
    "    [\"O\", \"O\", \"O\", \"O\", \"O\", \"O\", \"O\", \"W\", \"O\", \"G\"],\n",
    "    [\"O\", \"O\", \"O\", \"O\", \"O\", \"O\", \"O\", \"W\", \"O\", \"O\"],\n",
    "    [\"O\", \"O\", \"O\", \"O\", \"W\", \"O\", \"O\", \"W\", \"O\", \"O\"],\n",
    "    [\"O\", \"O\", \"O\", \"O\", \"W\", \"O\", \"O\", \"W\", \"W\", \"W\"],\n",
    "    [\"O\", \"O\", \"O\", \"O\", \"W\", \"O\", \"G\", \"O\", \"O\", \"O\"],\n",
    "    [\"W\", \"W\", \"W\", \"O\", \"W\", \"O\", \"O\", \"O\", \"O\", \"O\"],\n",
    "    [\"O\", \"O\", \"O\", \"O\", \"W\", \"O\", \"O\", \"O\", \"O\", \"O\"],\n",
    "    [\"O\", \"O\", \"O\", \"O\", \"W\", \"O\", \"O\", \"O\", \"O\", \"O\"],\n",
    "    [\"O\", \"O\", \"O\", \"O\", \"W\", \"O\", \"O\", \"O\", \"O\", \"O\"],\n",
    "    [\"G\", \"O\", \"O\", \"O\", \"W\", \"O\", \"O\", \"O\", \"O\", \"O\"],\n",
    "]"
   ]
  },
  {
   "cell_type": "code",
   "execution_count": 16,
   "metadata": {
    "collapsed": true
   },
   "outputs": [],
   "source": [
    "def make_guard_distance_map(m):\n",
    "    n_rows = len(m)\n",
    "    n_cols = len(m[0])\n",
    "    \n",
    "    def valid_next_space(row, col, dist):\n",
    "        if (-1 < row < n_rows) and (-1 < col < n_cols):\n",
    "            if not m[row][col] == \"G\" and not m[row][col] == \"W\":\n",
    "                if m[row][col] == \"O\":\n",
    "                    return True\n",
    "                if m[row][col] > dist:\n",
    "                    return True\n",
    "        return False\n",
    "    \n",
    "    def find_guards():\n",
    "        guards = []\n",
    "        for row in range(n_rows):\n",
    "            for col in range(n_cols):\n",
    "                if m[row][col] == \"G\":\n",
    "                    guards.append((row, col, 0))\n",
    "        return guards\n",
    "    \n",
    "    \n",
    "    def bfs_step(this_step):\n",
    "        n_this = len(this_step)\n",
    "        next_step = []\n",
    "        for i in range(n_this):\n",
    "            row, col, dist = this_step.pop()\n",
    "            # up\n",
    "            if valid_next_space(row + 1, col, dist + 1):\n",
    "                m[row + 1][col] = dist + 1\n",
    "                next_step.append((row + 1, col, dist + 1))\n",
    "            # down\n",
    "            if valid_next_space(row - 1, col, dist + 1):\n",
    "                m[row - 1][col] = dist + 1\n",
    "                next_step.append((row - 1, col, dist + 1))\n",
    "            # left\n",
    "            if valid_next_space(row, col - 1, dist + 1):\n",
    "                m[row][col - 1] = dist + 1\n",
    "                next_step.append((row, col - 1, dist + 1))\n",
    "            # right\n",
    "            if valid_next_space(row, col + 1, dist + 1):\n",
    "                m[row][col + 1] = dist + 1\n",
    "                next_step.append((row, col + 1, dist + 1))\n",
    "\n",
    "        if next_step:\n",
    "            bfs_step(next_step)\n",
    "    \n",
    "    guards = find_guards()\n",
    "    \n",
    "    for g in guards:\n",
    "        bfs_step([g])"
   ]
  },
  {
   "cell_type": "code",
   "execution_count": 17,
   "metadata": {
    "collapsed": false
   },
   "outputs": [
    {
     "name": "stdout",
     "output_type": "stream",
     "text": [
      "[[10, 9, 8, 7, 6, 5, 4, 'W', 1, 'G'], [9, 8, 7, 6, 5, 4, 3, 'W', 2, 1], [10, 9, 8, 7, 'W', 3, 2, 'W', 3, 2], [11, 10, 9, 8, 'W', 2, 1, 'W', 'W', 'W'], [11, 10, 9, 8, 'W', 1, 'G', 1, 2, 3], ['W', 'W', 'W', 7, 'W', 2, 1, 2, 3, 4], [3, 4, 5, 6, 'W', 3, 2, 3, 4, 5], [2, 3, 4, 5, 'W', 4, 3, 4, 5, 6], [1, 2, 3, 4, 'W', 5, 4, 5, 6, 7], ['G', 1, 2, 3, 'W', 6, 5, 6, 7, 8]]\n"
     ]
    }
   ],
   "source": [
    "make_guard_distance_map(m)\n",
    "print(m)"
   ]
  },
  {
   "cell_type": "code",
   "execution_count": null,
   "metadata": {
    "collapsed": true
   },
   "outputs": [],
   "source": [
    "res = [\n",
    "    [10 ,   9,   8,  7,   6,  5,  4,'W',   1, 'G'], \n",
    "    [9  ,   8,   7,  6,   5,  4,  3,'W',   2,   1], \n",
    "    [10 ,   9,   8,  7, 'W',  3,  2,'W',   3,   2], \n",
    "    [11 ,  10,   9,  8, 'W',  2,  1,'W', 'W', 'W'], \n",
    "    [11 ,  10,   9,  8, 'W',  1,'G',  1,   2,   3], \n",
    "    ['W', 'W', 'W',  7, 'W',  2,  1,  2,   3,   4], \n",
    "    [  3,   4,   5,  6, 'W',  3,  2,  3,   4,   5], \n",
    "    [  2,   3,   4,  5, 'W',  4,  3,  4,   5,   6], \n",
    "    [  1,   2,   3,  4, 'W',  5,  4,  5,   6,   7], \n",
    "    ['G',   1,   2,  3, 'W',  6,  5,  6,   7,   8]\n",
    "]"
   ]
  }
 ],
 "metadata": {
  "kernelspec": {
   "display_name": "Python 3",
   "language": "python",
   "name": "python3"
  },
  "language_info": {
   "codemirror_mode": {
    "name": "ipython",
    "version": 3
   },
   "file_extension": ".py",
   "mimetype": "text/x-python",
   "name": "python",
   "nbconvert_exporter": "python",
   "pygments_lexer": "ipython3",
   "version": "3.5.1"
  }
 },
 "nbformat": 4,
 "nbformat_minor": 0
}
