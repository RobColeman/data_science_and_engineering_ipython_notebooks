{
 "cells": [
  {
   "cell_type": "code",
   "execution_count": 27,
   "metadata": {
    "collapsed": false
   },
   "outputs": [],
   "source": [
    "from collections import namedtuple, deque\n",
    "from pprint import pprint as pp\n",
    " \n",
    " \n",
    "inf = float('inf')\n",
    "Edge = namedtuple('Edge', 'start, end, cost')\n",
    "Graph = namedtuple('Graph', 'edges, vertices')"
   ]
  },
  {
   "cell_type": "code",
   "execution_count": 28,
   "metadata": {
    "collapsed": false
   },
   "outputs": [],
   "source": [
    "def build_graph(edges):\n",
    "    edges2 = [Edge(*edge) for edge in edges]\n",
    "    vertices = set()\n",
    "    for e in edges2:\n",
    "        vertices.add(e.start)\n",
    "        vertices.add(e.end)\n",
    "    return Graph(edges2, vertices)"
   ]
  },
  {
   "cell_type": "code",
   "execution_count": 29,
   "metadata": {
    "collapsed": false
   },
   "outputs": [
    {
     "name": "stdout",
     "output_type": "stream",
     "text": [
      "deque(['a', 'c', 'd', 'e'])\n"
     ]
    }
   ],
   "source": [
    "def dijkstra(graph, source, dest):\n",
    "    assert source in graph.vertices\n",
    "    \n",
    "    # set default distance to inf\n",
    "    dist = {vertex: inf for vertex in graph.vertices}\n",
    "    \n",
    "    previous = {vertex: None for vertex in graph.vertices}\n",
    "    \n",
    "    dist[source] = 0\n",
    "    \n",
    "    q = graph.vertices.copy()\n",
    "    \n",
    "    neighbours = {vertex: set() for vertex in graph.vertices}\n",
    "    \n",
    "    for start, end, cost in graph.edges:\n",
    "        neighbours[start].add((end, cost))\n",
    "    #pp(neighbours)\n",
    "\n",
    "    while q:\n",
    "        u = min(q, key=lambda vertex: dist[vertex]) # next \n",
    "        q.remove(u)\n",
    "        if dist[u] == inf or u == dest:\n",
    "            break\n",
    "        for v, cost in neighbours[u]:\n",
    "            alt = dist[u] + cost\n",
    "            if alt < dist[v]:                                  # Relax (u,v,a)\n",
    "                dist[v] = alt\n",
    "                previous[v] = u\n",
    "    #pp(previous)\n",
    "    s, u = deque(), dest\n",
    "    while previous[u]:\n",
    "        s.appendleft(u)\n",
    "        u = previous[u]\n",
    "    s.appendleft(u)\n",
    "    return s\n",
    "\n",
    "graph = build_graph([(\"a\", \"b\", 7),  \n",
    "                     (\"a\", \"c\", 9),  \n",
    "                     (\"a\", \"f\", 14), \n",
    "                     (\"b\", \"c\", 10),\n",
    "                     (\"b\", \"d\", 15), \n",
    "                     (\"c\", \"d\", 11), \n",
    "                     (\"c\", \"f\", 2),  \n",
    "                     (\"d\", \"e\", 6),\n",
    "                     (\"e\", \"f\", 9)])\n",
    "\n",
    "pp(dijkstra(graph, \"a\", \"e\"))"
   ]
  },
  {
   "cell_type": "code",
   "execution_count": null,
   "metadata": {
    "collapsed": true
   },
   "outputs": [],
   "source": []
  }
 ],
 "metadata": {
  "kernelspec": {
   "display_name": "Python 3",
   "language": "python",
   "name": "python3"
  },
  "language_info": {
   "codemirror_mode": {
    "name": "ipython",
    "version": 3
   },
   "file_extension": ".py",
   "mimetype": "text/x-python",
   "name": "python",
   "nbconvert_exporter": "python",
   "pygments_lexer": "ipython3",
   "version": "3.5.1"
  }
 },
 "nbformat": 4,
 "nbformat_minor": 0
}
