{
 "cells": [
  {
   "cell_type": "markdown",
   "metadata": {},
   "source": [
    "# Sum of Sub-Matrix\n",
    "\n",
    "Suppose you have a matrix of numbers. How can you easily  compute the sum of any rectangle (i.e. a range [row_start, row_end, col_start, col_end]) of those numbers?"
   ]
  },
  {
   "cell_type": "markdown",
   "metadata": {},
   "source": [
    "## Soluition\n",
    "\n",
    "The solution involves a memoized approach of pre-computing a sum matrix (sum_mat), for every index i, j in the matrix (mat) of size nXm, the sum of the rectangle mat[i][j] to mat[n-][m-1].  We can do this in one pass by starting at the bottom right of the matrix, and walking backwards along the word and upwards along the columns until we get to index mat[0][0], which is the sum of the entire matrix.\n",
    "\n",
    "Once we have this, we can look up these sums in constant time.\n",
    "\n",
    "To look up the sum of a sub-matrix we do rectangle math, i.e. the get the sum of sub-matrix mat[i][j] to mat[k][l] we take:\n",
    "\n",
    "sum_mat[i][j] - sum_mat[k+1][j] - sum_mat[k][j+1] + sum_mat[k+1][j+1]"
   ]
  },
  {
   "cell_type": "code",
   "execution_count": 22,
   "metadata": {
    "collapsed": true
   },
   "outputs": [],
   "source": [
    "class SubMatrixSummer:\n",
    "    \n",
    "    def __init__(self, mat):\n",
    "        self.mat = mat\n",
    "        self.h = len(mat)\n",
    "        self.w = len(mat[0])\n",
    "        self.memo_mat = [[0 for j in range(self.w)] for i in range(self.h)]\n",
    "        self.compute_memo_mat()\n",
    "    \n",
    "    def show_mat(self):\n",
    "        for row in self.mat:\n",
    "            print(row)\n",
    "    \n",
    "    def show_memo_mat(self):\n",
    "        for row in self.memo_mat:\n",
    "            print(row)\n",
    "        \n",
    "    def compute_memo_mat(self):\n",
    "        for i in reversed(range(self.h)):\n",
    "            for j in reversed(range(self.w)):\n",
    "                curr = self.mat[i][j]\n",
    "                if i < self.h - 1:\n",
    "                    curr += self.memo_mat[i+1][j]\n",
    "                if j < self.w - 1:\n",
    "                    curr += self.memo_mat[i][j+1]\n",
    "                if i < self.h - 1 and j < self.w - 1:\n",
    "                    curr -= self.memo_mat[i+1][j+1]\n",
    "                self.memo_mat[i][j] = curr\n",
    "                \n",
    "    def sub_matrix_sum(self, ij, kl):\n",
    "        i, j = ij\n",
    "        k, l = kl\n",
    "        res = self.memo_mat[i][j]\n",
    "        if k < self.h - 1:\n",
    "            res -= self.memo_mat[k+1][j]\n",
    "        if l < self.w - 1:\n",
    "            res -= self.memo_mat[i][l+1]\n",
    "        if k < self.h - 1 and l < self.w - 1:\n",
    "            res += self.memo_mat[k+1][l+1]\n",
    "        return res"
   ]
  },
  {
   "cell_type": "code",
   "execution_count": 27,
   "metadata": {
    "collapsed": false
   },
   "outputs": [
    {
     "name": "stdout",
     "output_type": "stream",
     "text": [
      "[5, 6, 2, 2, 7]\n",
      "[2, 6, 4, 6, 2]\n",
      "[4, 2, 6, 5, 2]\n",
      "[5, 1, 8, 7, 7]\n",
      "[2, 5, 6, 4, 6]\n",
      "[112, 94, 74, 48, 24]\n",
      "[90, 77, 63, 39, 17]\n",
      "[70, 59, 51, 31, 15]\n",
      "[51, 44, 38, 24, 13]\n",
      "[23, 21, 16, 10, 6]\n",
      "19\n",
      "25\n"
     ]
    }
   ],
   "source": [
    "from random import randint\n",
    "\n",
    "def gen_mat(h,w):\n",
    "    return [[randint(1,9) for i in range(w)] for j in range(h)]\n",
    "\n",
    "mat = gen_mat(5,5)\n",
    "\n",
    "sms = SubMatrixSummer(mat)\n",
    "sms.show_mat()\n",
    "sms.show_memo_mat()\n",
    "print(sms.sub_matrix_sum((0,0),(1,1)))\n",
    "print(sms.sub_matrix_sum((0,2),(2,3)))"
   ]
  },
  {
   "cell_type": "code",
   "execution_count": null,
   "metadata": {
    "collapsed": true
   },
   "outputs": [],
   "source": []
  }
 ],
 "metadata": {
  "anaconda-cloud": {},
  "kernelspec": {
   "display_name": "Python [default]",
   "language": "python",
   "name": "python3"
  },
  "language_info": {
   "codemirror_mode": {
    "name": "ipython",
    "version": 3
   },
   "file_extension": ".py",
   "mimetype": "text/x-python",
   "name": "python",
   "nbconvert_exporter": "python",
   "pygments_lexer": "ipython3",
   "version": "3.5.2"
  }
 },
 "nbformat": 4,
 "nbformat_minor": 2
}
