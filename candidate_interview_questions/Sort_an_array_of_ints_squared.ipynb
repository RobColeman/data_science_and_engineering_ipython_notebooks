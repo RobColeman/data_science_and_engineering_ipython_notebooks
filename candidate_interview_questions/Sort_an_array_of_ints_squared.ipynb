{
 "cells": [
  {
   "cell_type": "markdown",
   "metadata": {},
   "source": [
    "# Sort an array of integers squared\n",
    "\n",
    "Given an array of integers, either positive or negative, sort the square of those integers."
   ]
  },
  {
   "cell_type": "code",
   "execution_count": 1,
   "metadata": {},
   "outputs": [
    {
     "data": {
      "text/plain": [
       "[0, 1, 1, 4, 4, 9, 9, 16, 16, 25, 25, 36, 36, 49, 49, 64, 64, 81, 81, 100]"
      ]
     },
     "execution_count": 1,
     "metadata": {},
     "output_type": "execute_result"
    }
   ],
   "source": [
    "def sort_squared(arr):\n",
    "    negs = []\n",
    "    output = []\n",
    "    for i in arr:\n",
    "        j = i**2\n",
    "        if i < 0:\n",
    "            negs.append(j)\n",
    "        else:\n",
    "            if len(negs) > 0 and j >= negs[-1]:\n",
    "                output.append(negs.pop())\n",
    "            output.append(j)\n",
    "    # if there are negatives left\n",
    "    \n",
    "    for j in negs[::-1]:\n",
    "        output.append(j)\n",
    "    \n",
    "    return output\n",
    "\n",
    "\n",
    "a = list(range(-10,10))\n",
    "sort_squared(a)"
   ]
  },
  {
   "cell_type": "code",
   "execution_count": null,
   "metadata": {
    "collapsed": true
   },
   "outputs": [],
   "source": []
  }
 ],
 "metadata": {
  "kernelspec": {
   "display_name": "Python [default]",
   "language": "python",
   "name": "python3"
  },
  "language_info": {
   "codemirror_mode": {
    "name": "ipython",
    "version": 3
   },
   "file_extension": ".py",
   "mimetype": "text/x-python",
   "name": "python",
   "nbconvert_exporter": "python",
   "pygments_lexer": "ipython3",
   "version": "3.6.1"
  }
 },
 "nbformat": 4,
 "nbformat_minor": 2
}
