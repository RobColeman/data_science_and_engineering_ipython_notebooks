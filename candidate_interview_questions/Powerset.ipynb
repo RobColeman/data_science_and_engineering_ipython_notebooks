{
 "cells": [
  {
   "cell_type": "markdown",
   "metadata": {},
   "source": [
    "# Given a list, print the power set\n",
    "\n",
    "example:\n",
    "s = [0,1,2,2,3]"
   ]
  },
  {
   "cell_type": "code",
   "execution_count": 9,
   "metadata": {
    "collapsed": false,
    "scrolled": true
   },
   "outputs": [
    {
     "name": "stdout",
     "output_type": "stream",
     "text": [
      "Step-by-step result: \n",
      "\n",
      "[[], [0]]\n",
      "[[], [0], [1], [0, 1]]\n",
      "[[], [0], [1], [0, 1], [2], [0, 2], [1, 2], [0, 1, 2]]\n",
      "\n",
      "Clean result: \n",
      "\n",
      "[[], [0], [1], [0, 1], [2], [0, 2], [1, 2], [0, 1, 2]]\n"
     ]
    }
   ],
   "source": [
    "def powerset(s):\n",
    "    output = [[]]\n",
    "    for i in s:\n",
    "        # for each set in the output so far\n",
    "        # append i to that set\n",
    "        output.extend([j + [i] for j in output])\n",
    "        print(output)\n",
    "    return output\n",
    "\n",
    "s = [0,1,2]\n",
    "print(\"Step-by-step result: \")\n",
    "print(\"\")\n",
    "ps = powerset(s)\n",
    "print(\"\")\n",
    "print(\"Clean result: \")\n",
    "print(\"\")\n",
    "print(ps)"
   ]
  },
  {
   "cell_type": "code",
   "execution_count": 10,
   "metadata": {
    "collapsed": false
   },
   "outputs": [
    {
     "name": "stdout",
     "output_type": "stream",
     "text": [
      "[[], [0], [1], [0, 1], [2], [0, 2], [1, 2], [0, 1, 2]]\n"
     ]
    }
   ],
   "source": [
    "def next_sets(i, current_powerset):\n",
    "    next_powerset = []\n",
    "    for j in current_powerset:\n",
    "        next_powerset.append(j + [i])\n",
    "    return next_powerset\n",
    "\n",
    "def powerset(s):\n",
    "    output = [[]]\n",
    "    for i in s:\n",
    "        output += next_sets(i, output)\n",
    "    return output\n",
    "\n",
    "s = [0,1,2]\n",
    "print(powerset(s))"
   ]
  },
  {
   "cell_type": "code",
   "execution_count": null,
   "metadata": {
    "collapsed": false
   },
   "outputs": [],
   "source": []
  }
 ],
 "metadata": {
  "kernelspec": {
   "display_name": "Python [default]",
   "language": "python",
   "name": "python3"
  },
  "language_info": {
   "codemirror_mode": {
    "name": "ipython",
    "version": 3
   },
   "file_extension": ".py",
   "mimetype": "text/x-python",
   "name": "python",
   "nbconvert_exporter": "python",
   "pygments_lexer": "ipython3",
   "version": "3.5.2"
  }
 },
 "nbformat": 4,
 "nbformat_minor": 1
}
