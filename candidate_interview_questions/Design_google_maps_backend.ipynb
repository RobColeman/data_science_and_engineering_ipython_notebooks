{
 "cells": [
  {
   "cell_type": "markdown",
   "metadata": {},
   "source": [
    "# Design the backend for google maps"
   ]
  },
  {
   "cell_type": "markdown",
   "metadata": {},
   "source": [
    "# Solution\n",
    "\n",
    "Data\n",
    "\n",
    "The core data for google maps is maps themselves.  These are stored as image tiles.  These rectangular images should be stored at several resolutions with some pointers to the neighboring tiles.  \n",
    "\n",
    "    Tile: sub-tables on resolution\n",
    "    \n",
    "    (tile_id, north_neighbor, west_neighbor, south_neighbor, east_neighbor, meta_data)\n",
    "    \n",
    "    The needed storage would be \n",
    "\n",
    "Sum_over resolutions(\n",
    "tile_size X num_tiles_of_world_at_resolition\n",
    ")\n",
    "    \n",
    "In addition, we would probably want to have places and coordinates tables, from which we could search for places/buisnesses/addresses.  WIth their meta-data, we can then access the necessary tiles.\n",
    "\n",
    "    Places/Things:\n",
    "    \n",
    "    (thing, location/gps, tile_ids at various resolutions, meta-data)\n",
    "\n",
    "\n",
    "\n",
    "If we queried for a place/thing, we would perform a search for the place, and return one or more results.  When the one place/thing of interest was determined, we can use the pointer to the tile_id and get the tile, and however many sourounding tiles we need.\n",
    "\n",
    "In addition, we may want to add additional pointers in the Tiles table to more sourounding tiles, so we don't have to do too many round-trips to get the tiles we need to fill a screen or privode a buffer around the view-screen.\n",
    "    \n",
    "By storing the tiles at different resolutions it allows us to serve at different zooms, and for different screen sizes.\n",
    "\n",
    "\n",
    "This would likely be only up to a few TB is size, and easy to manage in a distributed database.\n",
    "\n",
    "Serving the data can be with global k-v store, with replication.  We could easily have a independant version in each availability zone.\n",
    "\n",
    "Per AZ we would want a caching layer with a LRU type cache, where we keep the most commonly accessed tiles/areas."
   ]
  },
  {
   "cell_type": "markdown",
   "metadata": {},
   "source": [
    "## server architechture\n",
    "\n"
   ]
  },
  {
   "cell_type": "code",
   "execution_count": null,
   "metadata": {
    "collapsed": true
   },
   "outputs": [],
   "source": []
  }
 ],
 "metadata": {
  "kernelspec": {
   "display_name": "Python [default]",
   "language": "python",
   "name": "python3"
  },
  "language_info": {
   "codemirror_mode": {
    "name": "ipython",
    "version": 3
   },
   "file_extension": ".py",
   "mimetype": "text/x-python",
   "name": "python",
   "nbconvert_exporter": "python",
   "pygments_lexer": "ipython3",
   "version": "3.5.2"
  }
 },
 "nbformat": 4,
 "nbformat_minor": 1
}
