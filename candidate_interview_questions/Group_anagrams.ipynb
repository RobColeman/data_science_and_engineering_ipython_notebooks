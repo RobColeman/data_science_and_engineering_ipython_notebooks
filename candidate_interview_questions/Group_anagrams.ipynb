{
 "cells": [
  {
   "cell_type": "markdown",
   "metadata": {},
   "source": [
    "# Group Anagrams\n",
    "\n",
    "Given an array of strings, group anagrams together.\n",
    "\n",
    "For example, given: [\"eat\", \"tea\", \"tan\", \"ate\", \"nat\", \"bat\"]\n",
    "\n",
    "return:\n",
    "\n",
    "[\n",
    "  [\"ate\", \"eat\",\"tea\"],\n",
    "  [\"nat\",\"tan\"],\n",
    "  [\"bat\"]\n",
    "]"
   ]
  },
  {
   "cell_type": "markdown",
   "metadata": {},
   "source": [
    "## Solution\n",
    "\n",
    "Insert each word into a map, with the key being the sorted word.\n",
    "\n",
    "### Complexity\n",
    "\n",
    "The sort costs us O(KlogK) where K is the longest of the words in the list.  Passing through the list take O(N) for the N items in the list.  So, O(N*KlogK).\n",
    "\n",
    "We require space for the map, so O(N*K)\n",
    "\n",
    "## Solution 2\n",
    "\n",
    "Words are anagrams if and only if their count of letters by type are the same.  We can again create a map from the character counts '#a#b#c#d...#z' -> [list of words].  For each word, we create a new array of zeros, 26 elements long, and using an encoding map {'a' -> 0, 'b' -> 1, ..., 'z' -> 25} incriment the value at array[i].  Then strinify the list to create the key.\n",
    "\n",
    "### Complexity\n",
    "\n",
    "If we create the endocing map at the beginning, in code, that's O(C).  Creating the array of zeros costs O(C).  Couting the letters costs O(K) and we do it for every N words.  So, O(N*K).  However, for short words, the creation of the key may cost more than a KlogK sort.\n",
    "\n",
    "Space is the same."
   ]
  },
  {
   "cell_type": "code",
   "execution_count": 1,
   "metadata": {
    "collapsed": true
   },
   "outputs": [],
   "source": [
    "def solution1(words):\n",
    "    groups = {}\n",
    "    for word in words:\n",
    "        l = groups.setdefault(sorted(word), [])\n",
    "        l.append(word)\n",
    "    return groups.values()\n",
    "\n",
    "def solution2(words):\n",
    "    groups = {}\n",
    "    encoder = dict(zip('abcdefghijklmnopqrstuvwxyz', range(0,26)))\n",
    "    for word in words:\n",
    "        key = [0]*26\n",
    "        for ch in word:\n",
    "            key[encoder[ch]] += 1\n",
    "        l = groups.setdefault(''.join(key), [])\n",
    "        l.append(word)\n",
    "    return groups.values()"
   ]
  },
  {
   "cell_type": "code",
   "execution_count": null,
   "metadata": {
    "collapsed": true
   },
   "outputs": [],
   "source": []
  }
 ],
 "metadata": {
  "kernelspec": {
   "display_name": "Python [default]",
   "language": "python",
   "name": "python3"
  },
  "language_info": {
   "codemirror_mode": {
    "name": "ipython",
    "version": 3
   },
   "file_extension": ".py",
   "mimetype": "text/x-python",
   "name": "python",
   "nbconvert_exporter": "python",
   "pygments_lexer": "ipython3",
   "version": "3.5.2"
  }
 },
 "nbformat": 4,
 "nbformat_minor": 1
}
