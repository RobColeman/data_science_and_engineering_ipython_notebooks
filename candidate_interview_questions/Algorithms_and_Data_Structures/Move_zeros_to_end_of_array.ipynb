{
 "cells": [
  {
   "cell_type": "markdown",
   "metadata": {},
   "source": [
    "# Given an array of ints, move all of the zeros to the right, order of the other ints doesn't matter\n",
    "\n",
    "## Solution:\n",
    "\n",
    "There are lots of easy solutions to this, but the most intertesting one is when we can do it with constant memory, using the original array, by swapping entries.\n",
    "\n",
    "We need two pointers, one starting at index zero (the right index), and one starting at n-1 (the right index).  \n",
    "\n",
    "We test each element at a[left_idx] to see if it's zero.  \n",
    "\n",
    "If it equal to zero, we swap it with the element at a[right_idx], or the element at the left size of the last zero we moved to the end.  Since we put a zero at that index, we have to decrement right_idx.  \n",
    "\n",
    "If that element at the left_idx is not zero, we increment the left pointer.\n",
    "\n",
    "We stop when the two pointers are at the same location."
   ]
  },
  {
   "cell_type": "code",
   "execution_count": 3,
   "metadata": {
    "collapsed": false
   },
   "outputs": [
    {
     "name": "stdout",
     "output_type": "stream",
     "text": [
      "[6, 1, 2, 5, 3, 4, 0, 0, 0, 0]\n"
     ]
    }
   ],
   "source": [
    "a1 = [0,1,2,0,3,4,0,5,6,0]\n",
    "\n",
    "\n",
    "def move_zeros_to_end(a):\n",
    "    n = len(a)\n",
    "    right_idx = n - 1\n",
    "    left_idx = 0\n",
    "        \n",
    "    while left_idx < right_idx:\n",
    "        if a[left_idx] == 0:\n",
    "            a[left_idx], a[right_idx] = a[right_idx], a[left_idx]\n",
    "            right_idx -= 1\n",
    "        else:\n",
    "            left_idx += 1\n",
    "    \n",
    "    return a\n",
    "\n",
    "print(move_zeros_to_end(a1))"
   ]
  },
  {
   "cell_type": "code",
   "execution_count": null,
   "metadata": {
    "collapsed": true
   },
   "outputs": [],
   "source": []
  }
 ],
 "metadata": {
  "kernelspec": {
   "display_name": "Python [default]",
   "language": "python",
   "name": "python3"
  },
  "language_info": {
   "codemirror_mode": {
    "name": "ipython",
    "version": 3
   },
   "file_extension": ".py",
   "mimetype": "text/x-python",
   "name": "python",
   "nbconvert_exporter": "python",
   "pygments_lexer": "ipython3",
   "version": "3.5.2"
  }
 },
 "nbformat": 4,
 "nbformat_minor": 1
}
