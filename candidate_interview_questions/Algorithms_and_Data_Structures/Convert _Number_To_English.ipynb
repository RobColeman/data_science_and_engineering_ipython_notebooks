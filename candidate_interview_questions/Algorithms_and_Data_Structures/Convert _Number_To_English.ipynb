{
 "cells": [
  {
   "cell_type": "markdown",
   "metadata": {},
   "source": [
    "# Convert a number to english\n",
    "\n",
    "def convert(100) => \"One Hundred\""
   ]
  },
  {
   "cell_type": "markdown",
   "metadata": {},
   "source": [
    "## Solution\n",
    "\n",
    "The \"teen\" digits are the hardest, since there is less are uniform in their naming.  We can fix that with a simple look-up table.  We then create loop-up tables for the tens digits and the throusands digits."
   ]
  },
  {
   "cell_type": "code",
   "execution_count": 90,
   "metadata": {},
   "outputs": [],
   "source": [
    "def convert(number):\n",
    "    firstTwenty = [\"\", \"one\", \"two\", \"three\", \"four\", \"five\", \n",
    "                   \"six\", \"seven\", \"eight\", \"nine\", \"ten\", \n",
    "                   \"eleven\", \"twelve\", \"thirteen\", \"fourteen\", \n",
    "                   \"fifteen\", \"sixteen\", \"seventeen\", \"eighteen\", \"nineteen\"]\n",
    "    tens = [\"\", \"\", \"twenty\", \"thirty\", \"fourty\", \"fifty\", \"sixty\", \"seventy\", \"eighty\", \"ninty\"]\n",
    "    thousands = [\"hundred\", \"thousand\", \"million\", \"billion\", \"trillion\"]\n",
    "    \n",
    "    def teen_string(num):\n",
    "        if num < 20:\n",
    "            return firstTwenty[num]\n",
    "        else:\n",
    "            tensD = num // 10\n",
    "            onesD = num % 10\n",
    "            output = tens[tensD]\n",
    "            if not onesD == 0:\n",
    "                output += firstTwenty[onesD] + \" \"\n",
    "            return output\n",
    "    \n",
    "    def hundreds_string(num):\n",
    "        output = \"\"\n",
    "        if (num // 100) > 0:\n",
    "            output += firstTwenty[num // 100] + \"hundred \"\n",
    "            if not num % 100 == 0:\n",
    "                output += \"and \"\n",
    "        if not num % 100 == 0:\n",
    "            output += teen_string(num % 100) + \" \"\n",
    "        return output\n",
    "    \n",
    "    output = hundreds_string(number % 1000)\n",
    "    number = number // 1000\n",
    "    power = 1\n",
    "    while number > 0:\n",
    "        pNum = number % 1000\n",
    "        if pNum > 0:\n",
    "            output = hundreds_string(pNum) + thousands[power] + \", \" + output\n",
    "        number = number // 1000\n",
    "        power += 1\n",
    "        \n",
    "    # clean the end\n",
    "    while output[-1] == \" \":\n",
    "        output = output[:-1]\n",
    "        \n",
    "    return output"
   ]
  },
  {
   "cell_type": "code",
   "execution_count": 91,
   "metadata": {},
   "outputs": [
    {
     "data": {
      "text/plain": [
       "'ten million, thirty thousand, threehundred and twentyfour'"
      ]
     },
     "execution_count": 91,
     "metadata": {},
     "output_type": "execute_result"
    }
   ],
   "source": [
    "convert(10030324)"
   ]
  },
  {
   "cell_type": "code",
   "execution_count": null,
   "metadata": {
    "collapsed": true
   },
   "outputs": [],
   "source": []
  }
 ],
 "metadata": {
  "anaconda-cloud": {},
  "kernelspec": {
   "display_name": "Python 3",
   "language": "python",
   "name": "python3"
  },
  "language_info": {
   "codemirror_mode": {
    "name": "ipython",
    "version": 3
   },
   "file_extension": ".py",
   "mimetype": "text/x-python",
   "name": "python",
   "nbconvert_exporter": "python",
   "pygments_lexer": "ipython3",
   "version": "3.6.3"
  }
 },
 "nbformat": 4,
 "nbformat_minor": 1
}
