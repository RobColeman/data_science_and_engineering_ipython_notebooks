{
 "cells": [
  {
   "cell_type": "markdown",
   "metadata": {},
   "source": [
    "# Convert a number to english\n",
    "\n",
    "def convert(100) => \"One Hundred\""
   ]
  },
  {
   "cell_type": "markdown",
   "metadata": {},
   "source": [
    "## Solution\n",
    "\n",
    "The \"teen\" digits are the hardest, since there is less are uniform in their naming.  We can fix that with a simple look-up table.  We then create loop-up tables for the tens digits and the throusands digits."
   ]
  },
  {
   "cell_type": "code",
   "execution_count": 1,
   "metadata": {
    "collapsed": true
   },
   "outputs": [],
   "source": [
    "def convert(number):\n",
    "    firstTwenty = [\"zero\", \"one\", \"two\", \"three\", \"four\", \"five\", \n",
    "                   \"six\", \"seven\", \"eight\", \"nine\",\"ten\", \"eleven\", \"twelve\", \"thirteen\", \n",
    "                   \"fourteen\", \"fifteen\", \"sixteen\", \"seventeen\", \"eighteen\", \"nineteen\"]\n",
    "    tens = [\"\", \"twenty\", \"thirty\", \"fourty\", \"fifty\", \"sixty\", \"seventy\", \"eighty\", \"ninty\"]\n",
    "    thousands = [\"\", \"thousand\", \"million\", \"billion\", \"trillion\"]\n",
    "    \n",
    "    def teen_string(num):\n",
    "        if num < 20:\n",
    "            return firstTwenty[num]\n",
    "        else:\n",
    "            tensD = num//10\n",
    "            onesD = num%20\n",
    "            return tens[tensD] + \" \" + firstTwenty[onesD]\n",
    "    \n",
    "    def hundreds_string(num):\n",
    "        output = \"\"\n",
    "        if (num // 100) > 0:\n",
    "            output += firstTwenty[num // 100] + \"hundred and \"\n",
    "        output += teen_string(num % 100)\n",
    "        return output\n",
    "    \n",
    "    if number < 1000:\n",
    "        output = hundreds_string(number)\n",
    "    else:\n",
    "        power = 1\n",
    "        output = hundreds_string(number)\n",
    "        while number > 0:\n",
    "            pNum = number % 1000\n",
    "            output = hundreds_string(pNum) + \" \" + thousands[power]  + \", \" + output\n",
    "            power += 1\n",
    "            number = number // 1000\n",
    "    \n",
    "    return output"
   ]
  },
  {
   "cell_type": "code",
   "execution_count": null,
   "metadata": {
    "collapsed": true
   },
   "outputs": [],
   "source": []
  },
  {
   "cell_type": "code",
   "execution_count": null,
   "metadata": {
    "collapsed": true
   },
   "outputs": [],
   "source": []
  }
 ],
 "metadata": {
  "anaconda-cloud": {},
  "kernelspec": {
   "display_name": "Python [default]",
   "language": "python",
   "name": "python3"
  },
  "language_info": {
   "codemirror_mode": {
    "name": "ipython",
    "version": 3
   },
   "file_extension": ".py",
   "mimetype": "text/x-python",
   "name": "python",
   "nbconvert_exporter": "python",
   "pygments_lexer": "ipython3",
   "version": "3.5.2"
  }
 },
 "nbformat": 4,
 "nbformat_minor": 1
}
