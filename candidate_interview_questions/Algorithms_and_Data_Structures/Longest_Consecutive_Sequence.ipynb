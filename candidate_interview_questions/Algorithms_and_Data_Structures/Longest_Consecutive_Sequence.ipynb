{
 "cells": [
  {
   "cell_type": "markdown",
   "metadata": {},
   "source": [
    "Given an unsorted array of integers, find the length of the longest consecutive elements sequence.\n",
    "\n",
    "For example,\n",
    "Given [100, 4, 200, 1, 3, 2],\n",
    "The longest consecutive elements sequence is [1, 2, 3, 4]. Return its length: 4.\n",
    "\n",
    "Your algorithm should run in O(n) complexity."
   ]
  },
  {
   "cell_type": "markdown",
   "metadata": {},
   "source": [
    "## Solution\n",
    "\n",
    "We need to run through the set of numbers in one pass to check our sequences to achieve O(n).  \n",
    "- We can start by turning our numbers into a hashtable for fast lookup, which costs O(n).  (check if it's OK to later the unput, or if we need to create a new DS for the hash)\n",
    "- We then can walk the set, and check if there is a nubmer lower or higher.  \n",
    "- If there is a number lower, than we're in the middle of a sequence, there's no point running the sequence from the middle of we can run from the end.\n",
    "- If there is no number lower, we see how long the sequence goes, by incrimenting a pointer to the next possible number in the sequence and checking if it exists in the hashtable.\n",
    "- we keep track of the streak length, and if it's longer than the longest we've ever seen, we replace the winner with the new value.\n",
    "\n",
    "\n",
    "## Compolexity\n",
    "\n",
    "We've said that creating the hashtable costs O(n), and iterating the elements of the hashtable also costs O(n).  \n",
    "\n",
    "When we find the beginning of a sequence, we run it, but since we only start at the beginning of every sequence, we only ever run it once.\n",
    "\n",
    "The hashtable is the union of all of the sequences in the hashtable, including the sequences of length one.  So, by running every sequence once, we run the hashtable once, or O(n).\n",
    "\n",
    "So, we've done it all in O(n+n+n) or O(n).\n",
    "\n",
    "In memory, if we can destroy the array and replace it with a hashtable, we've used O(1) memory, otherwise the hashtable is an additional DS, so we need O(n) memory.  The rest is a few pointers and counters."
   ]
  },
  {
   "cell_type": "code",
   "execution_count": 9,
   "metadata": {
    "collapsed": true
   },
   "outputs": [],
   "source": [
    "def longestSequence(nums):\n",
    "    nums = set(nums) # o(n)\n",
    "    longest = 0\n",
    "    \n",
    "    # O(n)\n",
    "    for x in nums:\n",
    "        if x - 1 not in nums:\n",
    "            y = x + 1\n",
    "            streak = 1\n",
    "            # will only run if there is no conecutive int lower, so will only run each seq, once\n",
    "            # set of nums is a combination of all it's sequences\n",
    "            while y in nums:\n",
    "                streak += 1\n",
    "                y += 1\n",
    "                if streak > longest:\n",
    "                    longest = streak\n",
    "        else:\n",
    "            continue # only walk the sequence once\n",
    "    return longest"
   ]
  },
  {
   "cell_type": "code",
   "execution_count": 11,
   "metadata": {
    "collapsed": false
   },
   "outputs": [
    {
     "name": "stdout",
     "output_type": "stream",
     "text": [
      "[2, 100, 4, 3, 200, 1]\n",
      "4\n",
      "[19, 555, 444, 17, 12, 18, 14, 444, 11, 16, -1, 666, 111, 10, 222, 13, 15, 333, -30]\n",
      "10\n"
     ]
    }
   ],
   "source": [
    "from random import shuffle\n",
    "\n",
    "nums = [100, 4, 200, 1, 3, 2]\n",
    "shuffle(nums)\n",
    "print(nums)\n",
    "print(longestSequence(nums))\n",
    "\n",
    "nums = [111,222,333,444,555,666,444,-1,-30] + list(range(10,20))\n",
    "shuffle(nums)\n",
    "print(nums)\n",
    "print(longestSequence(nums))"
   ]
  },
  {
   "cell_type": "code",
   "execution_count": null,
   "metadata": {
    "collapsed": true
   },
   "outputs": [],
   "source": []
  }
 ],
 "metadata": {
  "kernelspec": {
   "display_name": "Python [default]",
   "language": "python",
   "name": "python3"
  },
  "language_info": {
   "codemirror_mode": {
    "name": "ipython",
    "version": 3
   },
   "file_extension": ".py",
   "mimetype": "text/x-python",
   "name": "python",
   "nbconvert_exporter": "python",
   "pygments_lexer": "ipython3",
   "version": "3.5.2"
  }
 },
 "nbformat": 4,
 "nbformat_minor": 1
}
