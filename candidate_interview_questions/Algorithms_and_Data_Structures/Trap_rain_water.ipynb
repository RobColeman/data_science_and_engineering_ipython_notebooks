{
 "cells": [
  {
   "cell_type": "markdown",
   "metadata": {},
   "source": [
    "# Trap rainwater\n",
    "\n",
    "Given n non-negative integers representing an elevation map where the width of each bar is 1, compute how much water it is able to trap after raining.\n",
    "\n",
    "For example, \n",
    "\n",
    "<img src=\"rainwatertrap.png\">\n",
    "\n",
    "Given [0,1,0,2,1,0,1,3,2,1,2,1], return 6."
   ]
  },
  {
   "cell_type": "markdown",
   "metadata": {},
   "source": [
    "## Solution\n",
    "\n",
    "We can solve this in one pass with a DP approach.  We initialize the amount of water we've collected with a zero.  We also initialize a column of size 0 with zeros in which we will accumulate water.\n",
    "\n",
    "We then walk through the array, and at each step, at each height in max(highest_column_we've_seen_so_far, current_height), we deal with the three cases.\n",
    "\n",
    "- both are at least this high, so we collect the accumulated water at this level, and set the accumulator back to 0\n",
    "- the new column height index is higher than we've ever seen, we make our column taller by 1\n",
    "- the new column is shorter than the height index, but shorterthe max column to the left, water could flow over, so we += 1 at this level in the accumulator column.\n",
    "\n",
    "\n",
    "## Complexity\n",
    "We'll pass through the list of blocks once (n) and we'll walk up the column or block length for each block.  So, our computation cost will be O(n*h), where h is max(blocks).\n",
    "\n",
    "The column will cost us O(h) memory, where h is max(blocks), since that will be it's maximum size.\n",
    "\n",
    "## Optimization\n",
    "\n",
    "We can speed this process up if we don't work with an explicit grid, but instead work with ranges."
   ]
  },
  {
   "cell_type": "code",
   "execution_count": 1,
   "metadata": {
    "collapsed": false
   },
   "outputs": [],
   "source": [
    "def trapRainwater(blocks):\n",
    "    column = []\n",
    "    water = 0\n",
    "    # O(h*l), where h is the max height of any given block, l is the length of the array\n",
    "    for block_h in blocks:\n",
    "        for elevation in range(max(len(column), block_h)):\n",
    "            if block_h - 1 >= elevation and len(column) > elevation:\n",
    "                # collect the accumulated water at this elevation\n",
    "                water += column[elevation]\n",
    "                column[elevation] = 0\n",
    "            elif block_h - 1 >= elevation:\n",
    "                # the new height crates a new left side wall, increase the column size\n",
    "                column.append(0)\n",
    "            else:\n",
    "                # the water could go over this wall, incriment the column at the higher levels\n",
    "                column[elevation] += 1\n",
    "    return water"
   ]
  },
  {
   "cell_type": "code",
   "execution_count": 2,
   "metadata": {
    "collapsed": false
   },
   "outputs": [],
   "source": [
    "def printBlocks(blocks):\n",
    "    mx = max(blocks)\n",
    "    l = len(blocks)\n",
    "    grid = [[0]*l for i in range(mx)]\n",
    "    for col, elev in enumerate(blocks):\n",
    "        for h in range(elev):\n",
    "            grid[mx-h-1][col] = 1\n",
    "    \n",
    "    for row in grid:\n",
    "        print(row)\n",
    "    return None"
   ]
  },
  {
   "cell_type": "code",
   "execution_count": 3,
   "metadata": {
    "collapsed": false
   },
   "outputs": [
    {
     "name": "stdout",
     "output_type": "stream",
     "text": [
      "[0, 0, 0, 0, 0, 0, 0, 1, 0, 0, 0, 0]\n",
      "[0, 0, 0, 1, 0, 0, 0, 1, 1, 0, 1, 0]\n",
      "[0, 1, 0, 1, 1, 0, 1, 1, 1, 1, 1, 1]\n",
      "water collected : 6\n",
      "\n",
      "[0, 0, 0, 0, 0, 0, 0, 1, 0, 0, 0, 0, 0]\n",
      "[0, 0, 0, 1, 0, 0, 0, 1, 1, 0, 1, 0, 1]\n",
      "[0, 1, 0, 1, 1, 0, 1, 1, 1, 1, 1, 1, 1]\n",
      "water collected : 7\n",
      "\n",
      "[0, 0, 0, 0, 0, 0, 0, 1, 0, 0, 0, 0]\n",
      "[1, 0, 0, 1, 0, 0, 0, 1, 1, 0, 1, 0]\n",
      "[1, 1, 0, 1, 1, 0, 1, 1, 1, 1, 1, 1]\n",
      "water collected : 8\n"
     ]
    }
   ],
   "source": [
    "blocks = [0,1,0,2,1,0,1,3,2,1,2,1]\n",
    "printBlocks(blocks)\n",
    "print(\"water collected : {}\".format(trapRainwater(blocks)))\n",
    "print(\"\")\n",
    "blocks = [0,1,0,2,1,0,1,3,2,1,2,1,2]\n",
    "printBlocks(blocks)\n",
    "print(\"water collected : {}\".format(trapRainwater(blocks)))\n",
    "print(\"\")\n",
    "blocks = [2,1,0,2,1,0,1,3,2,1,2,1]\n",
    "printBlocks(blocks)\n",
    "print(\"water collected : {}\".format(trapRainwater(blocks)))"
   ]
  },
  {
   "cell_type": "code",
   "execution_count": null,
   "metadata": {
    "collapsed": true
   },
   "outputs": [],
   "source": []
  }
 ],
 "metadata": {
  "anaconda-cloud": {},
  "kernelspec": {
   "display_name": "Python [default]",
   "language": "python",
   "name": "python3"
  },
  "language_info": {
   "codemirror_mode": {
    "name": "ipython",
    "version": 3
   },
   "file_extension": ".py",
   "mimetype": "text/x-python",
   "name": "python",
   "nbconvert_exporter": "python",
   "pygments_lexer": "ipython3",
   "version": "3.5.2"
  }
 },
 "nbformat": 4,
 "nbformat_minor": 1
}
