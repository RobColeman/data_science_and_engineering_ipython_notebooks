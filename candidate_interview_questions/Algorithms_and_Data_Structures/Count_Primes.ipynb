{
 "cells": [
  {
   "cell_type": "markdown",
   "metadata": {},
   "source": [
    "# Count the number of primes between 0 and n"
   ]
  },
  {
   "cell_type": "markdown",
   "metadata": {},
   "source": [
    "# Solution\n",
    "\n",
    "Keep a boolean array of length n, all set to true.  Set arr[0], arr[1] to false. \n",
    "\n",
    "Walk the array from 2 to the sqrt of n, and if something is a prime, set arr[j] to false for all j in the range of i^2 to n by steps of i.  This represents the integers of i * x within our range, all values which are not prime."
   ]
  },
  {
   "cell_type": "code",
   "execution_count": 11,
   "metadata": {
    "collapsed": true
   },
   "outputs": [],
   "source": [
    "def countPrimes(n):\n",
    "    if n < 3:\n",
    "        return 0\n",
    "    primes = [True] * n\n",
    "    primes[0] = primes[1] = False\n",
    "    for i in range(2, int(n ** 0.5) + 1):\n",
    "        if primes[i]:\n",
    "            primes[i * i: n: i] = [False] * len(primes[i * i: n: i])\n",
    "    return sum(primes)\n",
    "\n",
    "def run(n):\n",
    "    n_primes = countPrimes(n)\n",
    "    print(\"There are {} primes between 0 and {}\".format(n_primes, n))\n",
    "    return None"
   ]
  },
  {
   "cell_type": "code",
   "execution_count": 12,
   "metadata": {},
   "outputs": [
    {
     "name": "stdout",
     "output_type": "stream",
     "text": [
      "There are 25 primes between 0 and 100\n"
     ]
    }
   ],
   "source": [
    "run(100)"
   ]
  },
  {
   "cell_type": "code",
   "execution_count": null,
   "metadata": {},
   "outputs": [],
   "source": []
  }
 ],
 "metadata": {
  "kernelspec": {
   "display_name": "Python 3",
   "language": "python",
   "name": "python3"
  },
  "language_info": {
   "codemirror_mode": {
    "name": "ipython",
    "version": 3
   },
   "file_extension": ".py",
   "mimetype": "text/x-python",
   "name": "python",
   "nbconvert_exporter": "python",
   "pygments_lexer": "ipython3",
   "version": "3.6.3"
  }
 },
 "nbformat": 4,
 "nbformat_minor": 2
}
