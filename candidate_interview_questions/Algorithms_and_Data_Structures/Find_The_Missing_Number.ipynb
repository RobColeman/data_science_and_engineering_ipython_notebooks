{
 "cells": [
  {
   "cell_type": "markdown",
   "metadata": {},
   "source": [
    "# Find the missing number in n-1 numbers\n",
    "\n",
    "You're given an array of unsorted numbers in range 1 to n, of length n-1, with one missing.  Find the missing number\n",
    "\n",
    "Solution:\n",
    "    \n",
    "    The sum of all integers from 1 to n is n*(n+1)/2\n",
    "    We can then do this in O(n-1) with constant extra memory\n",
    "    \n",
    "    Another approach is to create a set/hashtable of numbers from 1 to n, \n",
    "    and walk the array, popping elements from the hash table until we're left with the last one.\n",
    "    This costs O(2*n) compute and O(n) extra memory."
   ]
  },
  {
   "cell_type": "code",
   "execution_count": 2,
   "metadata": {},
   "outputs": [
    {
     "name": "stdout",
     "output_type": "stream",
     "text": [
      "4\n",
      "4\n"
     ]
    }
   ],
   "source": [
    "from random import shuffle\n",
    "\n",
    "def find_missing_number(arr):\n",
    "    n = len(arr) + 1 # O(1)\n",
    "    expected_sum = int(n * (n + 1) / 2)\n",
    "    s = sum(arr) # O(n)\n",
    "    return expected_sum - s\n",
    "\n",
    "arr = list(range(1,11))\n",
    "shuffle(arr)\n",
    "print(arr.pop(4))\n",
    "print(find_missing_number(arr))"
   ]
  },
  {
   "cell_type": "code",
   "execution_count": null,
   "metadata": {
    "collapsed": true
   },
   "outputs": [],
   "source": []
  }
 ],
 "metadata": {
  "kernelspec": {
   "display_name": "Python 3",
   "language": "python",
   "name": "python3"
  },
  "language_info": {
   "codemirror_mode": {
    "name": "ipython",
    "version": 3
   },
   "file_extension": ".py",
   "mimetype": "text/x-python",
   "name": "python",
   "nbconvert_exporter": "python",
   "pygments_lexer": "ipython3",
   "version": "3.6.3"
  }
 },
 "nbformat": 4,
 "nbformat_minor": 2
}
