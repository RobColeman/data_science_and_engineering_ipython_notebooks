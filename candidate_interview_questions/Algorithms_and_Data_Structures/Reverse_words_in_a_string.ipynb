{
 "cells": [
  {
   "cell_type": "markdown",
   "metadata": {},
   "source": [
    "Given an input string, reverse the string word by word.\n",
    "\n",
    "For example,\n",
    "Given s = \"the sky is blue\",\n",
    "return \"blue is sky the\".\n",
    "\n",
    "Try to solve in-place with O(1) memory"
   ]
  },
  {
   "cell_type": "markdown",
   "metadata": {},
   "source": [
    "## Solution\n",
    "\n",
    "- can we mutate the input?\n",
    "\n",
    "We can do this with two pointers, one that starts at the beginning of the string (pl) and one that starts at the end (pr).  \n",
    "\n",
    "We start a loop.  At each step we do the following\n",
    "\n",
    "- if we've have not found a space, we're still in the current last word, so we decriment the right pointer\n",
    "- once we've found a space, we take the characters at pr+1 to the end and put them between the left pointer and the portion of the string from pl to pr, and add a space.  We need to incriment the left pointer by the amount equal to the size of the word we just moved, and we need to reset the right pointer to the end of the string.\n",
    "- once the left pointer and the right pointer touch, we stop\n",
    "\n",
    "### Complexity\n",
    "\n",
    "We move the pointers through the string once, so the compute is technically O(N), where N is the length of the string.  However, if we create and destroy the string each time, we're spending O(w) compute to create and destroy strings, which could be more costly than the pass through the string.  \n",
    "\n",
    "By overwritting the string, we're using constant memory."
   ]
  },
  {
   "cell_type": "code",
   "execution_count": 18,
   "metadata": {
    "collapsed": false
   },
   "outputs": [
    {
     "name": "stdout",
     "output_type": "stream",
     "text": [
      "last thing another something\n",
      "order correct the in are words these\n"
     ]
    }
   ],
   "source": [
    "def reverseWords(words):\n",
    "    pl = 0\n",
    "    l = len(words)\n",
    "    pr = l - 1\n",
    "    while pl < pr:\n",
    "        if words[pr] == \" \":\n",
    "            words = words[:pl] + words[pr+1:] + \" \" + words[pl:pr]\n",
    "            pl += l - pr\n",
    "            pr = l - 1\n",
    "        else:\n",
    "            pr -= 1\n",
    "    return words\n",
    "\n",
    "print(reverseWords(\"something another thing last\"))\n",
    "print(reverseWords(\"these words are in the correct order\"))"
   ]
  },
  {
   "cell_type": "code",
   "execution_count": null,
   "metadata": {
    "collapsed": true
   },
   "outputs": [],
   "source": []
  }
 ],
 "metadata": {
  "anaconda-cloud": {},
  "kernelspec": {
   "display_name": "Python [default]",
   "language": "python",
   "name": "python3"
  },
  "language_info": {
   "codemirror_mode": {
    "name": "ipython",
    "version": 3
   },
   "file_extension": ".py",
   "mimetype": "text/x-python",
   "name": "python",
   "nbconvert_exporter": "python",
   "pygments_lexer": "ipython3",
   "version": "3.5.2"
  }
 },
 "nbformat": 4,
 "nbformat_minor": 1
}
