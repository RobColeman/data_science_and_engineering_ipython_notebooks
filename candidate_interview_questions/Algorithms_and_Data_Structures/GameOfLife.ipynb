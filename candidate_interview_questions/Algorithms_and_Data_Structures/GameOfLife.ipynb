{
 "cells": [
  {
   "cell_type": "markdown",
   "metadata": {},
   "source": [
    "# Game of Life\n",
    "\n",
    "According to the Wikipedia's article: \"The Game of Life, also known simply as Life, is a cellular automaton devised by the British mathematician John Horton Conway in 1970.\"\n",
    "\n",
    "Given a board with m by n cells, each cell has an initial state live (1) or dead (0). Each cell interacts with its eight neighbors (horizontal, vertical, diagonal) using the following four rules (taken from the above Wikipedia article):\n",
    "\n",
    "- Any live cell with fewer than two live neighbors dies, as if caused by under-population.\n",
    "- Any live cell with two or three live neighbors lives on to the next generation.\n",
    "- Any live cell with more than three live neighbors dies, as if by over-population..\n",
    "- Any dead cell with exactly three live neighbors becomes a live cell, as if by reproduction.\n",
    "\n",
    "Write a function to compute the next state (after one update) of the board given its current state.\n",
    "\n",
    "Follow up: \n",
    "Could you solve it in-place? Remember that the board needs to be updated at the same time: You cannot update some cells first and then use their updated values to update other cells.\n",
    "\n",
    "In this question, we represent the board using a 2D array. In principle, the board is infinite, which would cause problems when the active area encroaches the border of the array. How would you address these problems?"
   ]
  },
  {
   "cell_type": "markdown",
   "metadata": {},
   "source": [
    "# Solution\n",
    "\n",
    "We can walk the array and compute the values for the next step.  If we want to do this in place, we have to update the board in a special way, keeping track of the past and future state.\n",
    "\n",
    "\n",
    "- A cell that was zero, and remains zero is still labeled 0\n",
    "- A cell that was zero, and will become one is labeled 2\n",
    "\n",
    "- A cell that was one and remains one is still a 1\n",
    "- A cell that was one and and becomes zero is labeled 3\n",
    "\n",
    "Therefor when we check neighbors, we include 1 and 3 as currently alive, and we include 0 and 2 as currently not-alive.\n",
    "\n",
    "We then need to do a second pass to re-code the values back to 0s and 1s.\n",
    "\n",
    "## Complexity\n",
    "\n",
    "This will cost us two passes through the 2d array, one to count alive neighbors and encode for the next phase, and one to recode the board back to ones and zeros."
   ]
  },
  {
   "cell_type": "code",
   "execution_count": 4,
   "metadata": {
    "collapsed": false
   },
   "outputs": [],
   "source": [
    "def gameOfLifeStep(board):\n",
    "    h = len(board)\n",
    "    w = len(board[0])\n",
    "    \n",
    "    def isAlive(idx, delta):\n",
    "        nonlocal board, h, w\n",
    "        dx, dy = delta\n",
    "        x, y = idx\n",
    "        x += dx\n",
    "        y += dy\n",
    "        \n",
    "        if x > -1 and x < w and y > -1 and y < h:\n",
    "            if board[y][x] == 1 or board[y][x] == 3:\n",
    "                return 1\n",
    "            else:\n",
    "                return 0\n",
    "        else:\n",
    "            return 0\n",
    "    \n",
    "    def encode(x, y, alive_neighbors):\n",
    "        nonlocal board\n",
    "        if board[y][x] == 0:\n",
    "            if alive_neighbors == 3:\n",
    "                return 2\n",
    "            else:\n",
    "                return 0\n",
    "        else:\n",
    "            if alive_neighbors < 2:\n",
    "                return 3\n",
    "            elif alive_neighbors == 2 or alive_neighbors == 3:\n",
    "                return 1\n",
    "            else:\n",
    "                return 3\n",
    "            \n",
    "    def recode(v):\n",
    "        if v == 1 or v == 2:\n",
    "            return 1\n",
    "        else:\n",
    "            return 0\n",
    "    \n",
    "    neighbors_deltas = [[-1, -1], [0, -1], [1, -1], [-1, 0], [1, 0], [-1, 1], [0, 1], [1, 1]]\n",
    "    # O(n)\n",
    "    for ix in range(w):\n",
    "        for iy in range(h):\n",
    "            alive_neighbors = 0\n",
    "            for n_delta in neighbors_deltas:\n",
    "                alive_neighbors += isAlive([ix, iy], n_delta)\n",
    "            \n",
    "            board[iy][ix] = encode(ix, iy, alive_neighbors)\n",
    "    #O(n)       \n",
    "    for ix in range(w):\n",
    "        for iy in range(h):\n",
    "            board[iy][ix] = recode(board[iy][ix])\n",
    "    \n",
    "    return board"
   ]
  },
  {
   "cell_type": "code",
   "execution_count": null,
   "metadata": {
    "collapsed": true
   },
   "outputs": [],
   "source": []
  }
 ],
 "metadata": {
  "kernelspec": {
   "display_name": "Python [default]",
   "language": "python",
   "name": "python3"
  },
  "language_info": {
   "codemirror_mode": {
    "name": "ipython",
    "version": 3
   },
   "file_extension": ".py",
   "mimetype": "text/x-python",
   "name": "python",
   "nbconvert_exporter": "python",
   "pygments_lexer": "ipython3",
   "version": "3.5.2"
  }
 },
 "nbformat": 4,
 "nbformat_minor": 1
}
