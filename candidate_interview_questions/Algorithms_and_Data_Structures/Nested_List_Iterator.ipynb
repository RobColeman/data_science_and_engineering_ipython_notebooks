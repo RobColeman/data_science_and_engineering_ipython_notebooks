{
 "cells": [
  {
   "cell_type": "markdown",
   "metadata": {},
   "source": [
    "# Impliment a nested list iterator\n",
    "\n",
    "Given a nested list of integers, implement an iterator to flatten it.\n",
    "\n",
    "Each element is either an integer, or a list -- whose elements may also be integers or other lists.\n",
    "\n",
    "Example 1:\n",
    "    \n",
    "Given the list [[1,1],2,[1,1]],\n",
    "\n",
    "By calling next repeatedly until hasNext returns false, the order of elements returned by next should be: [1,1,2,1,1].\n",
    "\n",
    "Example 2:\n",
    "    \n",
    "Given the list [1,[4,[6]]],\n",
    "\n",
    "By calling next repeatedly until hasNext returns false, the order of elements returned by next should be: [1,4,6]."
   ]
  },
  {
   "cell_type": "markdown",
   "metadata": {},
   "source": [
    "## Solution\n",
    "\n",
    "It should be appearent that when diving into list, we're performing the sampe operation at each level.  This should lead us to a recursive solution.\n",
    "\n",
    "WE initialize the class with some housekeeping variables\n",
    "\n",
    "- the list\n",
    "- an index\n",
    "- the length\n",
    "- a pointer to the next item to return, either an none, an int or another iterator of a nested list\n",
    "\n",
    "Then we need a method to move to the next item in the list.  In this we\n",
    "\n",
    "- iterate the index\n",
    "- check if we've hit the end\n",
    "- check if the item at the updated index is an int, if it is, we point to it\n",
    "- otherwise we've hit a list, and we create a nested iterator, and point to it\n",
    "\n",
    "Then, the .next() method, we check the pointer:\n",
    "\n",
    "- if it's none, we return the none\n",
    "- if it's an int, we get the int, call advance, and return the int\n",
    "- if it's an iterator, we call .next on the iterator\n",
    "\n",
    "- if the iterator returns a value, we return that value\n",
    "- if it returns a none, we call advance, then call next on ourselves again\n",
    "\n",
    "## Complexity\n",
    "\n",
    "On average, we'll be returning next in constant time.  However, we will sometimes be creating iterators at next calls, so there will be some constuction cost.  The O of construction will be O(m) where m is the depth of the deepest nesting.\n",
    "\n",
    "In memory, we'll have the overhead of the iterator, plus O(m) * the overhead of the iterator, where m is the depth of the deepest nesting."
   ]
  },
  {
   "cell_type": "code",
   "execution_count": 38,
   "metadata": {
    "collapsed": false
   },
   "outputs": [],
   "source": [
    "class NestedListIterator:\n",
    "    \n",
    "    def __init__(self, l):\n",
    "        self.l = l\n",
    "        self.idx = -1\n",
    "        self.n = len(self.l)\n",
    "        self.n_item = None\n",
    "        self._advance()\n",
    "    \n",
    "    \n",
    "    def _advance(self):\n",
    "        self.idx += 1\n",
    "        if self.idx >= self.n:\n",
    "            self.n_item = None\n",
    "        elif type(self.l[self.idx]) == int:\n",
    "            self.n_item = self.l[self.idx]\n",
    "        else:\n",
    "            self.n_item = NestedListIterator(self.l[self.idx])\n",
    "    \n",
    "    \n",
    "    def next(self):\n",
    "        if self.n_item == None:\n",
    "            return None\n",
    "        elif type(self.n_item) == int:\n",
    "            out = self.n_item\n",
    "            self._advance()\n",
    "            return out\n",
    "        else:\n",
    "            # iterator is next item\n",
    "            out = self.n_item.next()\n",
    "            if out:\n",
    "                # keep self.n_item\n",
    "                # don't update idx\n",
    "                return out\n",
    "            else:\n",
    "                self._advance()\n",
    "                return self.next()\n",
    "\n",
    "def print_all(l):\n",
    "    print(l)\n",
    "    itr = NestedListIterator(l)\n",
    "    while True:\n",
    "        n = itr.next()\n",
    "        if n:\n",
    "            print(n)\n",
    "        else:\n",
    "            break"
   ]
  },
  {
   "cell_type": "code",
   "execution_count": 39,
   "metadata": {
    "collapsed": false
   },
   "outputs": [
    {
     "name": "stdout",
     "output_type": "stream",
     "text": [
      "[[1, 1], 2, [1, 1]]\n",
      "1\n",
      "1\n",
      "2\n",
      "1\n",
      "1\n",
      "\n",
      "[1, [4, [6]]]\n",
      "1\n",
      "4\n",
      "6\n"
     ]
    }
   ],
   "source": [
    "l = [[1,1],2,[1,1]]\n",
    "print_all(l)\n",
    "\n",
    "print(\"\")\n",
    "l = [1,[4,[6]]]\n",
    "print_all(l)"
   ]
  },
  {
   "cell_type": "code",
   "execution_count": null,
   "metadata": {
    "collapsed": true
   },
   "outputs": [],
   "source": []
  }
 ],
 "metadata": {
  "kernelspec": {
   "display_name": "Python [default]",
   "language": "python",
   "name": "python3"
  },
  "language_info": {
   "codemirror_mode": {
    "name": "ipython",
    "version": 3
   },
   "file_extension": ".py",
   "mimetype": "text/x-python",
   "name": "python",
   "nbconvert_exporter": "python",
   "pygments_lexer": "ipython3",
   "version": "3.5.2"
  }
 },
 "nbformat": 4,
 "nbformat_minor": 1
}
