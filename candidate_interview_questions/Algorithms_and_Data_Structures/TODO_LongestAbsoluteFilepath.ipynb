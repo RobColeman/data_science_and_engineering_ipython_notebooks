{
 "cells": [
  {
   "cell_type": "markdown",
   "metadata": {},
   "source": [
    "\n",
    "\n",
    "Suppose we abstract our file system by a string in the following manner:\n",
    "\n",
    "The string \"dir\\n\\tsubdir1\\n\\tsubdir2\\n\\t\\tfile.ext\" represents:\n",
    "\n",
    "The directory dir contains an empty sub-directory subdir1 and a sub-directory subdir2 containing a file file.ext.\n",
    "\n",
    "The string \"dir\\n\\tsubdir1\\n\\t\\tfile1.ext\\n\\t\\tsubsubdir1\\n\\tsubdir2\\n\\t\\tsubsubdir2\\n\\t\\t\\tfile2.ext\" represents:\n",
    "\n",
    "The directory dir contains two sub-directories subdir1 and subdir2. subdir1 contains a file file1.ext and an empty second-level sub-directory subsubdir1. subdir2 contains a second-level sub-directory subsubdir2 containing a file file2.ext.\n",
    "\n",
    "We are interested in finding the longest (number of characters) absolute path to a file within our file system. For example, in the second example above, the longest absolute path is \"dir/subdir2/subsubdir2/file2.ext\", and its length is 32 (not including the double quotes).\n",
    "\n",
    "Given a string representing the file system in the above format, return the length of the longest absolute path to file in the abstracted file system. If there is no file in the system, return 0.\n",
    "\n",
    "Note:\n",
    "- The name of a file contains at least a . and an extension.\n",
    "- The name of a directory or sub-directory will not contain a ..\n",
    "- Time complexity required: O(n) where n is the size of the input string.\n",
    "\n",
    "Notice that a/aa/aaa/file1.txt is not the longest file path, if there is another path aaaaaaaaaaaaaaaaaaaaa/sth.png.\n",
    "\n"
   ]
  },
  {
   "cell_type": "markdown",
   "metadata": {},
   "source": [
    "# Solution\n"
   ]
  },
  {
   "cell_type": "code",
   "execution_count": null,
   "metadata": {
    "collapsed": true
   },
   "outputs": [],
   "source": [
    "def lengthLongestPath(self, input):\n",
    "    \"\"\"\n",
    "    :type input: str\n",
    "    :rtype: int\n",
    "    \"\"\"\n",
    "    n = len(input)\n",
    "    \n",
    "    depth = 0\n",
    "    curr_subpath = []\n",
    "    \n",
    "    longest_path = \"\"\n",
    "    \n",
    "    extension = False\n",
    "    \n",
    "    pl = 0\n",
    "    pr = 0\n",
    "    \n",
    "    while pr < n:\n",
    "        \n",
    "        if input[pr] == '.':\n",
    "            extension = True\n",
    "            pr += 1\n",
    "            \n",
    "        if input[pr] == \"\\\\\":\n",
    "            if extension:\n",
    "                curr_path = \"\\\\\".join(curr_subpath) + \"\\\\\" + input[pl:pr]\n",
    "                if len(curr_path) > longest_path:\n",
    "                    longest_path = curr_path\n",
    "                pl = pr\n",
    "                pr += 1\n",
    "                \n",
    "            \n",
    "        \n",
    "        if input[pr] == \"\\\\\" and input[pr+1] == \"t\":\n",
    "            \n",
    "            pr += 2\n",
    "            depth += 1\n",
    "            \n",
    "        if input[]\n",
    "            \n",
    "        \n",
    "        \n",
    "        \n",
    "        \n",
    "\n",
    "    \n",
    "    return longest_path\n",
    "        "
   ]
  }
 ],
 "metadata": {
  "kernelspec": {
   "display_name": "Python [default]",
   "language": "python",
   "name": "python3"
  },
  "language_info": {
   "codemirror_mode": {
    "name": "ipython",
    "version": 3
   },
   "file_extension": ".py",
   "mimetype": "text/x-python",
   "name": "python",
   "nbconvert_exporter": "python",
   "pygments_lexer": "ipython3",
   "version": "3.5.2"
  }
 },
 "nbformat": 4,
 "nbformat_minor": 1
}
