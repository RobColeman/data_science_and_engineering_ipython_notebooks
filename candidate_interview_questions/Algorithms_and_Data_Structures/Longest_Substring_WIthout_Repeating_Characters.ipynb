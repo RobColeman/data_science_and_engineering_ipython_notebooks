{
 "cells": [
  {
   "cell_type": "markdown",
   "metadata": {},
   "source": [
    "# Given a string, find the length of the longest substring without repeating characters."
   ]
  },
  {
   "cell_type": "markdown",
   "metadata": {},
   "source": [
    "## Solution\n",
    "\n",
    "Dynamic Progamming.\n",
    "\n",
    "We need to walk the string with two pointers, a right (rp) and a left (lp) pointer.  We keep track of all of the characters in the current sub-string with a set for constant time lookup.  Lastly, we need a to keep track of the best solution so far.\n",
    "\n",
    "We run a while loop until the right pointer passes the end of the string.\n",
    "\n",
    "We start the loop with lp = 0, rp = 1, longest = 1 and chars = set([string[0]]).\n",
    "\n",
    "At each iteration, we check to see if the character to the right of rp is in the set already, \n",
    "- if it is, we remove the character at lp from the set and advance lp\n",
    "- if it is not, we add that character to the set and advance rp.  We also check to see if we've exceeded the previous longest, if so we update.\n",
    "\n",
    "## Complexity\n",
    "\n",
    "We run the string length at most twice (or as near enough to be) so time-complexity is O(n).\n",
    "\n",
    "Space complexity depends on the cardinality of the character sets we derive our strings from. In terms of n, it's O(n), but if we have are using the lower-case english alphabet, the set will never exceed 26 chars in size, 52 if upper and lower, 62 if including digits.  If we're using something like unicode characters, then we're more likely to hit our upepr bound with n."
   ]
  },
  {
   "cell_type": "code",
   "execution_count": 32,
   "metadata": {},
   "outputs": [],
   "source": [
    "def find_longest_non_repeating_substring(s):\n",
    "    if len(s) < 2:\n",
    "        return s\n",
    "    lp = 0\n",
    "    rp = 1\n",
    "    longest = 1\n",
    "    chars = set([s[0]])\n",
    "    # O(2n) or O(n)\n",
    "    while rp < len(s):\n",
    "        if s[rp] in chars:\n",
    "            # advance lp, remove from char-set\n",
    "            chars.remove(s[lp])\n",
    "            lp += 1\n",
    "        else:\n",
    "            # add to charset, advance rp\n",
    "            chars.add(s[rp])\n",
    "            rp += 1\n",
    "            if rp - lp > longest:\n",
    "                longest = rp - lp\n",
    "                \n",
    "    return longest\n",
    "\n",
    "def run(s):\n",
    "    res = find_longest_non_repeating_substring(s)\n",
    "    print(\"The longest, non-repeating, substring in '{}' is of length {}\".format(s, res))\n",
    "    return None"
   ]
  },
  {
   "cell_type": "code",
   "execution_count": 33,
   "metadata": {},
   "outputs": [
    {
     "name": "stdout",
     "output_type": "stream",
     "text": [
      "The longest, non-repeating, substring in 'abcabcbb' is of length 3\n",
      "The longest, non-repeating, substring in 'bbbbb' is of length 1\n",
      "The longest, non-repeating, substring in 'pwwkew' is of length 3\n",
      "The longest, non-repeating, substring in 'abcdefghicjklmnoapqrstiuvwxyz' is of length 20\n"
     ]
    }
   ],
   "source": [
    "run(\"abcabcbb\")\n",
    "run(\"bbbbb\")\n",
    "run(\"pwwkew\")\n",
    "run(\"abcdefghicjklmnoapqrstiuvwxyz\")"
   ]
  },
  {
   "cell_type": "code",
   "execution_count": null,
   "metadata": {},
   "outputs": [],
   "source": []
  }
 ],
 "metadata": {
  "kernelspec": {
   "display_name": "Python 3",
   "language": "python",
   "name": "python3"
  },
  "language_info": {
   "codemirror_mode": {
    "name": "ipython",
    "version": 3
   },
   "file_extension": ".py",
   "mimetype": "text/x-python",
   "name": "python",
   "nbconvert_exporter": "python",
   "pygments_lexer": "ipython3",
   "version": "3.6.3"
  }
 },
 "nbformat": 4,
 "nbformat_minor": 2
}
