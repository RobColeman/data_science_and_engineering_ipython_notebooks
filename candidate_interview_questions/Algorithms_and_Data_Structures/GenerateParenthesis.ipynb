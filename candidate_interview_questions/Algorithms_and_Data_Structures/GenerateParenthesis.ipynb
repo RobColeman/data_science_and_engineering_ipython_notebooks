{
 "cells": [
  {
   "cell_type": "markdown",
   "metadata": {},
   "source": [
    "Given n pairs of parentheses, write a function to generate all combinations of well-formed parentheses.\n",
    "\n",
    "For example, given n = 3, a solution set is:\n",
    "\n",
    "[\n",
    "  \"((()))\",\n",
    "  \"(()())\",\n",
    "  \"(())()\",\n",
    "  \"()(())\",\n",
    "  \"()()()\"\n",
    "]"
   ]
  },
  {
   "cell_type": "markdown",
   "metadata": {},
   "source": [
    "## Solution\n",
    "\n",
    "\n",
    "\n",
    "We can think of the solutions as processing paths, or a tree of processing paths.  If we Deapth First down the left parans processing paths we get\n",
    "\n",
    "- (, (, (, ), ), )\n",
    "\n",
    "if we climb back up and go down again we get,\n",
    "\n",
    "- (, (, ), (, ), )\n",
    "\n",
    "and return the recursion again\n",
    "\n",
    "- (, ), (, (, ), )\n",
    "\n",
    "and one last time\n",
    "\n",
    "- (, ), (, ), (, )\n",
    "\n",
    "So, as we can see, the solution is is a DF traversal, were we traverse left first.\n",
    "\n",
    "\n",
    "## Complexity\n",
    "\n",
    "Given we're traversing a binary tree, our compute and memory complexity will be related to the size of a binary tree with hight 'n'.\n",
    "\n",
    "The compute complexity will be the number of nodes in a binary tree of height 'n', which is 2^(h+1) - 1.\n",
    "\n",
    "The memory footprint will be O(2*n * 2^n ), where 2*n is the size of the string for each solution, and 2^n is the number of solutions."
   ]
  },
  {
   "cell_type": "code",
   "execution_count": 35,
   "metadata": {
    "collapsed": true
   },
   "outputs": [],
   "source": [
    "def generateParenthesis(n):\n",
    "    \n",
    "    def generate(p, left, right, parens=[]):\n",
    "        \n",
    "        if left:\n",
    "            # lets depth first down the left side\n",
    "            generate(p + '(', left-1, right)\n",
    "            \n",
    "        if right > left: \n",
    "            # as we return from the left processing \n",
    "            # there are more left than right, so lets close some\n",
    "            generate(p + ')', left, right-1)\n",
    "            \n",
    "        if not right:   \n",
    "            # we've exaused all the parens\n",
    "            parens.append(p)\n",
    "            \n",
    "        return parens\n",
    "    \n",
    "    return generate('', n, n)"
   ]
  },
  {
   "cell_type": "code",
   "execution_count": 36,
   "metadata": {
    "collapsed": false
   },
   "outputs": [
    {
     "name": "stdout",
     "output_type": "stream",
     "text": [
      "['']\n",
      "['()']\n",
      "['(())', '()()']\n",
      "['((()))', '(()())', '(())()', '()(())', '()()()']\n"
     ]
    }
   ],
   "source": [
    "for i in range(4):\n",
    "    print(generateParenthesis(i))\n"
   ]
  },
  {
   "cell_type": "code",
   "execution_count": null,
   "metadata": {
    "collapsed": true
   },
   "outputs": [],
   "source": []
  }
 ],
 "metadata": {
  "kernelspec": {
   "display_name": "Python [default]",
   "language": "python",
   "name": "python3"
  },
  "language_info": {
   "codemirror_mode": {
    "name": "ipython",
    "version": 3
   },
   "file_extension": ".py",
   "mimetype": "text/x-python",
   "name": "python",
   "nbconvert_exporter": "python",
   "pygments_lexer": "ipython3",
   "version": "3.5.2"
  }
 },
 "nbformat": 4,
 "nbformat_minor": 1
}
