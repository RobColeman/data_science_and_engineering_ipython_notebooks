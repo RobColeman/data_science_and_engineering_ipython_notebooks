{
 "cells": [
  {
   "cell_type": "markdown",
   "metadata": {},
   "source": [
    "# Find if a name, from a list of names, exists in a document.  \n",
    "\n",
    "### Do it in O(n) time."
   ]
  },
  {
   "cell_type": "markdown",
   "metadata": {
    "collapsed": true
   },
   "source": [
    "##  Solution\n",
    "\n",
    "Build a trie/suffix tree from the list of names, with spaces.  This is pre-processing, so it won't effect the run-time cost of the algorithm.  Then walk the documnet, and test the trie at each word.  You can return a full list of names in the doc if you choose.\n",
    "\n",
    "## Complexity\n",
    "This should run in O(k * n), where k is the average length of the words/names in the tree.  For large n, the k is negligable, so basically O(n).\n",
    "\n",
    "We'll need space for the trie."
   ]
  },
  {
   "cell_type": "code",
   "execution_count": null,
   "metadata": {},
   "outputs": [],
   "source": []
  }
 ],
 "metadata": {
  "kernelspec": {
   "display_name": "Python 3",
   "language": "python",
   "name": "python3"
  },
  "language_info": {
   "codemirror_mode": {
    "name": "ipython",
    "version": 3
   },
   "file_extension": ".py",
   "mimetype": "text/x-python",
   "name": "python",
   "nbconvert_exporter": "python",
   "pygments_lexer": "ipython3",
   "version": "3.6.3"
  }
 },
 "nbformat": 4,
 "nbformat_minor": 2
}
