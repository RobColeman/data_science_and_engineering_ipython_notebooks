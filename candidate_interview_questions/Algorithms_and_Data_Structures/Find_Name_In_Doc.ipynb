{
 "cells": [
  {
   "cell_type": "markdown",
   "metadata": {},
   "source": [
    "# Find if a name, from a list of names, exists in a document.  Do this in O(n) time.\n",
    "\n",
    "Solution:\n",
    "\n",
    "Build a trie/suffix tree from the list of names, with spaces.  This is pre-processing, so it won't effect the run-time cost of the algorithm.  Then walk the documnet, and test the trie at each word.  You can return a full list of names in the doc if you choose.\n",
    "\n",
    "This should run in O(k*n), where k is the average length of the words/names in the tree.  For large n, the k is negligable, so basically O(n)."
   ]
  },
  {
   "cell_type": "code",
   "execution_count": null,
   "metadata": {
    "collapsed": true
   },
   "outputs": [],
   "source": []
  }
 ],
 "metadata": {
  "kernelspec": {
   "display_name": "Python [default]",
   "language": "python",
   "name": "python3"
  },
  "language_info": {
   "codemirror_mode": {
    "name": "ipython",
    "version": 3
   },
   "file_extension": ".py",
   "mimetype": "text/x-python",
   "name": "python",
   "nbconvert_exporter": "python",
   "pygments_lexer": "ipython3",
   "version": "3.6.1"
  }
 },
 "nbformat": 4,
 "nbformat_minor": 2
}
