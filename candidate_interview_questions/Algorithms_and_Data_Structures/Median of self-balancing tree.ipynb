{
 "cells": [
  {
   "cell_type": "markdown",
   "metadata": {},
   "source": [
    "# Given a self-balancing tree (AVL tree), find the median value of the keys.\n",
    "\n",
    "Solution:\n",
    "\n",
    "For a BST, which an AVL is, we can keep track of the number of nodes in the left and right sub-trees in constant additional time.  If we can do this, we can start at the root, and compare left.size vs right.size, and traverse to whichever size is larger, repeating until left.size and right.size match.  This can be done in O(logN).\n",
    "\n",
    "If we cannot do this, we must do a DFS of the tree.  When doing the DFS, we put the values into an auxillary array.  Once we're done with the traversal, we get the median value by selecting the n/2 index of the array.  This takes O(n) for the traversal and O(n) additional space for the array."
   ]
  },
  {
   "cell_type": "code",
   "execution_count": null,
   "metadata": {
    "collapsed": true
   },
   "outputs": [],
   "source": []
  }
 ],
 "metadata": {
  "kernelspec": {
   "display_name": "Python 3",
   "language": "python",
   "name": "python3"
  },
  "language_info": {
   "codemirror_mode": {
    "name": "ipython",
    "version": 3
   },
   "file_extension": ".py",
   "mimetype": "text/x-python",
   "name": "python",
   "nbconvert_exporter": "python",
   "pygments_lexer": "ipython3",
   "version": "3.6.3"
  }
 },
 "nbformat": 4,
 "nbformat_minor": 1
}
