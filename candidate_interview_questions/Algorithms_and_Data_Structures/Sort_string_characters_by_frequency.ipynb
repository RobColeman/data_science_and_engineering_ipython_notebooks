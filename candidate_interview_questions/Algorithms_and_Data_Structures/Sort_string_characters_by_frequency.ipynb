{
 "cells": [
  {
   "cell_type": "markdown",
   "metadata": {},
   "source": [
    "# Sort string characters by frequency\n",
    "\n",
    "given a string, return the characters of the string in order of their frequency.\n",
    "\n",
    "e.g.\n",
    "\n",
    "input:\n",
    "\n",
    "\"tree\"\n",
    "\n",
    "output:\n",
    "\n",
    "\"eert\""
   ]
  },
  {
   "cell_type": "markdown",
   "metadata": {},
   "source": [
    "# Solution\n",
    "\n",
    "After a character count, with a priority queue, or a sort we can sort the frequency order in O(nlogn).  So, the whole solution is O(nlogn)."
   ]
  },
  {
   "cell_type": "code",
   "execution_count": 9,
   "metadata": {
    "collapsed": true
   },
   "outputs": [],
   "source": [
    "import heapq\n",
    "\n",
    "def sort_characters(s):\n",
    "    char_map = {}\n",
    "    # count\n",
    "    # o(n)\n",
    "    for c in s:\n",
    "        if c in char_map:\n",
    "            char_map[c] += 1\n",
    "        else:\n",
    "            char_map[c] = 1\n",
    "    # O(nlogn)\n",
    "    sorted_counts = sorted([(n,c) for c,n in char_map.items()], reverse=True)\n",
    "    res = \"\"\n",
    "    #O(n)\n",
    "    for n, c in sorted_counts:\n",
    "        for i in range(n):\n",
    "            res += c\n",
    "    return res\n",
    "\n",
    "\n",
    "def run_show(s):\n",
    "    print(s)\n",
    "    print(sort_characters(s))"
   ]
  },
  {
   "cell_type": "code",
   "execution_count": 10,
   "metadata": {},
   "outputs": [
    {
     "name": "stdout",
     "output_type": "stream",
     "text": [
      "tree\n",
      "eetr\n",
      "cccaaa\n",
      "cccaaa\n",
      "Aabb\n",
      "bbaA\n"
     ]
    }
   ],
   "source": [
    "run_show(\"tree\")\n",
    "run_show(\"cccaaa\")\n",
    "run_show(\"Aabb\")"
   ]
  },
  {
   "cell_type": "code",
   "execution_count": null,
   "metadata": {
    "collapsed": true
   },
   "outputs": [],
   "source": []
  }
 ],
 "metadata": {
  "kernelspec": {
   "display_name": "Python 3",
   "language": "python",
   "name": "python3"
  },
  "language_info": {
   "codemirror_mode": {
    "name": "ipython",
    "version": 3
   },
   "file_extension": ".py",
   "mimetype": "text/x-python",
   "name": "python",
   "nbconvert_exporter": "python",
   "pygments_lexer": "ipython3",
   "version": "3.6.3"
  }
 },
 "nbformat": 4,
 "nbformat_minor": 2
}
