{
 "cells": [
  {
   "cell_type": "markdown",
   "metadata": {},
   "source": [
    "# Find the closest comment parent of two nodes in a forest of blanced binary trees\n",
    "\n",
    "Given a forest of balnced, binary trees, and two nodes, n1 and n2, find their closest common parent.\n",
    "\n",
    "Nodes have the fields/methods:\n",
    "\n",
    "    Parent\n",
    "    Left\n",
    "    Right\n",
    "    ==\n",
    "    Do not have key or value\n",
    "   \n",
    "If n1 and n2 are not on the same tree, return null.\n",
    "\n",
    "Do this in O(logN) and O(1) memory."
   ]
  },
  {
   "cell_type": "markdown",
   "metadata": {},
   "source": [
    "## Solution\n",
    "\n",
    "Solution:\n",
    "\n",
    "We first need the depth of n1 and n2.  So, with two pointers, and two counters, we walk up from n1 and n2 until we reach a root for each, counting along the way.  \n",
    "\n",
    "Once we're at the root, we compare the two root pointers.  If the root pointers do not point to the same root, we return null, as the nodes are not in the same tree.\n",
    "\n",
    "Otherwise, we return to n1 and n2, with our counters.  We compare the pointers, and we walk up from n1 or n2, depending on which is deeper, decrimenting the counters as we walk, until the counters match and our pointers are at the same level.\n",
    "\n",
    "We then do pre-order walk up the tree, from the two pointers, moving both pointers each step, keeping them at the same level, and compare the nodes at the pointers.  Our pre-order operation is to compare the two nodes at the pointers, once they are pointing to the same node, we have found the common parent.\n",
    "\n",
    "Complexity O(logN) twice for the first climb, and twice again for the second.  Memory is O(1), we just need pointers."
   ]
  },
  {
   "cell_type": "code",
   "execution_count": 1,
   "metadata": {
    "collapsed": true
   },
   "outputs": [],
   "source": [
    "class Node:\n",
    "    \n",
    "    def __init__(self, key):\n",
    "        self.key = key\n",
    "        self.parent = None\n",
    "        self.right = None\n",
    "        self.left = None\n",
    "\n",
    "        \n",
    "def find_lowest_common_parent(n1, n2):\n",
    "    if n1 == n2:\n",
    "        return n1\n",
    "    \n",
    "    # find depth of n1 and n2\n",
    "    t_n1 = n1\n",
    "    n1_h = 0\n",
    "    while t_n1.parent:\n",
    "        n1_h += 1\n",
    "        t_n1 = t_n1.parent\n",
    "\n",
    "    t_n2 = n2\n",
    "    n2_h = 0\n",
    "    while t_n2.parent:\n",
    "        n2_h += 1\n",
    "        t_n2 = t_n2.parent\n",
    "\n",
    "    if not t_n1 == t_n2:\n",
    "        # our pointers aren't touching at roots, we're in different trees\n",
    "        return None\n",
    "\n",
    "    # bring pointers to same height\n",
    "    t_n1 = n1\n",
    "    t_n2 = n2\n",
    "    if n1_h > n2_h:\n",
    "        while t_n1 > n2_h:\n",
    "            t_n1 = t_n1.parent\n",
    "            t_n1 -= 1\n",
    "    elif n2_h > n1_h:\n",
    "        while n2_h > n1_h:\n",
    "            t_n2 = t_n2.parent\n",
    "            n2_h -= 1\n",
    "    \n",
    "    if t_n1 == t_n2:\n",
    "        # they found eachother\n",
    "        return t_n1\n",
    "    else:\n",
    "        # move them up, step by step\n",
    "        while n1_h >= 0:\n",
    "            if t_n1 == t_n2:\n",
    "                # they've found eachother\n",
    "                return t_n1\n",
    "            else:\n",
    "                # move up\n",
    "                t_n1 = t_n1.parent\n",
    "                t_n2 = t_n2.parent\n",
    "                n1_h -= 1\n",
    "                n2_h -= 1 # this one isn't strictly necessary, but for symmetry we'll move it too\n",
    "        # we're at roots, and haven't found each other, we're in different trees\n",
    "        return None"
   ]
  },
  {
   "cell_type": "code",
   "execution_count": null,
   "metadata": {
    "collapsed": true
   },
   "outputs": [],
   "source": []
  }
 ],
 "metadata": {
  "anaconda-cloud": {},
  "kernelspec": {
   "display_name": "Python 3",
   "language": "python",
   "name": "python3"
  },
  "language_info": {
   "codemirror_mode": {
    "name": "ipython",
    "version": 3
   },
   "file_extension": ".py",
   "mimetype": "text/x-python",
   "name": "python",
   "nbconvert_exporter": "python",
   "pygments_lexer": "ipython3",
   "version": "3.6.3"
  }
 },
 "nbformat": 4,
 "nbformat_minor": 1
}
