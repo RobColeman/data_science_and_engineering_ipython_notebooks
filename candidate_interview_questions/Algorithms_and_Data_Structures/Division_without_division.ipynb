{
 "cells": [
  {
   "cell_type": "markdown",
   "metadata": {},
   "source": [
    "# Division without division\n",
    "\n",
    "Impliment integer divide method, without using the division operator\n",
    "\n",
    "Solutions:\n",
    "    \n",
    "    Subtraction, and a counter or Bit-shifting"
   ]
  },
  {
   "cell_type": "code",
   "execution_count": 2,
   "metadata": {
    "collapsed": false
   },
   "outputs": [
    {
     "name": "stdout",
     "output_type": "stream",
     "text": [
      "5\n",
      "3\n",
      "(961, 29)\n"
     ]
    }
   ],
   "source": [
    "def divide(num, denom, remainder = False):\n",
    "    c = 0\n",
    "    \n",
    "    while num >= denom:\n",
    "        num -= denom\n",
    "        c += 1\n",
    "    \n",
    "    if remainder:\n",
    "        return (c, num)\n",
    "    else:\n",
    "        return c\n",
    "\n",
    "print(divide(26, 5))\n",
    "print(divide(3, 1))\n",
    "print(divide(310432, 323, True))"
   ]
  },
  {
   "cell_type": "code",
   "execution_count": null,
   "metadata": {
    "collapsed": true
   },
   "outputs": [],
   "source": []
  }
 ],
 "metadata": {
  "kernelspec": {
   "display_name": "Python [default]",
   "language": "python",
   "name": "python3"
  },
  "language_info": {
   "codemirror_mode": {
    "name": "ipython",
    "version": 3
   },
   "file_extension": ".py",
   "mimetype": "text/x-python",
   "name": "python",
   "nbconvert_exporter": "python",
   "pygments_lexer": "ipython3",
   "version": "3.5.2"
  }
 },
 "nbformat": 4,
 "nbformat_minor": 2
}
