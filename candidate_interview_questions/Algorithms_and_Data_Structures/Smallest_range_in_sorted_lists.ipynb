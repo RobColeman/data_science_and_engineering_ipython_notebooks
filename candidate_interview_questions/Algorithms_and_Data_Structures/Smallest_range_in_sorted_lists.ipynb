{
 "cells": [
  {
   "cell_type": "markdown",
   "metadata": {},
   "source": [
    "# Smallest Range in K sorted lists\n",
    "\n",
    "You have k lists of sorted integers in ascending order. Find the smallest range that includes at least one number from each of the k lists.\n",
    "\n",
    "We define the range [a,b] is smaller than range [c,d] if b-a < d-c or a < c if b-a == d-c.\n",
    "\n",
    "\n",
    "1 < k < 3500\n",
    "\n",
    "-10^5 < elements < 10^5\n",
    "\n"
   ]
  },
  {
   "cell_type": "markdown",
   "metadata": {},
   "source": [
    "## Solution\n",
    "\n",
    "We can solve this with dynamic programming.  We'll walk through the sorted arrays, we keep track of the smallest range with all the elements we've found so far.\n",
    "\n",
    "\n",
    "If we walk the arrays, keeping one element from each, we can keep track of the the ranges as we go.\n",
    "\n",
    "\n",
    "A prioroty queue, with one element from each list will allow us to get the smallest (or largest) element from the current range we're in.  When we pop this element form the queue, we test the range from that smallest element and the largest element in the  set (which we have to keep track of before we insert it, since the queue only guarentees fast access to the smallest).  \n",
    "\n",
    "## Complexity\n",
    "\n",
    "For each elements in all of the lists, we have to push them into the queue (which costs log(m), where m is the size of the queue).  So, it's going to cost us nLog(m) in time.  The queue will cost us m extra space.\n",
    "\n"
   ]
  },
  {
   "cell_type": "code",
   "execution_count": 25,
   "metadata": {},
   "outputs": [],
   "source": [
    "import heapq\n",
    "\n",
    "def smallestRange(K_lists):\n",
    "    pq = [(row[0], i, 0) for i, row in enumerate(K_lists)]\n",
    "    heapq.heapify(pq)\n",
    "    \n",
    "    res = (-1e6, 1e6)\n",
    "    \n",
    "    right = max([row[0] for row in K_lists])\n",
    "    while len(pq) > 0:\n",
    "        # get smallest\n",
    "        left, i, j = heapq.heappop(pq)\n",
    "        # check range\n",
    "        if right - left < res[1] - res[0]:\n",
    "            res = (left, right)\n",
    "            \n",
    "        # if we've hit the end of one of the lists, break out\n",
    "        if j + 1 > len(K_lists[i])-1:\n",
    "            break\n",
    "        \n",
    "        # get the next element from the new left's list\n",
    "        nxt = K_lists[i][j+1]\n",
    "        right = max(right, nxt)\n",
    "        heapq.heappush(pq, (nxt, i, j+1))\n",
    "        \n",
    "    output = \"left : {}, right : {}, range : {}\".format(res[0], res[1], res[1] - res[0])\n",
    "    return output\n",
    "\n",
    "def run(inp):\n",
    "    for row in inp:\n",
    "        print(row)\n",
    "    print(smallestRange(inp))"
   ]
  },
  {
   "cell_type": "code",
   "execution_count": 26,
   "metadata": {},
   "outputs": [
    {
     "name": "stdout",
     "output_type": "stream",
     "text": [
      "[4, 10, 15, 24, 26]\n",
      "[0, 9, 12, 20]\n",
      "[5, 18, 22, 30]\n",
      "left : 20, right : 24, range : 4\n"
     ]
    }
   ],
   "source": [
    "run([[4,10,15,24,26], [0,9,12,20], [5,18,22,30]])"
   ]
  },
  {
   "cell_type": "code",
   "execution_count": null,
   "metadata": {},
   "outputs": [],
   "source": []
  }
 ],
 "metadata": {
  "kernelspec": {
   "display_name": "Python 3",
   "language": "python",
   "name": "python3"
  },
  "language_info": {
   "codemirror_mode": {
    "name": "ipython",
    "version": 3
   },
   "file_extension": ".py",
   "mimetype": "text/x-python",
   "name": "python",
   "nbconvert_exporter": "python",
   "pygments_lexer": "ipython3",
   "version": "3.6.3"
  }
 },
 "nbformat": 4,
 "nbformat_minor": 2
}
