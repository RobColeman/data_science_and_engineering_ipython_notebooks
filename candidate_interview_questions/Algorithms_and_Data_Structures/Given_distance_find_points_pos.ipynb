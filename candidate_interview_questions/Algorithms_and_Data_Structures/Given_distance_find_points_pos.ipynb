{
 "cells": [
  {
   "cell_type": "markdown",
   "metadata": {},
   "source": [
    "# Given distances, find positions of points\n",
    "\n",
    "There are N Gas stations and we are given the distance between each gas station.\n",
    "\n",
    "So we have nC2 distance.\n",
    "\n",
    "Find the positions of all gas stations given the distances.\n",
    "\n",
    "## Solution\n",
    "\n",
    "This depends on how our distances are represented, and how we are representing our world.\n",
    "If we're assuming we're in a plane, with x,y pair positions, and our distances are in i_delta_j_x, i_delta_j_y) pairs, we can solve this arbitrarily by setting one of the gas stations, station i, to position (0,0), and do a single pass through the distance matrix to compute the locations from station j with (0+i_delta_j_x, 0+i_delta_j_y)."
   ]
  },
  {
   "cell_type": "code",
   "execution_count": null,
   "metadata": {
    "collapsed": true
   },
   "outputs": [],
   "source": []
  }
 ],
 "metadata": {
  "kernelspec": {
   "display_name": "Python [default]",
   "language": "python",
   "name": "python3"
  },
  "language_info": {
   "codemirror_mode": {
    "name": "ipython",
    "version": 3
   },
   "file_extension": ".py",
   "mimetype": "text/x-python",
   "name": "python",
   "nbconvert_exporter": "python",
   "pygments_lexer": "ipython3",
   "version": "3.6.1"
  }
 },
 "nbformat": 4,
 "nbformat_minor": 2
}
