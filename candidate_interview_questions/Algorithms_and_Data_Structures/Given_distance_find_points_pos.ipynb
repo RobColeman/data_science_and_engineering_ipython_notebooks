{
 "cells": [
  {
   "cell_type": "markdown",
   "metadata": {},
   "source": [
    "# Given distances, find positions of points\n",
    "\n",
    "There are N Gas stations and we are given the distance between each gas station.\n",
    "\n",
    "So we have n^2 distances.\n",
    "\n",
    "Find the positions of all gas stations given the distances."
   ]
  },
  {
   "cell_type": "markdown",
   "metadata": {
    "collapsed": true
   },
   "source": [
    "## Solution\n",
    "\n",
    "This depends on how our distances are represented, and how we are representing our world.\n",
    "If we're assuming we're in a plane, with x,y pair positions, and our distances are in i_delta_j_x, i_delta_j_y) pairs, we can solve this arbitrarily by setting one of the gas stations, station i, to position (0,0), and do a single pass through the distance matrix to compute the locations from station j with (0+i_delta_j_x, 0+i_delta_j_y).\n",
    "\n",
    "## Complexity\n",
    "\n",
    "We only need one pass through the distances between station_0 and station_i, for each i in the n stations.  So, it's going to cost O(n) computation.  The needed memory depends on how we represent our output, but if we're just providing positions, then we need O(n) space for an array of x,y coordinated per n stations."
   ]
  },
  {
   "cell_type": "code",
   "execution_count": null,
   "metadata": {},
   "outputs": [],
   "source": []
  }
 ],
 "metadata": {
  "kernelspec": {
   "display_name": "Python 3",
   "language": "python",
   "name": "python3"
  },
  "language_info": {
   "codemirror_mode": {
    "name": "ipython",
    "version": 3
   },
   "file_extension": ".py",
   "mimetype": "text/x-python",
   "name": "python",
   "nbconvert_exporter": "python",
   "pygments_lexer": "ipython3",
   "version": "3.6.3"
  }
 },
 "nbformat": 4,
 "nbformat_minor": 2
}
