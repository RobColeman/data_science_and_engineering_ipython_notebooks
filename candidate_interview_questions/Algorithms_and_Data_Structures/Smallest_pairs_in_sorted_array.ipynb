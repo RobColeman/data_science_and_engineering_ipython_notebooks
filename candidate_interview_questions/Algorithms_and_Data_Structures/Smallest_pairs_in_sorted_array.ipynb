{
 "cells": [
  {
   "cell_type": "markdown",
   "metadata": {},
   "source": [
    "# Smallest Pairs in sorted arrays\n",
    "\n",
    "Given two sorted arrays, A and B, find the first k pairs (a,b) from A and B, which have the smallest sum.\n",
    "\n",
    "E.g.\n",
    "\n",
    "A = [1,2,3,6,10]\n",
    "B = [1,4,5,7]\n",
    "k = 5\n",
    "res = [(1,1),(1,4),(1,5),(2,1),(3,1)]\n",
    "\n",
    "## Solution\n",
    "\n",
    "Pointers and walking\n",
    "\n",
    "One pointer for each of:\n",
    "\n",
    "Next time we use (a,b), the index in A for a, and the index in B for b\n",
    "Next time we use (b,a), the index in B for b, and the index in A for a\n",
    "\n",
    "We run in a while loop until we've pupulated the output with k pairs, and do comparisons of (a,b) and (b,a) to choose the smallest.  The trickiest part is updating the pointers correctly based on the cases.\n",
    "\n",
    "## Complexity\n",
    "\n",
    "We're doing a constant amount of comparisons and lookups, by index O(1), for each time we select the next output, so we're bounded above by the number of pairs we want.  So run-time is O(k).\n",
    "\n",
    "Space complexity is trivial, a pair of pointers with two ints, and an output list of size K, so O(k) again."
   ]
  },
  {
   "cell_type": "code",
   "execution_count": 2,
   "metadata": {},
   "outputs": [
    {
     "name": "stdout",
     "output_type": "stream",
     "text": [
      "A list is : [1, 4, 5, 5, 10]\n",
      "B list is : [2, 6, 7, 10]\n",
      "Smallest 5 sum pairs are :\n"
     ]
    },
    {
     "data": {
      "text/plain": [
       "[(1, 2), (2, 4), (1, 6), (2, 5), (2, 5)]"
      ]
     },
     "execution_count": 2,
     "metadata": {},
     "output_type": "execute_result"
    }
   ],
   "source": [
    "from random import randint\n",
    "\n",
    "def gen_arrays(len_a,len_b):\n",
    "    A = sorted([randint(1,10) for i in range(len_a)])\n",
    "    B = sorted([randint(1,10) for i in range(len_b)])\n",
    "    return (A, B)\n",
    "\n",
    "\n",
    "def find_smallest_pairs(A, B, k):\n",
    "    # defective lists\n",
    "    if len(A) == 0 or len(B) == 0:\n",
    "        return False\n",
    "    # less pairs than k\n",
    "    if len(A) * len(B) <= k:\n",
    "        return [(a,b) for a in A for b in B]\n",
    "    \n",
    "    # first pair always in solution\n",
    "    res = [(A[0],B[0])] \n",
    "    \n",
    "    A_next = [0, 1]\n",
    "    B_next = [0, 1]\n",
    "    \n",
    "    while len(res) < k:\n",
    "        if A[A_next[0]] > len(A) - 1:\n",
    "            # if A expended, finish with B\n",
    "            while len(res) < k:\n",
    "                res.append( (B[B_next[0]], A[B_next[1]]) )\n",
    "                B_next[1] += 1\n",
    "        elif B[B_next[0]] > len(B) - 1:\n",
    "            # if B expended, finish with A\n",
    "            while len(res) < k:\n",
    "                res.append( (A[A_next[0]], B[A_next[1]]) )\n",
    "                A_next[1] += 1\n",
    "        else:\n",
    "            a_candidate = (A[A_next[0]], B[A_next[1]])\n",
    "            b_candidate = (B[B_next[0]], A[B_next[1]])\n",
    "            if sum(a_candidate) <= sum(b_candidate):\n",
    "                res.append(a_candidate)\n",
    "                A_next[1] += 1\n",
    "                if A_next[1] > len(B) - 1:\n",
    "                    A_next[0] += 1\n",
    "                    A_next[1] = B_next[0] + 1\n",
    "            else:\n",
    "                res.append(b_candidate)\n",
    "                B_next[1] += 1\n",
    "                # if B next right has hit the end, move B next up one\n",
    "                # B next right is set to A left + 1\n",
    "                if B_next[1] > len(A) - 1:\n",
    "                    B_next[0] += 1\n",
    "                    B_next[1] = A_next[0] + 1\n",
    "                 \n",
    "    return res\n",
    "\n",
    "\n",
    "len_a = 5\n",
    "len_b = 4\n",
    "k = 5\n",
    "A, B = gen_arrays(len_a, len_b)\n",
    "print(\"A list is : {}\".format(A))\n",
    "print(\"B list is : {}\".format(B))\n",
    "print(\"Smallest {} sum pairs are :\".format(k))\n",
    "find_smallest_pairs(A, B, k)"
   ]
  },
  {
   "cell_type": "code",
   "execution_count": null,
   "metadata": {
    "collapsed": true
   },
   "outputs": [],
   "source": []
  }
 ],
 "metadata": {
  "kernelspec": {
   "display_name": "Python [default]",
   "language": "python",
   "name": "python3"
  },
  "language_info": {
   "codemirror_mode": {
    "name": "ipython",
    "version": 3
   },
   "file_extension": ".py",
   "mimetype": "text/x-python",
   "name": "python",
   "nbconvert_exporter": "python",
   "pygments_lexer": "ipython3",
   "version": "3.6.1"
  }
 },
 "nbformat": 4,
 "nbformat_minor": 2
}
