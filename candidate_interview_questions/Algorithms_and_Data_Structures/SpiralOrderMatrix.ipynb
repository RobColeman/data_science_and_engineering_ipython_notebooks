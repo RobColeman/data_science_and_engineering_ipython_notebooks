{
 "cells": [
  {
   "cell_type": "markdown",
   "metadata": {},
   "source": [
    "Given a matrix of m x n elements (m rows, n columns), return all elements of the matrix in spiral order.\n",
    "\n",
    "For example,\n",
    "Given the following matrix:"
   ]
  },
  {
   "cell_type": "code",
   "execution_count": 11,
   "metadata": {
    "collapsed": false
   },
   "outputs": [
    {
     "data": {
      "text/plain": [
       "[[1, 2, 3], [4, 5, 6], [7, 8, 9]]"
      ]
     },
     "execution_count": 11,
     "metadata": {},
     "output_type": "execute_result"
    }
   ],
   "source": [
    "[\n",
    " [ 1, 2, 3 ],\n",
    " [ 4, 5, 6 ],\n",
    " [ 7, 8, 9 ]\n",
    "]"
   ]
  },
  {
   "cell_type": "markdown",
   "metadata": {},
   "source": [
    "## Solution\n",
    "\n",
    "We can keep track of what we've added by removing elements from the array.\n",
    "\n",
    "We create a loop where we do \n",
    "\n",
    "- take the current top row\n",
    "- take the last element from matrix[:-2]\n",
    "- take the last row in reverse\n",
    "- take the first element from matrix[1:]\n",
    "\n",
    "We have to check that that we have not exhausted the array  before each look up.  If we can mutate the matrix, popping elements, we can dop this all without pointers to keep track of where we are, otherwise we need to keep track of our boundaries at the top, right, bottom, and left.\n",
    "\n",
    "## Complexity\n",
    "\n",
    "This allows us to do this in O(n), where n is the size of the matrix.  \n",
    "\n",
    "If we can't mutate the matrix, we need an array of size n to create the output, but otherwise, as we remove elements from the matrix, we move them to the output list, so the memory is constant.\n",
    "\n"
   ]
  },
  {
   "cell_type": "code",
   "execution_count": 9,
   "metadata": {
    "collapsed": true
   },
   "outputs": [],
   "source": [
    "def spiralOrder(matrix):\n",
    "    \"\"\"\n",
    "    :type matrix: List[List[int]]\n",
    "    :rtype: List[int]\n",
    "    \"\"\"\n",
    "    \n",
    "    out = []\n",
    "    \n",
    "    while len(matrix) > 0:\n",
    "        # top row\n",
    "        out.extend(matrix.pop(0))\n",
    "        \n",
    "        if len(matrix) == 0:\n",
    "            break\n",
    "        # right column\n",
    "        for row in range(len(matrix)-1):\n",
    "            out.append(matrix[row].pop(-1))\n",
    "            \n",
    "        # bottom row\n",
    "        if len(matrix) == 0:\n",
    "            break\n",
    "        out.extend(reversed(matrix.pop(-1)))\n",
    "        \n",
    "        if len(matrix) == 0:\n",
    "            break\n",
    "        # left column\n",
    "        for row in reversed(range(len(matrix)-1)):\n",
    "            \n",
    "            out.append(matrix[row].pop(0))\n",
    "\n",
    "    return out"
   ]
  },
  {
   "cell_type": "code",
   "execution_count": 10,
   "metadata": {
    "collapsed": false
   },
   "outputs": [
    {
     "name": "stdout",
     "output_type": "stream",
     "text": [
      "[1, 2, 3]\n",
      "[4, 5, 6]\n",
      "[7, 8, 9]\n",
      "[1, 2, 3, 6, 9, 8, 7, 4, 5]\n"
     ]
    }
   ],
   "source": [
    "mat = [\n",
    " [ 1, 2, 3 ],\n",
    " [ 4, 5, 6 ],\n",
    " [ 7, 8, 9 ]\n",
    "]\n",
    "for row in mat:\n",
    "    print(row)\n",
    "print(spiralOrder(mat))"
   ]
  },
  {
   "cell_type": "code",
   "execution_count": null,
   "metadata": {
    "collapsed": true
   },
   "outputs": [],
   "source": []
  }
 ],
 "metadata": {
  "kernelspec": {
   "display_name": "Python [default]",
   "language": "python",
   "name": "python3"
  },
  "language_info": {
   "codemirror_mode": {
    "name": "ipython",
    "version": 3
   },
   "file_extension": ".py",
   "mimetype": "text/x-python",
   "name": "python",
   "nbconvert_exporter": "python",
   "pygments_lexer": "ipython3",
   "version": "3.5.2"
  }
 },
 "nbformat": 4,
 "nbformat_minor": 1
}
