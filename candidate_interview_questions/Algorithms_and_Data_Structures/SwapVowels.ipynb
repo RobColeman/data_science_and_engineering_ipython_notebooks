{
 "cells": [
  {
   "cell_type": "markdown",
   "metadata": {},
   "source": [
    "Write a function that takes a string as input and reverse only the vowels of a string.\n",
    "\n",
    "Example 1:\n",
    "Given s = \"hello\", return \"holle\".\n",
    "\n",
    "Example 2:\n",
    "Given s = \"leetcode\", return \"leotcede\".\n",
    "\n",
    "Note:\n",
    "The vowels does not include the letter \"y\"."
   ]
  },
  {
   "cell_type": "markdown",
   "metadata": {},
   "source": [
    "## Solution\n",
    "\n",
    "We use two pointers, one at the beginning and one at the end of the string.  We walk them both inwards until they find a vowel.  When they do, swap them.  If we're using python, we can do this in one line, with no temp.  With anotehr language we need a placeholder for one of the chars.\n",
    "\n",
    "## Complexity\n",
    "\n",
    "We can do this in O(n) time, stopping when the pointers pass eachother.  We can also do this in constant memory, the only exceptions being in the case where we need a temp char, for swapping, and the pointers.  We also need a set of chars to look up vowels, which is of length {a,e,i,o,u} 5.\n",
    "\n",
    "Python 3 does not support assignments in strings, so we're required to convert the string to a list and back, again in O(n)."
   ]
  },
  {
   "cell_type": "code",
   "execution_count": 9,
   "metadata": {},
   "outputs": [],
   "source": [
    "def reverseVowels(s):\n",
    "    \"\"\"\n",
    "    :type s: str\n",
    "    :rtype: str\n",
    "    \"\"\"\n",
    "    s = list(s)\n",
    "    lp = 0\n",
    "    rp = len(s) - 1\n",
    "    \n",
    "    vowels = set(['a','e','i','o','u'])\n",
    "    \n",
    "    while lp < rp:\n",
    "        \n",
    "        if s[lp].lower() in vowels and s[rp].lower() in vowels:\n",
    "            s[lp], s[rp] = s[rp], s[lp]\n",
    "            lp += 1\n",
    "            rp -= 1\n",
    "            \n",
    "        if s[lp].lower() not in vowels:\n",
    "            lp += 1\n",
    "            \n",
    "        if s[rp].lower() not in vowels:\n",
    "            rp -= 1\n",
    "    \n",
    "    return \"\".join(s)"
   ]
  },
  {
   "cell_type": "code",
   "execution_count": 8,
   "metadata": {},
   "outputs": [
    {
     "name": "stdout",
     "output_type": "stream",
     "text": [
      "leetcode\n",
      "leotcede\n",
      "\n",
      "dangerous\n",
      "dungoreas\n",
      "\n",
      "small\n",
      "small\n",
      "\n",
      "hello\n",
      "holle\n",
      "\n",
      "extra\n",
      "axtre\n",
      "\n"
     ]
    }
   ],
   "source": [
    "s = \"leetcode\"\n",
    "print(s)\n",
    "print(reverseVowels(s))\n",
    "print(\"\")\n",
    "s = \"dangerous\"\n",
    "print(s)\n",
    "print(reverseVowels(s))\n",
    "print(\"\")\n",
    "s = \"small\"\n",
    "print(s)\n",
    "print(reverseVowels(s))\n",
    "print(\"\")\n",
    "s = \"hello\"\n",
    "print(s)\n",
    "print(reverseVowels(s))\n",
    "print(\"\")\n",
    "s = \"extra\"\n",
    "print(s)\n",
    "print(reverseVowels(s))"
   ]
  },
  {
   "cell_type": "code",
   "execution_count": null,
   "metadata": {
    "collapsed": true
   },
   "outputs": [],
   "source": []
  }
 ],
 "metadata": {
  "kernelspec": {
   "display_name": "Python 3",
   "language": "python",
   "name": "python3"
  },
  "language_info": {
   "codemirror_mode": {
    "name": "ipython",
    "version": 3
   },
   "file_extension": ".py",
   "mimetype": "text/x-python",
   "name": "python",
   "nbconvert_exporter": "python",
   "pygments_lexer": "ipython3",
   "version": "3.6.3"
  }
 },
 "nbformat": 4,
 "nbformat_minor": 1
}
