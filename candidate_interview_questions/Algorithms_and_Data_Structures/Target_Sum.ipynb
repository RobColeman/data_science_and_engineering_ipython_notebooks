{
 "cells": [
  {
   "cell_type": "markdown",
   "metadata": {},
   "source": [
    "## Target Sum\n",
    "\n",
    "You are given a list of non-negative integers, a1, a2, ..., an, and a target, S. Now you have 2 symbols + and -. For each integer, you should choose one from + and - as its new symbol.\n",
    "\n",
    "Find out how many ways to assign symbols to make sum of integers equal to target S.\n",
    "\n",
    "Example:\n",
    "\n",
    "\n",
    "Input: nums is [1, 1, 1, 1, 1], S is 3. \n",
    "\n",
    "Output: 5\n",
    "\n",
    "Explanation: \n",
    "\n",
    "-1+1+1+1+1 = 3\n",
    "\n",
    "+1-1+1+1+1 = 3\n",
    "\n",
    "+1+1-1+1+1 = 3\n",
    "\n",
    "+1+1+1-1+1 = 3\n",
    "\n",
    "+1+1+1+1-1 = 3\n",
    "\n",
    "There are 5 ways to assign symbols to make the sum of nums be target 3."
   ]
  },
  {
   "cell_type": "markdown",
   "metadata": {},
   "source": [
    "## Solution - Brute force DFS\n",
    "\n",
    "\n",
    "We can solve this directly by DFSing down the solution paths, at each step in the array.  There re a bunch of redundant calls being made here, so we can probably memoize the solutions somehow.  However, we can get there with DFS\n",
    "\n",
    "\n",
    "## Complexity\n",
    "\n",
    "The DFS will cost O(2^N), where N is the length of the array.  Memory size depends on what output you want.  If you want to output the unique solitions, then the largest output would be O(N * 2^N).  "
   ]
  },
  {
   "cell_type": "code",
   "execution_count": 5,
   "metadata": {},
   "outputs": [
    {
     "name": "stdout",
     "output_type": "stream",
     "text": [
      "+1+1+1+1-1 = 3\n",
      "+1+1+1-1+1 = 3\n",
      "+1+1-1+1+1 = 3\n",
      "+1-1+1+1+1 = 3\n",
      "-1+1+1+1+1 = 3\n",
      "Calls made 63\n"
     ]
    }
   ],
   "source": [
    "# brute force\n",
    "\n",
    "def target_sum(arr, s):\n",
    "    l = len(arr)    \n",
    "    calls = 0\n",
    "    \n",
    "    def dfs(idx, curr_sol_str, curr_sum, solutions):\n",
    "        nonlocal l, s, arr, calls\n",
    "        \n",
    "        calls += 1\n",
    "        \n",
    "        if idx == l:\n",
    "            if curr_sum == s:\n",
    "                solutions.append(curr_sol_str + \" = {}\".format(s))\n",
    "            else:\n",
    "                return None\n",
    "        else:\n",
    "            dfs(idx+1, curr_sol_str + \"+{}\".format(arr[idx]), curr_sum + arr[idx], solutions)\n",
    "            dfs(idx+1, curr_sol_str + \"-{}\".format(arr[idx]), curr_sum - arr[idx], solutions)\n",
    "    \n",
    "    solutions = []\n",
    "    \n",
    "    \n",
    "    dfs(0, \"\", 0, solutions)\n",
    "    \n",
    "    for solution in solutions:\n",
    "        print(solution)\n",
    "        \n",
    "    print(\"Calls made {}\".format(calls))\n",
    "    \n",
    "    return None\n",
    "\n",
    "target_sum([1, 1, 1, 1, 1], 3)"
   ]
  },
  {
   "cell_type": "markdown",
   "metadata": {},
   "source": [
    "## Solution - Memoized\n",
    "\n",
    "\n",
    "This solutions is similar to the BF solution, except we keep track of solutions we've already computed of pairs (index, current_sum).  Keep track of either the full string, or the count, and at each call, we first check the memo array for an entry, if it's not there, we solve down both paths and update the memo array with the combined solutions.\n",
    "\n",
    "\n",
    "## Complexity\n",
    "\n",
    "The memoized array has to be filled once, where n is the size of hte array and l is the range of sums throughout the algorithm."
   ]
  },
  {
   "cell_type": "code",
   "execution_count": 13,
   "metadata": {},
   "outputs": [
    {
     "name": "stdout",
     "output_type": "stream",
     "text": [
      "Calls made 31\n",
      "memo[0][0] = 5\n",
      "memo[1][1] = 4\n",
      "memo[1][-1] = 1\n",
      "memo[2][2] = 3\n",
      "memo[2][0] = 1\n",
      "memo[2][-2] = 0\n",
      "memo[3][3] = 2\n",
      "memo[3][1] = 1\n",
      "memo[3][-1] = 0\n",
      "memo[3][-3] = 0\n",
      "memo[4][4] = 1\n",
      "memo[4][2] = 1\n",
      "memo[4][0] = 0\n",
      "memo[4][-2] = 0\n",
      "memo[4][-4] = 0\n"
     ]
    },
    {
     "data": {
      "text/plain": [
       "5"
      ]
     },
     "execution_count": 13,
     "metadata": {},
     "output_type": "execute_result"
    }
   ],
   "source": [
    "def target_sum(arr, s):\n",
    "    \n",
    "    l = len(arr)\n",
    "    memo = {}\n",
    "    for i in range(l):\n",
    "        memo[i] = {} \n",
    "    calls = 0\n",
    "    \n",
    "    def calculate(idx, curr_sum):\n",
    "        nonlocal arr, s, l, calls, memo\n",
    "        \n",
    "        calls += 1\n",
    "        \n",
    "        if idx == l:\n",
    "            if curr_sum == s:\n",
    "                return 1\n",
    "            else:\n",
    "                return 0\n",
    "        \n",
    "        else:\n",
    "            if not curr_sum in memo[idx]:\n",
    "                # haven't solved this path yet\n",
    "                add = calculate(idx + 1, curr_sum + arr[idx])\n",
    "                sub = calculate(idx + 1, curr_sum - arr[idx])\n",
    "                # record it\n",
    "                memo[idx][curr_sum] = add + sub\n",
    "                \n",
    "            return memo[idx][curr_sum]\n",
    "        \n",
    "        \n",
    "    res = calculate(0, 0)\n",
    "    print(\"Calls made {}\".format(calls))\n",
    "    \n",
    "    for i in memo.keys():\n",
    "        for j in memo[i].keys():\n",
    "            print(\"memo[{}][{}] = {}\".format(i, j, memo[i][j]))\n",
    "            \n",
    "    return res\n",
    "\n",
    "target_sum([1, 1, 1, 1, 1], 3)"
   ]
  },
  {
   "cell_type": "code",
   "execution_count": null,
   "metadata": {
    "collapsed": true
   },
   "outputs": [],
   "source": []
  }
 ],
 "metadata": {
  "kernelspec": {
   "display_name": "Python [default]",
   "language": "python",
   "name": "python3"
  },
  "language_info": {
   "codemirror_mode": {
    "name": "ipython",
    "version": 3
   },
   "file_extension": ".py",
   "mimetype": "text/x-python",
   "name": "python",
   "nbconvert_exporter": "python",
   "pygments_lexer": "ipython3",
   "version": "3.6.1"
  }
 },
 "nbformat": 4,
 "nbformat_minor": 2
}
