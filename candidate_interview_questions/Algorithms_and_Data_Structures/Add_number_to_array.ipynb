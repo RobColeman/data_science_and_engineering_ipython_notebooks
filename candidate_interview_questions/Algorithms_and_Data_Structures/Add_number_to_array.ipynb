{
 "cells": [
  {
   "cell_type": "markdown",
   "metadata": {},
   "source": [
    "# Add number to array number\n",
    "\n",
    "Given and array of integers, and another integer, add the number to the number to the array in such a way that,\n",
    "array = [1] and number = 9\n",
    "output = [1,0]\n",
    "or\n",
    "array = [0,0,1] and number = 4\n",
    "output = [0,0,5]\n",
    "\n",
    "Clarification:\n",
    "Retain at least the minimum length of the original array\n",
    "\n",
    "Solution:\n",
    "We simplify this problem a lot if we convert the array into an integer, then add array_integer with the number, then convert the result back into an array, with each power of 10 at each index.\n",
    "\n",
    "There are lots of ways to do this:\n",
    "Walk through the array from back to front and cumulatively sum array[idx] * power of 10.\n",
    "A nice pythonic way to do it involves building a string out of the array, and converting it into an int.  Then converting it back into an array involves the reverse operation on the resulting sum of array_integer + number.\n",
    "\n",
    "At the end, we need to pad the front with zeros to retain the original array length."
   ]
  },
  {
   "cell_type": "code",
   "execution_count": null,
   "metadata": {
    "collapsed": false
   },
   "outputs": [],
   "source": [
    "a1 = [0,0,1]\n",
    "n1 = 4\n",
    "a2 = [1]\n",
    "n2 = 9\n",
    "a3 = [1,0,1]\n",
    "n3 = 22\n",
    "a4 = []\n",
    "n4 = 12345\n",
    "\n",
    "\n",
    "def add_number_to_array(a, n):\n",
    "    # get a length\n",
    "    a_len = len(a)\n",
    "    # convert a into an integer\n",
    "    if a_len == 0:\n",
    "        a_num = 0\n",
    "    else:\n",
    "        a_num = int(''.join([str(i) for i in a]))\n",
    "    # get the sum\n",
    "    the_sum = n + a_num\n",
    "    # convert the result back into an array\n",
    "    sum_array = [int(c) for c in str(the_sum)]\n",
    "    # get the number of zeros we need to append to the front, maybe none\n",
    "    num_zeros_to_front_append = len(a) - len(sum_array)\n",
    "    # check if we need to front append\n",
    "    if num_zeros_to_front_append > 0:\n",
    "        # append zeros to the front\n",
    "        return [0]*num_zeros_to_front_append + sum_array\n",
    "    else:\n",
    "        return sum_array\n",
    "\n",
    "print(add_number_to_array(a1,n1))\n",
    "print(add_number_to_array(a2,n2))\n",
    "print(add_number_to_array(a3,n3))\n",
    "print(add_number_to_array(a4,n4))"
   ]
  },
  {
   "cell_type": "markdown",
   "metadata": {},
   "source": [
    "## Another solution without type conversions"
   ]
  },
  {
   "cell_type": "code",
   "execution_count": 2,
   "metadata": {
    "collapsed": false
   },
   "outputs": [
    {
     "name": "stdout",
     "output_type": "stream",
     "text": [
      "[0, 0, 5]\n",
      "[1, 0]\n",
      "[1, 2, 3]\n",
      "[1, 2, 3, 4, 5]\n"
     ]
    }
   ],
   "source": [
    "def add_number_to_array2(arr, n):\n",
    "    arr = list(reversed(arr))\n",
    "    n_arr = []\n",
    "    p = 0\n",
    "    while n > 0:\n",
    "        p += 1\n",
    "        div = 10 ** p\n",
    "        n_i = n % div\n",
    "        n -= n_i\n",
    "        n_i = n_i / (div / 10)\n",
    "        n_arr.append(int(n_i))\n",
    "        \n",
    "    # merge the two arrays\n",
    "    output = []\n",
    "    l = max(len(arr), len(n_arr))\n",
    "    carry = 0\n",
    "    for i in range(l):\n",
    "        try:\n",
    "            n_i = n_arr[i]\n",
    "        except:\n",
    "            n_i = 0\n",
    "        try:\n",
    "            a_i = arr[i]\n",
    "        except:\n",
    "            a_i = 0\n",
    "        o_i = n_i + a_i + carry\n",
    "        if o_i > 9:\n",
    "            carry = 1\n",
    "            o_i = o_i % 10\n",
    "        else:\n",
    "            carry = 0\n",
    "        output.append(o_i)\n",
    "    if carry == 1:\n",
    "        output.append(1)\n",
    "        \n",
    "    return list(reversed(output))\n",
    "        \n",
    "print(add_number_to_array2(a1,n1))\n",
    "print(add_number_to_array2(a2,n2))\n",
    "print(add_number_to_array2(a3,n3))\n",
    "print(add_number_to_array2(a4,n4))"
   ]
  },
  {
   "cell_type": "code",
   "execution_count": null,
   "metadata": {
    "collapsed": true
   },
   "outputs": [],
   "source": []
  }
 ],
 "metadata": {
  "kernelspec": {
   "display_name": "Python [default]",
   "language": "python",
   "name": "python3"
  },
  "language_info": {
   "codemirror_mode": {
    "name": "ipython",
    "version": 3
   },
   "file_extension": ".py",
   "mimetype": "text/x-python",
   "name": "python",
   "nbconvert_exporter": "python",
   "pygments_lexer": "ipython3",
   "version": "3.5.2"
  }
 },
 "nbformat": 4,
 "nbformat_minor": 1
}
