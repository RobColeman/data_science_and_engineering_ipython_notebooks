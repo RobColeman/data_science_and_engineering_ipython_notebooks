{
 "cells": [
  {
   "cell_type": "markdown",
   "metadata": {},
   "source": [
    "# Add number to array number\n",
    "\n",
    "Given and array of integers, and another integer, add the number to the number to the array in such a way that,\n",
    "array = [1] and number = 9\n",
    "output = [1,0]\n",
    "or\n",
    "array = [0,0,1] and number = 4\n",
    "output = [0,0,5]\n",
    "\n",
    "Clarification:\n",
    "Retain at least the minimum length of the original array\n",
    "\n"
   ]
  },
  {
   "cell_type": "markdown",
   "metadata": {},
   "source": [
    "## Solution\n",
    "\n",
    "We should clairify if we can alter the inputs, if we cannot, then we have to make a copy of the input array.\n",
    "\n",
    "We can solve the problem by looping through the digits, lefts to right, of both the array and the number simultaniously.  We need to keep track of an index, which will refer to the position in the array of arr[-index] (or digit * 10^(index-1) power of the interger the array represents).  Index also indicases the same index and power of the number n.  So, we run the loop and do the following things:\n",
    "\n",
    "- grab the digit at the 'index'/'power' position of the number (zero if we've gone above it's value).  This will be (n % 10 ** power)\n",
    "- decriment the number by this value\n",
    "- devide the digit by (10 ** power-1) to get the single largest digit\n",
    "- grab the digit at the array's 'index'/'power' (append a zero to the left if we've exceeded the length of the arrray)\n",
    "- add them together, and keep a 'carry' variable if we need to carry ones\n",
    "\n",
    "Loop while n is > 0, we haven't exheeded the length of the array and we have no more ones to carry\n",
    "\n",
    "## Complexity\n",
    "\n",
    "We have to loop through once at a cost of O(n+1), where n is the maximum of the length of the array, or the number of digits in the number.  If we are modifying in place, we need no extra memory, if we aren't modifying in place, we need a new output array of size O(n+1)."
   ]
  },
  {
   "cell_type": "code",
   "execution_count": 33,
   "metadata": {},
   "outputs": [],
   "source": [
    "from copy import deepcopy\n",
    "\n",
    "def add_number_to_array(arr, n):\n",
    "    arr_out = deepcopy(arr)\n",
    "    l_a = len(arr_out)\n",
    "    idx = 1\n",
    "    carry = 0\n",
    "    while n > 0 or idx <= l_a or carry == 1:\n",
    "        div = 10 ** idx\n",
    "        digit_i = (n % div)\n",
    "        n -= digit_i\n",
    "        digit_i //= div // 10\n",
    "        \n",
    "        # get digit from array, append to end if needed\n",
    "        if len(arr_out) >= abs(idx):\n",
    "            a_i = arr_out[-idx]\n",
    "        else:\n",
    "            a_i = 0\n",
    "            arr_out = [a_i] + arr_out\n",
    "        \n",
    "        # add together to get new digit\n",
    "        digit_i += a_i + carry\n",
    "        # range to 0-9 and handle carrying a 1\n",
    "        if digit_i > 9:\n",
    "            digit_i = digit_i % 10\n",
    "            carry = 1\n",
    "        else:\n",
    "            carry = 0\n",
    "            \n",
    "        arr_out[-idx] = int(digit_i)\n",
    "        \n",
    "        idx += 1\n",
    "        \n",
    "    return arr_out\n",
    "        \n",
    "\n",
    "def run(arr, n):\n",
    "    print(\"array : {}, int : {}, result : {}\".format(arr, n, add_number_to_array(arr, n)))\n",
    "    return None"
   ]
  },
  {
   "cell_type": "code",
   "execution_count": 34,
   "metadata": {},
   "outputs": [
    {
     "name": "stdout",
     "output_type": "stream",
     "text": [
      "array : [0, 0, 1], int : 4, result : [0, 0, 5]\n",
      "array : [1], int : 9, result : [1, 0]\n",
      "array : [1, 0, 1], int : 22, result : [1, 2, 3]\n",
      "array : [], int : 12345, result : [1, 2, 3, 4, 5]\n"
     ]
    }
   ],
   "source": [
    "run( [0,0,1], 4)\n",
    "run([1], 9)\n",
    "run([1,0,1], 22)\n",
    "run([], 12345)"
   ]
  },
  {
   "cell_type": "code",
   "execution_count": null,
   "metadata": {},
   "outputs": [],
   "source": []
  }
 ],
 "metadata": {
  "kernelspec": {
   "display_name": "Python 3",
   "language": "python",
   "name": "python3"
  },
  "language_info": {
   "codemirror_mode": {
    "name": "ipython",
    "version": 3
   },
   "file_extension": ".py",
   "mimetype": "text/x-python",
   "name": "python",
   "nbconvert_exporter": "python",
   "pygments_lexer": "ipython3",
   "version": "3.6.3"
  }
 },
 "nbformat": 4,
 "nbformat_minor": 1
}
