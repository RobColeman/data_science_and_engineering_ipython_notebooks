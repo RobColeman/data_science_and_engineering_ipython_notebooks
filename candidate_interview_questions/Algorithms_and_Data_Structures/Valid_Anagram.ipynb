{
 "cells": [
  {
   "cell_type": "markdown",
   "metadata": {},
   "source": [
    "# Valid Anagrams\n",
    "\n",
    "Given two strings s and t, write a function to determine if t is an anagram of s.\n",
    "\n",
    "For example,\n",
    "s = \"anagram\", t = \"nagaram\", return true.\n",
    "s = \"rat\", t = \"car\", return false.\n",
    "\n",
    "Note:\n",
    "You may assume the string contains only lowercase alphabets.\n",
    "\n",
    "Follow up:\n",
    "What if the inputs contain unicode characters? How would you adapt your solution to such case?"
   ]
  },
  {
   "cell_type": "markdown",
   "metadata": {},
   "source": [
    "# Solution\n",
    "\n",
    "The NlogN solution is to sort the strings by character and then pass through them and compare.  \n",
    "\n",
    "An O(n) solution would require a map to count characters, a pass through each string, and as you do, for each character in word A incriment the counters and for each character in word B decriment the counters.  While doing so, keep track of a \"non-zero\" counter.  Whenever you add a character, incriment the non-zero counter"
   ]
  },
  {
   "cell_type": "code",
   "execution_count": 19,
   "metadata": {
    "collapsed": true
   },
   "outputs": [],
   "source": [
    "def ValidAnagram(A, B):\n",
    "    diff_map = {}\n",
    "    non_zero = 0\n",
    "    \n",
    "    for a, b in zip(A, B):\n",
    "        if a == b:\n",
    "            continue\n",
    "            \n",
    "        if not a in diff_map:\n",
    "            diff_map[a] = 1\n",
    "            non_zero += 1\n",
    "        else:\n",
    "            diff_map[a] += 1\n",
    "            if diff_map[a] == 0:\n",
    "                non_zero -= 1\n",
    "            if \n",
    "            \n",
    "        if not b in diff_map:\n",
    "            diff_map[b] = -1\n",
    "            non_zero += 1\n",
    "        else:\n",
    "            diff_map[b] -= 1\n",
    "            if diff_map[b] == 0:\n",
    "                non_zero -= 1\n",
    "        print(\"a : {}, b : {}, nonzero : {}, map : {}\".format(a,b,non_zero, diff_map))\n",
    "                \n",
    "    if non_zero == 0:\n",
    "        return True\n",
    "    else:\n",
    "        return False\n",
    "\n",
    "def run(A, B):\n",
    "    if ValidAnagram(A, B):\n",
    "        print(\"{} is an anagram of {}\".format(B,A))\n",
    "    else:\n",
    "        print(\"{} is NOT an anagram of {}\".format(B,A))"
   ]
  },
  {
   "cell_type": "code",
   "execution_count": 20,
   "metadata": {},
   "outputs": [
    {
     "name": "stdout",
     "output_type": "stream",
     "text": [
      "a : a, b : g, nonzero : 2, map : {'a': 1, 'g': -1}\n",
      "a : b, b : f, nonzero : 4, map : {'a': 1, 'g': -1, 'b': 1, 'f': -1}\n",
      "a : c, b : e, nonzero : 6, map : {'a': 1, 'g': -1, 'b': 1, 'f': -1, 'c': 1, 'e': -1}\n",
      "a : e, b : c, nonzero : 4, map : {'a': 1, 'g': -1, 'b': 1, 'f': -1, 'c': 0, 'e': 0}\n",
      "a : f, b : b, nonzero : 2, map : {'a': 1, 'g': -1, 'b': 0, 'f': 0, 'c': 0, 'e': 0}\n",
      "a : g, b : a, nonzero : 0, map : {'a': 0, 'g': 0, 'b': 0, 'f': 0, 'c': 0, 'e': 0}\n",
      "gfedcba is an anagram of abcdefg\n",
      "a : a, b : g, nonzero : 2, map : {'a': 1, 'g': -1}\n",
      "a : b, b : f, nonzero : 4, map : {'a': 1, 'g': -1, 'b': 1, 'f': -1}\n",
      "a : c, b : d, nonzero : 6, map : {'a': 1, 'g': -1, 'b': 1, 'f': -1, 'c': 1, 'd': -1}\n",
      "a : d, b : c, nonzero : 4, map : {'a': 1, 'g': -1, 'b': 1, 'f': -1, 'c': 0, 'd': 0}\n",
      "a : e, b : b, nonzero : 4, map : {'a': 1, 'g': -1, 'b': 0, 'f': -1, 'c': 0, 'd': 0, 'e': 1}\n",
      "a : f, b : a, nonzero : 2, map : {'a': 0, 'g': -1, 'b': 0, 'f': 0, 'c': 0, 'd': 0, 'e': 1}\n",
      "gfdcba is NOT an anagram of abcdefg\n",
      "a : a, b : n, nonzero : 2, map : {'a': 1, 'n': -1}\n",
      "a : n, b : a, nonzero : 0, map : {'a': 0, 'n': 0}\n",
      "a : a, b : g, nonzero : 1, map : {'a': 1, 'n': 0, 'g': -1}\n",
      "a : g, b : a, nonzero : -1, map : {'a': 0, 'n': 0, 'g': 0}\n",
      "nagaram is NOT an anagram of anagram\n",
      "a : a, b : b, nonzero : 2, map : {'a': 1, 'b': -1}\n",
      "a : a, b : b, nonzero : 2, map : {'a': 2, 'b': -2}\n",
      "a : b, b : a, nonzero : 2, map : {'a': 1, 'b': -1}\n",
      "a : b, b : a, nonzero : 0, map : {'a': 0, 'b': 0}\n",
      "baabbaa is an anagram of aaaabbb\n"
     ]
    }
   ],
   "source": [
    "run('abcdefg','gfedcba')\n",
    "run('abcdefg','gfdcba')\n",
    "run('anagram','nagaram')\n",
    "run('aaaabbb','baabbaa')"
   ]
  },
  {
   "cell_type": "code",
   "execution_count": null,
   "metadata": {
    "collapsed": true
   },
   "outputs": [],
   "source": []
  }
 ],
 "metadata": {
  "kernelspec": {
   "display_name": "Python 3",
   "language": "python",
   "name": "python3"
  },
  "language_info": {
   "codemirror_mode": {
    "name": "ipython",
    "version": 3
   },
   "file_extension": ".py",
   "mimetype": "text/x-python",
   "name": "python",
   "nbconvert_exporter": "python",
   "pygments_lexer": "ipython3",
   "version": "3.6.3"
  }
 },
 "nbformat": 4,
 "nbformat_minor": 2
}
