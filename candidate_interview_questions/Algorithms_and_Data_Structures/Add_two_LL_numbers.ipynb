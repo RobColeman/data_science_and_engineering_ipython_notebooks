{
 "cells": [
  {
   "cell_type": "markdown",
   "metadata": {},
   "source": [
    "## Add two linked-list numbers\n",
    "\n",
    "Given two linked lists, representing integers, in reverse order, add the two integers and return a new linked list"
   ]
  },
  {
   "cell_type": "markdown",
   "metadata": {},
   "source": [
    "## Solution\n",
    "\n",
    "This is similar to the add array and number problem.  In this case we are again looping through the two lists, from left to right, and adding the values, carring ones where needed.\n",
    "\n",
    "## Complexity\n",
    "\n",
    "This will cost O(n+1), where n i the maximum of the length of the two linked lists.  In terms of space, we'll need O(n) for the output linked list, if we were modifying them in place, we could do this with no extra memory."
   ]
  },
  {
   "cell_type": "code",
   "execution_count": 28,
   "metadata": {
    "collapsed": true
   },
   "outputs": [],
   "source": [
    "from copy import deepcopy\n",
    "\n",
    "class Node():\n",
    "    \n",
    "    def __init__(self, val = None, nxt = None):\n",
    "        self.val = val\n",
    "        self.next = nxt\n",
    "        \n",
    "\n",
    "def make_rev_ll_from_num_array(a):\n",
    "    head = Node(a[0])\n",
    "    tail = head\n",
    "    for n in a[1:]:\n",
    "        tail.next = Node(n)\n",
    "        tail = tail.next\n",
    "    return head\n",
    "\n",
    "\n",
    "def reverse_linked_list(head):\n",
    "    if not head:\n",
    "        return None\n",
    "    \n",
    "    p1 = head\n",
    "    if not p1.next:\n",
    "        return p1\n",
    "    else:\n",
    "        p2 = p1.next\n",
    "        p3 = p2.next\n",
    "        \n",
    "    if not p3:\n",
    "        p2.next = p1\n",
    "        p1.next = None\n",
    "        return p2\n",
    "    \n",
    "    while p3.next:\n",
    "        p2.next = p1\n",
    "        # advance\n",
    "        p1 = p2\n",
    "        p2 = p3\n",
    "        p3 = p3.next\n",
    "        \n",
    "    p2.next = p1\n",
    "    p3.next = p2\n",
    "    return p3\n",
    "        \n",
    "\n",
    "def print_ll(head):\n",
    "    s = \"\"\n",
    "    cn = head\n",
    "    while cn:\n",
    "        s += \"{} -> \".format(cn.val)\n",
    "        cn = cn.next\n",
    "    s = s[:-3]\n",
    "    print(s)\n",
    "    return None"
   ]
  },
  {
   "cell_type": "code",
   "execution_count": 31,
   "metadata": {
    "collapsed": true
   },
   "outputs": [],
   "source": [
    "def add_two_ll_nums(head1, head2):\n",
    "    carry = 0\n",
    "    \n",
    "    \n",
    "    \n",
    "    sm = head1.val + head2.val\n",
    "    if sm > 9:\n",
    "        carry = 1\n",
    "        sm -= 10\n",
    "    else:\n",
    "        carry = 0\n",
    "        \n",
    "    head1 = head1.next\n",
    "    head2 = head2.next\n",
    "    out_tail = Node(sm)\n",
    "    out_head = out_tail\n",
    "    while head1 or head2 or carry:\n",
    "        \n",
    "        if head1:\n",
    "            v1 = head1.val\n",
    "        else:\n",
    "            v1 = 0\n",
    "        \n",
    "        if head2:\n",
    "            v2 = head2.val\n",
    "        else:\n",
    "            v2 = 0\n",
    "            \n",
    "        sm = v1 + v2 + carry\n",
    "        if sm > 9:\n",
    "            carry = 1\n",
    "            sm -= 10\n",
    "        else:\n",
    "            carry = 0\n",
    "            \n",
    "        # advance\n",
    "        next_node = Node(sm)\n",
    "        out_tail.next = next_node\n",
    "        out_tail = next_node\n",
    "        \n",
    "        if head1:\n",
    "            head1 = head1.next\n",
    "        if head2:\n",
    "            head2 = head2.next\n",
    "            \n",
    "    return out_head\n",
    "\n",
    "\n",
    "def run_show(n1, n2):\n",
    "    head1 = make_rev_ll_from_num_array(n1)\n",
    "    head2 = make_rev_ll_from_num_array(n2)\n",
    "    print_ll(head1)\n",
    "    print_ll(head2)\n",
    "    res_head = add_two_ll_nums(head1, head2)\n",
    "    print(\"sum : \")\n",
    "    print_ll(res_head)\n",
    "    print(\"\")\n",
    "    return None"
   ]
  },
  {
   "cell_type": "code",
   "execution_count": 32,
   "metadata": {},
   "outputs": [
    {
     "name": "stdout",
     "output_type": "stream",
     "text": [
      "3 -> 4 -> 2 \n",
      "4 -> 6 -> 5 \n",
      "sum : \n",
      "7 -> 0 -> 8 \n",
      "\n",
      "4 -> 2 \n",
      "4 -> 6 -> 5 \n",
      "sum : \n",
      "8 -> 8 -> 5 \n",
      "\n",
      "5 -> 4 -> 2 \n",
      "4 -> 6 -> 5 \n",
      "sum : \n",
      "9 -> 0 -> 8 \n",
      "\n"
     ]
    }
   ],
   "source": [
    "n1 = [3, 4, 2]\n",
    "n2 = [4, 6, 5]\n",
    "run_show(n1, n2)\n",
    "\n",
    "n1 = [4, 2]\n",
    "n2 = [4, 6, 5]\n",
    "run_show(n1, n2)\n",
    "\n",
    "n1 = [5, 4, 2]\n",
    "n2 = [4, 6, 5]\n",
    "run_show(n1, n2)"
   ]
  },
  {
   "cell_type": "code",
   "execution_count": null,
   "metadata": {
    "collapsed": true
   },
   "outputs": [],
   "source": []
  }
 ],
 "metadata": {
  "kernelspec": {
   "display_name": "Python 3",
   "language": "python",
   "name": "python3"
  },
  "language_info": {
   "codemirror_mode": {
    "name": "ipython",
    "version": 3
   },
   "file_extension": ".py",
   "mimetype": "text/x-python",
   "name": "python",
   "nbconvert_exporter": "python",
   "pygments_lexer": "ipython3",
   "version": "3.6.3"
  }
 },
 "nbformat": 4,
 "nbformat_minor": 2
}
