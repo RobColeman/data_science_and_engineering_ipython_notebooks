{
 "cells": [
  {
   "cell_type": "markdown",
   "metadata": {},
   "source": [
    "## Add two linked-list numbers\n",
    "\n",
    "Given two linked lists, representing integers, in reverse order, add the two integers and return a new linked list"
   ]
  },
  {
   "cell_type": "code",
   "execution_count": 33,
   "metadata": {
    "collapsed": true
   },
   "outputs": [],
   "source": [
    "from copy import deepcopy\n",
    "\n",
    "class Node():\n",
    "    \n",
    "    def __init__(self, val = None, nxt = None):\n",
    "        self.val = val\n",
    "        self.next = nxt\n",
    "    \n",
    "    def set_next(self, nn):\n",
    "        self.next = nn\n",
    "    \n",
    "    def set_val(self, val):\n",
    "        self.val = val\n",
    "    \n",
    "\n",
    "def make_rev_ll_from_num_array(a):\n",
    "    ln = None\n",
    "    for n in a:\n",
    "        cn = Node(n)\n",
    "        cn.set_next(ln)\n",
    "        ln = cn\n",
    "    return ln\n",
    "\n",
    "\n",
    "def print_ll(head):\n",
    "    s = \"\"\n",
    "    cn = head\n",
    "    while cn:\n",
    "        s += \"{} -> \".format(cn.val)\n",
    "        cn = cn.next\n",
    "    s = s[:-3]\n",
    "    print(s)\n",
    "    return None"
   ]
  },
  {
   "cell_type": "code",
   "execution_count": 41,
   "metadata": {
    "collapsed": true
   },
   "outputs": [],
   "source": [
    "def add_two_ll_nums(head1, head2):\n",
    "    print_ll(head1)\n",
    "    print_ll(head2)\n",
    "    carry = 0\n",
    "    \n",
    "    v1 = head1.val\n",
    "    v2 = head2.val\n",
    "    sm = v1 + v2\n",
    "    if sm > 9:\n",
    "        carry = 1\n",
    "        sm -= 10\n",
    "    else:\n",
    "        carry = 0\n",
    "        \n",
    "    head1 = head1.next\n",
    "    head2 = head2.next\n",
    "    last_out_n = Node(sm)\n",
    "    head_out = last_out_n\n",
    "    while head1 or head2 or carry:\n",
    "        \n",
    "        if head1:\n",
    "            v1 = head1.val\n",
    "        else:\n",
    "            v1 = 0\n",
    "        \n",
    "        if head2:\n",
    "            v2 = head2.val\n",
    "        else:\n",
    "            v2 = 0\n",
    "            \n",
    "        sm = v1 + v2 + carry\n",
    "        if sm > 9:\n",
    "            carry = 1\n",
    "            sm -= 10\n",
    "        else:\n",
    "            carry = 0\n",
    "        \n",
    "        n_out_n = Node(sm)\n",
    "        last_out_n.set_next(n_out_n)\n",
    "        last_out_n = n_out_n\n",
    "        \n",
    "        # advance\n",
    "        if head1:\n",
    "            head1 = head1.next\n",
    "        if head2:\n",
    "            head2 = head2.next\n",
    "            \n",
    "    return head_out\n",
    "\n",
    "def run_show(n1, n2):\n",
    "    head1 = make_rev_ll_from_num_array(n1)\n",
    "    head2 = make_rev_ll_from_num_array(n2)\n",
    "    res_head = add_two_ll_nums(head1, head2)\n",
    "    print(\"sum : \")\n",
    "    print_ll(res_head)\n",
    "    print(\"\")\n",
    "    return None"
   ]
  },
  {
   "cell_type": "code",
   "execution_count": 42,
   "metadata": {},
   "outputs": [
    {
     "name": "stdout",
     "output_type": "stream",
     "text": [
      "2 -> 4 -> 3 \n",
      "5 -> 6 -> 4 \n",
      "sum : \n",
      "7 -> 0 -> 8 \n",
      "\n",
      "2 -> 4 \n",
      "5 -> 6 -> 4 \n",
      "sum : \n",
      "7 -> 0 -> 5 \n",
      "\n",
      "2 -> 4 -> 5 \n",
      "5 -> 6 -> 4 \n",
      "sum : \n",
      "7 -> 0 -> 0 -> 1 \n",
      "\n"
     ]
    }
   ],
   "source": [
    "n1 = [3, 4, 2]\n",
    "n2 = [4, 6, 5]\n",
    "run_show(n1, n2)\n",
    "\n",
    "n1 = [4, 2]\n",
    "n2 = [4, 6, 5]\n",
    "run_show(n1, n2)\n",
    "\n",
    "n1 = [5, 4, 2]\n",
    "n2 = [4, 6, 5]\n",
    "run_show(n1, n2)"
   ]
  },
  {
   "cell_type": "code",
   "execution_count": null,
   "metadata": {
    "collapsed": true
   },
   "outputs": [],
   "source": []
  }
 ],
 "metadata": {
  "kernelspec": {
   "display_name": "Python 3",
   "language": "python",
   "name": "python3"
  },
  "language_info": {
   "codemirror_mode": {
    "name": "ipython",
    "version": 3
   },
   "file_extension": ".py",
   "mimetype": "text/x-python",
   "name": "python",
   "nbconvert_exporter": "python",
   "pygments_lexer": "ipython3",
   "version": "3.6.3"
  }
 },
 "nbformat": 4,
 "nbformat_minor": 2
}
