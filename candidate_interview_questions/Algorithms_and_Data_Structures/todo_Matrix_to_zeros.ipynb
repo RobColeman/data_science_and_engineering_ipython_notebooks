{
 "cells": [
  {
   "cell_type": "markdown",
   "metadata": {},
   "source": [
    "# Given an metrix of ints, if an entry is zero, set it's row and column to zero\n",
    "\n",
    "Do this in-place."
   ]
  },
  {
   "cell_type": "markdown",
   "metadata": {},
   "source": [
    "## Solution\n",
    "\n",
    "We need to start scanning the matrix, but when we find a zero, when we set it's row and column to zeros, we can add the row and column to skip list.  Since we have to touch all the elements in the rows and columns to set them to zero, or we have to check all the elements to see if they are zero.\n",
    "\n",
    "So, we should be able to do this in O(NxM), where N is the number of rows, and M is the number of columns."
   ]
  },
  {
   "cell_type": "code",
   "execution_count": null,
   "metadata": {
    "collapsed": true
   },
   "outputs": [],
   "source": [
    "def SetMatrixZeros(mat):\n",
    "    rows = set(range(len(mat)))\n",
    "    cols = set(range(len(mat[0])))\n",
    "    for r in range(len(mat)):\n",
    "        if r in skip_rows:\n",
    "            continue\n",
    "        for c in cols:\n",
    "            if mat[r][c] == 0:\n",
    "                # set row to zeros\n",
    "                for ic in cols.difference(set(c)):\n",
    "                    mat[r][ic] = 0\n",
    "                rows.remove(r)\n",
    "                # set col to zeros\n",
    "                for ir in rows:\n",
    "                    mat[ir][c] = 0\n",
    "                cols.remove(c)\n",
    "                break\n",
    "        "
   ]
  }
 ],
 "metadata": {
  "kernelspec": {
   "display_name": "Python 3",
   "language": "python",
   "name": "python3"
  },
  "language_info": {
   "codemirror_mode": {
    "name": "ipython",
    "version": 3
   },
   "file_extension": ".py",
   "mimetype": "text/x-python",
   "name": "python",
   "nbconvert_exporter": "python",
   "pygments_lexer": "ipython3",
   "version": "3.6.3"
  }
 },
 "nbformat": 4,
 "nbformat_minor": 2
}
