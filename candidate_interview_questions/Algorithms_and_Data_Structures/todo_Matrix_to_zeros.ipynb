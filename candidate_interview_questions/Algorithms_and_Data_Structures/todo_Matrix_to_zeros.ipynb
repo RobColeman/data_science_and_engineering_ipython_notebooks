{
 "cells": [
  {
   "cell_type": "markdown",
   "metadata": {},
   "source": [
    "# Given an metrix of ints, if an entry is zero, set it's row and column to zero\n",
    "\n",
    "Do this in-place."
   ]
  },
  {
   "cell_type": "markdown",
   "metadata": {},
   "source": [
    "## Solution\n",
    "\n",
    "We can do this in one pass through the matrix, and another pass through two sets we use to keep track of the position of zeros.  The first pass, we keep track of the rows and column with zeros in them as sets.  The second pass we go through the rows set and columns set.\n",
    "\n",
    "## Complexity\n",
    "\n",
    "The run-time will be O(n), where n is n_rows * n_cols.  The constant here is at max 3, once for the first pass, and one each for the zero rows and columns.  Though, the later are only truley n_rows * n_cols if we have to zero the entire matrix.\n",
    "\n",
    "We need O(n_rows + n_cols) extra space for the two sets.  Keep in mind that in the edge case where we have either 2-rows or 2-columns, this would be equivilant to O(n/2)."
   ]
  },
  {
   "cell_type": "code",
   "execution_count": 5,
   "metadata": {},
   "outputs": [],
   "source": [
    "def SetMatrixZeros(mat):\n",
    "    n_rows = len(mat)\n",
    "    n_cols = len(mat[0])\n",
    "    z_rows = set() # O(n_rows)\n",
    "    z_cols = set() # O(n_cols)\n",
    "    \n",
    "    # O(n_rows * n_cols), or O(n), where is the number of entries in the matrix\n",
    "    for r in range(n_rows):\n",
    "        for c in range(n_cols):\n",
    "            if mat[r][c] == 0:\n",
    "                z_rows.add(r)\n",
    "                z_cols.add(c)\n",
    "    \n",
    "    # O(n_rows * n cols)\n",
    "    for r in z_rows:\n",
    "        for c in range(n_cols):\n",
    "            mat[r][c] = 0\n",
    "    \n",
    "    # O(n_cols * n_rows)\n",
    "    for c in z_cols:\n",
    "        for r in range(n_rows):\n",
    "            mat[r][c] = 0\n",
    "            \n",
    "    return mat\n",
    "    \n",
    "    \n",
    "def run(mat):\n",
    "    print(\"\")\n",
    "    print(\"matrix : \")\n",
    "    for row in mat:\n",
    "        print(row)\n",
    "    zeroed_mat = SetMatrixZeros(mat)\n",
    "    print(\"zeroed matrix : \")\n",
    "    for row in zeroed_mat:\n",
    "        print(row)\n",
    "        \n",
    "def make_mat(l):\n",
    "    \"\"\"\n",
    "    L is the length of a side of the square matrix.\n",
    "    \"\"\"\n",
    "    n = l*l\n",
    "    i = 0\n",
    "    mat = []\n",
    "    while len(mat) < l:\n",
    "        r = []\n",
    "        while len(r) < l:\n",
    "            r.append(i)\n",
    "            i += 1\n",
    "        mat.append(r)\n",
    "    return mat "
   ]
  },
  {
   "cell_type": "code",
   "execution_count": 7,
   "metadata": {},
   "outputs": [
    {
     "name": "stdout",
     "output_type": "stream",
     "text": [
      "\n",
      "matrix : \n",
      "[0, 1, 2, 3, 4, 5, 6, 7, 8, 9]\n",
      "[10, 11, 12, 13, 14, 15, 16, 17, 18, 19]\n",
      "[20, 21, 22, 23, 24, 25, 26, 27, 28, 29]\n",
      "[30, 31, 0, 33, 34, 35, 36, 37, 38, 39]\n",
      "[40, 41, 42, 43, 44, 45, 46, 47, 48, 49]\n",
      "[50, 51, 52, 53, 54, 55, 56, 57, 58, 59]\n",
      "[60, 61, 62, 63, 64, 65, 66, 67, 68, 69]\n",
      "[70, 71, 72, 73, 74, 75, 76, 77, 78, 79]\n",
      "[80, 81, 82, 83, 84, 85, 86, 0, 88, 89]\n",
      "[90, 91, 92, 93, 94, 95, 96, 97, 98, 99]\n",
      "zeroed matrix : \n",
      "[0, 0, 0, 0, 0, 0, 0, 0, 0, 0]\n",
      "[0, 11, 0, 13, 14, 15, 16, 0, 18, 19]\n",
      "[0, 21, 0, 23, 24, 25, 26, 0, 28, 29]\n",
      "[0, 0, 0, 0, 0, 0, 0, 0, 0, 0]\n",
      "[0, 41, 0, 43, 44, 45, 46, 0, 48, 49]\n",
      "[0, 51, 0, 53, 54, 55, 56, 0, 58, 59]\n",
      "[0, 61, 0, 63, 64, 65, 66, 0, 68, 69]\n",
      "[0, 71, 0, 73, 74, 75, 76, 0, 78, 79]\n",
      "[0, 0, 0, 0, 0, 0, 0, 0, 0, 0]\n",
      "[0, 91, 0, 93, 94, 95, 96, 0, 98, 99]\n"
     ]
    }
   ],
   "source": [
    "mat = make_mat(10)\n",
    "mat[3][2] = 0\n",
    "mat[8][7] = 0\n",
    "\n",
    "run(mat)"
   ]
  },
  {
   "cell_type": "code",
   "execution_count": null,
   "metadata": {},
   "outputs": [],
   "source": []
  }
 ],
 "metadata": {
  "kernelspec": {
   "display_name": "Python 3",
   "language": "python",
   "name": "python3"
  },
  "language_info": {
   "codemirror_mode": {
    "name": "ipython",
    "version": 3
   },
   "file_extension": ".py",
   "mimetype": "text/x-python",
   "name": "python",
   "nbconvert_exporter": "python",
   "pygments_lexer": "ipython3",
   "version": "3.6.3"
  }
 },
 "nbformat": 4,
 "nbformat_minor": 2
}
