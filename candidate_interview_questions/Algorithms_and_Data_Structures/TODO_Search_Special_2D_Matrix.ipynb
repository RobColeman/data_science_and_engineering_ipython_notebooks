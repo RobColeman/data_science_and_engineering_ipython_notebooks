{
 "cells": [
  {
   "cell_type": "markdown",
   "metadata": {},
   "source": [
    "# Search Special 2D Matrix\n",
    "\n",
    "A matrix has the proerties\n",
    "\n",
    "- Integers in each row are sorted in ascending from left to right.\n",
    "- Integers in each column are sorted in ascending from top to bottom.\n",
    "\n",
    "Given such a matrix, and an integer, find if the integer is in the matrix.\n",
    "\n",
    "example matrix:"
   ]
  },
  {
   "cell_type": "code",
   "execution_count": 9,
   "metadata": {},
   "outputs": [],
   "source": [
    "mat = [\n",
    "  [1,   4,  7, 11, 15],\n",
    "  [2,   5,  8, 12, 19],\n",
    "  [3,   6,  9, 16, 22],\n",
    "  [10, 13, 14, 17, 24],\n",
    "  [18, 21, 23, 26, 30]\n",
    "]"
   ]
  },
  {
   "cell_type": "markdown",
   "metadata": {},
   "source": [
    "# Solution\n",
    "\n",
    "For Matrix 'A' for integer 'x', we start at index (0,0) in a loop, at each iteration, for position (i,j) we do:\n",
    "\n",
    "\n",
    "\n",
    "be sure to check that we stay in-bounds.\n",
    "\n",
    "## Complexity\n",
    "\n",
    "Run-time should be O(w + h) where w and h is the width and height of the array respectively.  We don't need any extra memory."
   ]
  },
  {
   "cell_type": "code",
   "execution_count": 16,
   "metadata": {},
   "outputs": [],
   "source": [
    "def find_in_special_matrix(mat, x):\n",
    "    n_cols = len(mat[0])\n",
    "    n_rows = len(mat)\n",
    "    \n",
    "    row = 0\n",
    "    col = 0\n",
    "    \n",
    "    while True:\n",
    "        \n",
    "        if mat[row][col] == x:\n",
    "            return (True, (row, col))\n",
    "        elif col + 1 < n_cols and mat[row][col+1] <= x:\n",
    "            col += 1\n",
    "        elif row +1 < n_rows and mat[row+1][col] <= x:\n",
    "            row += 1\n",
    "            #\n",
    "        else:\n",
    "            return (False,(row, col))\n",
    "        \n",
    "    return (False,(row, col))\n",
    "\n",
    "def run(mat, x):\n",
    "    print(\"\")\n",
    "    print(\"Mat : \")\n",
    "    for row in mat:\n",
    "        print(row)\n",
    "    print(\"\")\n",
    "    print(find_in_special_matrix(mat, x))"
   ]
  },
  {
   "cell_type": "code",
   "execution_count": 17,
   "metadata": {},
   "outputs": [
    {
     "name": "stdout",
     "output_type": "stream",
     "text": [
      "\n",
      "Mat : \n",
      "[1, 4, 7, 11, 15]\n",
      "[2, 5, 8, 12, 19]\n",
      "[3, 6, 9, 16, 22]\n",
      "[10, 13, 14, 17, 24]\n",
      "[18, 21, 23, 26, 30]\n",
      "\n",
      "(True, (1, 1))\n",
      "\n",
      "Mat : \n",
      "[1, 4, 7, 11, 15]\n",
      "[2, 5, 8, 12, 19]\n",
      "[3, 6, 9, 16, 22]\n",
      "[10, 13, 14, 17, 24]\n",
      "[18, 21, 23, 26, 30]\n",
      "\n",
      "(True, (1, 2))\n",
      "\n",
      "Mat : \n",
      "[1, 4, 7, 11, 15]\n",
      "[2, 5, 8, 12, 19]\n",
      "[3, 6, 9, 16, 22]\n",
      "[10, 13, 14, 17, 24]\n",
      "[18, 21, 23, 26, 30]\n",
      "\n",
      "(False, (1, 3))\n"
     ]
    }
   ],
   "source": [
    "run(mat, 5)\n",
    "run(mat, 8)\n",
    "run(mat, 14)"
   ]
  },
  {
   "cell_type": "code",
   "execution_count": null,
   "metadata": {},
   "outputs": [],
   "source": []
  }
 ],
 "metadata": {
  "kernelspec": {
   "display_name": "Python 3",
   "language": "python",
   "name": "python3"
  },
  "language_info": {
   "codemirror_mode": {
    "name": "ipython",
    "version": 3
   },
   "file_extension": ".py",
   "mimetype": "text/x-python",
   "name": "python",
   "nbconvert_exporter": "python",
   "pygments_lexer": "ipython3",
   "version": "3.6.3"
  }
 },
 "nbformat": 4,
 "nbformat_minor": 2
}
