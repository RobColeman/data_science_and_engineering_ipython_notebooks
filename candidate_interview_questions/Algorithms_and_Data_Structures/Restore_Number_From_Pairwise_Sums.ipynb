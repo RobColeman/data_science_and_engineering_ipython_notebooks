{
 "cells": [
  {
   "cell_type": "markdown",
   "metadata": {},
   "source": [
    "# Restore numbers from pairwise sum\n",
    "\n",
    "Definition: Given an array numbers n = [x1, x2, ..., xn], a set of pairwise sums ps is [x1 + x2, x1 + x3, ..., x2 + x3, x2 + x4, ..., xn-1 + xn].\n",
    "\n",
    "Problem: Given an array of pairwise sums, restore the original array.\n",
    "\n",
    "\n",
    "Solution:\n",
    "\n",
    "Notice\n",
    "\n",
    "    ps[0] = n[0] + n[1]\n",
    "\n",
    "    ps[1] = n[0] + n[2]\n",
    "\n",
    "    ps[n-1] = n[1] + n[2]\n",
    "\n",
    "So,\n",
    "\n",
    "    n[0] + n[0] + n[1] + n[2] = ps[0] + ps[1]\n",
    "    \n",
    "    n[0] = (ps[0] + ps[1] - ps[n-1]) / 2\n",
    "\n",
    "Once we have the first element, we can get the rest by walking from 1 to n-1, and subtracting n[0]."
   ]
  },
  {
   "cell_type": "code",
   "execution_count": 2,
   "metadata": {},
   "outputs": [
    {
     "name": "stdout",
     "output_type": "stream",
     "text": [
      "[0, 1, 2, 3, 4]\n",
      "[1, 2, 3, 4, 3, 4, 5, 5, 6, 7]\n",
      "[0, 1, 2, 3, 4]\n"
     ]
    }
   ],
   "source": [
    "nums = [0,1,2,3,4]\n",
    "def make_pairwise_sum(nums):\n",
    "    ps = []\n",
    "    l = len(nums)\n",
    "    for i in range(l):\n",
    "        for j in range(i+1,l):\n",
    "            ps.append(nums[i] + nums[j])\n",
    "    return ps\n",
    "\n",
    "ps = make_pairwise_sum(nums)\n",
    "l = len(nums)\n",
    "\n",
    "def restore_nums(ps, n):\n",
    "    s = [0]*n\n",
    "    # compute the first element\n",
    "    s[0] = (ps[0] + ps[1] - ps[n - 1]) // 2 \n",
    "    # for the set of sums, x1 + xi, s[i] is ps[i-1] - s[0]\n",
    "    for i in range(1, n):\n",
    "        s[i] = ps[i-1] - s[0]\n",
    "    return s\n",
    "\n",
    "print(nums)\n",
    "print(ps)\n",
    "print(restore_nums(ps, l))"
   ]
  },
  {
   "cell_type": "code",
   "execution_count": null,
   "metadata": {
    "collapsed": true
   },
   "outputs": [],
   "source": []
  }
 ],
 "metadata": {
  "kernelspec": {
   "display_name": "Python 3",
   "language": "python",
   "name": "python3"
  },
  "language_info": {
   "codemirror_mode": {
    "name": "ipython",
    "version": 3
   },
   "file_extension": ".py",
   "mimetype": "text/x-python",
   "name": "python",
   "nbconvert_exporter": "python",
   "pygments_lexer": "ipython3",
   "version": "3.6.3"
  }
 },
 "nbformat": 4,
 "nbformat_minor": 1
}
