{
 "cells": [
  {
   "cell_type": "code",
   "execution_count": null,
   "metadata": {
    "collapsed": true
   },
   "outputs": [],
   "source": []
  },
  {
   "cell_type": "code",
   "execution_count": null,
   "metadata": {
    "collapsed": true
   },
   "outputs": [],
   "source": []
  },
  {
   "cell_type": "code",
   "execution_count": 2,
   "metadata": {},
   "outputs": [
    {
     "ename": "IndentationError",
     "evalue": "expected an indented block (<ipython-input-2-0e18106debf0>, line 7)",
     "output_type": "error",
     "traceback": [
      "\u001b[1;36m  File \u001b[1;32m\"<ipython-input-2-0e18106debf0>\"\u001b[1;36m, line \u001b[1;32m7\u001b[0m\n\u001b[1;33m    class LFU:\u001b[0m\n\u001b[1;37m              ^\u001b[0m\n\u001b[1;31mIndentationError\u001b[0m\u001b[1;31m:\u001b[0m expected an indented block\n"
     ]
    }
   ],
   "source": [
    "import heapq\n",
    "\n",
    "class Node:\n",
    "    \n",
    "    def __init__(self, key, value, n = 1):\n",
    "        self.next = None\n",
    "        self.prev = None\n",
    "        self.key = key\n",
    "        self.value = value\n",
    "        self.n = n\n",
    "        \n",
    "    def swap_left(self, other):\n",
    "        p = other.prev\n",
    "        n = self.next\n",
    "        self.prev = p\n",
    "        self.next = other\n",
    "        other.prev = self\n",
    "        other.next = n\n",
    "        return None\n",
    "        \n",
    "        \n",
    "\n",
    "class LFU:\n",
    "    \n",
    "    def __init__(self, capacity):\n",
    "        self.capacity = capacity\n",
    "        self.n = 0\n",
    "        self.cache = {}\n",
    "        self.queue_head = None\n",
    "        self.queue_tail = None\n",
    "    \n",
    "        \n",
    "    def put(self, key, value):\n",
    "        if self.n == 0:\n",
    "            node = Node(key, value, 1)\n",
    "            self.cache[key] = node\n",
    "            self.queue_head = node\n",
    "            self.queue_tail = node\n",
    "            self.n += 1\n",
    "        elif self.n < self.capacity:\n",
    "            if key in self.cache:\n",
    "                node = self.cache[key]\n",
    "                node.n += 1\n",
    "                node.value = value\n",
    "                if node.prev and node.prev.n < node.n:\n",
    "                    node.swap_left(node.prev)\n",
    "                    return None\n",
    "                \n",
    "                \n",
    "                \n",
    "                \n",
    "            node = \n",
    "            prev = self.queue_tail\n",
    "        \n",
    "    \n",
    "        \n",
    "    def get(self, item):\n",
    "        if item in self.cache:\n",
    "            n, v = self.cache[item]\n",
    "            n += 1\n",
    "            \n",
    "            \n",
    "            return \n",
    "        else:\n",
    "            return -1\n",
    "        \n",
    "    def put(self, item, value):\n",
    "        if item in self.cache:\n",
    "            n, value = \n",
    "            self.cache[item] = value\n",
    "            \n",
    "            \n",
    "        if len(self.cache) == n:\n",
    "            "
   ]
  },
  {
   "cell_type": "code",
   "execution_count": null,
   "metadata": {
    "collapsed": true
   },
   "outputs": [],
   "source": []
  }
 ],
 "metadata": {
  "kernelspec": {
   "display_name": "Python 3",
   "language": "python",
   "name": "python3"
  },
  "language_info": {
   "codemirror_mode": {
    "name": "ipython",
    "version": 3
   },
   "file_extension": ".py",
   "mimetype": "text/x-python",
   "name": "python",
   "nbconvert_exporter": "python",
   "pygments_lexer": "ipython3",
   "version": "3.6.3"
  }
 },
 "nbformat": 4,
 "nbformat_minor": 2
}
