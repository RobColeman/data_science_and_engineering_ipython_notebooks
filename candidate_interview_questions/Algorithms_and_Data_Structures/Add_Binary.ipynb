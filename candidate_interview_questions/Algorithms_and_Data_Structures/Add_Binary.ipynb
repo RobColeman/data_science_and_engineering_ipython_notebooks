{
 "cells": [
  {
   "cell_type": "markdown",
   "metadata": {},
   "source": [
    "#  Add two Binary strings\n",
    "\n",
    "e.g.\n",
    "\n",
    "A = [1,0,1,1]\n",
    "\n",
    "B = [1,1,0,1]\n",
    "\n",
    "-------------\n",
    "[1,1,0,0,0]\n",
    "\n",
    "\n"
   ]
  },
  {
   "cell_type": "markdown",
   "metadata": {},
   "source": [
    "# Solution\n",
    "\n",
    "\n",
    "The process is naturally a recursive one, where at each index, we have three inputs (a_sub_array, b_sub_array), and we return the string entry for this index.\n",
    "\n",
    "\n",
    "Given there are only a few conditions, we can use pattern matching to cath the conditions and produce the correct output.\n",
    "\n",
    "Our possible conditions are:\n",
    "\n",
    "- We've exhaused the length of A : return B\n",
    "- We've exhausted the length of B : return A\n",
    "- Right end of A AND right end of B are 1, recursive call with addBinary(addBinery(A[:-1], B[-1]), '1') and add '0' to the result string\n",
    "- Right end of A AND right end of B are 0, recursive call with addBinary(A[:-1], B[:-1]) and add '0' to the result string\n",
    "- Right end of A XOR right end of B are 1, recurse(A[:-1], B[:-1]) and add '1' to the result string."
   ]
  },
  {
   "cell_type": "code",
   "execution_count": 5,
   "metadata": {
    "collapsed": true
   },
   "outputs": [],
   "source": [
    "def addBinary(a, b):\n",
    "    if len(a) == 0:\n",
    "        return b # we've hit the end\n",
    "    if len(b) == 0:\n",
    "        return a\n",
    "    if a[-1] == '1' and b[-1] == '1': # set zero, carry one, move left\n",
    "        return addBinary(addBinary(a[:-1], b[:-1]), '1') + '0'\n",
    "    elif a[-1] == '0' and b[-1] == '0': # set zero, move up\n",
    "        return addBinary(a[:-1], b[:-1]) + '0'\n",
    "    else:\n",
    "        return addBinary(a[:-1], b[:-1]) + '1' # xor condition, zet one, move up"
   ]
  },
  {
   "cell_type": "code",
   "execution_count": 10,
   "metadata": {},
   "outputs": [
    {
     "name": "stdout",
     "output_type": "stream",
     "text": [
      "a : 1011, b : 1101\n",
      "11000\n",
      "\n",
      "a : 1100, b : 1001\n",
      "10101\n",
      "\n",
      "a : 100, b : 1001\n",
      "1101\n"
     ]
    }
   ],
   "source": [
    "a = \"1011\"\n",
    "b = \"1101\"\n",
    "print(\"a : {}, b : {}\".format(a,b))\n",
    "print(addBinary(a,b))\n",
    "\n",
    "print(\"\")\n",
    "\n",
    "a = \"1100\"\n",
    "b = \"1001\"\n",
    "print(\"a : {}, b : {}\".format(a,b))\n",
    "print(addBinary(a,b))\n",
    "\n",
    "print(\"\")\n",
    "\n",
    "a =  \"100\"\n",
    "b = \"1001\"\n",
    "print(\"a : {}, b : {}\".format(a,b))\n",
    "print(addBinary(a,b))"
   ]
  },
  {
   "cell_type": "code",
   "execution_count": null,
   "metadata": {
    "collapsed": true
   },
   "outputs": [],
   "source": []
  }
 ],
 "metadata": {
  "kernelspec": {
   "display_name": "Python 3",
   "language": "python",
   "name": "python3"
  },
  "language_info": {
   "codemirror_mode": {
    "name": "ipython",
    "version": 3
   },
   "file_extension": ".py",
   "mimetype": "text/x-python",
   "name": "python",
   "nbconvert_exporter": "python",
   "pygments_lexer": "ipython3",
   "version": "3.6.3"
  }
 },
 "nbformat": 4,
 "nbformat_minor": 1
}
