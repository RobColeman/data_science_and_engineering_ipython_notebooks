{
 "cells": [
  {
   "cell_type": "markdown",
   "metadata": {},
   "source": [
    "#  Add two Binary strings\n",
    "\n",
    "e.g.\n",
    "\n",
    "A = [1,0,1,1]\n",
    "\n",
    "B = [1,1,0,1]\n",
    "\n",
    "Result = [1,1,0,0,0]\n",
    "\n",
    "\n"
   ]
  },
  {
   "cell_type": "markdown",
   "metadata": {},
   "source": [
    "# Solution\n",
    "\n",
    "\n",
    "The process is naturally a recursive one, where at each index, we have three inputs (a_sub_array, b_sub_array), and we return the string entry for this index.\n",
    "\n",
    "\n",
    "Given there are only a few conditions, we can use pattern matching to cath the conditions and produce the correct output.\n",
    "\n",
    "Our possible conditions are:\n",
    "\n",
    "- We've exhaused the length of A : return B\n",
    "- We've exhausted the length of B : return A\n",
    "- Right end of A AND right end of B are 1.  We get a zero, and have to carry a '1'.  We make a recursive call with addBinary(addBinery(A[:-1], B[-1]), '1') and add '0' to the result string.\n",
    "- Right end of A AND right end of B are 0.  We get a '0' and we move to the next digit.  We make a recursive call with addBinary(A[:-1], B[:-1]) and add '0' to the result string\n",
    "- Right end of A XOR right end of B are 1.  We get a '1' and we move to the next digit.  We make a recursive call with addBinary(A[:-1], B[:-1]) and add '1' to the result string."
   ]
  },
  {
   "cell_type": "code",
   "execution_count": 6,
   "metadata": {},
   "outputs": [],
   "source": [
    "def addBinary(a, b):\n",
    "    if len(a) == 0:\n",
    "        return b # we've hit the end\n",
    "    if len(b) == 0:\n",
    "        return a\n",
    "    if a[-1] == '1' and b[-1] == '1': # set zero, carry one, move left\n",
    "        return addBinary(addBinary(a[:-1], b[:-1]), '1') + '0'\n",
    "    elif a[-1] == '0' and b[-1] == '0': # set zero, move left\n",
    "        return addBinary(a[:-1], b[:-1]) + '0'\n",
    "    else:\n",
    "        return addBinary(a[:-1], b[:-1]) + '1' # xor condition, zet one, move up\n",
    "    \n",
    "def run(a, b):\n",
    "    print(\"a : {}, b : {}, result : {}\".format(a,b, addBinary(a,b)))\n",
    "    return None"
   ]
  },
  {
   "cell_type": "code",
   "execution_count": 7,
   "metadata": {},
   "outputs": [
    {
     "name": "stdout",
     "output_type": "stream",
     "text": [
      "a : 1011, b : 1101, result : 11000\n",
      "a : 1100, b : 1001, result : 10101\n",
      "a : 100, b : 1001, result : 1101\n"
     ]
    }
   ],
   "source": [
    "run(\"1011\", \"1101\")\n",
    "run(\"1100\", \"1001\")\n",
    "run(\"100\", \"1001\")"
   ]
  },
  {
   "cell_type": "code",
   "execution_count": null,
   "metadata": {
    "collapsed": true
   },
   "outputs": [],
   "source": []
  }
 ],
 "metadata": {
  "kernelspec": {
   "display_name": "Python 3",
   "language": "python",
   "name": "python3"
  },
  "language_info": {
   "codemirror_mode": {
    "name": "ipython",
    "version": 3
   },
   "file_extension": ".py",
   "mimetype": "text/x-python",
   "name": "python",
   "nbconvert_exporter": "python",
   "pygments_lexer": "ipython3",
   "version": "3.6.3"
  }
 },
 "nbformat": 4,
 "nbformat_minor": 1
}
