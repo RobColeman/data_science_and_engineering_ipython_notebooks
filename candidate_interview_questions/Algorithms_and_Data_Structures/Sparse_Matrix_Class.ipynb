{
 "cells": [
  {
   "cell_type": "markdown",
   "metadata": {},
   "source": [
    "# Sparse Matrix\n",
    "\n",
    "Create a sparse matrix class, impliment the following methods: \n",
    "- set(col, row, val) # (int, int, float/double)\n",
    "- sum(col, row) # sum the sub-matrix from (0,0) to (col, row)"
   ]
  },
  {
   "cell_type": "code",
   "execution_count": 1,
   "metadata": {
    "collapsed": true
   },
   "outputs": [],
   "source": [
    "class SparseMatrix:\n",
    "    \n",
    "    def __init__(self, nCols, nRows, elements):\n",
    "        \"\"\" Initialize with a size, and some elements. \"\"\"\n",
    "        self.num_cols = num_cols\n",
    "        self.num_cows = num_rows\n",
    "        self.rows = {}\n",
    "        for e in elements:\n",
    "            self.set(e.col, e.row, e.val)\n",
    "        \n",
    "    \n",
    "    def set(self, col, row, val):\n",
    "        \"\"\" update a value inplace, indexes start at zero \"\"\"\n",
    "        if col < 0 or col > (self.num_cols - 1):\n",
    "            raise Exception('col out of bounds')\n",
    "        elif row < 0 or row > (self.num_rows - 1):\n",
    "            raise Exception('row out of bounds')\n",
    "        elif row in self.rows:\n",
    "            self.rows[row][col] = val\n",
    "        else:\n",
    "            self.rows[row] = {col: val}\n",
    "    \n",
    "    def sum(self, col, row):\n",
    "        \"\"\" Sum the sub-matrix from (0,0) to (row, col)\"\"\"\n",
    "        \"\"\" this can be faster with better data-structures \"\"\"\n",
    "        \n",
    "        for r, cols in self.rows.items():\n",
    "            s = 0\n",
    "            if r <= row:\n",
    "                for c, v in cols.items():\n",
    "                    if c <= col:\n",
    "                        s += v\n",
    "        return s"
   ]
  },
  {
   "cell_type": "code",
   "execution_count": null,
   "metadata": {
    "collapsed": true
   },
   "outputs": [],
   "source": []
  }
 ],
 "metadata": {
  "kernelspec": {
   "display_name": "Python [default]",
   "language": "python",
   "name": "python3"
  },
  "language_info": {
   "codemirror_mode": {
    "name": "ipython",
    "version": 3
   },
   "file_extension": ".py",
   "mimetype": "text/x-python",
   "name": "python",
   "nbconvert_exporter": "python",
   "pygments_lexer": "ipython3",
   "version": "3.5.2"
  }
 },
 "nbformat": 4,
 "nbformat_minor": 1
}
