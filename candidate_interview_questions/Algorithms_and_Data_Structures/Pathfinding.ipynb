{
 "cells": [
  {
   "cell_type": "markdown",
   "metadata": {},
   "source": [
    "# Path finding\n",
    "\n",
    "Given a matrix of 0s and 1s, where 1s are walls, navigate from the top left to the bottom right in the shortest path.\n",
    "\n",
    "More complex version gives costs to each space.\n",
    "\n",
    "## Solution\n",
    "\n",
    "A* is the most efficient graph traversal, path finding algorithm in most cases, with a run-time of O(E) and space complexity of O(V).\n",
    "\n",
    "This is an extension of Djikstra's algorithm."
   ]
  },
  {
   "cell_type": "code",
   "execution_count": null,
   "metadata": {
    "collapsed": true
   },
   "outputs": [],
   "source": []
  }
 ],
 "metadata": {
  "kernelspec": {
   "display_name": "Python [default]",
   "language": "python",
   "name": "python3"
  },
  "language_info": {
   "codemirror_mode": {
    "name": "ipython",
    "version": 3
   },
   "file_extension": ".py",
   "mimetype": "text/x-python",
   "name": "python",
   "nbconvert_exporter": "python",
   "pygments_lexer": "ipython3",
   "version": "3.6.1"
  }
 },
 "nbformat": 4,
 "nbformat_minor": 2
}
