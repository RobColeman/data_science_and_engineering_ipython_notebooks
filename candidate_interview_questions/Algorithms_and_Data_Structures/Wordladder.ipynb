{
 "cells": [
  {
   "cell_type": "markdown",
   "metadata": {},
   "source": [
    "Given two words (beginWord and endWord), and a dictionary's word list, find the length of shortest transformation sequence from beginWord to endWord, such that:\n",
    "\n",
    "Only one letter can be changed at a time.\n",
    "Each transformed word must exist in the word list. Note that beginWord is not a transformed word.\n",
    "For example,\n",
    "\n",
    "Given:\n",
    "\n",
    "beginWord = \"hit\"\n",
    "\n",
    "endWord = \"cog\"\n",
    "\n",
    "wordList = [\"hot\",\"dot\",\"dog\",\"lot\",\"log\",\"cog\"]\n",
    "\n",
    "As one shortest transformation is \"hit\" -> \"hot\" -> \"dot\" -> \"dog\" -> \"cog\",\n",
    "\n",
    "return its length 5.\n",
    "\n",
    "Note:\n",
    "\n",
    "Return 0 if there is no such transformation sequence.\n",
    "\n",
    "All words have the same length.\n",
    "\n",
    "All words contain only lowercase alphabetic characters.\n",
    "\n",
    "You may assume no duplicates in the word list.\n",
    "\n",
    "You may assume beginWord and endWord are non-empty and are not the same.\n"
   ]
  },
  {
   "cell_type": "markdown",
   "metadata": {},
   "source": [
    "## Solution\n",
    "\n",
    "The steps from word to word can be modeled as a graph.  So, the first step is to build a graph from our word list.  We then need to do a search through the graph to find paths.\n",
    "\n",
    "We have the option of searching BF or DF.  Both should find us a solition, eventually.  However, two-ended BFS will solve it fastest."
   ]
  },
  {
   "cell_type": "code",
   "execution_count": 5,
   "metadata": {},
   "outputs": [],
   "source": [
    "from copy import deepcopy\n",
    "\n",
    "def word_distance(a, b):\n",
    "    dist = 0\n",
    "    for aa, bb in zip(a,b):\n",
    "        if not aa == bb:\n",
    "            dist += 1\n",
    "    return dist\n",
    "\n",
    "\n",
    "def build_graph(word_list):\n",
    "    one_step_graph = {}\n",
    "    for i, word1 in enumerate(word_list[:-1]):\n",
    "        for word2 in word_list[i+1:]:\n",
    "            if not word1 in one_step_graph:\n",
    "                one_step_graph[word1] = set()\n",
    "            if not word2 in one_step_graph:\n",
    "                one_step_graph[word2] = set()\n",
    "            if word_distance(word1, word2) == 1:\n",
    "                one_step_graph[word1].add(word2)\n",
    "                one_step_graph[word2].add(word1)\n",
    "    return one_step_graph"
   ]
  },
  {
   "cell_type": "code",
   "execution_count": 36,
   "metadata": {},
   "outputs": [
    {
     "name": "stdout",
     "output_type": "stream",
     "text": [
      "['lat', 'lot', 'log', 'cog']\n",
      "['a', 'c']\n"
     ]
    }
   ],
   "source": [
    "def bfs(left_paths, explored_left, end_word, gr):\n",
    "    next_paths = []\n",
    "    \n",
    "    if len(left_paths) == 0:\n",
    "        return None\n",
    "    \n",
    "    for curr_path in left_paths:\n",
    "        for n_word in gr[curr_path[-1]]:\n",
    "            next_path = deepcopy(curr_path) + [n_word]\n",
    "            if n_word == end_word:\n",
    "                return next_path\n",
    "            elif n_word in explored_left:\n",
    "                continue\n",
    "            else:\n",
    "                explored_left.add(n_word)\n",
    "                next_paths.append(next_path)\n",
    "    return bfs(next_paths, explored_left, end_word, gr)\n",
    "\n",
    "\n",
    "def word_ladder(begin_word, end_word, word_list):\n",
    "    if begin_word == end_word:\n",
    "        return [begin_word]\n",
    "    else:\n",
    "        gr = build_graph(word_list + [begin_word])\n",
    "        res = bfs([[begin_word]], set(), end_word, gr)\n",
    "        \n",
    "    if not res:\n",
    "        print(\"No solution\")\n",
    "    else:\n",
    "        return res\n",
    "    \n",
    "    \n",
    "l = [\"hot\",\"dot\",\"dog\",\"lot\",\"log\",\"cog\"]\n",
    "begin_word = \"lat\"\n",
    "end_word = \"cog\"\n",
    "sol = word_ladder(begin_word, end_word, l)\n",
    "print(sol)\n",
    "\n",
    "l = ['a', 'b', 'c']\n",
    "begin_word = \"a\"\n",
    "end_word = \"c\"\n",
    "sol = word_ladder(begin_word, end_word, l)\n",
    "print(sol)"
   ]
  },
  {
   "cell_type": "markdown",
   "metadata": {
    "collapsed": true
   },
   "source": [
    "## Two ended BFS"
   ]
  },
  {
   "cell_type": "code",
   "execution_count": 37,
   "metadata": {
    "collapsed": true
   },
   "outputs": [],
   "source": [
    "def two_sided_bfs(left_paths, explored_left, right_paths, explored_right, gr):\n",
    "    next_left_paths = []\n",
    "    next_right_paths = []\n",
    "    \n",
    "    if len(left_paths) == 0 and len(right_paths) == 0:\n",
    "        return None\n",
    "    \n",
    "    #advance left side\n",
    "    for curr_path in left_paths:\n",
    "        for n_word in gr[curr_path[-1]]:\n",
    "            next_left_path = deepcopy(curr_path) + [n_word]\n",
    "            \n",
    "            if n_word in explored_right.keys():\n",
    "                r_path, idx = explored_right[n_word]\n",
    "                r_path = r_path[:idx]\n",
    "                r_path.reverse()\n",
    "                return next_left_path + r_path\n",
    "            elif n_word in explored_left:\n",
    "                # drop path\n",
    "                continue\n",
    "            else:\n",
    "                explored_left[n_word] = (next_left_path, len(next_left_path) - 1)\n",
    "                next_left_paths.append(next_left_path)\n",
    "                \n",
    "    # advance right side\n",
    "    for curr_path in right_paths:\n",
    "        for n_word in gr[curr_path[-1]]:\n",
    "            next_right_path = deepcopy(curr_path) + [n_word]\n",
    "            \n",
    "            if n_word in explored_left.keys():\n",
    "                l_path, idx = explored_left[n_word]\n",
    "                next_right_path.reverse()\n",
    "                return l_path[:idx] + next_right_path\n",
    "            elif n_word in explored_right:\n",
    "                # drop path\n",
    "                continue\n",
    "            else:\n",
    "                explored_right[n_word] = (next_right_path, len(next_right_path) - 1)\n",
    "                next_right_paths.append(next_right_path)\n",
    "    \n",
    "    \n",
    "    return two_sided_bfs(next_left_paths, explored_left, next_right_paths, explored_right, gr)\n",
    "\n",
    "\n",
    "def word_ladder_2(begin_word, end_word, word_list):\n",
    "    if begin_word == end_word:\n",
    "        return [begin_word]\n",
    "    else:\n",
    "        gr = build_graph(word_list + [begin_word])\n",
    "        start_left_path = [begin_word]\n",
    "        explored_left = {begin_word : (start_left_path, 0)}\n",
    "        start_right_path = [end_word]\n",
    "        explored_right = {end_word : (start_right_path, 0)}\n",
    "        res = two_sided_bfs(\n",
    "            [start_left_path],\n",
    "            explored_left,\n",
    "            [start_right_path],\n",
    "            explored_right,\n",
    "            gr)\n",
    "        \n",
    "    if not res:\n",
    "        print(\"No solution\")\n",
    "    else:\n",
    "        return res"
   ]
  },
  {
   "cell_type": "code",
   "execution_count": 38,
   "metadata": {},
   "outputs": [
    {
     "name": "stdout",
     "output_type": "stream",
     "text": [
      "['lat', 'lot', 'log', 'cog']\n"
     ]
    }
   ],
   "source": [
    "l = [\"hot\",\"dot\",\"dog\",\"lot\",\"log\",\"cog\"]\n",
    "begin_word = \"lat\"\n",
    "end_word = \"cog\"\n",
    "sol = word_ladder_2(begin_word, end_word, l)\n",
    "print(sol)"
   ]
  },
  {
   "cell_type": "code",
   "execution_count": null,
   "metadata": {
    "collapsed": true
   },
   "outputs": [],
   "source": []
  }
 ],
 "metadata": {
  "anaconda-cloud": {},
  "kernelspec": {
   "display_name": "Python 3",
   "language": "python",
   "name": "python3"
  },
  "language_info": {
   "codemirror_mode": {
    "name": "ipython",
    "version": 3
   },
   "file_extension": ".py",
   "mimetype": "text/x-python",
   "name": "python",
   "nbconvert_exporter": "python",
   "pygments_lexer": "ipython3",
   "version": "3.6.3"
  }
 },
 "nbformat": 4,
 "nbformat_minor": 1
}
