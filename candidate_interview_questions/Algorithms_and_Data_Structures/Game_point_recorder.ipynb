{
 "cells": [
  {
   "cell_type": "markdown",
   "metadata": {},
   "source": [
    "# Game point recorder\n",
    "\n",
    "You're now a baseball game point recorder.\n",
    "\n",
    "Given a list of strings, each string can be one of the 4 following types:\n",
    "\n",
    "- Integer (one round's score): Directly represents the number of points you get in this round.\n",
    "- \"+\" (one round's score): Represents that the points you get in this round are the sum of the last two valid round's points.\n",
    "- \"D\" (one round's score): Represents that the points you get in this round are the doubled data of the last valid round's points.\n",
    "- \"C\" (an operation, which isn't a round's score): Represents the last valid round's points you get were invalid and should be removed.\n",
    "\n",
    "Each round's operation is permanent and could have an impact on the round before and the round after.\n",
    "\n",
    "You need to return the sum of the points you could get in all the rounds.\n",
    "\n"
   ]
  },
  {
   "cell_type": "code",
   "execution_count": 2,
   "metadata": {
    "collapsed": true
   },
   "outputs": [],
   "source": [
    "# E.g. 2:\n",
    "#\n",
    "# Input: [\"5\",\"2\",\"C\",\"D\",\"+\"]\n",
    "# Output: 30\n",
    "# Explanation: \n",
    "# Round 1: You could get 5 points. The sum is: 5.\n",
    "# Round 2: You could get 2 points. The sum is: 7.\n",
    "# Operation 1: The round 2's data was invalid. The sum is: 5.  \n",
    "# Round 3: You could get 10 points (the round 2's data has been removed). The sum is: 15.\n",
    "# Round 4: You could get 5 + 10 = 15 points. The sum is: 30."
   ]
  },
  {
   "cell_type": "code",
   "execution_count": 3,
   "metadata": {
    "collapsed": true
   },
   "outputs": [],
   "source": [
    "# E.g. 2:\n",
    "#\n",
    "# Input: [\"5\",\"-2\",\"4\",\"C\",\"D\",\"9\",\"+\",\"+\"]\n",
    "# Output: 27\n",
    "# Explanation: \n",
    "# Round 1: You could get 5 points. The sum is: 5.\n",
    "# Round 2: You could get -2 points. The sum is: 3.\n",
    "# Round 3: You could get 4 points. The sum is: 7.\n",
    "# Operation 1: The round 3's data is invalid. The sum is: 3.  \n",
    "# Round 4: You could get -4 points (the round 3's data has been removed). The sum is: -1.\n",
    "# Round 5: You could get 9 points. The sum is: 8.\n",
    "# Round 6: You could get -4 + 9 = 5 points. The sum is 13.\n",
    "# Round 7: You could get 9 + 5 = 14 points. The sum is 27."
   ]
  },
  {
   "cell_type": "markdown",
   "metadata": {},
   "source": [
    "## Solution\n",
    "\n",
    "We should clairify if we can modify the inputs.  \n",
    "\n",
    "If we can, we'll be iterating over the indices of the array and changing the values at each index to the score from that round. We pattern match behavior on conditions.  We have to keep track of the current index, and the changing length of the inputs array.  The core logic is:\n",
    "\n",
    "- While loop while idx < n (length of the array)\n",
    "- If we hit a C, we pop the item at the current index (the C) and the item at index-1 (last computed value).  We decriment idx bu two and decriment n by 2\n",
    "- For D and +, we look back in the converted input array to get the needed values\n",
    "- For everything else we just convert them to ints.\n",
    "\n",
    "We perform a sum at the end.\n",
    "\n",
    "## Complexity\n",
    "\n",
    "This will take O(n) time-complexity, resizing the array is constant in python, we loop through once to compute each round, and again to compute the sum.  We're using constant memory."
   ]
  },
  {
   "cell_type": "code",
   "execution_count": 18,
   "metadata": {
    "collapsed": true
   },
   "outputs": [],
   "source": [
    "def record_points(inputs, show = False):\n",
    "    n = len(inputs)\n",
    "    idx = 0\n",
    "    \n",
    "    # the length of inputs is changing\n",
    "    while idx < n:\n",
    "        if inputs[idx] == \"C\":\n",
    "            inputs.pop(idx)\n",
    "            inputs.pop(idx-1)\n",
    "            n -= 2\n",
    "            idx -= 2\n",
    "        elif inputs[idx] == \"D\":\n",
    "            if idx  >= 1:                \n",
    "                inputs[idx] = inputs[idx-1] * 2\n",
    "            else:\n",
    "                inputs[idx] = 0 \n",
    "        elif inputs[idx] == \"+\":\n",
    "            if idx >= 2:\n",
    "                inputs[idx] = inputs[idx-1] + inputs[idx-2]\n",
    "            elif idx > 0:\n",
    "                inputs[idx] = inputs[idx-1]\n",
    "            else:\n",
    "                inputs[idx] = 0\n",
    "        # assumt inputs are valid\n",
    "        else:\n",
    "            inputs[idx] = int(inputs[idx]) \n",
    "            \n",
    "        idx += 1\n",
    "        # end loop\n",
    "    if show:\n",
    "        print(inputs)\n",
    "    return sum(inputs)\n",
    "            \n",
    "def run(inputs, show = False):\n",
    "    print(\"For input : \")\n",
    "    print(inputs)\n",
    "    score = record_points(inputs, show)\n",
    "    print(\"Final score is : {}\".format(score))\n",
    "    print(\"\")\n",
    "    return None        "
   ]
  },
  {
   "cell_type": "code",
   "execution_count": 19,
   "metadata": {},
   "outputs": [
    {
     "name": "stdout",
     "output_type": "stream",
     "text": [
      "For input : \n",
      "['5', '2', 'C', 'D', '+']\n",
      "[5, 10, 15]\n",
      "Final score is : 30\n",
      "\n",
      "For input : \n",
      "['5', '-2', '4', 'C', 'D', '9', '+', '+']\n",
      "[5, -2, -4, 9, 5, 14]\n",
      "Final score is : 27\n",
      "\n"
     ]
    }
   ],
   "source": [
    "run([\"5\",\"2\",\"C\",\"D\",\"+\"], True)\n",
    "run([\"5\",\"-2\",\"4\",\"C\",\"D\",\"9\",\"+\",\"+\"], True)"
   ]
  },
  {
   "cell_type": "code",
   "execution_count": null,
   "metadata": {
    "collapsed": true
   },
   "outputs": [],
   "source": []
  }
 ],
 "metadata": {
  "kernelspec": {
   "display_name": "Python 3",
   "language": "python",
   "name": "python3"
  },
  "language_info": {
   "codemirror_mode": {
    "name": "ipython",
    "version": 3
   },
   "file_extension": ".py",
   "mimetype": "text/x-python",
   "name": "python",
   "nbconvert_exporter": "python",
   "pygments_lexer": "ipython3",
   "version": "3.6.2"
  }
 },
 "nbformat": 4,
 "nbformat_minor": 2
}
