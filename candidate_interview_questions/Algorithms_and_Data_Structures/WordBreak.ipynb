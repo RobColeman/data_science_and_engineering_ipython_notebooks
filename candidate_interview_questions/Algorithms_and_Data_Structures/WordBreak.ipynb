{
 "cells": [
  {
   "cell_type": "markdown",
   "metadata": {},
   "source": [
    "# WordBreak\n",
    "\n",
    "Given a non-empty string s and a dictionary wordDict containing a list of non-empty words, determine if s can be segmented into a space-separated sequence of one or more dictionary words. You may assume the dictionary does not contain duplicate words."
   ]
  },
  {
   "cell_type": "markdown",
   "metadata": {},
   "source": [
    "# Solution\n",
    "\n",
    "There is really one one way to solve this one.  Given our dictionary of words (we may have to turn a list into a hashtable/set)\n",
    "We can look up our possible words in constant time.  If we walk down the string and when we find a word, we sprout off a processing path (depth first) where we break it off, and then look for words in the remainder of the string.  It satisfies the citeria of being a breakable string if after we break off a bunch of words, there is no remainder in the string.\n",
    "\n",
    "## Complexity\n",
    "\n",
    "The outer loop wil walk the string once.  \n",
    "\n",
    "The internal processing paths could be L/min_len(words)^L.  In the case of a string 'ititititit' and a dictionary('it').\n",
    "\n",
    "Our needed memory could be \n"
   ]
  },
  {
   "cell_type": "code",
   "execution_count": 42,
   "metadata": {
    "collapsed": false
   },
   "outputs": [],
   "source": [
    "def wordBreak(s, words):\n",
    "    #O(w)\n",
    "    if not type(words) == set:\n",
    "        words = set(words)\n",
    "    \n",
    "    #O(w)\n",
    "    mnL = min([len(w) for w in words])\n",
    "    mxL = max([len(w) for w in words])\n",
    "    \n",
    "    found_word_lists = []\n",
    "    \n",
    "    def recWordBreak(ss, p, found_words):\n",
    "        nonlocal mnL, words, found_word_lists\n",
    "        if len(ss) == 0:\n",
    "            # we collected the whole string\n",
    "            found_word_lists.append(found_words)\n",
    "            return None\n",
    "        \n",
    "        if len(ss) < mnL:\n",
    "            # remainder is less than smallest word\n",
    "            return None\n",
    "        \n",
    "        if p > mxL:\n",
    "            # our pointer is longer than any word in our dictionary\n",
    "            return None\n",
    "        \n",
    "        if p > len(ss):\n",
    "            # we've gone past the end of the remaining word\n",
    "            return None\n",
    "        \n",
    "        if ss[:p] in words:\n",
    "            # found a word, cut it off, reset the pointer, add it to the current found words\n",
    "            recWordBreak(ss[p:], 1, found_words + [ss[:p]])\n",
    "        \n",
    "        recWordBreak(ss, p+1, found_words)\n",
    "        return None\n",
    "    \n",
    "    recWordBreak(s, 1, [])\n",
    "    return found_word_lists"
   ]
  },
  {
   "cell_type": "code",
   "execution_count": 48,
   "metadata": {
    "collapsed": false
   },
   "outputs": [
    {
     "name": "stdout",
     "output_type": "stream",
     "text": [
      "string : bigsoft, dict : {'big', 'soft'}, found words : [['big', 'soft']]\n",
      "\n",
      "string : madman, dict : {'man', 'mad', 'madman'}, found words : [['mad', 'man'], ['madman']]\n",
      "\n",
      "string : ititititit, dict : {'it'}, found words : [['it', 'it', 'it', 'it', 'it']]\n"
     ]
    }
   ],
   "source": [
    "s = 'bigsoft'\n",
    "words = set(['big','soft'])\n",
    "print(\"string : {}, dict : {}, found words : {}\".format(s, words, wordBreak(s, words)))\n",
    "print(\"\")\n",
    "\n",
    "s = 'madman'\n",
    "words = set(['mad','man', 'madman'])\n",
    "print(\"string : {}, dict : {}, found words : {}\".format(s, words, wordBreak(s, words)))\n",
    "print(\"\")\n",
    "\n",
    "s = 'ititititit'\n",
    "words = set(['it'])\n",
    "print(\"string : {}, dict : {}, found words : {}\".format(s, words, wordBreak(s, words)))"
   ]
  },
  {
   "cell_type": "code",
   "execution_count": null,
   "metadata": {
    "collapsed": true
   },
   "outputs": [],
   "source": []
  }
 ],
 "metadata": {
  "kernelspec": {
   "display_name": "Python [default]",
   "language": "python",
   "name": "python3"
  },
  "language_info": {
   "codemirror_mode": {
    "name": "ipython",
    "version": 3
   },
   "file_extension": ".py",
   "mimetype": "text/x-python",
   "name": "python",
   "nbconvert_exporter": "python",
   "pygments_lexer": "ipython3",
   "version": "3.5.2"
  }
 },
 "nbformat": 4,
 "nbformat_minor": 1
}
