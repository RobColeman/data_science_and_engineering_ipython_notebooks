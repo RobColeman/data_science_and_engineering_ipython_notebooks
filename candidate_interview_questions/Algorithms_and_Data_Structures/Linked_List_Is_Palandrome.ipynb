{
 "cells": [
  {
   "cell_type": "markdown",
   "metadata": {},
   "source": [
    "# Check if a singly linked-list is a palandrome\n",
    "\n",
    "Do it in O(n) time and O(1) space"
   ]
  },
  {
   "cell_type": "markdown",
   "metadata": {},
   "source": [
    "# Solution\n",
    "\n",
    "To check for a palandrome in O(n) time, we need to somehow move a pointer from left to right, and from right to left, one step each time, and compare the items are each pointer.\n",
    "\n",
    "We can use recursion to move a pointer right to left in a singly linked list, and we can move the left to right pointer by setting p = p.next.\n",
    "\n",
    "We should do:\n",
    "\n",
    "- if we hit the end, return True\n",
    "- res = recurse(node.next) AND p.val == node.val\n",
    "- p = p.next\n",
    "- return res\n",
    "\n",
    "node will be moving right to left as we resolve the recursion and p is moving left to right (p needs to be a global)"
   ]
  },
  {
   "cell_type": "code",
   "execution_count": 10,
   "metadata": {
    "collapsed": true
   },
   "outputs": [],
   "source": [
    "# helpers to create examples\n",
    "class Node:\n",
    "    \n",
    "    def __init__(self, val):\n",
    "        self.next = None\n",
    "        self.val = val\n",
    "    \n",
    "    def setNext(self, nn):\n",
    "        self.next = nn\n",
    "        \n",
    "        \n",
    "def createSingleLL(values):\n",
    "    n = Node(values[0])\n",
    "    head = n\n",
    "    for v in values[1:]:\n",
    "        nn = Node(v)\n",
    "        n.setNext(nn)\n",
    "        n = nn\n",
    "    return head\n",
    " \n",
    "# Solution        \n",
    "def isPalandrome(head):\n",
    "    if not head:\n",
    "        return False\n",
    "    \n",
    "    compare_node = head\n",
    "    \n",
    "    def recCheck(this_node):\n",
    "        nonlocal compare_node\n",
    "        if not this_node:\n",
    "            return True\n",
    "        isPal = recCheck(this_node.next) and (compare_node.val == this_node.val)\n",
    "        compare_node = compare_node.next\n",
    "        return isPal\n",
    "    \n",
    "    return recCheck(head)"
   ]
  },
  {
   "cell_type": "code",
   "execution_count": 11,
   "metadata": {
    "collapsed": false
   },
   "outputs": [
    {
     "name": "stdout",
     "output_type": "stream",
     "text": [
      "[0, 1, 2, 2, 1, 0] is a palandrome : True\n",
      "\n",
      "[4, 5, 6, 2, 1, 0] is a palandrome : False\n",
      "\n",
      "[0, 1, 2, 0, 2, 1, 0] is a palandrome : True\n"
     ]
    }
   ],
   "source": [
    "values = list(range(3)) + list(reversed(range(3)))\n",
    "head = createSingleLL(values)\n",
    "print(\"{} is a palandrome : {}\".format(values, isPalandrome(head)))\n",
    "\n",
    "print(\"\")\n",
    "\n",
    "values = list(range(4,7)) + list(reversed(range(3)))\n",
    "head = createSingleLL(values)\n",
    "print(\"{} is a palandrome : {}\".format(values, isPalandrome(head)))\n",
    "\n",
    "print(\"\")\n",
    "\n",
    "values = list(range(3)) + [0] + list(reversed(range(3)))\n",
    "head = createSingleLL(values)\n",
    "print(\"{} is a palandrome : {}\".format(values, isPalandrome(head)))"
   ]
  },
  {
   "cell_type": "code",
   "execution_count": null,
   "metadata": {
    "collapsed": true
   },
   "outputs": [],
   "source": []
  }
 ],
 "metadata": {
  "kernelspec": {
   "display_name": "Python [default]",
   "language": "python",
   "name": "python3"
  },
  "language_info": {
   "codemirror_mode": {
    "name": "ipython",
    "version": 3
   },
   "file_extension": ".py",
   "mimetype": "text/x-python",
   "name": "python",
   "nbconvert_exporter": "python",
   "pygments_lexer": "ipython3",
   "version": "3.5.2"
  }
 },
 "nbformat": 4,
 "nbformat_minor": 1
}
