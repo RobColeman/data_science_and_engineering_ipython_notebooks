{
 "cells": [
  {
   "cell_type": "markdown",
   "metadata": {},
   "source": [
    "# Gathering Coins\n",
    "\n",
    "There are N coins at coordiantes (x,y), where x > 0 and y > 0.  Starting at (0,0), you can only make moves of type (dx, dy), where dx > 0 and dy > 0.  Print the maximum number of coins you can collect.\n",
    "\n",
    "Clarification:  dx, and dy do not have to remain constant along your path.  If you are at (x,y) you can jump to (x + dx, y + dy) for all dx > 0 and dy > 0.\n",
    "\n",
    "## Solution\n",
    "Do a DFS, were at each (x,y) you have two steps dx = 1, dy = 0 and dx = 0 and dy = 1.\n",
    "\n",
    "### Cost\n",
    "We have to traverse all possible paths, which costs a lot.  At every step in a path, we have two paths we can take, right and down.  So that's something  like 2^(N-1) steps we have to take to traverse every path, where N is the length of the flattened matrix."
   ]
  },
  {
   "cell_type": "code",
   "execution_count": 10,
   "metadata": {
    "collapsed": false
   },
   "outputs": [
    {
     "name": "stdout",
     "output_type": "stream",
     "text": [
      "(9, [(0, 0), (0, 1), (1, 1), (2, 1), (2, 2), (2, 3), (2, 4), (3, 4), (4, 4), (5, 4), (6, 4), (7, 4), (7, 5), (8, 5), (8, 6), (8, 7), (9, 7), (9, 8), (9, 9)])\n"
     ]
    }
   ],
   "source": [
    "from copy import deepcopy\n",
    "mat = [\n",
    "    [0, 1, 1, 0, 0, 0, 0, 0, 0, 0], \n",
    "    [0, 1, 0, 0, 0, 0, 0, 1, 0, 0], \n",
    "    [1, 0, 0, 0, 1, 0, 0, 1, 1, 0], \n",
    "    [0, 0, 0, 0, 0, 0, 1, 1, 0, 0], \n",
    "    [0, 0, 0, 0, 0, 0, 0, 0, 0, 1], \n",
    "    [0, 0, 0, 0, 1, 0, 1, 0, 0, 0], \n",
    "    [0, 0, 0, 0, 0, 0, 1, 0, 0, 0], \n",
    "    [0, 0, 1, 0, 1, 1, 0, 0, 0, 0], \n",
    "    [0, 1, 0, 1, 0, 1, 0, 1, 0, 0], \n",
    "    [0, 0, 0, 0, 0, 0, 0, 1, 0, 0]\n",
    "]\n",
    "\n",
    "\n",
    "def most_profitable_path(mat):\n",
    "    if len(mat) == 0:\n",
    "        return (0, [])\n",
    "    max_x = len(mat) - 1\n",
    "    max_y = len(mat[0]) - 1\n",
    "    max_coins = 0\n",
    "    max_path = None\n",
    "    \n",
    "    def dfs(x, y, last_path, path_count):\n",
    "        nonlocal mat\n",
    "        nonlocal max_x\n",
    "        nonlocal max_y\n",
    "        nonlocal max_coins\n",
    "        nonlocal max_path\n",
    "        \n",
    "        this_path = deepcopy(last_path)\n",
    "        this_path.append((x,y))\n",
    "        path_count += mat[x][y]\n",
    "        # at bottom right\n",
    "        if x == max_x and y == max_y:\n",
    "            if path_count > max_coins:\n",
    "                max_coins = path_count\n",
    "                max_path = this_path\n",
    "        # at bottom, search right\n",
    "        elif x + 1 > max_x and not y + 1 > max_y:\n",
    "            dfs(x, y + 1, this_path, path_count)\n",
    "        # at right, search down\n",
    "        elif y + 1 > max_y and not x + 1 > max_x:\n",
    "            dfs(x + 1, y, this_path, path_count)\n",
    "        else:\n",
    "            # search down\n",
    "            dfs(x + 1, y, this_path, path_count)\n",
    "            # and search right\n",
    "            dfs(x, y + 1, this_path, path_count)\n",
    "    \n",
    "    dfs(0, 0, [], 0)\n",
    "    return (max_coins, max_path)\n",
    "\n",
    "print(most_profitable_path(mat))"
   ]
  },
  {
   "cell_type": "code",
   "execution_count": null,
   "metadata": {
    "collapsed": true
   },
   "outputs": [],
   "source": []
  }
 ],
 "metadata": {
  "kernelspec": {
   "display_name": "Python [default]",
   "language": "python",
   "name": "python3"
  },
  "language_info": {
   "codemirror_mode": {
    "name": "ipython",
    "version": 3
   },
   "file_extension": ".py",
   "mimetype": "text/x-python",
   "name": "python",
   "nbconvert_exporter": "python",
   "pygments_lexer": "ipython3",
   "version": "3.5.2"
  }
 },
 "nbformat": 4,
 "nbformat_minor": 1
}
