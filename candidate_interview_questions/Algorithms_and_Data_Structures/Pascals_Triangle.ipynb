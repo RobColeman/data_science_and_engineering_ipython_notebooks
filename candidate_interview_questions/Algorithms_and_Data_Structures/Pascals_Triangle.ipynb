{
 "cells": [
  {
   "cell_type": "markdown",
   "metadata": {},
   "source": [
    "# Pascals Triangle\n",
    "\n",
    "Given an index k, return the kth row of pascal's triangle.\n",
    "\n",
    "e.g.\n",
    "\n",
    "For example, given k = 3,\n",
    "\n",
    "\n",
    "Return [1,3,3,1]."
   ]
  },
  {
   "cell_type": "markdown",
   "metadata": {},
   "source": [
    "# Solution\n",
    "\n",
    "There is an obvious dynamic programming solution to pascal's triangle, in fact, it's defined by dynamic programming. We compute the next row of pascals triangle, given the last row, with the equation\n",
    "\n",
    "next_row[i] = last_row[i-1] + last_row[i], \n",
    "\n",
    "for i = 1 to k-2, and appending 1 to the beginning and end of the array.\n",
    "\n",
    "So, we can return the trivial cases k=0, k=1, and k=2.  Then we initiate last_row = [1, 1], and run double loops to compute the next row given the last.\n",
    "\n",
    "Run-time is O(n ^ 2), or O(n * (n/2)+1), \n",
    "Extra memory is O(k), k for the current row, and k-1 for the last row.\n"
   ]
  },
  {
   "cell_type": "code",
   "execution_count": 22,
   "metadata": {
    "collapsed": true
   },
   "outputs": [],
   "source": [
    "def getRow(k):\n",
    "    i = 0\n",
    "\n",
    "    if k == 0:\n",
    "        return [0]\n",
    "    if k == 1:\n",
    "        return [1]\n",
    "    if k == 2:\n",
    "        return [1, 1]\n",
    "    \n",
    "    last_row = [1, 1]\n",
    "    for i in range(2, k+1):\n",
    "        i_row = [1] * i\n",
    "        for j in range(1, i - 1):\n",
    "            v = last_row[j-1] + last_row[j]\n",
    "            i_row[j] = v\n",
    "        last_row = i_row\n",
    "    return i_row\n",
    "\n",
    "def run(k):\n",
    "    res = getRow(k)\n",
    "    print(\"{} row of pascal's triangle is: \".format(k))\n",
    "    print(res)\n",
    "    return None"
   ]
  },
  {
   "cell_type": "code",
   "execution_count": 23,
   "metadata": {},
   "outputs": [
    {
     "name": "stdout",
     "output_type": "stream",
     "text": [
      "1 row of pascal's triangle is: \n",
      "[1]\n",
      "2 row of pascal's triangle is: \n",
      "[1, 1]\n",
      "3 row of pascal's triangle is: \n",
      "[1, 2, 1]\n",
      "4 row of pascal's triangle is: \n",
      "[1, 3, 3, 1]\n",
      "5 row of pascal's triangle is: \n",
      "[1, 4, 6, 4, 1]\n",
      "6 row of pascal's triangle is: \n",
      "[1, 5, 10, 10, 5, 1]\n",
      "7 row of pascal's triangle is: \n",
      "[1, 6, 15, 20, 15, 6, 1]\n",
      "8 row of pascal's triangle is: \n",
      "[1, 7, 21, 35, 35, 21, 7, 1]\n",
      "9 row of pascal's triangle is: \n",
      "[1, 8, 28, 56, 70, 56, 28, 8, 1]\n",
      "10 row of pascal's triangle is: \n",
      "[1, 9, 36, 84, 126, 126, 84, 36, 9, 1]\n"
     ]
    }
   ],
   "source": [
    "run(1)\n",
    "run(2)\n",
    "run(3)\n",
    "run(4)\n",
    "run(5)\n",
    "run(6)\n",
    "run(7)\n",
    "run(8)\n",
    "run(9)\n",
    "run(10)"
   ]
  },
  {
   "cell_type": "code",
   "execution_count": null,
   "metadata": {
    "collapsed": true
   },
   "outputs": [],
   "source": []
  }
 ],
 "metadata": {
  "kernelspec": {
   "display_name": "Python 3",
   "language": "python",
   "name": "python3"
  },
  "language_info": {
   "codemirror_mode": {
    "name": "ipython",
    "version": 3
   },
   "file_extension": ".py",
   "mimetype": "text/x-python",
   "name": "python",
   "nbconvert_exporter": "python",
   "pygments_lexer": "ipython3",
   "version": "3.6.3"
  }
 },
 "nbformat": 4,
 "nbformat_minor": 2
}
