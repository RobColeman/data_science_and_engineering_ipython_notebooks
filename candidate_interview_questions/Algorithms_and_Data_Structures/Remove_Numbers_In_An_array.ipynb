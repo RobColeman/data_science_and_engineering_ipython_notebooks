{
 "cells": [
  {
   "cell_type": "markdown",
   "metadata": {},
   "source": [
    "# Remove numbers in an array\n",
    "\n",
    "Given an array, and a number, remove all instances of that number from the array, and return the edited array and it's new length.\n",
    "\n",
    "Solution:\n",
    "For a mutable array, we can perform this operation in O(n), with one pass, with O(1) extra memory usage.\n",
    "We can also do this while maintaining the original order of the items.\n",
    "\n",
    "\n",
    "The process involves removing and re-inserting every item as we walk the array of length (l).  While doing so, we keep a counter of the number of times we've seen the item to delete (k).  At every index (i), we check the item at that index is the item to delete.  If it is, we incriment our counter, and move on.  If not, we copy that item to index (i-k).  At the end, we drop the last K items by return the portion of the array from 0 until l - k.\n"
   ]
  },
  {
   "cell_type": "code",
   "execution_count": 1,
   "metadata": {},
   "outputs": [
    {
     "name": "stdout",
     "output_type": "stream",
     "text": [
      "[1, 2, 3, 4, 5, 6, 7, 8, 9]\n",
      "[9, 2, 3, 4, 1, 5, 5, 6, 3]\n",
      "[1]\n",
      "[0, 0, 0, 0, 0, 0, 0]\n"
     ]
    }
   ],
   "source": [
    "def remove_item_from_array(arr, item):\n",
    "    k = 0\n",
    "    l = len(arr)\n",
    "    for idx, j in enumerate(arr):\n",
    "        if j == item:\n",
    "            k += 1\n",
    "        else:\n",
    "            arr[idx - k] = j\n",
    "    \n",
    "    return arr[0:(l-k)]\n",
    "\n",
    "\n",
    "arr1 = [0,1,2,3,0,4,5,6,7,0,8,0,9]\n",
    "arr2 = [9,2,3,4,1,5,5,6,0,0,0,3,0]\n",
    "arr3 = [0,0,0,0,0,0,0,1,0]\n",
    "\n",
    "print(remove_item_from_array(arr1,0))\n",
    "print(remove_item_from_array(arr2,0))\n",
    "print(remove_item_from_array(arr3,0))\n",
    "print(remove_item_from_array(arr3,1))"
   ]
  },
  {
   "cell_type": "code",
   "execution_count": null,
   "metadata": {
    "collapsed": true
   },
   "outputs": [],
   "source": []
  }
 ],
 "metadata": {
  "kernelspec": {
   "display_name": "Python 3",
   "language": "python",
   "name": "python3"
  },
  "language_info": {
   "codemirror_mode": {
    "name": "ipython",
    "version": 3
   },
   "file_extension": ".py",
   "mimetype": "text/x-python",
   "name": "python",
   "nbconvert_exporter": "python",
   "pygments_lexer": "ipython3",
   "version": "3.6.3"
  }
 },
 "nbformat": 4,
 "nbformat_minor": 2
}
