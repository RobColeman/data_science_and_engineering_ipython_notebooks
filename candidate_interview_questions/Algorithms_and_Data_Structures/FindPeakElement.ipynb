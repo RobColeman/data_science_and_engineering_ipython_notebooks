{
 "cells": [
  {
   "cell_type": "markdown",
   "metadata": {},
   "source": [
    "A peak element is an element that is greater than its neighbors.\n",
    "\n",
    "Given an input array where num[i] ≠ num[i+1], find a peak element and return its index.\n",
    "\n",
    "The array may contain multiple peaks, in that case return the index to any one of the peaks is fine.\n",
    "\n",
    "You may imagine that num[-1] = num[n] = -∞.\n",
    "\n",
    "For example, in array [1, 2, 3, 1], 3 is a peak element and your function should return the index number 2."
   ]
  },
  {
   "cell_type": "markdown",
   "metadata": {},
   "source": [
    "## Solution\n",
    "\n",
    "We can run through the array with a kernel that detects i > j < k, for [...,i,j,k,...].  We find the first peak and return it.\n",
    "\n",
    "## Complexity\n",
    "\n",
    "We need three pointers, so constant memory, and we need to run through the array once, O(n)."
   ]
  },
  {
   "cell_type": "code",
   "execution_count": 3,
   "metadata": {
    "collapsed": true
   },
   "outputs": [],
   "source": [
    "def findPeakElement(nums):\n",
    "    \"\"\"\n",
    "    :type nums: List[int]\n",
    "    :rtype: int\n",
    "    \"\"\"\n",
    "    l = len(nums)\n",
    "    i = 0\n",
    "    j = 1\n",
    "    k = 2\n",
    "    while k < l:\n",
    "        if nums[i] < nums[j] and nums[j] > nums[k]:\n",
    "            return j\n",
    "        else:\n",
    "            i += 1\n",
    "            j += 1\n",
    "            k += 1\n",
    "    return None"
   ]
  },
  {
   "cell_type": "code",
   "execution_count": 2,
   "metadata": {
    "collapsed": false
   },
   "outputs": [
    {
     "name": "stdout",
     "output_type": "stream",
     "text": [
      "[1, 2, 3, 1]\n",
      "2\n"
     ]
    }
   ],
   "source": [
    "nums = [1, 2, 3, 1]\n",
    "print(nums)\n",
    "print(findPeakElement(nums))"
   ]
  },
  {
   "cell_type": "code",
   "execution_count": null,
   "metadata": {
    "collapsed": true
   },
   "outputs": [],
   "source": []
  }
 ],
 "metadata": {
  "kernelspec": {
   "display_name": "Python [default]",
   "language": "python",
   "name": "python3"
  },
  "language_info": {
   "codemirror_mode": {
    "name": "ipython",
    "version": 3
   },
   "file_extension": ".py",
   "mimetype": "text/x-python",
   "name": "python",
   "nbconvert_exporter": "python",
   "pygments_lexer": "ipython3",
   "version": "3.5.2"
  }
 },
 "nbformat": 4,
 "nbformat_minor": 1
}
