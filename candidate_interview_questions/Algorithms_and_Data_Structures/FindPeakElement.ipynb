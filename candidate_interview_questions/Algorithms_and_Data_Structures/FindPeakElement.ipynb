{
 "cells": [
  {
   "cell_type": "markdown",
   "metadata": {},
   "source": [
    "A peak element is an element that is greater than its neighbors.\n",
    "\n",
    "Given an input array where num[i] ≠ num[i+1], find a peak element and return its index.\n",
    "\n",
    "The array may contain multiple peaks, in that case return the index to any one of the peaks is fine.\n",
    "\n",
    "You may imagine that num[-1] = num[n] = -∞.\n",
    "\n",
    "For example, in array [1, 2, 3, 1], 3 is a peak element and your function should return the index number 2.\n",
    "\n",
    "Find an O(ln(n)) solution."
   ]
  },
  {
   "cell_type": "markdown",
   "metadata": {},
   "source": [
    "## Solution\n",
    "\n",
    "We can fund the peak using binary search.  \n",
    "\n",
    "Since arr[-1] = -inf and arr[n] = -inf, there is guarenteed to be a peak, at least at the ends, if not in the array.\n",
    "\n",
    "So,\n",
    "\n",
    "At each arr[...,i,j,k,...]\n",
    "\n",
    "- arr[i] < arr[j] > arr[k], we've found a peak\n",
    "- arr[i] < arr[j] < arr[k], there is a peak to the right\n",
    "- arr[i] > arr[j] > arr[k], there is a peak to the left\n",
    "- arr[i] > arr[j] < arr[k], therte is a peak on both sides\n",
    "\n",
    "## Complexity\n",
    "\n",
    "We need three pointers, so constant memory, and we are doing binary search, so compute of O(log(n))."
   ]
  },
  {
   "cell_type": "code",
   "execution_count": 26,
   "metadata": {
    "collapsed": false
   },
   "outputs": [],
   "source": [
    "def findPeakElement(nums):\n",
    "    \"\"\"\n",
    "    :type nums: List[int]\n",
    "    :rtype: int\n",
    "    \"\"\"\n",
    "    l = len(nums)\n",
    "    \n",
    "    def binRec(i, pl, pr):\n",
    "        nonlocal nums, l\n",
    "        \n",
    "        if i <= 0:\n",
    "            return 0\n",
    "        elif i >= l-1:\n",
    "            return l\n",
    "        elif nums[i-1] < nums[i] and nums[i] > nums[i+1]:\n",
    "            return i\n",
    "        elif nums[i-1] < nums[i] and nums[i] < nums[i+1]:\n",
    "            i = i+1 + (pr - i+1) // 2\n",
    "            pl = i+1\n",
    "            return binRec(i, pl, pr)\n",
    "        else:\n",
    "            i = i-1 + (pl + i-1) // 2\n",
    "            pr = i-1\n",
    "            return binRec(i, pl, pr)\n",
    "            \n",
    "    i = l // 2\n",
    "    return binRec(i, 0, l-1)"
   ]
  },
  {
   "cell_type": "code",
   "execution_count": 27,
   "metadata": {
    "collapsed": false
   },
   "outputs": [
    {
     "name": "stdout",
     "output_type": "stream",
     "text": [
      "[1, 2, 3, 1]\n",
      "2\n",
      "[1, 3, 2, 1]\n",
      "1\n",
      "[1, 2, 3, 4]\n",
      "4\n",
      "[4, 3, 2, 1]\n",
      "0\n"
     ]
    }
   ],
   "source": [
    "nums = [1, 2, 3, 1]\n",
    "print(nums)\n",
    "print(findPeakElement(nums))\n",
    "nums = [1, 3, 2, 1]\n",
    "print(nums)\n",
    "print(findPeakElement(nums))\n",
    "nums = [1, 2, 3, 4]\n",
    "print(nums)\n",
    "print(findPeakElement(nums))\n",
    "nums = [4, 3, 2, 1]\n",
    "print(nums)\n",
    "print(findPeakElement(nums))"
   ]
  },
  {
   "cell_type": "code",
   "execution_count": null,
   "metadata": {
    "collapsed": true
   },
   "outputs": [],
   "source": []
  }
 ],
 "metadata": {
  "kernelspec": {
   "display_name": "Python [default]",
   "language": "python",
   "name": "python3"
  },
  "language_info": {
   "codemirror_mode": {
    "name": "ipython",
    "version": 3
   },
   "file_extension": ".py",
   "mimetype": "text/x-python",
   "name": "python",
   "nbconvert_exporter": "python",
   "pygments_lexer": "ipython3",
   "version": "3.5.2"
  }
 },
 "nbformat": 4,
 "nbformat_minor": 1
}
