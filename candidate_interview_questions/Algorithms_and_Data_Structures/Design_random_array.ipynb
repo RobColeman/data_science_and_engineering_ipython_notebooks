{
 "cells": [
  {
   "cell_type": "markdown",
   "metadata": {},
   "source": [
    "# Design a data-structure that supports the following\n",
    "\n",
    "- insert(i)\n",
    "\n",
    "inserts an element\n",
    "\n",
    "\n",
    "- remove(i)\n",
    "\n",
    "removes the element\n",
    "\n",
    "- getRand()\n",
    "\n",
    "returns a random element\n",
    "\n",
    "DO all of these in an 'average' of O(1) time."
   ]
  },
  {
   "cell_type": "markdown",
   "metadata": {},
   "source": [
    "## Solution\n",
    "\n",
    "Note the average runtime.  This implies that were going to be doing some non-constant behavior, but rarely.  This could include re-sizing the underlaying data-structures.\n",
    "\n",
    "Take note of the operations that are not required.\n",
    "\n",
    "- get"
   ]
  },
  {
   "cell_type": "code",
   "execution_count": 4,
   "metadata": {},
   "outputs": [],
   "source": [
    "from random import randint\n",
    "\n",
    "class RandomArray:\n",
    "    \n",
    "    def __init__(self):\n",
    "        self.items, self.positions = [], {}\n",
    "        \n",
    "    def insert(self, i):\n",
    "        if not i in self.positions:\n",
    "            self.items.append(i)\n",
    "            self.positions[i] = len(self.items) - 1\n",
    "            return True\n",
    "        return False\n",
    "    \n",
    "    def remove(self, i):\n",
    "        if i in self.positions:\n",
    "            # swap with last\n",
    "            idx, last = self.positions[i], self.items[-1]\n",
    "            # move last to idx\n",
    "            self.items[idx] = last\n",
    "            self.positions[last] = idx\n",
    "            # remove i from last position\n",
    "            self.positions.pop(i)\n",
    "            self.items.pop()\n",
    "            return True\n",
    "        return False\n",
    "    \n",
    "    def getRandom(self):\n",
    "        return self.items[randint(0, len(self.items) - 1)]"
   ]
  },
  {
   "cell_type": "code",
   "execution_count": null,
   "metadata": {
    "collapsed": true
   },
   "outputs": [],
   "source": []
  }
 ],
 "metadata": {
  "kernelspec": {
   "display_name": "Python 3",
   "language": "python",
   "name": "python3"
  },
  "language_info": {
   "codemirror_mode": {
    "name": "ipython",
    "version": 3
   },
   "file_extension": ".py",
   "mimetype": "text/x-python",
   "name": "python",
   "nbconvert_exporter": "python",
   "pygments_lexer": "ipython3",
   "version": "3.6.3"
  }
 },
 "nbformat": 4,
 "nbformat_minor": 2
}
