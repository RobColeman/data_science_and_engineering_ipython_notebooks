{
 "cells": [
  {
   "cell_type": "markdown",
   "metadata": {},
   "source": [
    "# Product of array except self\n",
    "\n",
    "Given an array of numbers, A, produce another array, B, where the entry in B[i] is the product of all antries in A except for A[i].\n",
    "\n",
    "Do not use division and try to solve the problem in O(n) compute and O(n) memory."
   ]
  },
  {
   "cell_type": "markdown",
   "metadata": {},
   "source": [
    "# Solution\n",
    "\n",
    "Entry B[idx] can be decomposed into the product of two numbers Product(  A[:idx]  ) * Product(  A[idx+1:]  ).\n",
    "\n",
    "We can get those values by accumulating products with a left to right pass and a right to left pass.\n",
    "\n",
    "We could create two arrays, with a rightward pass, C[idx] = Product( A[:idx] ), and with a leftward pass, D[idx] = Product(  A[idx+1:]  ).  Then run through it again and produce B[idx] = C[idx] * D[idx].\n",
    "\n",
    "We can optimize further by not explicitly creating D, but instead assigning B = C, with the one rightward pass, then using an accumulator, int or long, and updating B with the leftward pass.\n",
    "\n",
    "\n",
    "# Complexity\n",
    "\n",
    "We do two passed through the array, so were running at compute complexity of O(n).  We create a new array for our solution, so we need another O(n) of memory."
   ]
  },
  {
   "cell_type": "code",
   "execution_count": 6,
   "metadata": {},
   "outputs": [],
   "source": [
    "def productExceptSelf(A):\n",
    "    l = len(A)\n",
    "    B = [1] * l\n",
    "    \n",
    "    # left to right pass\n",
    "    for idx in range(1, l):\n",
    "        B[idx] = B[idx-1] * A[idx-1]\n",
    "        \n",
    "    # right to left pass\n",
    "    right = 1\n",
    "    for idx in reversed(range(0, l)):\n",
    "        # set the value\n",
    "        B[idx] *= right\n",
    "        # than include the number at this index\n",
    "        right *= A[idx]\n",
    "    \n",
    "    return B\n",
    "\n",
    "def run(arr):\n",
    "    if type(arr) == int:\n",
    "        arr = list(range(1,arr))\n",
    "        print(arr)\n",
    "    elif type(arr) == list:\n",
    "        print(arr)\n",
    "    else:\n",
    "        print(\"invalid input: {}\".format(arr))\n",
    "        return None\n",
    "    print(productExceptSelf(arr))    "
   ]
  },
  {
   "cell_type": "code",
   "execution_count": 7,
   "metadata": {},
   "outputs": [
    {
     "name": "stdout",
     "output_type": "stream",
     "text": [
      "[1, 2, 3, 4, 5, 6]\n",
      "[720, 360, 240, 180, 144, 120]\n"
     ]
    }
   ],
   "source": [
    "run(7)"
   ]
  },
  {
   "cell_type": "code",
   "execution_count": null,
   "metadata": {},
   "outputs": [],
   "source": []
  }
 ],
 "metadata": {
  "anaconda-cloud": {},
  "kernelspec": {
   "display_name": "Python 3",
   "language": "python",
   "name": "python3"
  },
  "language_info": {
   "codemirror_mode": {
    "name": "ipython",
    "version": 3
   },
   "file_extension": ".py",
   "mimetype": "text/x-python",
   "name": "python",
   "nbconvert_exporter": "python",
   "pygments_lexer": "ipython3",
   "version": "3.6.3"
  }
 },
 "nbformat": 4,
 "nbformat_minor": 1
}
