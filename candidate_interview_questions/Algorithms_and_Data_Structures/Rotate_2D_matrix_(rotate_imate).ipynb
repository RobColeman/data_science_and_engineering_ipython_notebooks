{
 "cells": [
  {
   "cell_type": "markdown",
   "metadata": {},
   "source": [
    "# Rotate a 2D Matrix\n",
    "\n",
    "Given a 2D matrix, rotate it 90 deg. clockwise.  Do this in-place."
   ]
  },
  {
   "cell_type": "markdown",
   "metadata": {},
   "source": [
    "## Solution\n",
    "\n",
    "A trick for rotating a matrix clockwise is to flip it top-bottom, then flip the symmerty; for counter-clockwise flip left-right, then flip the symmetry.\n",
    "\n",
    "## Complexity\n",
    "\n",
    "The first flip requires a loop over n_rows / 2 (or n_cols / 2).  The symmetry flip requires touching the top right half of the matrix.\n",
    "\n",
    "So, the complexity is bounded by the second loop, which is O(N/2), where N is the number of elements in the matrix.\n",
    "\n",
    "We're doing this in place, so we don't need any extra memory."
   ]
  },
  {
   "cell_type": "code",
   "execution_count": 19,
   "metadata": {},
   "outputs": [],
   "source": [
    "def rotate_matrix_clockwise(mat):\n",
    "    n_rows = len(mat)\n",
    "    n_cols = len(mat[0])\n",
    "    \n",
    "    # flip up-down\n",
    "    for r in range((n_rows-1) // 2):\n",
    "        mat[r], mat[n_rows - r - 1] = mat[n_rows - r - 1], mat[r]\n",
    "        \n",
    "    # swap symmetry\n",
    "    for r in range(n_rows):\n",
    "        for c in range(r+1, n_cols):\n",
    "            mat[c][r], mat[r][c] = mat[r][c], mat[c][r]\n",
    "            \n",
    "    return mat\n",
    "\n",
    "def run(mat):\n",
    "    print(\"\")\n",
    "    print(\"matrix : \")\n",
    "    for row in mat:\n",
    "        print(row)\n",
    "    rotated_mat = rotate_matrix_clockwise(mat)\n",
    "    print(\"rotated matrix : \")\n",
    "    for row in rotated_mat:\n",
    "        print(row)\n",
    "        \n",
    "def make_mat(l):\n",
    "    \"\"\"\n",
    "    L is the length of a side of the square matrix.\n",
    "    \"\"\"\n",
    "    n = l*l\n",
    "    i = 0\n",
    "    mat = []\n",
    "    while len(mat) < l:\n",
    "        r = []\n",
    "        while len(r) < l:\n",
    "            r.append(i)\n",
    "        mat.append(r)\n",
    "        i += 1\n",
    "    return mat"
   ]
  },
  {
   "cell_type": "code",
   "execution_count": 20,
   "metadata": {},
   "outputs": [
    {
     "name": "stdout",
     "output_type": "stream",
     "text": [
      "\n",
      "matrix : \n",
      "[1, 2, 3]\n",
      "[4, 5, 6]\n",
      "[7, 8, 9]\n",
      "rotated matrix : \n",
      "[7, 4, 1]\n",
      "[8, 5, 2]\n",
      "[9, 6, 3]\n",
      "\n",
      "matrix : \n",
      "[0, 0, 0, 0, 0, 0, 0, 0, 0, 0]\n",
      "[1, 1, 1, 1, 1, 1, 1, 1, 1, 1]\n",
      "[2, 2, 2, 2, 2, 2, 2, 2, 2, 2]\n",
      "[3, 3, 3, 3, 3, 3, 3, 3, 3, 3]\n",
      "[4, 4, 4, 4, 4, 4, 4, 4, 4, 4]\n",
      "[5, 5, 5, 5, 5, 5, 5, 5, 5, 5]\n",
      "[6, 6, 6, 6, 6, 6, 6, 6, 6, 6]\n",
      "[7, 7, 7, 7, 7, 7, 7, 7, 7, 7]\n",
      "[8, 8, 8, 8, 8, 8, 8, 8, 8, 8]\n",
      "[9, 9, 9, 9, 9, 9, 9, 9, 9, 9]\n",
      "rotated matrix : \n",
      "[9, 8, 7, 6, 4, 5, 3, 2, 1, 0]\n",
      "[9, 8, 7, 6, 4, 5, 3, 2, 1, 0]\n",
      "[9, 8, 7, 6, 4, 5, 3, 2, 1, 0]\n",
      "[9, 8, 7, 6, 4, 5, 3, 2, 1, 0]\n",
      "[9, 8, 7, 6, 4, 5, 3, 2, 1, 0]\n",
      "[9, 8, 7, 6, 4, 5, 3, 2, 1, 0]\n",
      "[9, 8, 7, 6, 4, 5, 3, 2, 1, 0]\n",
      "[9, 8, 7, 6, 4, 5, 3, 2, 1, 0]\n",
      "[9, 8, 7, 6, 4, 5, 3, 2, 1, 0]\n",
      "[9, 8, 7, 6, 4, 5, 3, 2, 1, 0]\n"
     ]
    }
   ],
   "source": [
    "mat = [\n",
    "  [1,2,3],\n",
    "  [4,5,6],\n",
    "  [7,8,9]\n",
    "]\n",
    "run(mat)\n",
    "\n",
    "mat = make_mat(10)\n",
    "run(mat)"
   ]
  },
  {
   "cell_type": "code",
   "execution_count": null,
   "metadata": {},
   "outputs": [],
   "source": []
  }
 ],
 "metadata": {
  "kernelspec": {
   "display_name": "Python 3",
   "language": "python",
   "name": "python3"
  },
  "language_info": {
   "codemirror_mode": {
    "name": "ipython",
    "version": 3
   },
   "file_extension": ".py",
   "mimetype": "text/x-python",
   "name": "python",
   "nbconvert_exporter": "python",
   "pygments_lexer": "ipython3",
   "version": "3.6.3"
  }
 },
 "nbformat": 4,
 "nbformat_minor": 2
}
