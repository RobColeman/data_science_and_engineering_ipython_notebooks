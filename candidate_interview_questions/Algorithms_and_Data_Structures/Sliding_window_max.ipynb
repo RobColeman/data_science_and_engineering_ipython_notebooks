{
 "cells": [
  {
   "cell_type": "markdown",
   "metadata": {},
   "source": [
    "## Sliding window max\n",
    "\n",
    "given a list, and an int for the length of the window, return a list with the max value in each window as you slide it from the begining of the first list to the end."
   ]
  },
  {
   "cell_type": "code",
   "execution_count": 24,
   "metadata": {},
   "outputs": [],
   "source": [
    "def sliding_window_max(l, k):\n",
    "    b = 0\n",
    "    e = 0\n",
    "    mx = -100000\n",
    "    mx_idx = -1\n",
    "    output = []\n",
    "    \n",
    "    # first window\n",
    "    while e < k-1:\n",
    "        if l[e] > mx:\n",
    "            mx = l[e]\n",
    "            mx_idx = e\n",
    "        e += 1\n",
    "        \n",
    "    output.append(mx)\n",
    "    \n",
    "    # second window to end\n",
    "    b += 1\n",
    "    e += 1\n",
    "    # O(n)\n",
    "    while e < len(l):\n",
    "        if l[e] > mx:\n",
    "            mx = l[e]\n",
    "            mx_idx = e\n",
    "            \n",
    "        if mx_idx < b:\n",
    "            # max dropped out of window\n",
    "            # O(k)\n",
    "            # advance window\n",
    "            mx_idx = b\n",
    "            mx = l[b]\n",
    "            i_idx = mx_idx + 1\n",
    "            while i_idx <= e:\n",
    "                if l[i_idx] > mx:\n",
    "                    mx = l[i_idx]\n",
    "                    mx_idx = i_idx\n",
    "                i_idx += 1\n",
    "\n",
    "        output.append(mx)\n",
    "        b += 1\n",
    "        e += 1\n",
    "        \n",
    "    return output"
   ]
  },
  {
   "cell_type": "code",
   "execution_count": 25,
   "metadata": {},
   "outputs": [
    {
     "name": "stdout",
     "output_type": "stream",
     "text": [
      "[3]\n",
      "1\n",
      "3\n",
      "[3, 3]\n",
      "2\n",
      "4\n",
      "[3, 3, 5]\n",
      "3\n",
      "5\n",
      "[3, 3, 5, 5]\n",
      "4\n",
      "6\n",
      "[3, 3, 5, 5, 6]\n",
      "5\n",
      "7\n",
      "[3, 3, 5, 5, 6, 7]\n"
     ]
    }
   ],
   "source": [
    "l = [1,3,-1,-3,5,3,6,7]\n",
    "res = sliding_window_max(l, 3)\n",
    "print(res)"
   ]
  },
  {
   "cell_type": "code",
   "execution_count": null,
   "metadata": {
    "collapsed": true
   },
   "outputs": [],
   "source": []
  }
 ],
 "metadata": {
  "kernelspec": {
   "display_name": "Python 3",
   "language": "python",
   "name": "python3"
  },
  "language_info": {
   "codemirror_mode": {
    "name": "ipython",
    "version": 3
   },
   "file_extension": ".py",
   "mimetype": "text/x-python",
   "name": "python",
   "nbconvert_exporter": "python",
   "pygments_lexer": "ipython3",
   "version": "3.6.3"
  }
 },
 "nbformat": 4,
 "nbformat_minor": 2
}
