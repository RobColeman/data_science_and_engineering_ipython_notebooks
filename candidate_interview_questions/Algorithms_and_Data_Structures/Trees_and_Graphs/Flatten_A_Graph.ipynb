{
 "cells": [
  {
   "cell_type": "markdown",
   "metadata": {},
   "source": [
    "# Flatten\n",
    "\n",
    "Given a graph of nodes, where the node type is like so, Node(val, down, right), return a flattened linked list, where we traverse down before right. \n",
    "\n",
    "Nodes pointed to with a down pointer do not have right pointers."
   ]
  },
  {
   "cell_type": "code",
   "execution_count": 1,
   "metadata": {
    "collapsed": true
   },
   "outputs": [],
   "source": [
    "import collections\n",
    "\n",
    "class GraphNode:\n",
    "    \n",
    "    def __init__(self, val, down, right):\n",
    "        sel.val = val\n",
    "        self.down = down\n",
    "        self.right = right\n",
    "\n",
    "\n",
    "class LinkedListNode:\n",
    "    \n",
    "    def __init__(self, val, next = None):\n",
    "        self.val = val\n",
    "        self.next = next\n",
    "\n",
    "\n",
    "def flatten_graph(head):\n",
    "    \n",
    "    # process head node, and retain LL head pointer\n",
    "    ll_tail = LinkedListNode(head.val)\n",
    "    ll_head = ll_tail\n",
    "    # handle down case\n",
    "    if head.down:\n",
    "        ll_tail.next = LinkedListNode(head.down.val)\n",
    "        ll_tail = ll_tail.next\n",
    "    # move pointer to next graph node\n",
    "    next_gr_node = head.right\n",
    "    # loop\n",
    "    while next_gr_node is not None:\n",
    "        ll_tail.next = LinkedListNode(next_gr_node.val)\n",
    "        ll_tail = ll_tail.next\n",
    "        # handle down case\n",
    "        if next_gr_node.down:\n",
    "            ll_tail.next = LinkedListNode(next_gr_node.down.val)\n",
    "            ll_tail = ll_tail.next\n",
    "        \n",
    "        next_gr_node = next_gr_node.right\n",
    "    \n",
    "    return ll_head"
   ]
  },
  {
   "cell_type": "code",
   "execution_count": null,
   "metadata": {
    "collapsed": true
   },
   "outputs": [],
   "source": []
  }
 ],
 "metadata": {
  "kernelspec": {
   "display_name": "Python 3",
   "language": "python",
   "name": "python3"
  },
  "language_info": {
   "codemirror_mode": {
    "name": "ipython",
    "version": 3
   },
   "file_extension": ".py",
   "mimetype": "text/x-python",
   "name": "python",
   "nbconvert_exporter": "python",
   "pygments_lexer": "ipython3",
   "version": "3.6.3"
  }
 },
 "nbformat": 4,
 "nbformat_minor": 1
}
