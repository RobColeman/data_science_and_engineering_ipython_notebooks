{
 "cells": [
  {
   "cell_type": "markdown",
   "metadata": {},
   "source": [
    "# Binary Search Tree Iterator\n",
    "\n",
    "Create an iterator for a Binary Search Tree (BSTI.next() gets the next smallest item) that satisfies:\n",
    "    \n",
    "- Costs O(1) \"average\" to call \n",
    "- Costs O(h) extra memory, where h is the height of the BST"
   ]
  },
  {
   "cell_type": "markdown",
   "metadata": {},
   "source": [
    "## Solution\n",
    "\n",
    "The \"average\" runtime of O(1) implies that we traverse the tree one time, because, for a tree of size N, to exhaust the iterator we have to call BSTI.next() N times.  N/N = 1 gives us our \"average\" runtime of O(1).\n",
    "\n",
    "The memory of O(h) implies that we need some extra data-structure that is at max, the height of the three.  We're probably creating a queue or a stack.  \n",
    "\n",
    "Since we known the data-structure is a BST, it has the propeties that all nodes to the left have values lower than the current node, and all nodes to the right have values greater than the current node.\n",
    "\n",
    "So, at any given node, we can find the next smallest number by recursing node.left until we hit the end.\n",
    "\n",
    "We can create the iterator with a \"push_all\" function, that pushes all items to the left into a stack, and we exhaust the stack before we \n",
    "\n",
    "Our next function will get the item at the top of the stack, check if it has an item to the right, if it does, push_all on that item to add all those children of the current node to the stack.  Then return the next item that was pulled out.\n",
    "\n",
    "\n",
    "## Complexity\n",
    "\n",
    "As stated, the average run-time will be O(1), because we're touching every node once (N) by the time we've exhausted the iterator, and to exhaust the iterator we have to call iterator.next() N times.\n",
    "\n",
    "The stack will never be any larger than the hight of the BST"
   ]
  },
  {
   "cell_type": "code",
   "execution_count": 1,
   "metadata": {},
   "outputs": [],
   "source": [
    "class BSTIterator:\n",
    "    \n",
    "    \n",
    "    def __init__(self, root):\n",
    "        self.stack = []\n",
    "        self.push_all(root)\n",
    "    \n",
    "    \n",
    "    def next(self):\n",
    "        # returns the next item in stack\n",
    "        item = stack.pop()\n",
    "        self.push_all(item.right)\n",
    "        return item.val            \n",
    "    \n",
    "    \n",
    "    def has_next(self):\n",
    "        return len(self.stack) > 0\n",
    "    \n",
    "    \n",
    "    def push_all(self, node):\n",
    "        while node is not None:\n",
    "            self.stack.append(node)\n",
    "            node = node.left\n",
    "        return None\n",
    "    "
   ]
  },
  {
   "cell_type": "code",
   "execution_count": null,
   "metadata": {},
   "outputs": [],
   "source": []
  }
 ],
 "metadata": {
  "kernelspec": {
   "display_name": "Python 3",
   "language": "python",
   "name": "python3"
  },
  "language_info": {
   "codemirror_mode": {
    "name": "ipython",
    "version": 3
   },
   "file_extension": ".py",
   "mimetype": "text/x-python",
   "name": "python",
   "nbconvert_exporter": "python",
   "pygments_lexer": "ipython3",
   "version": "3.6.3"
  }
 },
 "nbformat": 4,
 "nbformat_minor": 1
}
