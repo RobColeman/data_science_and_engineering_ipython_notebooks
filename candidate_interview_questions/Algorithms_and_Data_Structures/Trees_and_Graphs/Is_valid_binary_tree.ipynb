{
 "cells": [
  {
   "cell_type": "markdown",
   "metadata": {},
   "source": [
    "# Test if a tree is a valid binary tree"
   ]
  },
  {
   "cell_type": "markdown",
   "metadata": {},
   "source": [
    "## Solution\n",
    "    \n",
    "DFS or BFS the tree and test if each node has at most two children. Break if it's violated.\n",
    "\n",
    "## Complexity\n",
    "\n",
    "Full traversals take O(n), no memory needed."
   ]
  },
  {
   "cell_type": "markdown",
   "metadata": {},
   "source": [
    "# Test if a tree is a valid binary search tree"
   ]
  },
  {
   "cell_type": "markdown",
   "metadata": {},
   "source": [
    "## Solution\n",
    "   \n",
    "use min and max trackers\n",
    "\n",
    "## Complexity\n",
    "\n",
    "Full traversals take O(n), The extra min and max trackers take O(n) since we're doing recursdive calls."
   ]
  },
  {
   "cell_type": "code",
   "execution_count": 1,
   "metadata": {},
   "outputs": [
    {
     "name": "stdout",
     "output_type": "stream",
     "text": [
      "True\n"
     ]
    }
   ],
   "source": [
    "INT_MAX = 10000000000\n",
    "INT_MIN =-10000000000\n",
    " \n",
    "# A binary tree node\n",
    "class Node:\n",
    " \n",
    "    # Constructor to create a new node\n",
    "    def __init__(self, val, left = None, right = None):\n",
    "        self.val = val \n",
    "        self.left = left\n",
    "        self.right = right\n",
    "\n",
    "\n",
    "def is_BST(root, mi, ma):\n",
    "    \n",
    "    def is_BST_rec(node, mi, ma):\n",
    "        if node is None:\n",
    "            return True\n",
    "        \n",
    "        if node.val < mi or node.val > ma:\n",
    "            return False\n",
    "        \n",
    "        return is_BST_rec(node.left, mi, node.val - 1) and is_BST_rec(node.right, node.val + 1, ma)\n",
    "\n",
    "    \n",
    "    return is_BST_rec(root, mi, ma)\n",
    "\n",
    "root = Node(4,\n",
    "           Node(2, \n",
    "                Node(1), \n",
    "                Node(3)\n",
    "               ),\n",
    "           Node(5)\n",
    "           )\n",
    "\n",
    "print(is_BST(root, INT_MIN, INT_MAX))"
   ]
  },
  {
   "cell_type": "code",
   "execution_count": null,
   "metadata": {},
   "outputs": [],
   "source": []
  }
 ],
 "metadata": {
  "kernelspec": {
   "display_name": "Python 3",
   "language": "python",
   "name": "python3"
  },
  "language_info": {
   "codemirror_mode": {
    "name": "ipython",
    "version": 3
   },
   "file_extension": ".py",
   "mimetype": "text/x-python",
   "name": "python",
   "nbconvert_exporter": "python",
   "pygments_lexer": "ipython3",
   "version": "3.6.3"
  }
 },
 "nbformat": 4,
 "nbformat_minor": 2
}
