{
 "cells": [
  {
   "cell_type": "markdown",
   "metadata": {},
   "source": [
    "# Add two binary trees\n",
    "\n",
    "Given two binary trees, produce a single binary tree where the nodes of the two trees are added together as if they were overlayed on eachother.\n",
    "\n"
   ]
  },
  {
   "cell_type": "markdown",
   "metadata": {},
   "source": [
    "## Solution\n",
    "\n",
    "For tree A and B, We can do this by dfs traversing tree B and tree A simultaniously.  When one tree doesn't have a node, that the other tree does, we add a new node with the value '0'.  At each node, we add the values.\n",
    "\n",
    "We should clairify if we can modify the inputs.  If we can, we can simply add += the B node to A, otherwise we have to make a copy of A, call it C, then do the above with C and B.\n",
    "\n",
    "## Complexity\n",
    "\n",
    "I run time will be O(n), where n is the size of the resulting binary tree.\n",
    "\n",
    "Regardless of if we're modifyign the unputs, we have to grow both trees to match eachother in size.  So we'll need O(n) of memory (sort of)."
   ]
  },
  {
   "cell_type": "code",
   "execution_count": 3,
   "metadata": {},
   "outputs": [],
   "source": [
    "class Node:\n",
    "    \n",
    "    def __init__(self, data, left = None, right = None):\n",
    "        self.data = data\n",
    "        self.left = left\n",
    "        self.right = right\n",
    "\n",
    "\n",
    "def add_binary_trees(root_a, root_b):\n",
    "    \n",
    "    p_a = root_a\n",
    "    p_b = root_b\n",
    "    # depth first traversal\n",
    "    \n",
    "    def dfs_rec(p_a, p_b):\n",
    "        # add them to a\n",
    "        p_a.data += p_b\n",
    "        \n",
    "        # recurse left\n",
    "        if not p_a.left is None or not p_b.left is None:\n",
    "            # if one of them is missing, fill with a 0 node\n",
    "            if p_a.left is None:\n",
    "                p_a.left = Node(0)\n",
    "            if p_b.left is None:\n",
    "                p_b.left = Node(0)\n",
    "            dfs_rec(p_a.left, p_b.left)\n",
    "\n",
    "        # recurse right\n",
    "        if not p_a.right is None or not p_b.right is None:\n",
    "            # if one of them is missing, fill with a 0 Node\n",
    "            if p_a.right is None:\n",
    "                p_a.right = Node(0)\n",
    "            if p_b.right is None:\n",
    "                p_b.right = Node(0)\n",
    "            dfs_rec(p_a.right, p_b.right)        \n",
    "        \n",
    "        # return\n",
    "        return None\n",
    "\n",
    "    # end recursive method\n",
    "    dfs_rec(root_a, root_b)\n",
    "    return root_a"
   ]
  },
  {
   "cell_type": "code",
   "execution_count": null,
   "metadata": {},
   "outputs": [],
   "source": []
  }
 ],
 "metadata": {
  "kernelspec": {
   "display_name": "Python 3",
   "language": "python",
   "name": "python3"
  },
  "language_info": {
   "codemirror_mode": {
    "name": "ipython",
    "version": 3
   },
   "file_extension": ".py",
   "mimetype": "text/x-python",
   "name": "python",
   "nbconvert_exporter": "python",
   "pygments_lexer": "ipython3",
   "version": "3.6.3"
  }
 },
 "nbformat": 4,
 "nbformat_minor": 2
}
