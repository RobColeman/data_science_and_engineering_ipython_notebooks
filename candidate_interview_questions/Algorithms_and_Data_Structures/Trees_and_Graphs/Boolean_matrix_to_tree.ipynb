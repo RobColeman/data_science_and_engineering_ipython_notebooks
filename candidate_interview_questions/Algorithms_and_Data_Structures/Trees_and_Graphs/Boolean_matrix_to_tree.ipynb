{
 "cells": [
  {
   "cell_type": "markdown",
   "metadata": {},
   "source": [
    "# Given a boolean matrix to tree\n",
    "\n",
    "A boolean matrix represents a tree.  If entry (i,j) is 1, i is the parent of j.\n",
    "\n",
    "Construct this tree.\n",
    "\n",
    "Tree should be a simple class, with only it's id, and pointers to it's children\n",
    "\n",
    "Node:\n",
    "    - id\n",
    "    - left\n",
    "    - right\n",
    "\n",
    "## Solution\n",
    "\n",
    "Preconstruct all of the nodes, with no pointers to thier childred, and store them in an random accessable array.\n",
    "\n",
    "Walk the rows of the matrix, i, walk the row, and for each 1 at i,j in the row, set one of the children of i to j.\n",
    "\n",
    "This doesn't guarentee rights and lefts in the tree, but that information was lost in the matrix representation anyway.\n",
    "\n",
    "We need to return the root node at the end, so we need to find it somehow.\n",
    "\n",
    "We can do that during our single pass keeping a list of the nodes with zero parents, starting with all the nodes, and removing them when they are found to be a child of another node.  The remaining nodes are roots.\n",
    "\n",
    "## Complexity\n",
    "\n",
    "There is no way to avoid looking at all the entries in the matrix, so at best we could do O(n^2).  This solution achieves that.\n",
    "\n",
    "We need O(n) to create the nodes, and we need a container for them.  With a well contructed container, using pointers, this trivial.  We also need a hashmap of the nodes with zero children, to keep track of the roots, of size o(n)."
   ]
  },
  {
   "cell_type": "code",
   "execution_count": 2,
   "metadata": {
    "collapsed": true
   },
   "outputs": [],
   "source": [
    "class Node:\n",
    "    \n",
    "    def __init__(self, node_id, children = {}):\n",
    "        self._id = node_id\n",
    "        self._children = children\n",
    "    \n",
    "    def add_child(self, child):\n",
    "        self._children[child._id] = child\n",
    "        \n",
    "\n",
    "def construct_tree(mat):\n",
    "    # O(n)\n",
    "    nodes = [Node(i) for i in range(len(mat))]\n",
    "    no_parents = set(range(len(mat)))\n",
    "                                    \n",
    "    # O(n**2)\n",
    "    for parent_id, is_parent_row in enumerate(mat):\n",
    "        for child_id, is_parent in enumerate(is_parent_row):\n",
    "            if is_parent:\n",
    "                no_parents.remove(child_id)\n",
    "                nodes[parent_id].add_child(nodes[child_id])\n",
    "    \n",
    "    return [nodes[i] for i in no_parents]\n",
    "\n",
    "\n",
    "\"\"\"\n",
    "          4\n",
    "       0    1\n",
    "      2 3  x  5\n",
    "    x x x x  x x\n",
    "    \n",
    "\"\"\"\n",
    "\n",
    "mat = [\n",
    "    [0,0,1,1,0,0],\n",
    "    [0,0,0,0,0,1],\n",
    "    [0,0,0,0,0,0],\n",
    "    [0,0,0,0,0,0],\n",
    "    [1,1,0,0,0,0],\n",
    "    [0,0,0,0,0,0]\n",
    "]\n",
    "\n",
    "root = construct_tree(mat)"
   ]
  },
  {
   "cell_type": "code",
   "execution_count": null,
   "metadata": {
    "collapsed": true
   },
   "outputs": [],
   "source": []
  }
 ],
 "metadata": {
  "kernelspec": {
   "display_name": "Python 3",
   "language": "python",
   "name": "python3"
  },
  "language_info": {
   "codemirror_mode": {
    "name": "ipython",
    "version": 3
   },
   "file_extension": ".py",
   "mimetype": "text/x-python",
   "name": "python",
   "nbconvert_exporter": "python",
   "pygments_lexer": "ipython3",
   "version": "3.6.3"
  }
 },
 "nbformat": 4,
 "nbformat_minor": 2
}
