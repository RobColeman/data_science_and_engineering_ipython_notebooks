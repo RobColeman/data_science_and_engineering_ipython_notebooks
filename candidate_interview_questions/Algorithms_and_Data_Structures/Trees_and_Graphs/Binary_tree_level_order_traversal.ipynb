{
 "cells": [
  {
   "cell_type": "markdown",
   "metadata": {},
   "source": [
    "# binary tree level order traversal\n",
    "\n",
    "Print a binary tree in order left to right, at each level"
   ]
  },
  {
   "cell_type": "markdown",
   "metadata": {},
   "source": [
    "## Solution\n",
    "\n",
    "The soluition requires a breadth-first, pre-order traversal, where we keep a stack of items to explore next.  We first insert the root into the stack, then we loop, doing:\n",
    "\n",
    "If the item in the stack is a none, we print none, else we print the nodes key.  We then add to the nodes left child, of none, we add none.  We then add the nodes right child, if none, we add none.  We can choose to ignore the nones if we wish."
   ]
  },
  {
   "cell_type": "code",
   "execution_count": null,
   "metadata": {
    "collapsed": true
   },
   "outputs": [],
   "source": [
    "class Node:\n",
    "    \n",
    "    def __init__(self, key):\n",
    "        self.key = key\n",
    "        self.left = None\n",
    "        sel.right = None\n",
    "        \n",
    "def print_level_order(root, print_nones = True):\n",
    "    \n",
    "    to_explore = [root]\n",
    "    \n",
    "    while len(to_explore) > 0:\n",
    "        curr = to_explore.pop(0) # fi-fo stack\n",
    "        if print_nones:\n",
    "            if curr == None:\n",
    "                print(\"None\")\n",
    "            else:\n",
    "                print(curr.key)\n",
    "                add_left = curr.left if curr.left else None\n",
    "                to_explore.append(add_left)\n",
    "                add_right = curr.right if curr.right else None\n",
    "                to_explore.append(add_right)\n",
    "        else:\n",
    "            print(curr.key)\n",
    "            if curr.left:\n",
    "                to_explore.append(curr.left)\n",
    "            if curr.right:\n",
    "                to_explore.append(curr.right)\n",
    "    \n",
    "    return None\n",
    "    \n",
    "    \n",
    "        "
   ]
  }
 ],
 "metadata": {
  "kernelspec": {
   "display_name": "Python 3",
   "language": "python",
   "name": "python3"
  },
  "language_info": {
   "codemirror_mode": {
    "name": "ipython",
    "version": 3
   },
   "file_extension": ".py",
   "mimetype": "text/x-python",
   "name": "python",
   "nbconvert_exporter": "python",
   "pygments_lexer": "ipython3",
   "version": "3.6.3"
  }
 },
 "nbformat": 4,
 "nbformat_minor": 1
}
