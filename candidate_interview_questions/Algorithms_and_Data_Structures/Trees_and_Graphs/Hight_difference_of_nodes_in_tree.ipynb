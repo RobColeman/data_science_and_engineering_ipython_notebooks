{
 "cells": [
  {
   "cell_type": "markdown",
   "metadata": {},
   "source": [
    "# Get the hight difference of two nodes in a tree\n"
   ]
  },
  {
   "cell_type": "markdown",
   "metadata": {},
   "source": [
    "## Solution\n",
    "\n",
    "Initialize to nulls (or zero ints) for depth_1 and depth_2.  DFS for both nodes and keep track of depth as you descend.  Once you find the nodes, assign the current calls depth to the corresponding int.  Once both are non-null (non-zero), break out of the recursive DFS calls.  Return the absolute difference.\n",
    "\n",
    "## Complexity\n",
    "\n",
    "DFS will find nodes if they exist in O(n).  We're looking for both nodes at the same time, so it will be only one traversal at most.\n",
    "\n",
    "We don't need any extra memory, just two ints for our depth values."
   ]
  },
  {
   "cell_type": "code",
   "execution_count": 1,
   "metadata": {},
   "outputs": [],
   "source": [
    "class Node:\n",
    "    \n",
    "    def __init__(self, val, children = []):\n",
    "        self.val = val\n",
    "        self.children = children\n",
    "\n",
    "def get_depth_difference(root, val1, val2):\n",
    "    \n",
    "    if val1 == val2:\n",
    "        return 0\n",
    "    \n",
    "    depth1 = None\n",
    "    depth2 = None\n",
    "    \n",
    "    def dfs_rec(node, cur_depth):\n",
    "        nonlocal val1, val2, depth1, depth2\n",
    "        \n",
    "        if depth1 and depth2:\n",
    "            return None\n",
    "\n",
    "        if node.val == val1:\n",
    "            depth1 = cur_depth\n",
    "\n",
    "        if node.val == val2:\n",
    "            depth2 = cur_depth\n",
    "\n",
    "        for c in node.children:\n",
    "            dfs_rec(c, cur_depth + 1)\n",
    "            \n",
    "        return None\n",
    "            \n",
    "    dfs_rec(root, 0)\n",
    "    return abs(depth1 - depth2)\n"
   ]
  },
  {
   "cell_type": "code",
   "execution_count": null,
   "metadata": {
    "collapsed": true
   },
   "outputs": [],
   "source": []
  }
 ],
 "metadata": {
  "kernelspec": {
   "display_name": "Python 3",
   "language": "python",
   "name": "python3"
  },
  "language_info": {
   "codemirror_mode": {
    "name": "ipython",
    "version": 3
   },
   "file_extension": ".py",
   "mimetype": "text/x-python",
   "name": "python",
   "nbconvert_exporter": "python",
   "pygments_lexer": "ipython3",
   "version": "3.6.3"
  }
 },
 "nbformat": 4,
 "nbformat_minor": 2
}
