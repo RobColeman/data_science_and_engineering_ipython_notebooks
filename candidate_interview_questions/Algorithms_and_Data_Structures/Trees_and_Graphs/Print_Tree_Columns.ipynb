{
 "cells": [
  {
   "cell_type": "markdown",
   "metadata": {},
   "source": [
    "# Print Tree columns\n",
    "\n",
    "Given a binary tree, print the nodes in order of the column they are in, from left to right.  Within the column, print from top to bottom.\n",
    "\n",
    "<img src=\"print_tree_columns.png\">\n",
    "\n"
   ]
  },
  {
   "cell_type": "markdown",
   "metadata": {},
   "source": [
    "## Solution:\n",
    "\n",
    "Also create an auxilary hashmap of column_number -> array[int], \n",
    "    where the ints will be the TreeNode values, in order from top to bottom.\n",
    "    \n",
    "We then do a pre-order, depth first traversal, where we keep track of the column number by starting at 0 at the root, \n",
    "    then modifying the column number -= 1 when we go left, and += 1 when we go right.\n",
    "    For each node, we check if the column number is in the map, if it is, \n",
    "        we append the current nodes value to the list at that column number, if it is not, \n",
    "        we add a new column number key, and a new list with that new node value\n",
    "\n",
    "After the traversal, we get the keys from the map, and sort them in ascending order.  \n",
    "    We walk the ordered keys and print the node values at that key, in the order they were inserted.\n",
    "\n",
    "## Complexity\n",
    "\n",
    "run time will be O(n) most of the time, unless the tree is degenerate and has a lot of columns.\n",
    "    In which case, the run-time could be as bad as O(nlogn) because of the sorting of the column numbers"
   ]
  },
  {
   "cell_type": "code",
   "execution_count": 4,
   "metadata": {},
   "outputs": [],
   "source": [
    "def print_tree_columns(root):\n",
    "    columns = {}\n",
    "    def preorder_dfs_traversal(node, col_num):\n",
    "        nonlocal columns\n",
    "\n",
    "        if col_num in columns:\n",
    "            columns[col_num].append(node.val)\n",
    "        else:\n",
    "            columns[col_num] = [node.val]\n",
    "            \n",
    "        if node.left:\n",
    "            preorder_dfs_traversal(node.left, col_num - 1)\n",
    "        if node.right:\n",
    "            preorder_dfs_traversal(node.right, col_num + 1)\n",
    "            \n",
    "    preorder_dfs_traversal(root, 0)\n",
    "    \n",
    "    output = \"\"\n",
    "    for col_num in sorted(columns.keys()):\n",
    "        for val in columns[col_num]:\n",
    "            output += str(val) + \" \"\n",
    "            \n",
    "    print(output)\n"
   ]
  },
  {
   "cell_type": "code",
   "execution_count": null,
   "metadata": {
    "collapsed": true
   },
   "outputs": [],
   "source": []
  }
 ],
 "metadata": {
  "anaconda-cloud": {},
  "kernelspec": {
   "display_name": "Python 3",
   "language": "python",
   "name": "python3"
  },
  "language_info": {
   "codemirror_mode": {
    "name": "ipython",
    "version": 3
   },
   "file_extension": ".py",
   "mimetype": "text/x-python",
   "name": "python",
   "nbconvert_exporter": "python",
   "pygments_lexer": "ipython3",
   "version": "3.6.3"
  }
 },
 "nbformat": 4,
 "nbformat_minor": 1
}
