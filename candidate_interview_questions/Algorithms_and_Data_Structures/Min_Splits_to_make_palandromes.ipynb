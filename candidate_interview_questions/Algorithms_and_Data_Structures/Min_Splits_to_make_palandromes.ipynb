{
 "cells": [
  {
   "cell_type": "markdown",
   "metadata": {},
   "source": [
    "# Min splits to make palandromes from a string\n",
    "\n",
    "Strings can be broken into n sub-strings of length >= 1 which are all palandromes. "
   ]
  },
  {
   "cell_type": "code",
   "execution_count": 2,
   "metadata": {},
   "outputs": [
    {
     "name": "stdout",
     "output_type": "stream",
     "text": [
      "False\n",
      "12\n"
     ]
    }
   ],
   "source": [
    "def is_panadrome(s):\n",
    "    if len(s) == 1 or len(s) == 2:\n",
    "        return True\n",
    "    else:\n",
    "        m = len(s) // 2\n",
    "        # O(n)\n",
    "        return s[:m] == s[-m:][::-1]\n",
    "\n",
    "def min_palandrome_splits(string):\n",
    "    if len(string) == 0:\n",
    "        return -1\n",
    "    elif is_panadrome(string):\n",
    "        return 0\n",
    "    else:\n",
    "        # the last element contains the minimum, worst case min_splits == n\n",
    "        splits = list(range(1,len(string)+1))\n",
    "        \n",
    "        for i in range(len(string)):\n",
    "            if is_panadrome(string[:i]):\n",
    "                splits[i] = 0\n",
    "            \n",
    "            for j in range(0,i):\n",
    "                if is_panadrome(string[j+1:i]) and splits[i] > splits[j] + 1:\n",
    "                    splits[i] == splits[j] + 1\n",
    "        \n",
    "    return splits[-1]\n",
    "\n",
    "s = \"madamifmadam\"\n",
    "print(is_panadrome(s))\n",
    "print(min_palandrome_splits(s))"
   ]
  },
  {
   "cell_type": "code",
   "execution_count": null,
   "metadata": {
    "collapsed": true
   },
   "outputs": [],
   "source": []
  }
 ],
 "metadata": {
  "kernelspec": {
   "display_name": "Python 3",
   "language": "python",
   "name": "python3"
  },
  "language_info": {
   "codemirror_mode": {
    "name": "ipython",
    "version": 3
   },
   "file_extension": ".py",
   "mimetype": "text/x-python",
   "name": "python",
   "nbconvert_exporter": "python",
   "pygments_lexer": "ipython3",
   "version": "3.6.3"
  }
 },
 "nbformat": 4,
 "nbformat_minor": 2
}
