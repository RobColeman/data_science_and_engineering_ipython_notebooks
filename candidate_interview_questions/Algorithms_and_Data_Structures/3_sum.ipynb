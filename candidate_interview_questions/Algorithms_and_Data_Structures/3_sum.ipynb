{
 "cells": [
  {
   "cell_type": "markdown",
   "metadata": {},
   "source": [
    "# Find 3 numbers that sum to zero in an array\n",
    "\n",
    "Given an array of ints, and a int (3), find all combinations of 3 of the numbers, without repeating any numbers, that sum to zero."
   ]
  },
  {
   "cell_type": "markdown",
   "metadata": {},
   "source": [
    "Solution:\n",
    "\n",
    "It's a big help to first sort the array, which will cost O(NlnN).\n",
    "\n",
    "Then, for each number in the array index [0:-2],, for each number except the last two, go look for solutions for that number.  This is an O(N) loop.  Lets call this numbers index p1.\n",
    "\n",
    "Inside that loop, we can use the two pointer trick.  For numbers [p1:] , use a pointer at the beggining of the array and the end of the array, p2 and p3.  We create a loop where we check if nums[p1] + nums[p2] + nums[p3] is a solution we add it, and decriment p3 and keep searching.  If it isn't a solution, we check if that sum is greater or less than zero.  If it is greater than, than there may be more solitions  for num[p1] + num[p2] if we decrient p3, but no more above p3.  If the sum is less than zero, there may be more solutions for nums[p1] + nums[p3] if we incriment p2.  This inner loop scans the array once, so another O(N) inside the outer O(N) loop.\n",
    "\n",
    "This solution will cost O(NlnN) + O(N^2), or O(N^2) in compute, and cost us just a few pointers and the solution set size, whatever that is.  The maximum output size is n_choose_k, which is n_choose_k(len(nums), 3)\n",
    "\n",
    "An extension to the problem is to produce only unique solutions.  We can do this by encoding the solutions as strings, and keeping them in a set, then decoming them at the end."
   ]
  },
  {
   "cell_type": "code",
   "execution_count": 8,
   "metadata": {
    "collapsed": false
   },
   "outputs": [
    {
     "name": "stdout",
     "output_type": "stream",
     "text": [
      "[[-3, 0, 3], [-4, 0, 4], [-3, -1, 4], [-4, 1, 3], [-3, 1, 2], [-1, 0, 1]]\n",
      "[[-1, -1, 2], [-1, 0, 1]]\n"
     ]
    }
   ],
   "source": [
    "def three_sum(nums):\n",
    "    # O(NlnN)\n",
    "    if len(nums) < 3:\n",
    "        return []\n",
    "    nums = sorted(nums)\n",
    "    l = len(nums)\n",
    "    solutions = set()\n",
    "    \n",
    "    def encode(i,j,k):\n",
    "        i, j, k = sorted([i,j,k])\n",
    "        return \"{}:{}:{}\".format(i,j,k)\n",
    "    \n",
    "    decode = lambda s: [int(i) for i in s.split(\":\")]\n",
    "    \n",
    "    # O(N)\n",
    "    for p1, n1 in enumerate(nums[:-2]):\n",
    "        p2 = p1+1\n",
    "        p3 = l - 1\n",
    "        # O(N)\n",
    "        while p2 < p3:\n",
    "            curr_sum = n1 + nums[p2] + nums[p3]\n",
    "            if curr_sum == 0:\n",
    "                solutions.add(encode(n1, nums[p2], nums[p3]))\n",
    "                p3 -= 1\n",
    "            elif curr_sum < 0:\n",
    "                p2 += 1\n",
    "            else:\n",
    "                p3 -= 1\n",
    "                \n",
    "    return [decode(s) for s in solutions]\n",
    "\n",
    "print(three_sum([-4,-3,-1,0,1,2,3,4]))\n",
    "print(three_sum([-1,0,1,2,-1,-4]))"
   ]
  },
  {
   "cell_type": "code",
   "execution_count": null,
   "metadata": {
    "collapsed": true
   },
   "outputs": [],
   "source": []
  }
 ],
 "metadata": {
  "anaconda-cloud": {},
  "kernelspec": {
   "display_name": "Python [default]",
   "language": "python",
   "name": "python3"
  },
  "language_info": {
   "codemirror_mode": {
    "name": "ipython",
    "version": 3
   },
   "file_extension": ".py",
   "mimetype": "text/x-python",
   "name": "python",
   "nbconvert_exporter": "python",
   "pygments_lexer": "ipython3",
   "version": "3.5.2"
  }
 },
 "nbformat": 4,
 "nbformat_minor": 2
}
