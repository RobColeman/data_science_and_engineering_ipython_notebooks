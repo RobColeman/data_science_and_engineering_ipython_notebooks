{
 "cells": [
  {
   "cell_type": "markdown",
   "metadata": {},
   "source": [
    "# Merge sorted, two arrays of non-itersecting intervals\n",
    "\n",
    "Given two arrays of intervals, which are sorted and non-overlapping, merge them to return another array of intervals where the intervals of the two arrays have been merged.\n",
    "\n",
    "a1 = [(3,11), (17,25), (58,73)]\n",
    "\n",
    "a2 = [(6,18), (40, 47)]\n",
    "\n",
    "result = [(3,25), (40, 47), (58, 73)]\n",
    "\n",
    "Note: This is the core of the meeting scheduler problem, were we have a set of people's calendats with existing events, and we're trying to find all of the valid \"open\" times for a meeting.\n",
    "\n",
    "\n",
    "## Solution\n",
    "\n",
    "much like merging sorted arrays of numbers, we can walk both arrays, and merge them in linear time.  At the first step, we take the next interval with the earliest start time and add it to the output.  At all remaining steps, we find the next unused interval with the earliest start time.  If it's start time is earlier than the last output interval end time, we replace that last output intervals end time with the max(last_output_end, next_interval_end).  We repeat until all of the intervals have been added."
   ]
  },
  {
   "cell_type": "code",
   "execution_count": null,
   "metadata": {
    "collapsed": true
   },
   "outputs": [],
   "source": [
    "def merge_array_of_intervals(a, b):\n",
    "    output = []\n",
    "    while len(a) > 0 and len(b) > 0:\n",
    "        # if one is finished, just add the rest from the other\n",
    "        if len(a) == 0:\n",
    "            nxt_start, nxt_end = b.pop(0)\n",
    "        elif len(b) == 0:\n",
    "            nxt_start, nxt_end = a.pop(0)\n",
    "        else:\n",
    "            if a[0][0] < b[0][0]:\n",
    "                nxt_start, nxt_end = a.pop(0)\n",
    "            else:\n",
    "                nxt_start, nxt_end = b.pop(0)\n",
    "        \n",
    "        if len(output) == 0:\n",
    "            output.append([nxt_start, nxt_end])\n",
    "        else:\n",
    "            if output[-1][1] > nxt_start:\n",
    "                output[-1][1] = max(output[-1][1], nxt_end)\n",
    "            else:\n",
    "                output.append([nxt_start, nxt_end])\n",
    "                    \n",
    "    return output"
   ]
  }
 ],
 "metadata": {
  "kernelspec": {
   "display_name": "Python [default]",
   "language": "python",
   "name": "python3"
  },
  "language_info": {
   "codemirror_mode": {
    "name": "ipython",
    "version": 3
   },
   "file_extension": ".py",
   "mimetype": "text/x-python",
   "name": "python",
   "nbconvert_exporter": "python",
   "pygments_lexer": "ipython3",
   "version": "3.5.2"
  }
 },
 "nbformat": 4,
 "nbformat_minor": 1
}
