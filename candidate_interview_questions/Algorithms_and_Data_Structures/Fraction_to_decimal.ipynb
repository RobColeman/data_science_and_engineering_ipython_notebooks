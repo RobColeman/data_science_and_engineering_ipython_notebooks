{
 "cells": [
  {
   "cell_type": "markdown",
   "metadata": {},
   "source": [
    "Given two integers representing the numerator and denominator of a fraction, return the fraction in string format.\n",
    "\n",
    "If the fractional part is repeating, enclose the repeating part in parentheses.\n",
    "\n",
    "For example,\n",
    "\n",
    "- Given numerator = 1, denominator = 2, return \"0.5\".\n",
    "- Given numerator = 2, denominator = 1, return \"2\".\n",
    "- Given numerator = 2, denominator = 3, return \"0.(6)\"."
   ]
  },
  {
   "cell_type": "code",
   "execution_count": null,
   "metadata": {
    "collapsed": true
   },
   "outputs": [],
   "source": []
  },
  {
   "cell_type": "code",
   "execution_count": null,
   "metadata": {
    "collapsed": true
   },
   "outputs": [],
   "source": [
    "def fractionToDecimal(numerator, denominator):\n",
    "    out = \"\"\n",
    "    out += str(numerator // denominator)\n",
    "    rem = numerator % denominator\n",
    "    if rem == 0:\n",
    "        return out\n",
    "    out += \".\"\n",
    "    rem *= 10\n",
    "    \n",
    "    while not rem == 0:\n",
    "        n = denominator // denominator\n",
    "        next_rem = rem % denominator\n",
    "        if rem == next_rem:\n",
    "            \n",
    "    \n",
    "    "
   ]
  }
 ],
 "metadata": {
  "kernelspec": {
   "display_name": "Python [default]",
   "language": "python",
   "name": "python3"
  },
  "language_info": {
   "codemirror_mode": {
    "name": "ipython",
    "version": 3
   },
   "file_extension": ".py",
   "mimetype": "text/x-python",
   "name": "python",
   "nbconvert_exporter": "python",
   "pygments_lexer": "ipython3",
   "version": "3.5.2"
  }
 },
 "nbformat": 4,
 "nbformat_minor": 1
}
