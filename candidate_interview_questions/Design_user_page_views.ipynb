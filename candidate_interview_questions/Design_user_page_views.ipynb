{
 "cells": [
  {
   "cell_type": "markdown",
   "metadata": {},
   "source": [
    "# Data structure design - User page views\n",
    "\n",
    "For data \n",
    "\n",
    "u1 -> p4\n",
    "u3 -> p4\n",
    "u21 -> p1\n",
    "u3 -> p2\n",
    "...\n",
    "\n",
    "design a data stucture that allows efficient querying of \n",
    "\n",
    "- Which pages have exactly 100 unique users who visited it in a given day\n",
    "- Which pages have exactly 1 user visiting them exactly 15 times in a day\n",
    "- Which pages were visited by u3 exactly 20 times in a single day\n",
    "\n",
    "\n",
    "## Solution\n",
    "\n",
    "Using denomalization it's most efficient to store this as two tables.\n",
    "\n",
    "Pages:\n",
    "\n",
    "- indexed by page_id\n",
    "\n",
    "- per-day count of total visits\n",
    "\n",
    "- per-day count of unique visits\n",
    "\n",
    "- Users who have visited page in the day (possibly a big hashtable)\n",
    "\n",
    "Users:\n",
    "\n",
    "- indexed by user_id\n",
    "\n",
    "- Pages visited and count, hash map of (page_id, count)\n",
    "\n",
    "Questions\n",
    "\n",
    "- We can solve Q1 with a linear scan of the pages table, by looking at the unique users count. O(n), where n is the number of pages.  This can be rather long for a large number of pages.  If this is a really common query, we can create another copy of this table indexed by unique users.  The index size here is at most also of size O(n), but in practive, would be much smaller, since more often than not there would be more than one page for each count value.\n",
    "\n",
    "- Q2 is solved with a linear scan of the pages table,  O(n) in the number of pages, then when we find pages with one unique user visit, we can look up the user in constant time, and the page of interest, and the count of visits by that user, in constant time in the hashmap.\n",
    "\n",
    "- Q3 can find user_3 in constant time in the user table, and we can scan the hashmap of that users pages visited to find the ones with 20 visits.  This takes O(n), where n is the size of the hashmap for that user, at maximum the number of unique pages, but in practice would be much smaller."
   ]
  },
  {
   "cell_type": "code",
   "execution_count": null,
   "metadata": {
    "collapsed": true
   },
   "outputs": [],
   "source": []
  }
 ],
 "metadata": {
  "kernelspec": {
   "display_name": "Python [default]",
   "language": "python",
   "name": "python3"
  },
  "language_info": {
   "codemirror_mode": {
    "name": "ipython",
    "version": 3
   },
   "file_extension": ".py",
   "mimetype": "text/x-python",
   "name": "python",
   "nbconvert_exporter": "python",
   "pygments_lexer": "ipython3",
   "version": "3.6.1"
  }
 },
 "nbformat": 4,
 "nbformat_minor": 2
}
