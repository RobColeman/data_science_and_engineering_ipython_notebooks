{
 "cells": [
  {
   "cell_type": "code",
   "execution_count": 1,
   "metadata": {
    "collapsed": true
   },
   "outputs": [],
   "source": [
    "# Design the twitter app\n",
    "\n",
    "\n"
   ]
  },
  {
   "cell_type": "markdown",
   "metadata": {},
   "source": [
    "# data structures\n",
    "\n",
    "\n",
    "There are two approaches to the data structure here, a pull and a push system.\n",
    "\n",
    "In the push system, we keep track of a user and all of their followers, and their messages, and additionally a user and their feed.\n",
    "\n",
    "## push archetecture\n",
    "\n",
    "In this method, when a new message is published by a user, we need to look up their followers and push the message to the followers feeds.\n",
    "\n",
    "User followers\n",
    "\n",
    "    User, follower, metadata\n",
    "    \n",
    "There is a inque row for each (user, follower) pair, meaning a user has many rows, one for each follower.\n",
    "\n",
    "User feed\n",
    "\n",
    "    User, message_id\n",
    "\n",
    "There is a unique row for each (user, message_id) and we construct the feed by selecting all the rows with that user.\n",
    "\n",
    "Messages\n",
    "\n",
    "    message_id, message, metadata\n",
    "    \n",
    "The problem here is that if a user is very popular, i.e. has millions of followers, publishing to followers feed list will involve millions of writes.  The good part of this approach is that constructing feeds is realatively cheep.  We simply get their messages\n",
    "\n",
    "Notice I haven't mentioned timestamps, or message sorting.  We can include the message timestamp in the message table row, and order them, or we can build time into the order of the message_ids to save some time in sorting.  The second approach works straight away if we are constructing a purely time-ordered feed.  If we have some kind of formula or model for relevance, and order by relevance, we need to have access to timestamps, which we can either keep in the message table as a column, or we can build a system for extracting the timestamp from the message id.\n",
    "\n",
    "\n",
    "## pull archetecture\n",
    "\n",
    "In the pull system, involves keeping track of all the users a user follows.\n",
    "\n",
    "User following\n",
    "\n",
    "    User, User (or user list)\n",
    "    \n",
    "Where for every user we keep track of who they're following.\n",
    "\n",
    "User messages\n",
    "\n",
    "    User, message_id\n",
    "\n",
    "Messages\n",
    "\n",
    "    message_id, message, metadata\n",
    "\n",
    "Now, to construct feeds, we need to get all the other users a user is following, then grab their messages and put them in order.\n",
    "Encoding message timestamp in the message_id helps here too.\n",
    "\n",
    "### Performance improvements\n",
    "\n",
    "To speed up the gathering of messages, we can keep a message cache (LRU or something similar).  This will help us with very popular messages and very recent messages.\n",
    "\n",
    "To improve experience at log-in, we can keep a table of every user's most recent feed, and get it immediately on log-in.  We'll set a size limit of this feed to keep.  This will get users old messages already in their feed, and allow us some time to contruct a feed of new messages (or old feed messages if they're looking backwards).\n",
    "\n",
    "Deleted messages are handles by dropping them when we try to look them up.  For the cached feeds, we can validate the messages (see if they still exist, but not read them entirely.  If they don't exist anymore, we can drop them from the cached feed before returning them.\n",
    "\n"
   ]
  },
  {
   "cell_type": "code",
   "execution_count": null,
   "metadata": {
    "collapsed": true
   },
   "outputs": [],
   "source": []
  }
 ],
 "metadata": {
  "anaconda-cloud": {},
  "kernelspec": {
   "display_name": "Python [default]",
   "language": "python",
   "name": "python3"
  },
  "language_info": {
   "codemirror_mode": {
    "name": "ipython",
    "version": 3
   },
   "file_extension": ".py",
   "mimetype": "text/x-python",
   "name": "python",
   "nbconvert_exporter": "python",
   "pygments_lexer": "ipython3",
   "version": "3.5.2"
  }
 },
 "nbformat": 4,
 "nbformat_minor": 1
}
