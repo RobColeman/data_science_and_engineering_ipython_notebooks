{
 "cells": [
  {
   "cell_type": "markdown",
   "metadata": {},
   "source": [
    "# A messager system backend"
   ]
  },
  {
   "cell_type": "markdown",
   "metadata": {},
   "source": [
    "\n",
    "\n",
    "### Application API: \n",
    "\n",
    "We need an application layer API.  This should be the entrypoint for all reading and writing operations.\n",
    "\n",
    "### Distributed application server logic:\n",
    "\n",
    "To make the system highly available, we need a distributed, resiliant cluster of servers to perform the logic underlaying the reads and writes the API makes available.  This system should be supported by some cluster management system like zookeeper, which manages our nodes and balances and distributes the work.\n",
    "\n",
    "### Application buisness logic\n",
    "\n",
    "This is where actuall application logic should live.  This is where we have our logic about how to make messages available, what to get when users are getting messages, and what to set when new messages are sent.  \n",
    "\n",
    "We should have write-though caching here to make recent writes available quickly.  \n",
    "\n",
    "### Data access layer\n",
    "\n",
    "This is where we store the data schema, and how to access and update the message data.  The underlaying data will be two tables, a user to room talbe, room to user table, and the big messages table.  The user to room table table will be a table with one row per user and a list of rooms that user belongs to and the timestamp of the lest read message.\n",
    "\n",
    "    user table:\n",
    "    \n",
    "    (user, room_id, last_timestamp_seen)\n",
    "    \n",
    "    indexed on user\n",
    " \n",
    "The room table will map the rooms to the users in the rooms\n",
    "    \n",
    "    room table:\n",
    "    \n",
    "    (room_id, [list of users])\n",
    "    \n",
    "    indexed on room_id\n",
    "    \n",
    "The message table will be a very large k-v store with one row per message\n",
    "    \n",
    "    message table:\n",
    "    \n",
    "    (room_id, timestamp, message)\n",
    "    \n",
    "    indexed on room_id and secondarily on timestamp\n",
    "\n",
    "\n",
    "When a user logs in, we can get all of their rooms, and then look up the timestamps of those rooms and see if there are new messages in their rooms to provide notifications\n"
   ]
  },
  {
   "cell_type": "code",
   "execution_count": null,
   "metadata": {
    "collapsed": true
   },
   "outputs": [],
   "source": []
  }
 ],
 "metadata": {
  "anaconda-cloud": {},
  "kernelspec": {
   "display_name": "Python [default]",
   "language": "python",
   "name": "python3"
  },
  "language_info": {
   "codemirror_mode": {
    "name": "ipython",
    "version": 3
   },
   "file_extension": ".py",
   "mimetype": "text/x-python",
   "name": "python",
   "nbconvert_exporter": "python",
   "pygments_lexer": "ipython3",
   "version": "3.5.2"
  }
 },
 "nbformat": 4,
 "nbformat_minor": 1
}
