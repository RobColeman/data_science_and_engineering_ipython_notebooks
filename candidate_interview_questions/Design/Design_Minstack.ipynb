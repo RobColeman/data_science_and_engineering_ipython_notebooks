{
 "cells": [
  {
   "cell_type": "markdown",
   "metadata": {},
   "source": [
    "# Design a min-stack\n",
    "\n",
    "Design a stack that supports push, pop, top, and retrieving the minimum element in constant time.\n",
    "\n",
    "- push(x) -- Push element x onto stack.\n",
    "- pop() -- Removes the element on top of the stack.\n",
    "- top() -- Get the top element.\n",
    "- getMin() -- Retrieve the minimum element in the stack.\n",
    "\n",
    "describe two soltions\n",
    "\n",
    "- one where you perform all of the operations in O(1) time\n",
    "- one where you keep only one stack, doesn't double the memory usage"
   ]
  },
  {
   "cell_type": "markdown",
   "metadata": {},
   "source": [
    "# Solution\n",
    "\n"
   ]
  },
  {
   "cell_type": "code",
   "execution_count": 2,
   "metadata": {},
   "outputs": [],
   "source": [
    "class MinStack:\n",
    "    \n",
    "    def __init__(self):\n",
    "        self.stack = []\n",
    "        self.min_stack = []\n",
    "    \n",
    "    def push(self, x):\n",
    "        if len(stack) == 0:\n",
    "            m = x\n",
    "        else:\n",
    "            m = min(x, self.min_stack[-1])\n",
    "        self.stack.append(x)\n",
    "        self.min_stack.append(m)\n",
    "        return None\n",
    "    \n",
    "    \n",
    "    def pop(self):\n",
    "        m = self.min_stack.pop(0)\n",
    "        t = self.stack.pop(0)\n",
    "        return t\n",
    "    \n",
    "        \n",
    "    def top(self):\n",
    "        return self.stack[0]\n",
    "    \n",
    "        \n",
    "    def getMin(self):\n",
    "        return self.min_stack[-1]"
   ]
  },
  {
   "cell_type": "markdown",
   "metadata": {},
   "source": [
    "A solution that doesn't keep a seperate min_stack would require a priority queue, and an index array of pointers to the elements in the min stack."
   ]
  },
  {
   "cell_type": "code",
   "execution_count": null,
   "metadata": {
    "collapsed": true
   },
   "outputs": [],
   "source": []
  }
 ],
 "metadata": {
  "kernelspec": {
   "display_name": "Python 3",
   "language": "python",
   "name": "python3"
  },
  "language_info": {
   "codemirror_mode": {
    "name": "ipython",
    "version": 3
   },
   "file_extension": ".py",
   "mimetype": "text/x-python",
   "name": "python",
   "nbconvert_exporter": "python",
   "pygments_lexer": "ipython3",
   "version": "3.6.3"
  }
 },
 "nbformat": 4,
 "nbformat_minor": 2
}
