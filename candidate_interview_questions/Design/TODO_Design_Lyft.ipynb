{
 "cells": [
  {
   "cell_type": "markdown",
   "metadata": {},
   "source": [
    "## Design Lyft"
   ]
  },
  {
   "cell_type": "markdown",
   "metadata": {},
   "source": [
    "Questions:\n",
    "\n",
    "- What are we supporting?  (Just normal lyft)\n",
    "- \n",
    "\n",
    "### core features\n",
    "- MatchingService\n",
    "- RoutingService\n",
    "\n",
    "## objects\n",
    "\n",
    "- Rider\n",
    "- Driver\n",
    "- Vehicle\n",
    "- Trip\n",
    "- LocationBase\n",
    "\n",
    "\n",
    "\n",
    "Out of scope:\n",
    "\n",
    "- RideCostCalculationService\n",
    "- Transaction (payment to driver, charge from rider)\n",
    "- Ratings\n",
    "\n",
    "\n",
    "\n",
    "## Storage\n",
    "\n",
    "- trip\n",
    "- rider\n",
    "- driver\n",
    "\n",
    "\n",
    "##"
   ]
  },
  {
   "cell_type": "code",
   "execution_count": null,
   "metadata": {},
   "outputs": [],
   "source": []
  }
 ],
 "metadata": {
  "kernelspec": {
   "display_name": "Python 3",
   "language": "python",
   "name": "python3"
  },
  "language_info": {
   "codemirror_mode": {
    "name": "ipython",
    "version": 3
   },
   "file_extension": ".py",
   "mimetype": "text/x-python",
   "name": "python",
   "nbconvert_exporter": "python",
   "pygments_lexer": "ipython3",
   "version": "3.6.3"
  }
 },
 "nbformat": 4,
 "nbformat_minor": 2
}
