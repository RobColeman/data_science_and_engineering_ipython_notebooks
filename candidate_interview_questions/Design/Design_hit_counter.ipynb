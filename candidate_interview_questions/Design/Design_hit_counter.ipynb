{
 "cells": [
  {
   "cell_type": "markdown",
   "metadata": {},
   "source": [
    "# Design a hit-counter"
   ]
  },
  {
   "cell_type": "markdown",
   "metadata": {},
   "source": [
    "# Solution\n",
    "\n"
   ]
  },
  {
   "cell_type": "markdown",
   "metadata": {
    "collapsed": true
   },
   "source": [
    "## Simple - single machine\n",
    "\n",
    "The simplest pass at the solution is to store user_ids and timestamps in a database.  When coutner metrics are needed, you just ingest the table, do some filtering and get your result.\n",
    "\n",
    "This becomes insufficent at scale because the read is O(N) where N is the visits to the page.\n",
    "\n",
    "## optimize\n",
    "\n",
    "If we stick with a single machine solution, we can add some tables to our DB for common metrics like visitors in the past minute, hour, day, week and so on.  This adds some needed work to maintain the integrity of the time-windows.  We need processes to clean visitors outside the time-windows of interest.  We can increase our efficiency by creating a running process that keeps the visitors in each time-window as a stack or linked-list, with some usefull summerizatrions like length, a hashmap for visitor and counts to get unique visitor counts.  \n",
    "\n",
    "This could also run into scale problems, especially if we keep track of user_ids to get unique visitor counts.  We can help this by freezing the summerizations after the minute window has elapsed, and drop the hashmaps of user_ids.  This will allow us to have minute-by-minute summeries that we can then store in a DB.  \n",
    "\n",
    "We can adapt this method to desired time-windows as needed.\n",
    "\n",
    "To continue to scale this method horizontally, we can create identical, independant replicas of these processes, and as we freeze and store our time-windoes, join the lists to get out unique visitor counts before we freeze and store them.\n"
   ]
  }
 ],
 "metadata": {
  "kernelspec": {
   "display_name": "Python [default]",
   "language": "python",
   "name": "python3"
  },
  "language_info": {
   "codemirror_mode": {
    "name": "ipython",
    "version": 3
   },
   "file_extension": ".py",
   "mimetype": "text/x-python",
   "name": "python",
   "nbconvert_exporter": "python",
   "pygments_lexer": "ipython3",
   "version": "3.5.2"
  }
 },
 "nbformat": 4,
 "nbformat_minor": 1
}
