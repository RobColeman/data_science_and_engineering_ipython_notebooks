{
 "cells": [
  {
   "cell_type": "markdown",
   "metadata": {},
   "source": [
    "# Which freinds are online"
   ]
  },
  {
   "cell_type": "markdown",
   "metadata": {},
   "source": [
    "An important question here is if friendship is strictly reciprical, or if we really mean a \"follower\" type repltionship.  In most cases we're integrating this into a messanger app, so friendship will be reciprical."
   ]
  },
  {
   "cell_type": "markdown",
   "metadata": {},
   "source": [
    "## Reciprical case\n",
    "\n",
    "In both cases, the events that changes a users status is login and logoff.  For the reciprical case, when a user logs on, the process requires, at login, a lookup of that users friends, and a push to the live friends list status of other logged in users.\n",
    "\n",
    "The data-model looks like\n",
    "\n",
    "(user_id, friend_id_1, friend_id_2, ...)\n",
    "\n",
    "Within the UX, we'll have a list of online_freinds\n",
    "\n",
    "[friend_id_1, friend_id_3, ... ]\n",
    "\n",
    "We'll also need a hashtable of users online\n",
    "\n",
    "[user_id_1, user_id_5, ...]\n",
    "\n",
    "For user X, for friend 1 through friend n, in their friends list, we send a message to all the user ids in their friends list.  If that friend is online, we update that freinds list, and send a return message to the user that just logged in, to populate their list of online_friends.  For the messages to friends that are not online, the messages would hit the online_user hashtable and return a negative response and die out.\n",
    "\n",
    "At logoff, the process is similar.  The logging off online_friends list is fanned out into a batch of messages, and routed to those users online online_friends lists to update them.\n",
    "\n",
    "The central hashtable of online users may not strictly be necessary if we have a routing system that simply passes messages to the web-server handling that users session.  Each web-server would have their own online users hashtable/map.  The same process of routing the \"im online now\" or \"i've logged off\" message would occur, either processing or dropping the message if the user isn't registered online for the web-server that would be handeling them."
   ]
  },
  {
   "cell_type": "markdown",
   "metadata": {
    "collapsed": true
   },
   "source": [
    "## Non-reciprical case\n",
    "\n",
    "The non-reciprical case requires a store of each user followers, which could potentially be big.  The process is roughly the same, but initial population of the logging on user's online_friends list would require a seperate request, gathering all the people they follow, finding the web-server that would be handeling them if they were online, and checking their status in that web-servers online_users hashmap."
   ]
  },
  {
   "cell_type": "code",
   "execution_count": null,
   "metadata": {
    "collapsed": true
   },
   "outputs": [],
   "source": []
  }
 ],
 "metadata": {
  "kernelspec": {
   "display_name": "Python [default]",
   "language": "python",
   "name": "python3"
  },
  "language_info": {
   "codemirror_mode": {
    "name": "ipython",
    "version": 3
   },
   "file_extension": ".py",
   "mimetype": "text/x-python",
   "name": "python",
   "nbconvert_exporter": "python",
   "pygments_lexer": "ipython3",
   "version": "3.5.2"
  }
 },
 "nbformat": 4,
 "nbformat_minor": 1
}
