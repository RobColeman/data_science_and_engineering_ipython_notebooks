{
 "cells": [
  {
   "cell_type": "markdown",
   "metadata": {},
   "source": [
    "# Sum of Sub-Matrix\n",
    "\n",
    "Suppose you have a matrix of numbers. How can you easily  compute the sum of any rectangle (i.e. a range [row_start, row_end, col_start, col_end]) of those numbers?"
   ]
  },
  {
   "cell_type": "markdown",
   "metadata": {},
   "source": [
    "## Soluition\n",
    "\n",
    "The solution involves pre-computing a sum matrix (sum_mat), for every index i, j in the matrix (mat) of size nXm, the sum of the rectangle mat[i][j] to mat[n-][m-1].  We can do this in one pass by starting at the bottom right of the matrix, and walking backwards along the word and upwards along the columns until we get to index mat[0][0], which is the sum of the entire matrix.\n",
    "\n",
    "Once we have this, we can look up these sums in constant time.\n",
    "\n",
    "To look up the sum of a sub-matrix we do rectangle math, i.e. the get the sum of sub-matrix mat[i][j] to mat[k][l] we take:\n",
    "\n",
    "sum_mat[i][j] - sum_mat[k+1][j] - sum_mat[k][j+1] + sum_mat[k+1][j+1]"
   ]
  },
  {
   "cell_type": "code",
   "execution_count": null,
   "metadata": {
    "collapsed": true
   },
   "outputs": [],
   "source": [
    "## todo"
   ]
  }
 ],
 "metadata": {
  "kernelspec": {
   "display_name": "Python [default]",
   "language": "python",
   "name": "python3"
  },
  "language_info": {
   "codemirror_mode": {
    "name": "ipython",
    "version": 3
   },
   "file_extension": ".py",
   "mimetype": "text/x-python",
   "name": "python",
   "nbconvert_exporter": "python",
   "pygments_lexer": "ipython3",
   "version": "3.6.1"
  }
 },
 "nbformat": 4,
 "nbformat_minor": 2
}
