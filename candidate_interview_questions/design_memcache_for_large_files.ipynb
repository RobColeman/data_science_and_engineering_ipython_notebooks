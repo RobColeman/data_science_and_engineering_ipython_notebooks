{
 "cells": [
  {
   "cell_type": "markdown",
   "metadata": {},
   "source": [
    "# Memcache for large files\n",
    "\n",
    "Design a cache for large objects (> 1MB) on top of memcache.\n",
    "\n",
    "You have access to the following memcache methods:\n",
    "    \n",
    "    memcache.get(key)\n",
    "    memcache.set(key, value)\n",
    "    "
   ]
  },
  {
   "cell_type": "markdown",
   "metadata": {},
   "source": [
    "The interface for the BigCache should be similarly simple from the users perspective.  We should have the basic get and get and set operations, and additionally a delete operation:\n",
    "\n",
    "    BigCache.get(key)\n",
    "    BigCache.set(key, value)\n",
    "    BigCache.delete(key)\n",
    "\n",
    "Underneath, we should partition our memcache into blocks of the maximum allowed size, 1MB, emumerate them, then regulate access with a set.  So, if we have a memcache of 1GB, we have 1000 available blocks, from 0 to 999.  \n",
    "\n",
    "We'll need to mainain an arrays of available blocks, and a map from key to used blocks associated with that key.\n",
    "\n",
    "So, as a class it might look like this:"
   ]
  },
  {
   "cell_type": "code",
   "execution_count": null,
   "metadata": {
    "collapsed": true
   },
   "outputs": [],
   "source": [
    "class obj:\n",
    "    \n",
    "    def __init__(self, value, size):\n",
    "        self.value = value\n",
    "        self.size = size # in MB\n",
    "\n",
    "\n",
    "\n",
    "class memcache:\n",
    "    \n",
    "    def __init__(self, size):\n",
    "        self.size = size # in MB\n",
    "        self.cache = {}\n",
    "    \n",
    "    def get(self, key):\n",
    "        return self.cache[key]\n",
    "    \n",
    "    def set(self, key, value):\n",
    "        self.cache[key] = value\n",
    "\n",
    "\n",
    "class BigCache:\n",
    "    \n",
    "    def __init__(self, mem):\n",
    "        blocks = mem.size\n",
    "        self.avaiable_blocks = list(range(0, blocks))\n",
    "        self.mem = mem\n",
    "        self.cache = {} # map from the object key, to the block inices\n",
    "    \n",
    "    def get(self, key):\n",
    "        if key in self.cache:\n",
    "            partitions = [self.mem.get(idx) for idx in self.cache[key]]\n",
    "            return _reconstruct_object(partitions)\n",
    "        else:\n",
    "            raise Exception('Key not found')\n",
    "        \n",
    "        \n",
    "    \n",
    "    def set(self, key, value):\n",
    "        if len(self.avaiable_blocks) >= _get_necessary_blocks(value):\n",
    "            self.cache[key] = []\n",
    "            partitioned = _partition(value)\n",
    "            for i in partitioned:\n",
    "                idx = self.avaiable_blocks.pop()\n",
    "                self.cache[key].append(idx)\n",
    "                self.mem[idx] = i\n",
    "        else:\n",
    "            raise Exception('cache is full')\n",
    "        \n",
    "    \n",
    "    def delete(self, key):\n",
    "        for idx in self.cache[key]:\n",
    "            # set blocks associated with this key to available\n",
    "            # we might want to explicitly remove them, but our memcache api doesn't allow this\n",
    "            self.avaiable_blocks.append(idx)\n",
    "    \n",
    "    def _get_necessary_blocks(self,value):\n",
    "        blocks = value.size//1\n",
    "        if (value.size % 1) > 0:\n",
    "            blocks += 1\n",
    "        return blocks\n",
    "    \n",
    "    def _partition(self, value):\n",
    "        remainder = value.size % 1\n",
    "        return [obj(value.value,1) for i in range(value.size//1)] + [(obj(v,remainder))]\n",
    "    \n",
    "    def _reconstruct_object(self, partitions):\n",
    "        size = len(partitions) + partitions[-1].size\n",
    "        return obj(partitions[0].value, size)\n"
   ]
  }
 ],
 "metadata": {
  "kernelspec": {
   "display_name": "Python [default]",
   "language": "python",
   "name": "python3"
  },
  "language_info": {
   "codemirror_mode": {
    "name": "ipython",
    "version": 3
   },
   "file_extension": ".py",
   "mimetype": "text/x-python",
   "name": "python",
   "nbconvert_exporter": "python",
   "pygments_lexer": "ipython3",
   "version": "3.5.2"
  }
 },
 "nbformat": 4,
 "nbformat_minor": 1
}
