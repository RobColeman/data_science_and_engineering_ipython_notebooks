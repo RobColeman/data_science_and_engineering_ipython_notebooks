{
 "cells": [
  {
   "cell_type": "markdown",
   "metadata": {},
   "source": [
    "# letter combination of phone number\n",
    "Given a digit string, return all possible letter combinations that the number could represent.\n",
    "\n",
    "A mapping of digit to letters (just like on the telephone buttons) is given below.\n",
    "\n",
    "<img src=\"Letter_combination_of_phone_number.png\">\n",
    "\n",
    "treat the 1 as an underscore, zero can be mapped to a space, and if the unput contains * or # you can return anempty lists since they're not valid inputs."
   ]
  },
  {
   "cell_type": "markdown",
   "metadata": {},
   "source": [
    "## Solution\n",
    "\n",
    "We can pre-create a map from numbers to letter list.  We then have to sip together all the letters from each number.\n",
    "\n",
    "\n"
   ]
  },
  {
   "cell_type": "code",
   "execution_count": 24,
   "metadata": {
    "collapsed": false
   },
   "outputs": [],
   "source": [
    "def letterCombinations(digits):\n",
    "    \"\"\"\n",
    "    :type digits: str\n",
    "    :rtype: List[str]\n",
    "    \"\"\"\n",
    "    num_to_letters = {\n",
    "        '1' : ['_'],\n",
    "        '2' : ['a','b','c'],\n",
    "        '3' : ['d','e','f'],\n",
    "        '4' : ['g', 'h', 'i'],\n",
    "        '5' : ['j','k','l'],\n",
    "        '6' : ['m','n','o'],\n",
    "        '7' : ['p','q','r','s'],\n",
    "        '8' : ['t','u','v'],\n",
    "        '9' : ['w','x','y','z'],\n",
    "        '0' : [' ']\n",
    "    }\n",
    "    for n in digits:\n",
    "        if not n in num_to_letters:\n",
    "            return []\n",
    "    letter_lists = [num_to_letters[n] for n in digits]\n",
    "    output = []\n",
    "\n",
    "    def dfs(letter_list_rem, curr_str):\n",
    "        nonlocal output\n",
    "        if len(letter_list_rem) == 0:\n",
    "            output.append(curr_str)\n",
    "        else:\n",
    "            head, tail = letter_list_rem[0], letter_list_rem[1:]\n",
    "            for c in head:\n",
    "                dfs(tail, curr_str + c)\n",
    "        return None\n",
    "    \n",
    "    if digits == '':\n",
    "        return []\n",
    "    \n",
    "    dfs(letter_lists, '')\n",
    "    return output"
   ]
  },
  {
   "cell_type": "code",
   "execution_count": 25,
   "metadata": {
    "collapsed": false
   },
   "outputs": [
    {
     "name": "stdout",
     "output_type": "stream",
     "text": [
      "['ad', 'ae', 'af', 'bd', 'be', 'bf', 'cd', 'ce', 'cf']\n",
      "['ad', 'ae', 'af', 'bd', 'be', 'bf', 'cd', 'ce', 'cf']\n"
     ]
    }
   ],
   "source": [
    "print([\"ad\", \"ae\", \"af\", \"bd\", \"be\", \"bf\", \"cd\", \"ce\", \"cf\"])\n",
    "print(letterCombinations('23'))"
   ]
  },
  {
   "cell_type": "code",
   "execution_count": null,
   "metadata": {
    "collapsed": true
   },
   "outputs": [],
   "source": []
  }
 ],
 "metadata": {
  "anaconda-cloud": {},
  "kernelspec": {
   "display_name": "Python [default]",
   "language": "python",
   "name": "python3"
  },
  "language_info": {
   "codemirror_mode": {
    "name": "ipython",
    "version": 3
   },
   "file_extension": ".py",
   "mimetype": "text/x-python",
   "name": "python",
   "nbconvert_exporter": "python",
   "pygments_lexer": "ipython3",
   "version": "3.5.2"
  }
 },
 "nbformat": 4,
 "nbformat_minor": 1
}
