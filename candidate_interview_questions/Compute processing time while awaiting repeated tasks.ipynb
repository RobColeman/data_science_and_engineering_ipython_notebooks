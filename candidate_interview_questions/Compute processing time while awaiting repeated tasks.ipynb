{
 "cells": [
  {
   "cell_type": "markdown",
   "metadata": {},
   "source": [
    "# Compute processing time while awaiting repeated tasks\n",
    "\n",
    "Given a list of tasks to run, [A,B,C,D,A,F,C] where each task takes 1 unit, except there a wait-time (k) to run a repeated task, if k = 3 [A,B,C,wait1 A, wait2 C, wait3 C], return the run time of the list of tasks.\n",
    "\n",
    "\n",
    "Solution:\n",
    "\n",
    "Use an auxilliary hashmap, 'task -> last time completed', {taskId : last time completed }, and a total time spent.  Walk through the list, check if the task is in the map.  If so, check if the (current time - last time < k).  If so, jump forward in time to (last time + k).  Incriment the timer by one for each iteration, and put (taskId -> current time) into the map.\n",
    "\n",
    "This will take O(n) to run, since you walk through the map once. You'll need O(n) memory, because you need to use an auxilliary hashmap, which could have up to n unique tasks in it."
   ]
  },
  {
   "cell_type": "code",
   "execution_count": 2,
   "metadata": {},
   "outputs": [
    {
     "name": "stdout",
     "output_type": "stream",
     "text": [
      "4\n",
      "6\n",
      "16\n"
     ]
    }
   ],
   "source": [
    "def compute_processing_time(tasks, k):\n",
    "    if k == 0:\n",
    "        return len(tasks)\n",
    "    if len(tasks) == 1:\n",
    "        return 1\n",
    "    \n",
    "    time = 0\n",
    "    last_time = {}\n",
    "    \n",
    "    for task in tasks:\n",
    "        if task in last_time and (time - last_time[task] < k):\n",
    "            time = last_time[task] + k\n",
    "        time += 1\n",
    "        last_time[task] = time\n",
    "    \n",
    "    return time\n",
    "\n",
    "tasks1 = ['A','B','C','D'] # k = 3, 4\n",
    "tasks2 = ['A','B','A','C'] # k = 3, 6\n",
    "tasks3 = ['A','A','A','A'] # k = 4, 16\n",
    "\n",
    "print(compute_processing_time(tasks1, 3))\n",
    "print(compute_processing_time(tasks2, 3))\n",
    "print(compute_processing_time(tasks3, 4))"
   ]
  },
  {
   "cell_type": "code",
   "execution_count": null,
   "metadata": {
    "collapsed": true
   },
   "outputs": [],
   "source": []
  }
 ],
 "metadata": {
  "kernelspec": {
   "display_name": "Python [default]",
   "language": "python",
   "name": "python3"
  },
  "language_info": {
   "codemirror_mode": {
    "name": "ipython",
    "version": 3
   },
   "file_extension": ".py",
   "mimetype": "text/x-python",
   "name": "python",
   "nbconvert_exporter": "python",
   "pygments_lexer": "ipython3",
   "version": "3.6.1"
  }
 },
 "nbformat": 4,
 "nbformat_minor": 2
}
