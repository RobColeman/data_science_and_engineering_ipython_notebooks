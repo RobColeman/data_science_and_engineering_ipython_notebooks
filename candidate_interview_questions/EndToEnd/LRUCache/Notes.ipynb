{
 "cells": [
  {
   "cell_type": "markdown",
   "metadata": {},
   "source": [
    "## Notes"
   ]
  },
  {
   "cell_type": "markdown",
   "metadata": {},
   "source": [
    "Be sure to do the following:\n",
    "\n",
    "create requirements.txt with necessary libraries\n",
    "\n",
    "create core script logic:\n",
    "\n",
    "- __ini__\n",
    "- def main(args):\n",
    "- LRU class\n",
    "- download method\n",
    "- loop inside main\n",
    "- be sure to print results to stdout/stderr (i forget which)\n",
    "- "
   ]
  },
  {
   "cell_type": "markdown",
   "metadata": {},
   "source": [
    "LRU cache:\n",
    "linked-list + hashmap\n",
    "\n",
    "https://codereview.stackexchange.com/questions/135661/lru-cache-in-python\n",
    "    \n",
    "    \n",
    "built-in, don't use\n",
    "https://www.reddit.com/r/Python/comments/26pxwk/lru_cache_in_python/\n",
    "https://docs.python.org/3.4/library/functools.html#functools.lru_cache\n",
    "\n",
    "mutable mapping:\n",
    "\n",
    "https://www.programcreek.com/python/example/3372/collections.MutableMapping\n",
    "\n",
    "\n",
    "urllib:\n",
    "https://pythonprogramming.net/urllib-tutorial-python-3/\n",
    "\n",
    "\n",
    "get variable size in memory:\n",
    "https://stackoverflow.com/questions/14372006/variables-memory-size-in-python\n",
    "\n",
    "image library:\n",
    "https://stackoverflow.com/questions/3735553/how-do-i-read-an-image-file-using-python\n",
    "\n",
    "get image info"
   ]
  },
  {
   "cell_type": "code",
   "execution_count": 2,
   "metadata": {},
   "outputs": [
    {
     "ename": "FileNotFoundError",
     "evalue": "[Errno 2] No such file or directory: 'picture.jpg'",
     "output_type": "error",
     "traceback": [
      "\u001b[1;31m---------------------------------------------------------------------------\u001b[0m",
      "\u001b[1;31mFileNotFoundError\u001b[0m                         Traceback (most recent call last)",
      "\u001b[1;32m<ipython-input-2-e87aa23d74d1>\u001b[0m in \u001b[0;36m<module>\u001b[1;34m()\u001b[0m\n\u001b[0;32m      2\u001b[0m \u001b[1;33m\u001b[0m\u001b[0m\n\u001b[0;32m      3\u001b[0m \u001b[1;32mfrom\u001b[0m \u001b[0mPIL\u001b[0m \u001b[1;32mimport\u001b[0m \u001b[0mImage\u001b[0m\u001b[1;33m\u001b[0m\u001b[0m\n\u001b[1;32m----> 4\u001b[1;33m \u001b[0mjpgfile\u001b[0m \u001b[1;33m=\u001b[0m \u001b[0mImage\u001b[0m\u001b[1;33m.\u001b[0m\u001b[0mopen\u001b[0m\u001b[1;33m(\u001b[0m\u001b[1;34m\"picture.jpg\"\u001b[0m\u001b[1;33m)\u001b[0m\u001b[1;33m\u001b[0m\u001b[0m\n\u001b[0m",
      "\u001b[1;32mC:\\ProgramData\\Anaconda3\\lib\\site-packages\\PIL\\Image.py\u001b[0m in \u001b[0;36mopen\u001b[1;34m(fp, mode)\u001b[0m\n\u001b[0;32m   2528\u001b[0m \u001b[1;33m\u001b[0m\u001b[0m\n\u001b[0;32m   2529\u001b[0m     \u001b[1;32mif\u001b[0m \u001b[0mfilename\u001b[0m\u001b[1;33m:\u001b[0m\u001b[1;33m\u001b[0m\u001b[0m\n\u001b[1;32m-> 2530\u001b[1;33m         \u001b[0mfp\u001b[0m \u001b[1;33m=\u001b[0m \u001b[0mbuiltins\u001b[0m\u001b[1;33m.\u001b[0m\u001b[0mopen\u001b[0m\u001b[1;33m(\u001b[0m\u001b[0mfilename\u001b[0m\u001b[1;33m,\u001b[0m \u001b[1;34m\"rb\"\u001b[0m\u001b[1;33m)\u001b[0m\u001b[1;33m\u001b[0m\u001b[0m\n\u001b[0m\u001b[0;32m   2531\u001b[0m         \u001b[0mexclusive_fp\u001b[0m \u001b[1;33m=\u001b[0m \u001b[1;32mTrue\u001b[0m\u001b[1;33m\u001b[0m\u001b[0m\n\u001b[0;32m   2532\u001b[0m \u001b[1;33m\u001b[0m\u001b[0m\n",
      "\u001b[1;31mFileNotFoundError\u001b[0m: [Errno 2] No such file or directory: 'picture.jpg'"
     ]
    }
   ],
   "source": [
    "# get image info (size)\n",
    "\n",
    "from PIL import Image\n",
    "jpgfile = Image.open(\"picture.jpg\")"
   ]
  },
  {
   "cell_type": "code",
   "execution_count": 3,
   "metadata": {},
   "outputs": [
    {
     "ename": "SyntaxError",
     "evalue": "'return' outside function (<ipython-input-3-63d142ecc6ed>, line 6)",
     "output_type": "error",
     "traceback": [
      "\u001b[1;36m  File \u001b[1;32m\"<ipython-input-3-63d142ecc6ed>\"\u001b[1;36m, line \u001b[1;32m6\u001b[0m\n\u001b[1;33m    return s.read()\u001b[0m\n\u001b[1;37m    ^\u001b[0m\n\u001b[1;31mSyntaxError\u001b[0m\u001b[1;31m:\u001b[0m 'return' outside function\n"
     ]
    }
   ],
   "source": [
    "# URL download\n",
    "\n",
    "\n",
    "try:\n",
    "    with urllib.request.urlopen(resource) as s:\n",
    "        return s.read()\n",
    "except urllib.error.HTTPError:\n",
    "    return 'Not Found'\n",
    "\n"
   ]
  },
  {
   "cell_type": "code",
   "execution_count": null,
   "metadata": {},
   "outputs": [],
   "source": [
    "requirements.txt\n",
    "\n",
    "-------\n",
    "urllib\n",
    "PIL\n"
   ]
  }
 ],
 "metadata": {
  "kernelspec": {
   "display_name": "Python 3",
   "language": "python",
   "name": "python3"
  },
  "language_info": {
   "codemirror_mode": {
    "name": "ipython",
    "version": 3
   },
   "file_extension": ".py",
   "mimetype": "text/x-python",
   "name": "python",
   "nbconvert_exporter": "python",
   "pygments_lexer": "ipython3",
   "version": "3.6.3"
  }
 },
 "nbformat": 4,
 "nbformat_minor": 2
}
