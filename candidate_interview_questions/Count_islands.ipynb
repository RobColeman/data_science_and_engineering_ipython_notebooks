{
 "cells": [
  {
   "cell_type": "markdown",
   "metadata": {},
   "source": [
    "# Count islands\n",
    "\n",
    "Given a 2d grid map of '1's (land) and '0's (water), count the number of islands. An island is surrounded by water and is formed by connecting adjacent lands horizontally or vertically. You may assume all four edges of the grid are all surrounded by water.\n",
    "\n",
    "e.g.\n",
    "[[1,1,1,1,0],\n",
    "[1,1,0,1,0],\n",
    "[1,1,0,0,0],\n",
    "[0,0,0,0,0]]\n",
    "\n",
    "answer: 1\n",
    "\n",
    "[[1,1,0,0,0],\n",
    "[1,1,0,0,0],\n",
    "[0,0,1,0,0],\n",
    "[0,0,0,1,1]]\n",
    "\n",
    "answer: 3"
   ]
  },
  {
   "cell_type": "code",
   "execution_count": 1,
   "metadata": {
    "collapsed": true
   },
   "outputs": [],
   "source": [
    "## solution\n",
    "\n"
   ]
  },
  {
   "cell_type": "code",
   "execution_count": 45,
   "metadata": {
    "collapsed": false
   },
   "outputs": [],
   "source": [
    "def count_islands(grid):\n",
    "    h = len(grid)\n",
    "    w = len(grid[0])\n",
    "    \n",
    "    def sink(grid, i, j):\n",
    "        nonlocal w, h\n",
    "        grid[i][j] = 0 # set self to zero\n",
    "        # right\n",
    "        if j+1 < w and grid[i][j+1] == 1:\n",
    "            sink(grid, i, j+1)\n",
    "        # left\n",
    "        if j-1 > 0 and grid[i][j-1] == 1:\n",
    "            sink(grid, i, j-1)\n",
    "        # down\n",
    "        if i+1 < h and grid[i+1][j] == 1:\n",
    "            sink(grid, i+1, j)\n",
    "        # up\n",
    "        if i-1 > 0 and grid[i-1][j] == 1:\n",
    "            sink(grid, i-1, j)\n",
    "    \n",
    "    count = 0\n",
    "    for i in range(h):\n",
    "        for j in range(w):\n",
    "            if grid[i][j] == 1:\n",
    "                sink(grid, i, j)\n",
    "                count += 1\n",
    "                \n",
    "    return count"
   ]
  },
  {
   "cell_type": "code",
   "execution_count": 46,
   "metadata": {
    "collapsed": false
   },
   "outputs": [
    {
     "name": "stdout",
     "output_type": "stream",
     "text": [
      "[1, 1, 1, 1, 0]\n",
      "[1, 1, 0, 1, 0]\n",
      "[1, 1, 0, 0, 0]\n",
      "[0, 0, 0, 0, 0]\n",
      "1\n",
      "[1, 1, 0, 0, 0]\n",
      "[1, 1, 0, 0, 0]\n",
      "[0, 0, 1, 0, 0]\n",
      "[0, 0, 0, 1, 1]\n",
      "3\n",
      "[1, 1, 0, 1, 1]\n",
      "[1, 1, 0, 0, 1]\n",
      "[0, 0, 1, 0, 0]\n",
      "[0, 0, 0, 1, 1]\n",
      "4\n",
      "[1, 1, 0, 1, 1]\n",
      "[1, 1, 0, 0, 1]\n",
      "[0, 0, 1, 0, 0]\n",
      "[1, 1, 0, 1, 1]\n",
      "5\n",
      "[1, 1, 0, 1, 1]\n",
      "[1, 1, 0, 0, 1]\n",
      "[0, 0, 1, 0, 1]\n",
      "[1, 1, 0, 1, 1]\n",
      "4\n",
      "[1, 1, 0, 1, 1]\n",
      "[1, 1, 0, 0, 1]\n",
      "[0, 0, 1, 0, 1]\n",
      "[1, 1, 1, 1, 1]\n",
      "3\n",
      "[1, 1, 0, 1, 1]\n",
      "[1, 1, 1, 0, 1]\n",
      "[0, 0, 1, 0, 1]\n",
      "[1, 1, 1, 1, 1]\n",
      "3\n"
     ]
    }
   ],
   "source": [
    "def print_grid(grid):\n",
    "    for row in grid:\n",
    "        print(row)\n",
    "\n",
    "grid =  [[1,1,1,1,0],\n",
    "         [1,1,0,1,0],\n",
    "         [1,1,0,0,0],\n",
    "         [0,0,0,0,0]]\n",
    "print_grid(grid)\n",
    "print(count_islands(grid))\n",
    "\n",
    "grid =  [[1,1,0,0,0],\n",
    "         [1,1,0,0,0],\n",
    "         [0,0,1,0,0],\n",
    "         [0,0,0,1,1]]\n",
    "print_grid(grid)\n",
    "print(count_islands(grid))\n",
    "\n",
    "grid =  [[1,1,0,1,1],\n",
    "         [1,1,0,0,1],\n",
    "         [0,0,1,0,0],\n",
    "         [0,0,0,1,1]]\n",
    "print_grid(grid)\n",
    "print(count_islands(grid))\n",
    "\n",
    "grid =  [[1,1,0,1,1],\n",
    "         [1,1,0,0,1],\n",
    "         [0,0,1,0,0],\n",
    "         [1,1,0,1,1]]\n",
    "print_grid(grid)\n",
    "print(count_islands(grid))\n",
    "\n",
    "grid =  [[1,1,0,1,1],\n",
    "         [1,1,0,0,1],\n",
    "         [0,0,1,0,1],\n",
    "         [1,1,0,1,1]]\n",
    "print_grid(grid)\n",
    "print(count_islands(grid))\n",
    "\n",
    "grid =  [[1,1,0,1,1],\n",
    "         [1,1,0,0,1],\n",
    "         [0,0,1,0,1],\n",
    "         [1,1,1,1,1]]\n",
    "print_grid(grid)\n",
    "print(count_islands(grid))\n",
    "\n",
    "grid =  [[1,1,0,1,1],\n",
    "         [1,1,1,0,1],\n",
    "         [0,0,1,0,1],\n",
    "         [1,1,1,1,1]]\n",
    "print_grid(grid)\n",
    "print(count_islands(grid))"
   ]
  },
  {
   "cell_type": "code",
   "execution_count": null,
   "metadata": {
    "collapsed": true
   },
   "outputs": [],
   "source": []
  }
 ],
 "metadata": {
  "kernelspec": {
   "display_name": "Python [default]",
   "language": "python",
   "name": "python3"
  },
  "language_info": {
   "codemirror_mode": {
    "name": "ipython",
    "version": 3
   },
   "file_extension": ".py",
   "mimetype": "text/x-python",
   "name": "python",
   "nbconvert_exporter": "python",
   "pygments_lexer": "ipython3",
   "version": "3.5.2"
  }
 },
 "nbformat": 4,
 "nbformat_minor": 1
}
