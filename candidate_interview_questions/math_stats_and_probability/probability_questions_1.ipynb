{
 "cells": [
  {
   "cell_type": "markdown",
   "metadata": {},
   "source": [
    "# A woman has two children;  One if female. What is the probability that the other is also female?\n",
    "\n",
    "## Note\n",
    "\n",
    "Probability of a child being male or female is equal.\n",
    "\n",
    "## Solution\n",
    "\n",
    "Consider the set of outcomes for two children {FF, FM, MF, MM}.  The conditional probability for the outcome being FF, given the conditional subset is {FF, FM, MF} is 1/3."
   ]
  },
  {
   "cell_type": "markdown",
   "metadata": {},
   "source": [
    "# P(A u B u C) = P(A n ~C) + P(C) + P(B n ~A n ~C)\n",
    "\n",
    "True or False?\n",
    "\n",
    "## Solution\n",
    "\n",
    "True, it's easier to see it's equivilance if we reorder \n",
    "\n",
    "P(C u A u B) = P(C) AND P(A n ~C) AND P(B n ~A n ~C)"
   ]
  },
  {
   "cell_type": "markdown",
   "metadata": {},
   "source": [
    "# A fair six-sided die is rolled twice. What is the probability of getting 2 on the first roll and not getting 4 on the second roll?\n",
    "\n",
    "## Solution\n",
    "\n",
    "The two rolls are independant\n",
    "\n",
    "P(R1 = 2) = 1/6\n",
    "P(R2 != 4) = 5/6\n",
    "\n",
    "1/6 * 5 / 6 = 5 / 36"
   ]
  },
  {
   "cell_type": "markdown",
   "metadata": {},
   "source": [
    "# Let A and B be events on the same sample space, with P (A) = 0.6 and P (B) = 0.7. Can these two events be disjoint?\n",
    "\n",
    "## Solution\n",
    "\n",
    "No\n",
    "\n",
    "P(omega) = 1.0\n",
    "\n",
    "P(A u B) <= 1.0\n",
    "\n",
    "P(A u B) = P(A) + P(B) - P(A n B)\n",
    "\n",
    "1.0 >=  P(A) + P(B) - P(A n B)\n",
    "\n",
    "1.0 >=  0.6 + 0.7 - P(A n B)\n",
    "\n",
    "0.3 >= P(A n B)\n",
    "\n",
    "So, they must intersect"
   ]
  },
  {
   "cell_type": "markdown",
   "metadata": {},
   "source": [
    "# Consider a tetrahedral die and roll it twice. What is the probability that the number on the first roll is strictly higher than the number on the second roll?\n",
    "\n",
    "\n",
    "## Solution\n",
    "\n",
    "There are 4x4 possible outcomes {{1,1}, {1,1}, {1,2}, {2,1}, ..., {4,4}} = 16\n",
    "\n",
    "Consider the outcomes for all possibel second rolls\n",
    "\n",
    "R2 = 1, R1 = {2,3,4}\n",
    "R2 = 2, R1 = {3,4}\n",
    "R2 = 3, R1 = {4}\n",
    "\n",
    "6 outcomes satisfy the condition, so 6/16 or\n",
    "\n",
    "3/8"
   ]
  },
  {
   "cell_type": "markdown",
   "metadata": {},
   "source": [
    "##  Which of the following events is most likely? Dice rolls\n",
    "\n",
    "A) At least one 6, when 6 dice are rolled\n",
    "\n",
    "B) At least 2 sixes when 12 dice are rolled\n",
    "\n",
    "C) At least 3 sixes when 18 dice are rolled\n",
    "\n",
    "D) All the above have same probability\n",
    "\n",
    "## Solution\n",
    "\n",
    "Binomial distribution\n",
    "\n",
    "A) 1 - (5/6)^6, or 1 - binomail distribution(p = 1/6, n = 6, k = 0)\n",
    "\n",
    "B) 1 - SUM from 0 to 1 of bino(12,k)(1/6)^k(5/6)12-k"
   ]
  },
  {
   "cell_type": "markdown",
   "metadata": {},
   "source": [
    "## Suppose you were interviewed for a technical role. 50% of the people who sat for the first interview received the call for second interview. 95% of the people who got a call for second interview felt good about their first interview. 75% of people who did not receive a second call, also felt good about their first interview. If you felt good after your first interview, what is the probability that you will receive a second interview call?\n",
    "\n",
    "## Solution\n",
    "\n",
    "- Percent that felt good and got second round = 0.50 * 0.95 = 0.475\n",
    "- Percent that felt good and did not get second round = 0.50 * 0.75 = 0.375\n",
    "\n",
    "\n",
    "P(second call | felt good) = 0.475 / (0.475 + 0.375) = 0.5588 ~ 0.56"
   ]
  },
  {
   "cell_type": "markdown",
   "metadata": {},
   "source": [
    "# A coin of diameter 1-inches is thrown on a table covered with a grid of lines each two inches apart. What is the probability that the coin lands inside a square without touching any of the lines of the grid? You can assume that the person throwing has no skill in throwing the coin and is throwing it randomly. \n",
    "\n",
    "You can assume that the person throwing has no skill in throwing the coin and is throwing it randomly.\n",
    "\n",
    "## Solution\n",
    "\n",
    "Every square is 2x2 = 4sq.  There is a 1sq inch region within the squares where the center of the coin can be and the coin will not touch the edges (1/2 inch boarder around this region because diam * 1/2 = 1/2).  So, the acceptable area is 1 sq inch in a region of 4 sq inches.\n",
    "\n",
    "Prob = 1/4\n",
    "\n"
   ]
  },
  {
   "cell_type": "markdown",
   "metadata": {},
   "source": [
    "# In a class of 30 students, approximately what is the probability that two of the students have their birthday on the same day (defined by same day and month) (assuming it’s not a leap year)?\n",
    "\n",
    "\n",
    "## Solution\n",
    "\n",
    "The number of pairs of students are 30 * (30-1) / 2 = 435  (devided by 2 for unique, symetric pairs).\n",
    "\n",
    "In a pair, given one birthday, there is a 364/365 change that the other in the pair will have a different birthday.\n",
    "\n",
    "Since there are 435 independant pairs, the prob that no pair shares a birthday is, (364/365)^435.\n",
    "\n",
    "The probability that at least one pair shares a birthday is the compliment that no pair shares a birthday.  Or\n",
    "\n",
    "1 - (364/365)^435\n"
   ]
  },
  {
   "cell_type": "markdown",
   "metadata": {
    "collapsed": true
   },
   "source": [
    "# Rocket Experiment - Return on Investment Distribution\n",
    "\n",
    "## Problem\n",
    "\n",
    "Rockets are launched until the first successful launching \n",
    "has taken place.if this does not occur within 5 attempts,the \n",
    "experiment is halted and the equipment inspected.suppose that \n",
    "there is a constant probability of 0.8 of having a successful \n",
    "launching and that successive attempts are independent.Assume \n",
    "that the cost of the first launching is K dollars while subsequent \n",
    "launching cost K/3 dollars.whenever a successful launching take place,a certain amount of information \n",
    "is obtained which may be expressed as financial gain of,say 'C' dollars.if 'T' is the net cost of this \n",
    "experiment,find the probability distribution of T?\n",
    "\n",
    "\n",
    "## Solution\n",
    "\n",
    "The underlaying launches are bernoulli trials, and the number of trials until the first success is a Geometric distribution (discrete analogue of exponential distribution).\n",
    "\n",
    "\n",
    "With probability of success at trial k being,  P(x = k) = (1-p)^(k-1) * p, for k-1 failures, followed by a success.\n",
    "\n",
    "The monitary outcome T, is the cost/income at each number of number of tials (1 to 5).\n",
    "\n",
    "So, at 1 T = C - K, at 2, T = C - 4/3 * k, at 3, T = C - 5/3 * K, and so on to 5.\n",
    "\n",
    "The resulting distribution will be a backwards geometric distribution, with 6 outcomes, in (T, prob) pairs below\n",
    "\n",
    "(- 7/3 * K, 00032), (C - 7/3 * K, 0.00128), (C - 2 * K, 0.0064), (C - 5/3 * K, 0.032), (C - 4/3 * K, 0.16), (C - k, 0.8)"
   ]
  },
  {
   "cell_type": "code",
   "execution_count": null,
   "metadata": {
    "collapsed": true
   },
   "outputs": [],
   "source": []
  }
 ],
 "metadata": {
  "kernelspec": {
   "display_name": "Python 3",
   "language": "python",
   "name": "python3"
  },
  "language_info": {
   "codemirror_mode": {
    "name": "ipython",
    "version": 3
   },
   "file_extension": ".py",
   "mimetype": "text/x-python",
   "name": "python",
   "nbconvert_exporter": "python",
   "pygments_lexer": "ipython3",
   "version": "3.6.3"
  }
 },
 "nbformat": 4,
 "nbformat_minor": 2
}
