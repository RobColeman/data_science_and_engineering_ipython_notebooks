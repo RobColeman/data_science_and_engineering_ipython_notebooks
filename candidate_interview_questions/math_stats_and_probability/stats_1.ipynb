{
 "cells": [
  {
   "cell_type": "markdown",
   "metadata": {},
   "source": [
    "# Hypothesis testing with Coin flips (is coin biases)\n",
    "\n",
    "Given a coin is flipped 10 times, and lands heads 8 times, describe a test to determine if the coin is fair or not.\n",
    "\n",
    "\n",
    "## Solution\n",
    "\n",
    "A p-value is the probability, under the null-hypothesis, of seeing a result as extreme or more extreme than the one seen.  \n",
    "In our case, hte # of heads in coin flips is binomial, with the null-hypothesis of a fair-coin stating P(heads) = 0.5.\n",
    "\n",
    "A one-sided test would state that the p-value is = \n",
    "\n",
    "P-value = bino(10,8)*0.5^8*0.5^2 + bino(10,9)*0.5^9*0.5^1 + bino(10,10)*0.5^10\n",
    "\n",
    "P-value = bino(10,8)*0.5^10 + bino(10,9)*0.5^10 + bino(10,10)*0.5^10\n",
    "\n",
    "P-value = 45.0 * 0.0009765625 + 10.0 * 0.0009765625 + 1.0 * 0.0009765625\n",
    "\n",
    "P-value = 0.0439453125 + 0.009765625 + 0.0009765625\n",
    "\n",
    "P-Value = 0.0546875\n",
    "\n",
    "The heuristic, magic number for rejecting null-hypothesis is P-value < 0.05.  We didn't cross that threshold, but it's close.\n",
    "\n",
    "We would claim that no, we can't say with high confidence that this coin is biased, but it's suspect."
   ]
  },
  {
   "cell_type": "code",
   "execution_count": null,
   "metadata": {
    "collapsed": true
   },
   "outputs": [],
   "source": []
  }
 ],
 "metadata": {
  "kernelspec": {
   "display_name": "Python 3",
   "language": "python",
   "name": "python3"
  },
  "language_info": {
   "codemirror_mode": {
    "name": "ipython",
    "version": 3
   },
   "file_extension": ".py",
   "mimetype": "text/x-python",
   "name": "python",
   "nbconvert_exporter": "python",
   "pygments_lexer": "ipython3",
   "version": "3.6.2"
  }
 },
 "nbformat": 4,
 "nbformat_minor": 2
}
