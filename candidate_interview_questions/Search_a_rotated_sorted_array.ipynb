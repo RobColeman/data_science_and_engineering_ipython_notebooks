{
 "cells": [
  {
   "cell_type": "markdown",
   "metadata": {},
   "source": [
    "# Search a rotated, sorted array\n",
    "\n",
    "An array is rotated if some elements from the front are moved to the end, maintaining their order.  Given an array that was sorted in ascending order, with some rotation, perform a search for an item.  Assume there are no duplicates."
   ]
  },
  {
   "cell_type": "code",
   "execution_count": 5,
   "metadata": {
    "collapsed": false
   },
   "outputs": [
    {
     "name": "stdout",
     "output_type": "stream",
     "text": [
      "[5, 6, 7, 8, 9, 10, 11, 12, 13, 14, 15, 16, 17, 18, 19, 0, 1, 2, 3, 4]\n",
      "14\n",
      "16\n",
      "None\n"
     ]
    }
   ],
   "source": [
    "def search_in_rotation(arr, lP, rP, item):\n",
    "    if lP > rP:\n",
    "        return None\n",
    "    elif item == arr[lP]:\n",
    "        return lP\n",
    "    elif item == arr[rP]:\n",
    "        return rP\n",
    "    \n",
    "    mP = lP + ((rP - lP) // 2)\n",
    "    if arr[mP] == item:\n",
    "        return mP\n",
    "    \n",
    "    if arr[lP] < arr[mP]:\n",
    "        # rotation in second half\n",
    "        if item > arr[lP] and item < arr[mP]:\n",
    "            # if item in first, strictly increasing, half, search left\n",
    "            return search_in_rotation(arr, lP+1, mP-1, item)\n",
    "        else:\n",
    "            # item in second half, with rotation, search right\n",
    "            return search_in_rotation(arr, mP+1, rP-1, item)\n",
    "    else:\n",
    "        # rotation in first half\n",
    "        if item > arr[mP] and item < arr[rP]:\n",
    "            # item in second half, strictly increasing, half, search right\n",
    "            return search_in_rotation(arr, mP+1, rP-1, item)\n",
    "        else:\n",
    "            # item in first half, with rotation, search left\n",
    "            return search_in_rotation(arr, lP+1, mP-1, item)\n",
    "\n",
    "def binary_search_rotated_array(array, item):\n",
    "    l = len(array)\n",
    "    if l == 0:\n",
    "        return None\n",
    "    elif l == 1 and array[0] == item:\n",
    "        return 0\n",
    "    \n",
    "    return search_in_rotation(array, 0, len(array)-1, item)\n",
    "        \n",
    "    \n",
    "a = list(range(20))\n",
    "a = a[5:] + a[:5]\n",
    "print(a)\n",
    "print(binary_search_rotated_array(a, 19))\n",
    "print(binary_search_rotated_array(a, 1))\n",
    "print(binary_search_rotated_array(a, 21))"
   ]
  },
  {
   "cell_type": "code",
   "execution_count": null,
   "metadata": {
    "collapsed": true
   },
   "outputs": [],
   "source": []
  }
 ],
 "metadata": {
  "kernelspec": {
   "display_name": "Python [default]",
   "language": "python",
   "name": "python3"
  },
  "language_info": {
   "codemirror_mode": {
    "name": "ipython",
    "version": 3
   },
   "file_extension": ".py",
   "mimetype": "text/x-python",
   "name": "python",
   "nbconvert_exporter": "python",
   "pygments_lexer": "ipython3",
   "version": "3.5.2"
  }
 },
 "nbformat": 4,
 "nbformat_minor": 2
}
