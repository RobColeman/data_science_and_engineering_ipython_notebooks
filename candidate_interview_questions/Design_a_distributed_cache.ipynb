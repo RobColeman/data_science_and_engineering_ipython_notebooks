{
 "cells": [
  {
   "cell_type": "markdown",
   "metadata": {},
   "source": [
    "# Design a distributed cache system\n",
    "\n",
    "e.g. memcache, redis\n"
   ]
  },
  {
   "cell_type": "markdown",
   "metadata": {},
   "source": [
    "The distributed nature of the cache implicates two design architectures, a master-slave archetecture or a ring, masterless, archetecture.\n",
    "\n",
    "Both of these methods allow for horizontal scaling, as the storage devices are independant, identical and pluggable.\n",
    "\n",
    "The master-slave archetecture includes a master node which can be as simple as a slave-register and a load-balancer/router.  Incomming requests hit the master and are routed to the correct storage unit, and as storage units are added and replaced the register needs to be updated.  A master creates a single point of failure.  We can mitigate the chance of complete failure with something like zookeeper, where we have several master nodes, a primary and several secondary masters, which are kept up to date with the master, and upon a master failure, we promote one of the secondary masters to primary.\n",
    "\n",
    "A ring based storage system does not contain a master node, but instead, each storage node is identical and the system communicates with neighbor to neighbor chatter.  This adds considerable overhead to the storage nodes.  The system needs to contantly be chattering to  keep track of the distributed hash-map and adding new nodes requires re-distribution of the hashmap and data.  Requests can be handled by any node, and needs to be passed around the ring until a node with a replica of the correct data is found.  In general, this will have reduced performance of reads compared to the master-slave model."
   ]
  },
  {
   "cell_type": "code",
   "execution_count": null,
   "metadata": {
    "collapsed": true
   },
   "outputs": [],
   "source": []
  }
 ],
 "metadata": {
  "kernelspec": {
   "display_name": "Python [default]",
   "language": "python",
   "name": "python3"
  },
  "language_info": {
   "codemirror_mode": {
    "name": "ipython",
    "version": 3
   },
   "file_extension": ".py",
   "mimetype": "text/x-python",
   "name": "python",
   "nbconvert_exporter": "python",
   "pygments_lexer": "ipython3",
   "version": "3.5.2"
  }
 },
 "nbformat": 4,
 "nbformat_minor": 1
}
