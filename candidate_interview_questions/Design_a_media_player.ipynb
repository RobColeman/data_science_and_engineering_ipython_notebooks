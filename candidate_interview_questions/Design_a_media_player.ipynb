{
 "cells": [
  {
   "cell_type": "markdown",
   "metadata": {},
   "source": [
    "# Design a media player, to which songs can be added, and can play the songs in random order, without repeats\n",
    "\n",
    "Solution:\n",
    "\n",
    "We can store the songs in a sequential directory structure, with indices from 0 to n-1. Adding songs requires only appending to sequential directory.  We can play randomly by keeping an array of indices from 0 to n-1 and selecting randomly.  After the first song, we can ensure no repeats by swapping the current item with the item at the end of the index array, and subsiquently sampling from 0 to n-2."
   ]
  },
  {
   "cell_type": "code",
   "execution_count": 1,
   "metadata": {
    "collapsed": true
   },
   "outputs": [],
   "source": [
    "from random import randint\n",
    "\n",
    "class MediaPlayer:\n",
    "    \n",
    "    def __init__(self, songs):\n",
    "        self.songs = songs\n",
    "        self.n = len(songs)\n",
    "        self.indices = list(range(n))\n",
    "    \n",
    "    def add_song(self, song):\n",
    "        self.songs.append(song)\n",
    "        self.n += 1\n",
    "        self.indices.append(self.n)\n",
    "        if n > 1:\n",
    "            # put newest at second to last to maintain current at index -1\n",
    "            self.indices[-2], self.indices[-1] = self.indices[-1], self.indices[-2]\n",
    "    \n",
    "    def get_song(self, idx):\n",
    "        # read the song from directory and return it\n",
    "        return self.song[idx]\n",
    "    \n",
    "    def play(self, song):\n",
    "        # play the song\n",
    "        print(\"playing song\")\n",
    "    \n",
    "    def start(self):\n",
    "        idx = randint(0,n)\n",
    "        # put current songs idx at the end\n",
    "        self.indices[idx], self.indices[-1] = self.indices[-1], self.indices[idx]\n",
    "        return idx\n",
    "    \n",
    "    def next(self):\n",
    "        idx = randint(0, n-1)\n",
    "        self.indices[idx], self.indices[-1] = self.indices[-1], self.indices[idx]\n",
    "        return idx"
   ]
  },
  {
   "cell_type": "code",
   "execution_count": null,
   "metadata": {
    "collapsed": true
   },
   "outputs": [],
   "source": []
  }
 ],
 "metadata": {
  "kernelspec": {
   "display_name": "Python [default]",
   "language": "python",
   "name": "python3"
  },
  "language_info": {
   "codemirror_mode": {
    "name": "ipython",
    "version": 3
   },
   "file_extension": ".py",
   "mimetype": "text/x-python",
   "name": "python",
   "nbconvert_exporter": "python",
   "pygments_lexer": "ipython3",
   "version": "3.6.1"
  }
 },
 "nbformat": 4,
 "nbformat_minor": 2
}
