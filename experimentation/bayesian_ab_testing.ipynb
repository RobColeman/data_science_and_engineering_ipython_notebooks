{
 "cells": [
  {
   "cell_type": "code",
   "execution_count": 62,
   "metadata": {
    "collapsed": false
   },
   "outputs": [],
   "source": [
    "%matplotlib inline\n",
    "#%load_ext autoreload\n",
    "#%autoreload 2\n",
    "%reload_ext autoreload\n",
    "import numpy as np\n",
    "import matplotlib.pyplot as plt\n",
    "import math, sys, os"
   ]
  },
  {
   "cell_type": "markdown",
   "metadata": {},
   "source": [
    "## Binary outcomes\n",
    "\n",
    "The Beta-Binomial model nicely models a series of success and failure trials.  The Binomial distribution represents the probability of X successes in a series of independent, success or failure trials.  The Binomial distribution has two parameters, n, the number of total trials, and p, the probabiliuty of success for any given trial.  A bayesian treatment of the Binomial requires that we specify a distribution for the parameter P.  The beta distribution is often used to model this parameter becaue it is a (conjucate prior)[https://en.wikipedia.org/wiki/Conjugate_prior] for the binomial success parameter.\n",
    "\n",
    "We specify a model like so:\n",
    "\n",
    "X ~ Bino(n, p), where p ~ Beta(a,b)\n",
    "\n",
    "Where the binomail formula for P(K = k | n, p) = n_choose_k(k,n) * p^k * (1-p)^(n-k)\n",
    "and the formula for the Beta distribution is P(X = x | a, b) = (x^(a-1) * (1-x) ^ (b-1)) / Beta(a,b),\n",
    "where Beta(a,b) is the beta function.\n",
    "\n",
    "The Bayesian update of the conjugate beta prior, given data, is specified like so:\n",
    "\n",
    "P(p = p | n, k, a, b) = Beta(a + k, b + n - k), where Beta is, this time, the Beta distribution.\n"
   ]
  },
  {
   "cell_type": "markdown",
   "metadata": {},
   "source": [
    "### Some methods"
   ]
  },
  {
   "cell_type": "code",
   "execution_count": 63,
   "metadata": {
    "collapsed": false
   },
   "outputs": [
    {
     "data": {
      "image/png": "[encoded data removed]",
      "text/plain": [
       "<matplotlib.figure.Figure at 0x109a42b90>"
      ]
     },
     "metadata": {},
     "output_type": "display_data"
    }
   ],
   "source": [
    "from scipy.stats import beta\n",
    "from scipy.stats import binom\n",
    "from scipy.stats import bernoulli\n",
    "import pandas as pd\n",
    "\n",
    "class BetaBinomial:\n",
    "    \n",
    "    def __init__(self, a, b):\n",
    "        self.n = 0\n",
    "        self.k = 0\n",
    "        self.a = a\n",
    "        self.b = b\n",
    "        self.beta = beta(a,b)\n",
    "    \n",
    "    def __update_beta(self):\n",
    "        self.beta = beta(self.a ,self.b)\n",
    "    \n",
    "    def update(self, k, n):\n",
    "        self.a += k\n",
    "        self.b += n - k\n",
    "        self.__update_beta()\n",
    "        self.n += n\n",
    "        self.k += k\n",
    "    \n",
    "    def show_posterior_pdf(self, points = 100):\n",
    "        \"\"\" pandas me for easy graphing \"\"\"\n",
    "        x = [x / float(points) for x in range(points)]\n",
    "        pdf = [self.beta.pdf(i) for i in x]\n",
    "        pdf = pd.Series(pdf, index=x)\n",
    "        pdf.plot()\n",
    "    \n",
    "\n",
    "BB = BetaBinomial(1,1) # flat, uninformative, prior\n",
    "BB.show_posterior_pdf()"
   ]
  },
  {
   "cell_type": "code",
   "execution_count": 64,
   "metadata": {
    "collapsed": false
   },
   "outputs": [
    {
     "data": {
      "image/png": "[encoded data removed]",
      "text/plain": [
       "<matplotlib.figure.Figure at 0x109a2ec10>"
      ]
     },
     "metadata": {},
     "output_type": "display_data"
    }
   ],
   "source": [
    "BB.update(20,25)\n",
    "BB.show_posterior_pdf()"
   ]
  },
  {
   "cell_type": "code",
   "execution_count": 65,
   "metadata": {
    "collapsed": false
   },
   "outputs": [
    {
     "data": {
      "image/png": "[encoded data removed]",
      "text/plain": [
       "<matplotlib.figure.Figure at 0x10998db10>"
      ]
     },
     "metadata": {},
     "output_type": "display_data"
    }
   ],
   "source": [
    "BB.update(10,25)\n",
    "BB.show_posterior_pdf()"
   ]
  },
  {
   "cell_type": "markdown",
   "metadata": {},
   "source": [
    "### Comparing two predictive models\n",
    "\n",
    "Now, say we have two trained, predictive models, a and b, and we wish to test the probability if B will beat A in the long run.  Using BetaBinomial model for the success parameters, as we did above, we can compute the probability of b's long term success, over a, like so:\n",
    "\n",
    "P(P_b > P_a) = Sum_0_to_S_b(  Beta(S_a + i, F_b + F_a) / ( (F_b + i) * Beta(1 + i, F_b) * Beta(S_a, F_a) ) ,\n",
    "\n",
    "where:\n",
    "    \n",
    "    S_a: 1 + number of successes for a, \n",
    "    S_b: 1 + the successes for b, \n",
    "    F_a: 1 + the failures for a, \n",
    "    F_b: 1 + the failures for b, and\n",
    "    Beta(a,b) is the beta function\n",
    "\n",
    "To avoid overflowing float precision, we can perform the products as sums and subtractions of the logs.\n",
    "\n",
    "f = LnBeta(S_a + i, F_b + F_a) - Ln(F_b + i) - LnBeta(1 + i, F_b) - LnBeta(S_a, F_a)\n",
    "\n",
    "A nice treatment of the derivation can be found [here](http://www.evanmiller.org/bayesian-ab-testing.html)."
   ]
  },
  {
   "cell_type": "code",
   "execution_count": 66,
   "metadata": {
    "collapsed": false
   },
   "outputs": [
    {
     "name": "stdout",
     "output_type": "stream",
     "text": [
      "0.00467157240238\n",
      "0.454545454545\n",
      "0.999205973314\n"
     ]
    }
   ],
   "source": [
    "from scipy.special import betaln\n",
    "\n",
    "def formula(S_a, F_a, S_b, F_b):\n",
    "    def iterative(i):        \n",
    "        return np.exp( betaln(S_a + i, F_b + F_a) - \n",
    "                  np.log(F_b + i) - \n",
    "                  betaln(1 + i, F_b) - \n",
    "                  betaln(S_a, F_a) )\n",
    "    return iterative\n",
    "    \n",
    "\n",
    "def prob_b_wins(S_a, F_a, S_b, F_b):\n",
    "    iter_formula = formula(S_a + 1, F_a + 1, S_b + 1, F_b + 1)\n",
    "    cum = 0.0\n",
    "    for i in range(S_b):\n",
    "        cum += iter_formula(i)\n",
    "    return cum\n",
    "\n",
    "print prob_b_wins(20, 3, 4, 5)\n",
    "print prob_b_wins(2, 3, 4, 5)\n",
    "print prob_b_wins(20, 3, 400, 5)"
   ]
  },
  {
   "cell_type": "markdown",
   "metadata": {},
   "source": [
    "### Extending to three models\n",
    "\n",
    "\n",
    "We can extend the test to compare the probability of success of a model, to two other models using the law of total probability:\n",
    "    \n",
    "P(P_c > max(P_a,P_b)) = 1 - P(P_a > P_c) - P(P_b > P_c) + intersection\n",
    "\n",
    "    where intersection = \n",
    "        Sum_i_in_0_to_S_a, \n",
    "            Sum_j_in_0_to_S_b(  \n",
    "                Beta(i + j + S_c, F_c + F_b + F_a) / \n",
    "                ( (F_a + i) * (F_b + j) * Beta(1 + i, F_a) * Beta(1 + j, F_b) * Beta(S_c, F_c) )\n",
    "            )\n"
   ]
  },
  {
   "cell_type": "code",
   "execution_count": 67,
   "metadata": {
    "collapsed": false
   },
   "outputs": [
    {
     "name": "stdout",
     "output_type": "stream",
     "text": [
      "0.0016089283832\n",
      "0.421801227291\n",
      "0.940138540633\n"
     ]
    }
   ],
   "source": [
    "from scipy.special import betaln\n",
    "\n",
    "def formula_3way(S_a, F_a, S_b, F_b, S_c, F_c):\n",
    "    def iterative(i, j):\n",
    "        return np.exp( betaln(i + j + S_c, F_c + F_b + F_a) - \n",
    "                      np.log(F_a + i) - \n",
    "                      np.log(F_b + j) - \n",
    "                      betaln(1 + i, F_a) - \n",
    "                      betaln(1 + j, F_b) - \n",
    "                      betaln(S_c, F_c) )\n",
    "    return iterative\n",
    "    \n",
    "\n",
    "def prob_c_wins(S_a, F_a, S_b, F_b, S_c, F_c):\n",
    "    iter_formula = formula_3way(S_a + 1, F_a + 1, S_b + 1, F_b + 1, S_c + 1, F_c + 1)\n",
    "    intersection = 0.0\n",
    "    for i in range(S_a):\n",
    "        for j in range(S_b):\n",
    "            intersection += iter_formula(i, j)\n",
    "    return 1 - prob_b_wins(S_c, F_c, S_a, F_a) - prob_b_wins(S_c, F_c, S_b, F_b) + intersection\n",
    "\n",
    "\n",
    "print prob_c_wins(10,20,15,20,10,50)\n",
    "print prob_c_wins(10,20,15,20,10,15)\n",
    "print prob_c_wins(10,20,15,20,10,5)"
   ]
  },
  {
   "cell_type": "code",
   "execution_count": null,
   "metadata": {
    "collapsed": true
   },
   "outputs": [],
   "source": []
  }
 ],
 "metadata": {
  "kernelspec": {
   "display_name": "Python 2",
   "language": "python",
   "name": "python2"
  },
  "language_info": {
   "codemirror_mode": {
    "name": "ipython",
    "version": 2
   },
   "file_extension": ".py",
   "mimetype": "text/x-python",
   "name": "python",
   "nbconvert_exporter": "python",
   "pygments_lexer": "ipython2",
   "version": "2.7.10"
  }
 },
 "nbformat": 4,
 "nbformat_minor": 0
}
