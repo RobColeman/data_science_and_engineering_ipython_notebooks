{
 "cells": [
  {
   "cell_type": "code",
   "execution_count": 5,
   "metadata": {
    "collapsed": false
   },
   "outputs": [],
   "source": [
    "%matplotlib inline\n",
    "#%load_ext autoreload\n",
    "#%autoreload 2  \n",
    "%reload_ext autoreload\n",
    "import matplotlib.pyplot as plt\n",
    "import numpy as np\n",
    "import math\n",
    "from numpy.random import randn\n",
    "import plots"
   ]
  },
  {
   "cell_type": "code",
   "execution_count": 6,
   "metadata": {
    "collapsed": true
   },
   "outputs": [],
   "source": [
    "\n",
    "class MouseSimulation(object):   \n",
    "    def __init__(self, x0=0, velocity=1,\n",
    "                 measurement_var=0.0, \n",
    "                 process_var=0.0):\n",
    "        \"\"\" \n",
    "        x0 :initial position\n",
    "        velocity: (+=right, -=left)\n",
    "        measurement_var: variance in measurement m^2\n",
    "        process_var: variance in process (m/s)^2\n",
    "        \"\"\"\n",
    "        self.x = x0\n",
    "        self.velocity = velocity\n",
    "        self.meas_noise = math.sqrt(measurement_var)\n",
    "        self.process_noise = math.sqrt(process_var)\n",
    "\n",
    "    def move(self, dt=1.0):\n",
    "        \"\"\"Compute new position of the mouse in dt seconds.\"\"\"\n",
    "        dx = self.velocity + randn()*self.process_noise\n",
    "        self.x += dx * dt\n",
    "        \n",
    "    def sense_position(self):\n",
    "        # simulate measuring the position with noise\n",
    "        measurement = self.x + randn()*self.meas_noise\n",
    "        return measurement\n",
    "    \n",
    "    def move_and_sense(self):\n",
    "        self.move()\n",
    "        return self.sense_position()"
   ]
  },
  {
   "cell_type": "code",
   "execution_count": null,
   "metadata": {
    "collapsed": true
   },
   "outputs": [],
   "source": []
  }
 ],
 "metadata": {
  "kernelspec": {
   "display_name": "Python 2",
   "language": "python",
   "name": "python2"
  },
  "language_info": {
   "codemirror_mode": {
    "name": "ipython",
    "version": 2
   },
   "file_extension": ".py",
   "mimetype": "text/x-python",
   "name": "python",
   "nbconvert_exporter": "python",
   "pygments_lexer": "ipython2",
   "version": "2.7.10"
  }
 },
 "nbformat": 4,
 "nbformat_minor": 0
}
