{
 "cells": [
  {
   "cell_type": "code",
   "execution_count": 5,
   "metadata": {
    "collapsed": false
   },
   "outputs": [
    {
     "ename": "ValueError",
     "evalue": "Cannot run multiple SparkContexts at once; existing SparkContext(app=pyspark-shell, master=local[*]) created by <module> at <ipython-input-1-c69a44d0c5b7>:15 ",
     "output_type": "error",
     "traceback": [
      "\u001b[0;31m---------------------------------------------------------------------------\u001b[0m",
      "\u001b[0;31mValueError\u001b[0m                                Traceback (most recent call last)",
      "\u001b[0;32m<ipython-input-5-28b5ed19dcb1>\u001b[0m in \u001b[0;36m<module>\u001b[0;34m()\u001b[0m\n\u001b[1;32m     14\u001b[0m \u001b[0msys\u001b[0m\u001b[0;34m.\u001b[0m\u001b[0mpath\u001b[0m\u001b[0;34m.\u001b[0m\u001b[0minsert\u001b[0m\u001b[0;34m(\u001b[0m\u001b[0;36m0\u001b[0m\u001b[0;34m,\u001b[0m \u001b[0mspark_home\u001b[0m \u001b[0;34m+\u001b[0m \u001b[0;34m\"/python\"\u001b[0m\u001b[0;34m)\u001b[0m\u001b[0;34m\u001b[0m\u001b[0m\n\u001b[1;32m     15\u001b[0m \u001b[0msys\u001b[0m\u001b[0;34m.\u001b[0m\u001b[0mpath\u001b[0m\u001b[0;34m.\u001b[0m\u001b[0minsert\u001b[0m\u001b[0;34m(\u001b[0m\u001b[0;36m0\u001b[0m\u001b[0;34m,\u001b[0m \u001b[0mos\u001b[0m\u001b[0;34m.\u001b[0m\u001b[0mpath\u001b[0m\u001b[0;34m.\u001b[0m\u001b[0mjoin\u001b[0m\u001b[0;34m(\u001b[0m\u001b[0mspark_home\u001b[0m\u001b[0;34m,\u001b[0m \u001b[0;34m'python/lib/py4j-0.8.2.1-src.zip'\u001b[0m\u001b[0;34m)\u001b[0m\u001b[0;34m)\u001b[0m\u001b[0;34m\u001b[0m\u001b[0m\n\u001b[0;32m---> 16\u001b[0;31m \u001b[0mexecfile\u001b[0m\u001b[0;34m(\u001b[0m\u001b[0mos\u001b[0m\u001b[0;34m.\u001b[0m\u001b[0mpath\u001b[0m\u001b[0;34m.\u001b[0m\u001b[0mjoin\u001b[0m\u001b[0;34m(\u001b[0m\u001b[0mspark_home\u001b[0m\u001b[0;34m,\u001b[0m \u001b[0;34m'python/pyspark/shell.py'\u001b[0m\u001b[0;34m)\u001b[0m\u001b[0;34m)\u001b[0m\u001b[0;34m\u001b[0m\u001b[0m\n\u001b[0m",
      "\u001b[0;32m/Users/rcoleman/spark/python/pyspark/shell.py\u001b[0m in \u001b[0;36m<module>\u001b[0;34m()\u001b[0m\n\u001b[1;32m     41\u001b[0m     \u001b[0mSparkContext\u001b[0m\u001b[0;34m.\u001b[0m\u001b[0msetSystemProperty\u001b[0m\u001b[0;34m(\u001b[0m\u001b[0;34m\"spark.executor.uri\"\u001b[0m\u001b[0;34m,\u001b[0m \u001b[0mos\u001b[0m\u001b[0;34m.\u001b[0m\u001b[0menviron\u001b[0m\u001b[0;34m[\u001b[0m\u001b[0;34m\"SPARK_EXECUTOR_URI\"\u001b[0m\u001b[0;34m]\u001b[0m\u001b[0;34m)\u001b[0m\u001b[0;34m\u001b[0m\u001b[0m\n\u001b[1;32m     42\u001b[0m \u001b[0;34m\u001b[0m\u001b[0m\n\u001b[0;32m---> 43\u001b[0;31m \u001b[0msc\u001b[0m \u001b[0;34m=\u001b[0m \u001b[0mSparkContext\u001b[0m\u001b[0;34m(\u001b[0m\u001b[0mpyFiles\u001b[0m\u001b[0;34m=\u001b[0m\u001b[0madd_files\u001b[0m\u001b[0;34m)\u001b[0m\u001b[0;34m\u001b[0m\u001b[0m\n\u001b[0m\u001b[1;32m     44\u001b[0m \u001b[0matexit\u001b[0m\u001b[0;34m.\u001b[0m\u001b[0mregister\u001b[0m\u001b[0;34m(\u001b[0m\u001b[0;32mlambda\u001b[0m\u001b[0;34m:\u001b[0m \u001b[0msc\u001b[0m\u001b[0;34m.\u001b[0m\u001b[0mstop\u001b[0m\u001b[0;34m(\u001b[0m\u001b[0;34m)\u001b[0m\u001b[0;34m)\u001b[0m\u001b[0;34m\u001b[0m\u001b[0m\n\u001b[1;32m     45\u001b[0m \u001b[0;34m\u001b[0m\u001b[0m\n",
      "\u001b[0;32m/Users/rcoleman/spark/python/pyspark/context.pyc\u001b[0m in \u001b[0;36m__init__\u001b[0;34m(self, master, appName, sparkHome, pyFiles, environment, batchSize, serializer, conf, gateway, jsc, profiler_cls)\u001b[0m\n\u001b[1;32m    110\u001b[0m         \"\"\"\n\u001b[1;32m    111\u001b[0m         \u001b[0mself\u001b[0m\u001b[0;34m.\u001b[0m\u001b[0m_callsite\u001b[0m \u001b[0;34m=\u001b[0m \u001b[0mfirst_spark_call\u001b[0m\u001b[0;34m(\u001b[0m\u001b[0;34m)\u001b[0m \u001b[0;32mor\u001b[0m \u001b[0mCallSite\u001b[0m\u001b[0;34m(\u001b[0m\u001b[0mNone\u001b[0m\u001b[0;34m,\u001b[0m \u001b[0mNone\u001b[0m\u001b[0;34m,\u001b[0m \u001b[0mNone\u001b[0m\u001b[0;34m)\u001b[0m\u001b[0;34m\u001b[0m\u001b[0m\n\u001b[0;32m--> 112\u001b[0;31m         \u001b[0mSparkContext\u001b[0m\u001b[0;34m.\u001b[0m\u001b[0m_ensure_initialized\u001b[0m\u001b[0;34m(\u001b[0m\u001b[0mself\u001b[0m\u001b[0;34m,\u001b[0m \u001b[0mgateway\u001b[0m\u001b[0;34m=\u001b[0m\u001b[0mgateway\u001b[0m\u001b[0;34m)\u001b[0m\u001b[0;34m\u001b[0m\u001b[0m\n\u001b[0m\u001b[1;32m    113\u001b[0m         \u001b[0;32mtry\u001b[0m\u001b[0;34m:\u001b[0m\u001b[0;34m\u001b[0m\u001b[0m\n\u001b[1;32m    114\u001b[0m             self._do_init(master, appName, sparkHome, pyFiles, environment, batchSize, serializer,\n",
      "\u001b[0;32m/Users/rcoleman/spark/python/pyspark/context.pyc\u001b[0m in \u001b[0;36m_ensure_initialized\u001b[0;34m(cls, instance, gateway)\u001b[0m\n\u001b[1;32m    259\u001b[0m                         \u001b[0;34m\" created by %s at %s:%s \"\u001b[0m\u001b[0;34m\u001b[0m\u001b[0m\n\u001b[1;32m    260\u001b[0m                         % (currentAppName, currentMaster,\n\u001b[0;32m--> 261\u001b[0;31m                             callsite.function, callsite.file, callsite.linenum))\n\u001b[0m\u001b[1;32m    262\u001b[0m                 \u001b[0;32melse\u001b[0m\u001b[0;34m:\u001b[0m\u001b[0;34m\u001b[0m\u001b[0m\n\u001b[1;32m    263\u001b[0m                     \u001b[0mSparkContext\u001b[0m\u001b[0;34m.\u001b[0m\u001b[0m_active_spark_context\u001b[0m \u001b[0;34m=\u001b[0m \u001b[0minstance\u001b[0m\u001b[0;34m\u001b[0m\u001b[0m\n",
      "\u001b[0;31mValueError\u001b[0m: Cannot run multiple SparkContexts at once; existing SparkContext(app=pyspark-shell, master=local[*]) created by <module> at <ipython-input-1-c69a44d0c5b7>:15 "
     ]
    }
   ],
   "source": [
    "%matplotlib inline\n",
    "#%load_ext autoreload\n",
    "#%autoreload 2\n",
    "%reload_ext autoreload\n",
    "import numpy as np\n",
    "import matplotlib.pyplot as plt\n",
    "import math, sys, os\n",
    "from numpy.random import randn\n",
    "from sklearn.datasets import make_blobs\n",
    "\n",
    "# setup pyspark for IPython_notebooks\n",
    "spark_home = os.environ.get('SPARK_HOME', None)\n",
    "sys.path.insert(0, spark_home + \"/python\")\n",
    "sys.path.insert(0, os.path.join(spark_home, 'python/lib/py4j-0.8.2.1-src.zip'))\n",
    "execfile(os.path.join(spark_home, 'python/pyspark/shell.py'))"
   ]
  },
  {
   "cell_type": "code",
   "execution_count": 244,
   "metadata": {
    "collapsed": false
   },
   "outputs": [],
   "source": [
    "from sklearn.datasets import make_blobs\n",
    "from pyspark.mllib.regression import LabeledPoint\n",
    "# make some data\n",
    "N = 1000\n",
    "d = 2\n",
    "k = 5\n",
    "sigma = 1\n",
    "bound = 10*sigma\n",
    "\n",
    "# symetric, gaussian clusters\n",
    "X, y = make_blobs(n_samples=N, \n",
    "           n_features=d,\n",
    "           centers=k, \n",
    "           cluster_std=sigma, \n",
    "           center_box=(-bound, bound), \n",
    "           shuffle=True)\n",
    "\n",
    "# center and sphere data\n",
    "def center_and_sphere(data_RDD):\n",
    "    # we can do these stasts steaming in O(n)\n",
    "    n = float(data_RDD.count())\n",
    "    arrays = data_RDD.map( lambda t: t[1] )\n",
    "    mean = arrays.reduce( lambda a, b: a + b ) / n\n",
    "    vi = lambda x: (x - mean)**2\n",
    "    std = np.sqrt(arrays.map( vi ).reduce(lambda a, b: a + b) / n)\n",
    "    normalize = lambda t: (t[0], (t[1] - mean) / std )\n",
    "    return data_RDD.map(normalize)\n",
    "\n",
    "data = [(int(y[idx]), row) for idx, row in enumerate(X)]\n",
    "data_RDD = center_and_sphere(sc.parallelize(data))"
   ]
  },
  {
   "cell_type": "markdown",
   "metadata": {},
   "source": [
    "# Random projection LSH"
   ]
  },
  {
   "cell_type": "code",
   "execution_count": 245,
   "metadata": {
    "collapsed": false
   },
   "outputs": [],
   "source": [
    "def to_binary_string(vec):\n",
    "    s = \"\"\n",
    "    for j in vec:\n",
    "        if j < 0: \n",
    "            s += str(0)\n",
    "        elif j > 0:\n",
    "            s += str(1)\n",
    "        else:\n",
    "            s += str(0)\n",
    "    return s\n",
    "            \n",
    "def config_random_projection(n_hyperplanes = 5, scale = 2.0, seed = None):\n",
    "    # random projection vectors\n",
    "    Z = (np.random.rand(d, n_hyperplanes) - 0.5) * scale\n",
    "    def projection_func(tup):\n",
    "        y, x = tup # expect key (int, 1xD vector)\n",
    "        projs = x.T.dot(Z) # random projections\n",
    "        bucket = to_binary_string(projs)\n",
    "        return (bucket, y)\n",
    "    \n",
    "    return (Z,projection_func)\n",
    "\n",
    "Z, hash_func = config_random_projection()"
   ]
  },
  {
   "cell_type": "code",
   "execution_count": 246,
   "metadata": {
    "collapsed": false
   },
   "outputs": [],
   "source": [
    "# analyze results\n",
    "def to_dict(tup):\n",
    "    bucket, c = tup\n",
    "    return (bucket, {c: 1})\n",
    "\n",
    "def reduce_count_clusters(a,b):\n",
    "    for k, v in a.items():\n",
    "        if k in b:\n",
    "            b[k] += v\n",
    "        else:\n",
    "            b[k] = v\n",
    "    return b\n",
    "\n",
    "def gini_impurity(tup):\n",
    "    bucket, d = tup\n",
    "    count = float(sum(d.values()))\n",
    "    gini = 1 - sum([(float(v) / count)**2 for v in d.values()])\n",
    "    return (bucket, gini, count)\n",
    "\n",
    "def weighted_gini(A):\n",
    "    buckets, ginis, counts = zip(*A)\n",
    "    N = float(sum(counts))\n",
    "    return sum([g*(c/N) for g,c in zip(ginis,counts)])\n",
    "    "
   ]
  },
  {
   "cell_type": "code",
   "execution_count": 247,
   "metadata": {
    "collapsed": false
   },
   "outputs": [
    {
     "name": "stdout",
     "output_type": "stream",
     "text": [
      "bucket: 00001 , in bucket: 10 , impurity: 0.180000\n",
      "bucket: 00011 , in bucket: 21 , impurity: 0.090703\n",
      "bucket: 00101 , in bucket: 1 , impurity: 0.000000\n",
      "bucket: 01010 , in bucket: 421 , impurity: 0.650132\n",
      "bucket: 01011 , in bucket: 56 , impurity: 0.408163\n",
      "bucket: 10100 , in bucket: 17 , impurity: 0.629758\n",
      "bucket: 10101 , in bucket: 390 , impurity: 0.510138\n",
      "bucket: 11010 , in bucket: 53 , impurity: 0.000000\n",
      "bucket: 11100 , in bucket: 9 , impurity: 0.000000\n",
      "bucket: 11110 , in bucket: 22 , impurity: 0.000000\n"
     ]
    }
   ],
   "source": [
    "gini_impurities = data_RDD.map(hash_func).map(to_dict).reduceByKey(reduce_count_clusters).map(gini_impurity).collect()\n",
    "for b, g, c in sorted(gini_impurities):\n",
    "    print \"bucket: %s , in bucket: %d , impurity: %f\" % (b, c, g)"
   ]
  },
  {
   "cell_type": "code",
   "execution_count": 248,
   "metadata": {
    "collapsed": false
   },
   "outputs": [
    {
     "data": {
      "text/plain": [
       "<matplotlib.collections.PathCollection at 0x111f18f50>"
      ]
     },
     "execution_count": 248,
     "metadata": {},
     "output_type": "execute_result"
    },
    {
     "data": {
      "image/png": "[encoded data removed]",
      "text/plain": [
       "<matplotlib.figure.Figure at 0x111e34a50>"
      ]
     },
     "metadata": {},
     "output_type": "display_data"
    }
   ],
   "source": [
    "c0 = np.stack(data_RDD.filter(lambda t: t[0] == 0).map(lambda t: t[1]).collect())\n",
    "c1 = np.stack(data_RDD.filter(lambda t: t[0] == 1).map(lambda t: t[1]).collect())\n",
    "c2 = np.stack(data_RDD.filter(lambda t: t[0] == 2).map(lambda t: t[1]).collect())\n",
    "\n",
    "plt.scatter(c0[:,0],c0[:,1],color='g')\n",
    "plt.scatter(c1[:,0],c1[:,1],color='y')\n",
    "plt.scatter(c2[:,0],c2[:,1],color='b')\n",
    "plt.scatter(Z.T[:,0],Z.T[:,1],color='r',s=50)"
   ]
  },
  {
   "cell_type": "code",
   "execution_count": 154,
   "metadata": {
    "collapsed": false
   },
   "outputs": [
    {
     "data": {
      "text/plain": [
       "array([[ 0.01190433,  0.36742798],\n",
       "       [ 0.98446377,  0.54986516],\n",
       "       [ 0.38849338,  0.18454658],\n",
       "       [ 0.57401664,  0.07149512],\n",
       "       [ 0.5314087 ,  0.50014232]])"
      ]
     },
     "execution_count": 154,
     "metadata": {},
     "output_type": "execute_result"
    }
   ],
   "source": [
    "Z.T"
   ]
  },
  {
   "cell_type": "code",
   "execution_count": 251,
   "metadata": {
    "collapsed": false
   },
   "outputs": [
    {
     "name": "stdout",
     "output_type": "stream",
     "text": [
      "10 projections: 0.389855\n",
      "20 projections: 0.367634\n",
      "30 projections: 0.364262\n",
      "40 projections: 0.345269\n",
      "50 projections: 0.337638\n",
      "60 projections: 0.346110\n",
      "70 projections: 0.335621\n",
      "80 projections: 0.321149\n",
      "90 projections: 0.317938\n",
      "100 projections: 0.319979\n",
      "110 projections: 0.322314\n",
      "120 projections: 0.309004\n",
      "130 projections: 0.302692\n",
      "140 projections: 0.298546\n",
      "150 projections: 0.287611\n",
      "160 projections: 0.299149\n",
      "170 projections: 0.292401\n",
      "180 projections: 0.287110\n",
      "190 projections: 0.283535\n"
     ]
    }
   ],
   "source": [
    "# impurity as we scale up the number of hyperplanes used for projections\n",
    "\n",
    "for n_Z in range(10,200,10):\n",
    "    Z, hash_func = config_random_projection(n_Z)\n",
    "    gini_impurities = data_RDD.map(hash_func).map(to_dict).reduceByKey(reduce_count_clusters).map(gini_impurity).collect()\n",
    "    g_i = weighted_gini(gini_impurities)\n",
    "    print \"%d projections: %f\" % (n_Z, g_i)\n",
    "    "
   ]
  },
  {
   "cell_type": "code",
   "execution_count": null,
   "metadata": {
    "collapsed": true
   },
   "outputs": [],
   "source": []
  }
 ],
 "metadata": {
  "kernelspec": {
   "display_name": "Python 2",
   "language": "python",
   "name": "python2"
  },
  "language_info": {
   "codemirror_mode": {
    "name": "ipython",
    "version": 2
   },
   "file_extension": ".py",
   "mimetype": "text/x-python",
   "name": "python",
   "nbconvert_exporter": "python",
   "pygments_lexer": "ipython2",
   "version": "2.7.10"
  }
 },
 "nbformat": 4,
 "nbformat_minor": 0
}
