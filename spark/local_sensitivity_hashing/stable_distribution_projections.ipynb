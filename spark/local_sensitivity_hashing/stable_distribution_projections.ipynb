{
 "cells": [
  {
   "cell_type": "code",
   "execution_count": 2,
   "metadata": {
    "collapsed": false
   },
   "outputs": [
    {
     "name": "stdout",
     "output_type": "stream",
     "text": [
      "Welcome to\n",
      "      ____              __\n",
      "     / __/__  ___ _____/ /__\n",
      "    _\\ \\/ _ \\/ _ `/ __/  '_/\n",
      "   /__ / .__/\\_,_/_/ /_/\\_\\   version 1.6.0\n",
      "      /_/\n",
      "\n",
      "Using Python version 2.7.10 (default, Jul 13 2015 12:05:58)\n",
      "SparkContext available as sc, HiveContext available as sqlContext.\n"
     ]
    }
   ],
   "source": [
    "%matplotlib inline\n",
    "#%load_ext autoreload\n",
    "#%autoreload 2\n",
    "%reload_ext autoreload\n",
    "import numpy as np\n",
    "import matplotlib.pyplot as plt\n",
    "import math, sys, os\n",
    "from numpy.random import randn\n",
    "from sklearn.datasets import make_blobs\n",
    "\n",
    "# setup pyspark for IPython_notebooks\n",
    "spark_home = os.environ.get('SPARK_HOME', None)\n",
    "sys.path.insert(0, spark_home + \"/python\")\n",
    "sys.path.insert(0, os.path.join(spark_home, 'python/lib/py4j-0.8.2.1-src.zip'))\n",
    "execfile(os.path.join(spark_home, 'python/pyspark/shell.py'))"
   ]
  },
  {
   "cell_type": "code",
   "execution_count": 31,
   "metadata": {
    "collapsed": false
   },
   "outputs": [
    {
     "data": {
      "text/plain": [
       "[(0, array([-0.78571077, -0.42775112])),\n",
       " (2, array([-0.97998542, -0.88874468]))]"
      ]
     },
     "execution_count": 31,
     "metadata": {},
     "output_type": "execute_result"
    }
   ],
   "source": [
    "data_home = os.environ.get('DATA_HOME', None)\n",
    "sys.path.insert(0, data_home)\n",
    "\n",
    "# data\n",
    "from gen_data import make_blobs_rdd\n",
    "\n",
    "# utilitiy functions for this notebook\n",
    "from lsh_util import *\n",
    "\n",
    "# make some data\n",
    "N = 1000\n",
    "d = 2\n",
    "k = 3\n",
    "sigma = 1\n",
    "bound = 10*sigma\n",
    "\n",
    "data_RDD = make_blobs_rdd(N, d, k, sigma, bound, sc)\n",
    "data_RDD.take(2)"
   ]
  },
  {
   "cell_type": "markdown",
   "metadata": {},
   "source": [
    "# Stable Distribution Projection Hashing"
   ]
  },
  {
   "cell_type": "code",
   "execution_count": 32,
   "metadata": {
    "collapsed": false
   },
   "outputs": [],
   "source": [
    "def config_stable_dist_proj(d, p = 5, r = 2.0, seed = None):\n",
    "    # random projection vectors\n",
    "    A = np.random.multivariate_normal(np.zeros(d), np.eye(d), p)\n",
    "    B = np.random.rand(1,p)\n",
    "    def projection_func(tup):\n",
    "        y, x = tup # expect key (int, 1xD vector)\n",
    "        projs = ((A.dot(x) / r) + B).flatten()\n",
    "        bucket = to_bucket(projs)\n",
    "        \n",
    "        return (bucket, y)\n",
    "    \n",
    "    return (A, B, projection_func)"
   ]
  },
  {
   "cell_type": "code",
   "execution_count": 33,
   "metadata": {
    "collapsed": false
   },
   "outputs": [
    {
     "name": "stdout",
     "output_type": "stream",
     "text": [
      "bucket: 27 , in bucket: 226 , gini_impurity: 0.478463\n",
      "bucket: 29 , in bucket: 51 , gini_impurity: 0.398308\n",
      "bucket: 31 , in bucket: 723 , gini_impurity: 0.656264\n"
     ]
    }
   ],
   "source": [
    "A, B, hash_func = config_stable_dist_proj(d)\n",
    "\n",
    "gini_impurities = data_RDD.map(hash_func).map(to_dict).reduceByKey(reduce_count_clusters).map(gini_impurity).collect()\n",
    "for b, g, c in sorted(gini_impurities):\n",
    "    print \"bucket: %s , in bucket: %d , gini_impurity: %f\" % (b, c, g)\n"
   ]
  },
  {
   "cell_type": "code",
   "execution_count": 34,
   "metadata": {
    "collapsed": false
   },
   "outputs": [
    {
     "name": "stdout",
     "output_type": "stream",
     "text": [
      "10 projections, gini_impurity: 0.117820\n",
      "20 projections, gini_impurity: 0.075784\n",
      "30 projections, gini_impurity: 0.129946\n",
      "40 projections, gini_impurity: 0.239150\n",
      "50 projections, gini_impurity: 0.049222\n",
      "60 projections, gini_impurity: 0.046699\n",
      "70 projections, gini_impurity: 0.027854\n",
      "80 projections, gini_impurity: 0.052600\n",
      "90 projections, gini_impurity: 0.025314\n",
      "100 projections, gini_impurity: 0.028558\n",
      "110 projections, gini_impurity: 0.036383\n",
      "120 projections, gini_impurity: 0.025243\n",
      "130 projections, gini_impurity: 0.025483\n",
      "140 projections, gini_impurity: 0.024040\n",
      "150 projections, gini_impurity: 0.023013\n",
      "160 projections, gini_impurity: 0.016629\n",
      "170 projections, gini_impurity: 0.019714\n",
      "180 projections, gini_impurity: 0.014907\n",
      "190 projections, gini_impurity: 0.014920\n",
      "200 projections, gini_impurity: 0.014035\n"
     ]
    }
   ],
   "source": [
    "# impurity as we scale up the number of hyperplanes used for projections\n",
    "for n_Z in range(10,201,10):\n",
    "    A, B, hash_func = config_stable_dist_proj(d, n_Z)\n",
    "    gini_impurities = data_RDD.map(hash_func).map(to_dict).reduceByKey(reduce_count_clusters).map(gini_impurity).collect()\n",
    "    g_i = weighted_gini(gini_impurities)\n",
    "    print \"%d projections, gini_impurity: %f\" % (n_Z, g_i)\n",
    "    "
   ]
  },
  {
   "cell_type": "code",
   "execution_count": null,
   "metadata": {
    "collapsed": true
   },
   "outputs": [],
   "source": []
  }
 ],
 "metadata": {
  "kernelspec": {
   "display_name": "Python 2",
   "language": "python",
   "name": "python2"
  },
  "language_info": {
   "codemirror_mode": {
    "name": "ipython",
    "version": 2
   },
   "file_extension": ".py",
   "mimetype": "text/x-python",
   "name": "python",
   "nbconvert_exporter": "python",
   "pygments_lexer": "ipython2",
   "version": "2.7.10"
  }
 },
 "nbformat": 4,
 "nbformat_minor": 0
}
