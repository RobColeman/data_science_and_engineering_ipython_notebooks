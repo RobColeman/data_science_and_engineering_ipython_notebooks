{
 "cells": [
  {
   "cell_type": "code",
   "execution_count": 2,
   "metadata": {
    "collapsed": false
   },
   "outputs": [
    {
     "name": "stdout",
     "output_type": "stream",
     "text": [
      "Welcome to\n",
      "      ____              __\n",
      "     / __/__  ___ _____/ /__\n",
      "    _\\ \\/ _ \\/ _ `/ __/  '_/\n",
      "   /__ / .__/\\_,_/_/ /_/\\_\\   version 1.6.0\n",
      "      /_/\n",
      "\n",
      "Using Python version 2.7.10 (default, Jul 13 2015 12:05:58)\n",
      "SparkContext available as sc, HiveContext available as sqlContext.\n"
     ]
    }
   ],
   "source": [
    "%matplotlib inline\n",
    "#%load_ext autoreload\n",
    "#%autoreload 2\n",
    "%reload_ext autoreload\n",
    "import numpy as np\n",
    "import matplotlib.pyplot as plt\n",
    "import math, sys, os\n",
    "from numpy.random import randn\n",
    "from sklearn.datasets import make_blobs\n",
    "\n",
    "# setup pyspark for IPython_notebooks\n",
    "spark_home = os.environ.get('SPARK_HOME', None)\n",
    "sys.path.insert(0, spark_home + \"/python\")\n",
    "sys.path.insert(0, os.path.join(spark_home, 'python/lib/py4j-0.8.2.1-src.zip'))\n",
    "execfile(os.path.join(spark_home, 'python/pyspark/shell.py'))"
   ]
  },
  {
   "cell_type": "code",
   "execution_count": 9,
   "metadata": {
    "collapsed": false
   },
   "outputs": [
    {
     "data": {
      "text/plain": [
       "[(0, array([ 0.17136833,  0.46758811])),\n",
       " (2, array([-0.85104408,  1.26787849]))]"
      ]
     },
     "execution_count": 9,
     "metadata": {},
     "output_type": "execute_result"
    }
   ],
   "source": [
    "data_home = os.environ.get('DATA_HOME', None)\n",
    "sys.path.insert(0, data_home)\n",
    "\n",
    "# data\n",
    "from gen_data import make_blobs_rdd\n",
    "\n",
    "# utilitiy functions for this notebook\n",
    "from lsh_util import *\n",
    "\n",
    "# make some data\n",
    "N = 1000\n",
    "d = 2\n",
    "k = 5\n",
    "sigma = 1\n",
    "bound = 10*sigma\n",
    "\n",
    "data_RDD = make_blobs_rdd(N, d, k, sigma, bound, sc)\n",
    "data_RDD.take(2)"
   ]
  },
  {
   "cell_type": "code",
   "execution_count": 16,
   "metadata": {
    "collapsed": false
   },
   "outputs": [],
   "source": [
    "def config_stable_dist_proj(d, p = 5, r = 2.0, seed = None):\n",
    "    # random projection vectors\n",
    "    A = np.random.multivariate_normal(np.zeros(d), np.eye(d), p)\n",
    "    B = np.random.rand(1,p)\n",
    "    def projection_func(tup):\n",
    "        y, x = tup # expect key (int, 1xD vector)\n",
    "        projs = ((A.dot(x) / r) + B).flatten()\n",
    "        bucket = to_bucket(projs)\n",
    "        return (bucket, y)\n",
    "    return (A, B, projection_func)"
   ]
  },
  {
   "cell_type": "code",
   "execution_count": 17,
   "metadata": {
    "collapsed": false
   },
   "outputs": [
    {
     "name": "stdout",
     "output_type": "stream",
     "text": [
      "bucket: 22 , in bucket: 4 , gini_impurity: 0.000000\n",
      "bucket: 23 , in bucket: 205 , gini_impurity: 0.143914\n",
      "bucket: 26 , in bucket: 35 , gini_impurity: 0.107755\n",
      "bucket: 27 , in bucket: 212 , gini_impurity: 0.123354\n",
      "bucket: 30 , in bucket: 167 , gini_impurity: 0.000000\n",
      "bucket: 31 , in bucket: 377 , gini_impurity: 0.527774\n"
     ]
    }
   ],
   "source": [
    "A, B, hash_func = config_stable_dist_proj(d)\n",
    "\n",
    "gini_impurities = data_RDD.map(hash_func).map(to_dict).reduceByKey(reduce_count_clusters).map(gini_impurity).collect()\n",
    "for b, g, c in sorted(gini_impurities):\n",
    "    print \"bucket: %s , in bucket: %d , gini_impurity: %f\" % (b, c, g)\n"
   ]
  },
  {
   "cell_type": "code",
   "execution_count": null,
   "metadata": {
    "collapsed": true
   },
   "outputs": [],
   "source": []
  }
 ],
 "metadata": {
  "kernelspec": {
   "display_name": "Python 2",
   "language": "python",
   "name": "python2"
  },
  "language_info": {
   "codemirror_mode": {
    "name": "ipython",
    "version": 2
   },
   "file_extension": ".py",
   "mimetype": "text/x-python",
   "name": "python",
   "nbconvert_exporter": "python",
   "pygments_lexer": "ipython2",
   "version": "2.7.10"
  }
 },
 "nbformat": 4,
 "nbformat_minor": 0
}
