{
 "cells": [
  {
   "cell_type": "code",
   "execution_count": 1,
   "metadata": {
    "collapsed": false
   },
   "outputs": [
    {
     "name": "stdout",
     "output_type": "stream",
     "text": [
      "Welcome to\n",
      "      ____              __\n",
      "     / __/__  ___ _____/ /__\n",
      "    _\\ \\/ _ \\/ _ `/ __/  '_/\n",
      "   /__ / .__/\\_,_/_/ /_/\\_\\   version 1.6.0\n",
      "      /_/\n",
      "\n",
      "Using Python version 2.7.10 (default, Jul 13 2015 12:05:58)\n",
      "SparkContext available as sc, HiveContext available as sqlContext.\n"
     ]
    }
   ],
   "source": [
    "%matplotlib inline\n",
    "#%load_ext autoreload\n",
    "#%autoreload 2\n",
    "%reload_ext autoreload\n",
    "import numpy as np\n",
    "import matplotlib.pyplot as plt\n",
    "import math, sys, os\n",
    "from numpy.random import randn\n",
    "from sklearn.datasets import make_blobs\n",
    "\n",
    "# setup pyspark for IPython_notebooks\n",
    "spark_home = os.environ.get('SPARK_HOME', None)\n",
    "sys.path.insert(0, spark_home + \"/python\")\n",
    "sys.path.insert(0, os.path.join(spark_home, 'python/lib/py4j-0.8.2.1-src.zip'))\n",
    "execfile(os.path.join(spark_home, 'python/pyspark/shell.py'))"
   ]
  },
  {
   "cell_type": "code",
   "execution_count": 2,
   "metadata": {
    "collapsed": false
   },
   "outputs": [],
   "source": [
    "from sklearn.datasets import make_blobs\n",
    "from pyspark.mllib.regression import LabeledPoint\n",
    "# make some data\n",
    "N = 1000\n",
    "d = 2\n",
    "k = 5\n",
    "sigma = 1\n",
    "bound = 10*sigma\n",
    "\n",
    "# symetric, gaussian clusters\n",
    "X, y = make_blobs(n_samples=N, \n",
    "           n_features=d,\n",
    "           centers=k, \n",
    "           cluster_std=sigma, \n",
    "           center_box=(-bound, bound), \n",
    "           shuffle=True)\n",
    "\n",
    "# center and sphere data\n",
    "def center_and_sphere(data_RDD):\n",
    "    # we can do these stasts steaming in O(n)\n",
    "    n = float(data_RDD.count())\n",
    "    arrays = data_RDD.map( lambda t: t[1] )\n",
    "    mean = arrays.reduce( lambda a, b: a + b ) / n\n",
    "    vi = lambda x: (x - mean)**2\n",
    "    std = np.sqrt(arrays.map( vi ).reduce(lambda a, b: a + b) / n)\n",
    "    normalize = lambda t: (t[0], (t[1] - mean) / std )\n",
    "    return data_RDD.map(normalize)\n",
    "\n",
    "data = [(int(y[idx]), row) for idx, row in enumerate(X)]\n",
    "data_RDD = center_and_sphere(sc.parallelize(data))"
   ]
  },
  {
   "cell_type": "markdown",
   "metadata": {},
   "source": [
    "# Random projection LSH"
   ]
  },
  {
   "cell_type": "code",
   "execution_count": 3,
   "metadata": {
    "collapsed": false
   },
   "outputs": [],
   "source": [
    "def to_binary_string(vec):\n",
    "    s = \"\"\n",
    "    for j in vec:\n",
    "        if j < 0: \n",
    "            s += str(0)\n",
    "        elif j > 0:\n",
    "            s += str(1)\n",
    "        else:\n",
    "            s += str(0)\n",
    "    return s\n",
    "            \n",
    "def config_random_projection(n_hyperplanes = 5, scale = 2.0, seed = None):\n",
    "    # random projection vectors\n",
    "    Z = (np.random.rand(d, n_hyperplanes) - 0.5) * scale\n",
    "    def projection_func(tup):\n",
    "        y, x = tup # expect key (int, 1xD vector)\n",
    "        projs = x.T.dot(Z) # random projections\n",
    "        bucket = to_binary_string(projs)\n",
    "        return (bucket, y)\n",
    "    \n",
    "    return (Z,projection_func)\n",
    "\n",
    "Z, hash_func = config_random_projection()"
   ]
  },
  {
   "cell_type": "code",
   "execution_count": 4,
   "metadata": {
    "collapsed": false
   },
   "outputs": [],
   "source": [
    "# analyze results\n",
    "def to_dict(tup):\n",
    "    bucket, c = tup\n",
    "    return (bucket, {c: 1})\n",
    "\n",
    "def reduce_count_clusters(a,b):\n",
    "    for k, v in a.items():\n",
    "        if k in b:\n",
    "            b[k] += v\n",
    "        else:\n",
    "            b[k] = v\n",
    "    return b\n",
    "\n",
    "def gini_impurity(tup):\n",
    "    bucket, d = tup\n",
    "    count = float(sum(d.values()))\n",
    "    gini = 1 - sum([(float(v) / count)**2 for v in d.values()])\n",
    "    return (bucket, gini, count)\n",
    "\n",
    "def weighted_gini(A):\n",
    "    buckets, ginis, counts = zip(*A)\n",
    "    N = float(sum(counts))\n",
    "    return sum([g*(c/N) for g,c in zip(ginis,counts)])\n",
    "    "
   ]
  },
  {
   "cell_type": "code",
   "execution_count": 5,
   "metadata": {
    "collapsed": false
   },
   "outputs": [
    {
     "name": "stdout",
     "output_type": "stream",
     "text": [
      "bucket: 00000 , in bucket: 50 , impurity: 0.000000\n",
      "bucket: 01000 , in bucket: 297 , impurity: 0.499949\n",
      "bucket: 01010 , in bucket: 23 , impurity: 0.000000\n",
      "bucket: 01011 , in bucket: 37 , impurity: 0.306793\n",
      "bucket: 01111 , in bucket: 158 , impurity: 0.084682\n",
      "bucket: 10100 , in bucket: 198 , impurity: 0.000000\n",
      "bucket: 10101 , in bucket: 1 , impurity: 0.000000\n",
      "bucket: 10111 , in bucket: 80 , impurity: 0.024687\n",
      "bucket: 11111 , in bucket: 156 , impurity: 0.393491\n"
     ]
    }
   ],
   "source": [
    "gini_impurities = data_RDD.map(hash_func).map(to_dict).reduceByKey(reduce_count_clusters).map(gini_impurity).collect()\n",
    "for b, g, c in sorted(gini_impurities):\n",
    "    print \"bucket: %s , in bucket: %d , impurity: %f\" % (b, c, g)"
   ]
  },
  {
   "cell_type": "code",
   "execution_count": 7,
   "metadata": {
    "collapsed": false
   },
   "outputs": [
    {
     "data": {
      "text/plain": [
       "<matplotlib.collections.PathCollection at 0x113903610>"
      ]
     },
     "execution_count": 7,
     "metadata": {},
     "output_type": "execute_result"
    },
    {
     "data": {
      "image/png": "[encoded data removed]",
      "text/plain": [
       "<matplotlib.figure.Figure at 0x1136d36d0>"
      ]
     },
     "metadata": {},
     "output_type": "display_data"
    }
   ],
   "source": [
    "c0 = np.stack(data_RDD.filter(lambda t: t[0] == 0).map(lambda t: t[1]).collect())\n",
    "c1 = np.stack(data_RDD.filter(lambda t: t[0] == 1).map(lambda t: t[1]).collect())\n",
    "c2 = np.stack(data_RDD.filter(lambda t: t[0] == 2).map(lambda t: t[1]).collect())\n",
    "\n",
    "plt.scatter(c0[:,0],c0[:,1],color='g')\n",
    "plt.scatter(c1[:,0],c1[:,1],color='y')\n",
    "plt.scatter(c2[:,0],c2[:,1],color='b')\n",
    "plt.scatter(Z.T[:,0],Z.T[:,1],color='r',s=50)"
   ]
  },
  {
   "cell_type": "code",
   "execution_count": 9,
   "metadata": {
    "collapsed": false
   },
   "outputs": [
    {
     "name": "stdout",
     "output_type": "stream",
     "text": [
      "10 projections: 0.136161\n",
      "20 projections: 0.110782\n",
      "30 projections: 0.074206\n",
      "40 projections: 0.077499\n",
      "50 projections: 0.074746\n",
      "60 projections: 0.067992\n",
      "70 projections: 0.067539\n",
      "80 projections: 0.066868\n",
      "90 projections: 0.059854\n",
      "100 projections: 0.067434\n",
      "110 projections: 0.061069\n",
      "120 projections: 0.063585\n",
      "130 projections: 0.060988\n",
      "140 projections: 0.062155\n",
      "150 projections: 0.060682\n",
      "160 projections: 0.062039\n",
      "170 projections: 0.053456\n",
      "180 projections: 0.056734\n",
      "190 projections: 0.058580\n"
     ]
    }
   ],
   "source": [
    "# impurity as we scale up the number of hyperplanes used for projections\n",
    "\n",
    "for n_Z in range(10,200,10):\n",
    "    Z, hash_func = config_random_projection(n_Z)\n",
    "    gini_impurities = data_RDD.map(hash_func).map(to_dict).reduceByKey(reduce_count_clusters).map(gini_impurity).collect()\n",
    "    g_i = weighted_gini(gini_impurities)\n",
    "    print \"%d projections: %f\" % (n_Z, g_i)\n",
    "    "
   ]
  },
  {
   "cell_type": "code",
   "execution_count": null,
   "metadata": {
    "collapsed": true
   },
   "outputs": [],
   "source": []
  }
 ],
 "metadata": {
  "kernelspec": {
   "display_name": "Python 2",
   "language": "python",
   "name": "python2"
  },
  "language_info": {
   "codemirror_mode": {
    "name": "ipython",
    "version": 2
   },
   "file_extension": ".py",
   "mimetype": "text/x-python",
   "name": "python",
   "nbconvert_exporter": "python",
   "pygments_lexer": "ipython2",
   "version": "2.7.10"
  }
 },
 "nbformat": 4,
 "nbformat_minor": 0
}
