{
 "cells": [
  {
   "cell_type": "code",
   "execution_count": 3,
   "metadata": {
    "collapsed": false
   },
   "outputs": [
    {
     "name": "stdout",
     "output_type": "stream",
     "text": [
      "Welcome to\n",
      "      ____              __\n",
      "     / __/__  ___ _____/ /__\n",
      "    _\\ \\/ _ \\/ _ `/ __/  '_/\n",
      "   /__ / .__/\\_,_/_/ /_/\\_\\   version 1.6.0\n",
      "      /_/\n",
      "\n",
      "Using Python version 2.7.10 (default, Jul 13 2015 12:05:58)\n",
      "SparkContext available as sc, HiveContext available as sqlContext.\n"
     ]
    }
   ],
   "source": [
    "%matplotlib inline\n",
    "#%load_ext autoreload\n",
    "#%autoreload 2\n",
    "%reload_ext autoreload\n",
    "import numpy as np\n",
    "import matplotlib.pyplot as plt\n",
    "import math, sys, os\n",
    "from numpy.random import randn\n",
    "from sklearn.datasets import make_blobs\n",
    "\n",
    "# setup pyspark for IPython_notebooks\n",
    "spark_home = os.environ.get('SPARK_HOME', None)\n",
    "sys.path.insert(0, spark_home + \"/python\")\n",
    "sys.path.insert(0, os.path.join(spark_home, 'python/lib/py4j-0.8.2.1-src.zip'))\n",
    "execfile(os.path.join(spark_home, 'python/pyspark/shell.py'))"
   ]
  },
  {
   "cell_type": "code",
   "execution_count": 60,
   "metadata": {
    "collapsed": false
   },
   "outputs": [
    {
     "data": {
      "text/plain": [
       "[(2, array([-1.56500925, -1.1465788 ])),\n",
       " (4, array([ 1.23101689,  0.7231538 ]))]"
      ]
     },
     "execution_count": 60,
     "metadata": {},
     "output_type": "execute_result"
    }
   ],
   "source": [
    "data_home = os.environ.get('DATA_HOME', None)\n",
    "sys.path.insert(0, data_home)\n",
    "\n",
    "# data\n",
    "from gen_data import make_blobs_rdd\n",
    "\n",
    "# utilitiy functions for this notebook\n",
    "from lsh_util import *\n",
    "\n",
    "# make some data\n",
    "N = 1000\n",
    "d = 2\n",
    "k = 5\n",
    "sigma = 1\n",
    "bound = 10*sigma\n",
    "\n",
    "data_RDD = make_blobs_rdd(N, d, k, sigma, bound, sc)\n",
    "data_RDD.take(2)"
   ]
  },
  {
   "cell_type": "markdown",
   "metadata": {},
   "source": [
    "# Random projection LSH"
   ]
  },
  {
   "cell_type": "code",
   "execution_count": 61,
   "metadata": {
    "collapsed": false
   },
   "outputs": [],
   "source": [
    "def config_random_projection(d, n_hyperplanes = 5, scale = 2.0, seed = None):    \n",
    "    # random projection vectors\n",
    "    Z = (np.random.rand(d, n_hyperplanes) - 0.5) * scale\n",
    "    def projection_func(tup):\n",
    "        y, x = tup # expect key (int, 1xD vector)\n",
    "        projs = x.T.dot(Z) # random projections\n",
    "        bucket = to_bucket(projs)\n",
    "        return (bucket, y)\n",
    "    \n",
    "    return (Z,projection_func)"
   ]
  },
  {
   "cell_type": "code",
   "execution_count": 62,
   "metadata": {
    "collapsed": false
   },
   "outputs": [
    {
     "name": "stdout",
     "output_type": "stream",
     "text": [
      "bucket: 6 , in bucket: 6 , gini_impurity: 0.000000\n",
      "bucket: 10 , in bucket: 355 , gini_impurity: 0.508407\n",
      "bucket: 11 , in bucket: 46 , gini_impurity: 0.000000\n",
      "bucket: 14 , in bucket: 188 , gini_impurity: 0.010582\n",
      "bucket: 17 , in bucket: 199 , gini_impurity: 0.019898\n",
      "bucket: 20 , in bucket: 167 , gini_impurity: 0.000000\n",
      "bucket: 21 , in bucket: 36 , gini_impurity: 0.152778\n",
      "bucket: 25 , in bucket: 2 , gini_impurity: 0.000000\n",
      "bucket: 27 , in bucket: 1 , gini_impurity: 0.000000\n"
     ]
    }
   ],
   "source": [
    "Z, hash_func = config_random_projection(d)\n",
    "\n",
    "gini_impurities = data_RDD.map(hash_func).map(to_dict).reduceByKey(reduce_count_clusters).map(gini_impurity).collect()\n",
    "for b, g, c in sorted(gini_impurities):\n",
    "    print \"bucket: %s , in bucket: %d , gini_impurity: %f\" % (b, c, g)"
   ]
  },
  {
   "cell_type": "code",
   "execution_count": 63,
   "metadata": {
    "collapsed": false
   },
   "outputs": [
    {
     "data": {
      "text/plain": [
       "<matplotlib.collections.PathCollection at 0x10f563f90>"
      ]
     },
     "execution_count": 63,
     "metadata": {},
     "output_type": "execute_result"
    },
    {
     "data": {
      "image/png": "[encoded data removed]",
      "text/plain": [
       "<matplotlib.figure.Figure at 0x10f24ae90>"
      ]
     },
     "metadata": {},
     "output_type": "display_data"
    }
   ],
   "source": [
    "c0 = np.stack(data_RDD.filter(lambda t: t[0] == 0).map(lambda t: t[1]).collect())\n",
    "c1 = np.stack(data_RDD.filter(lambda t: t[0] == 1).map(lambda t: t[1]).collect())\n",
    "c2 = np.stack(data_RDD.filter(lambda t: t[0] == 2).map(lambda t: t[1]).collect())\n",
    "\n",
    "plt.scatter(c0[:,0],c0[:,1],color='g')\n",
    "plt.scatter(c1[:,0],c1[:,1],color='y')\n",
    "plt.scatter(c2[:,0],c2[:,1],color='b')\n",
    "plt.scatter(Z.T[:,0],Z.T[:,1],color='r',s=50)"
   ]
  },
  {
   "cell_type": "code",
   "execution_count": 64,
   "metadata": {
    "collapsed": false
   },
   "outputs": [
    {
     "name": "stdout",
     "output_type": "stream",
     "text": [
      "10 projections, gini_impurity: 0.165665\n",
      "20 projections, gini_impurity: 0.157024\n",
      "30 projections, gini_impurity: 0.147843\n",
      "40 projections, gini_impurity: 0.149566\n",
      "50 projections, gini_impurity: 0.149959\n",
      "60 projections, gini_impurity: 0.147694\n",
      "70 projections, gini_impurity: 0.143743\n",
      "80 projections, gini_impurity: 0.145333\n",
      "90 projections, gini_impurity: 0.141270\n",
      "100 projections, gini_impurity: 0.145438\n",
      "110 projections, gini_impurity: 0.136271\n",
      "120 projections, gini_impurity: 0.136784\n",
      "130 projections, gini_impurity: 0.136788\n",
      "140 projections, gini_impurity: 0.137037\n",
      "150 projections, gini_impurity: 0.138656\n",
      "160 projections, gini_impurity: 0.132953\n",
      "170 projections, gini_impurity: 0.140970\n",
      "180 projections, gini_impurity: 0.132052\n",
      "190 projections, gini_impurity: 0.129358\n"
     ]
    }
   ],
   "source": [
    "# impurity as we scale up the number of hyperplanes used for projections\n",
    "\n",
    "for n_Z in range(10,200,10):\n",
    "    Z, hash_func = config_random_projection(d, n_Z)\n",
    "    gini_impurities = data_RDD.map(hash_func).map(to_dict).reduceByKey(reduce_count_clusters).map(gini_impurity).collect()\n",
    "    g_i = weighted_gini(gini_impurities)\n",
    "    print \"%d projections, gini_impurity: %f\" % (n_Z, g_i)\n",
    "    "
   ]
  },
  {
   "cell_type": "code",
   "execution_count": null,
   "metadata": {
    "collapsed": true
   },
   "outputs": [],
   "source": []
  }
 ],
 "metadata": {
  "kernelspec": {
   "display_name": "Python 2",
   "language": "python",
   "name": "python2"
  },
  "language_info": {
   "codemirror_mode": {
    "name": "ipython",
    "version": 2
   },
   "file_extension": ".py",
   "mimetype": "text/x-python",
   "name": "python",
   "nbconvert_exporter": "python",
   "pygments_lexer": "ipython2",
   "version": "2.7.10"
  }
 },
 "nbformat": 4,
 "nbformat_minor": 0
}
