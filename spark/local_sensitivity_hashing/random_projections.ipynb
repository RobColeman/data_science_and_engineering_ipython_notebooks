{
 "cells": [
  {
   "cell_type": "code",
   "execution_count": 3,
   "metadata": {
    "collapsed": false
   },
   "outputs": [
    {
     "name": "stdout",
     "output_type": "stream",
     "text": [
      "Welcome to\n",
      "      ____              __\n",
      "     / __/__  ___ _____/ /__\n",
      "    _\\ \\/ _ \\/ _ `/ __/  '_/\n",
      "   /__ / .__/\\_,_/_/ /_/\\_\\   version 1.6.0\n",
      "      /_/\n",
      "\n",
      "Using Python version 2.7.10 (default, Jul 13 2015 12:05:58)\n",
      "SparkContext available as sc, HiveContext available as sqlContext.\n"
     ]
    }
   ],
   "source": [
    "%matplotlib inline\n",
    "#%load_ext autoreload\n",
    "#%autoreload 2\n",
    "%reload_ext autoreload\n",
    "import numpy as np\n",
    "import matplotlib.pyplot as plt\n",
    "import math, sys, os\n",
    "from numpy.random import randn\n",
    "from sklearn.datasets import make_blobs\n",
    "\n",
    "# setup pyspark for IPython_notebooks\n",
    "spark_home = os.environ.get('SPARK_HOME', None)\n",
    "sys.path.insert(0, spark_home + \"/python\")\n",
    "sys.path.insert(0, os.path.join(spark_home, 'python/lib/py4j-0.8.2.1-src.zip'))\n",
    "execfile(os.path.join(spark_home, 'python/pyspark/shell.py'))"
   ]
  },
  {
   "cell_type": "code",
   "execution_count": 77,
   "metadata": {
    "collapsed": false
   },
   "outputs": [
    {
     "data": {
      "text/plain": [
       "[(4, array([-0.00991882, -1.33618685])),\n",
       " (4, array([-0.45096271, -1.1418839 ]))]"
      ]
     },
     "execution_count": 77,
     "metadata": {},
     "output_type": "execute_result"
    }
   ],
   "source": [
    "data_home = os.environ.get('DATA_HOME', None)\n",
    "sys.path.insert(0, data_home)\n",
    "\n",
    "# data\n",
    "from gen_data import make_blobs_rdd\n",
    "\n",
    "# utilitiy functions for this notebook\n",
    "from lsh_util import *\n",
    "\n",
    "# make some data\n",
    "N = 1000\n",
    "d = 2\n",
    "k = 5\n",
    "sigma = 3\n",
    "bound = 10\n",
    "\n",
    "data_RDD = make_blobs_rdd(N, d, k, sigma, bound, sc)\n",
    "data_RDD.take(2)"
   ]
  },
  {
   "cell_type": "markdown",
   "metadata": {},
   "source": [
    "# Random projection LSH"
   ]
  },
  {
   "cell_type": "code",
   "execution_count": 78,
   "metadata": {
    "collapsed": false
   },
   "outputs": [],
   "source": [
    "def config_random_projection(d, n_hyperplanes = 5, scale = 2.0, seed = None):    \n",
    "    # random projection vectors\n",
    "    Z = (np.random.rand(d, n_hyperplanes) - 0.5) * scale\n",
    "    def projection_func(tup):\n",
    "        y, x = tup # expect key (int, 1xD vector)\n",
    "        projs = x.T.dot(Z) # random projections\n",
    "        bucket = to_bucket(projs)\n",
    "        return (bucket, y)\n",
    "    \n",
    "    return (Z,projection_func)"
   ]
  },
  {
   "cell_type": "code",
   "execution_count": 79,
   "metadata": {
    "collapsed": false
   },
   "outputs": [
    {
     "name": "stdout",
     "output_type": "stream",
     "text": [
      "bucket: 4 , in bucket: 39 , gini_impurity: 0.632479\n",
      "bucket: 10 , in bucket: 99 , gini_impurity: 0.480563\n",
      "bucket: 11 , in bucket: 235 , gini_impurity: 0.503794\n",
      "bucket: 12 , in bucket: 8 , gini_impurity: 0.000000\n",
      "bucket: 14 , in bucket: 108 , gini_impurity: 0.245370\n",
      "bucket: 17 , in bucket: 27 , gini_impurity: 0.400549\n",
      "bucket: 19 , in bucket: 2 , gini_impurity: 0.000000\n",
      "bucket: 20 , in bucket: 342 , gini_impurity: 0.515988\n",
      "bucket: 21 , in bucket: 34 , gini_impurity: 0.290657\n",
      "bucket: 27 , in bucket: 106 , gini_impurity: 0.018690\n"
     ]
    }
   ],
   "source": [
    "Z, hash_func = config_random_projection(d)\n",
    "\n",
    "gini_impurities = data_RDD.map(hash_func).map(to_dict).reduceByKey(reduce_count_clusters).map(gini_impurity).collect()\n",
    "for b, g, c in sorted(gini_impurities):\n",
    "    print \"bucket: %s , in bucket: %d , gini_impurity: %f\" % (b, c, g)"
   ]
  },
  {
   "cell_type": "code",
   "execution_count": 80,
   "metadata": {
    "collapsed": false
   },
   "outputs": [
    {
     "data": {
      "text/plain": [
       "<matplotlib.collections.PathCollection at 0x10fcc7190>"
      ]
     },
     "execution_count": 80,
     "metadata": {},
     "output_type": "execute_result"
    },
    {
     "data": {
      "image/png": "[encoded data removed]",
      "text/plain": [
       "<matplotlib.figure.Figure at 0x10f470bd0>"
      ]
     },
     "metadata": {},
     "output_type": "display_data"
    }
   ],
   "source": [
    "c0 = np.stack(data_RDD.filter(lambda t: t[0] == 0).map(lambda t: t[1]).collect())\n",
    "c1 = np.stack(data_RDD.filter(lambda t: t[0] == 1).map(lambda t: t[1]).collect())\n",
    "c2 = np.stack(data_RDD.filter(lambda t: t[0] == 2).map(lambda t: t[1]).collect())\n",
    "c3 = np.stack(data_RDD.filter(lambda t: t[0] == 3).map(lambda t: t[1]).collect())\n",
    "c4 = np.stack(data_RDD.filter(lambda t: t[0] == 4).map(lambda t: t[1]).collect())\n",
    "\n",
    "plt.scatter(c0[:,0],c0[:,1],color='g')\n",
    "plt.scatter(c1[:,0],c1[:,1],color='y')\n",
    "plt.scatter(c2[:,0],c2[:,1],color='b')\n",
    "plt.scatter(c3[:,0],c3[:,1],color='k')\n",
    "plt.scatter(c4[:,0],c4[:,1],color='m')\n",
    "\n",
    "# projection vectors\n",
    "plt.scatter(Z.T[:,0],Z.T[:,1],color='r',s=50)"
   ]
  },
  {
   "cell_type": "code",
   "execution_count": 82,
   "metadata": {
    "collapsed": false
   },
   "outputs": [
    {
     "name": "stdout",
     "output_type": "stream",
     "text": [
      "10 projections, gini_impurity: 0.323927\n",
      "20 projections, gini_impurity: 0.320727\n",
      "30 projections, gini_impurity: 0.308666\n",
      "40 projections, gini_impurity: 0.288594\n",
      "50 projections, gini_impurity: 0.291495\n",
      "60 projections, gini_impurity: 0.280579\n",
      "70 projections, gini_impurity: 0.279023\n",
      "80 projections, gini_impurity: 0.279276\n",
      "90 projections, gini_impurity: 0.273450\n",
      "100 projections, gini_impurity: 0.261169\n",
      "110 projections, gini_impurity: 0.256947\n",
      "120 projections, gini_impurity: 0.252413\n",
      "130 projections, gini_impurity: 0.250071\n",
      "140 projections, gini_impurity: 0.241604\n",
      "150 projections, gini_impurity: 0.226363\n",
      "160 projections, gini_impurity: 0.235258\n",
      "170 projections, gini_impurity: 0.235970\n",
      "180 projections, gini_impurity: 0.235551\n",
      "190 projections, gini_impurity: 0.219793\n",
      "200 projections, gini_impurity: 0.227680\n"
     ]
    }
   ],
   "source": [
    "# impurity as we scale up the number of hyperplanes used for projections\n",
    "\n",
    "for n_Z in range(10,201,10):\n",
    "    Z, hash_func = config_random_projection(d, n_Z)\n",
    "    gini_impurities = data_RDD.map(hash_func).map(to_dict).reduceByKey(reduce_count_clusters).map(gini_impurity).collect()\n",
    "    g_i = weighted_gini(gini_impurities)\n",
    "    print \"%d projections, gini_impurity: %f\" % (n_Z, g_i)\n",
    "    "
   ]
  },
  {
   "cell_type": "code",
   "execution_count": null,
   "metadata": {
    "collapsed": true
   },
   "outputs": [],
   "source": []
  }
 ],
 "metadata": {
  "kernelspec": {
   "display_name": "Python 2",
   "language": "python",
   "name": "python2"
  },
  "language_info": {
   "codemirror_mode": {
    "name": "ipython",
    "version": 2
   },
   "file_extension": ".py",
   "mimetype": "text/x-python",
   "name": "python",
   "nbconvert_exporter": "python",
   "pygments_lexer": "ipython2",
   "version": "2.7.10"
  }
 },
 "nbformat": 4,
 "nbformat_minor": 0
}
