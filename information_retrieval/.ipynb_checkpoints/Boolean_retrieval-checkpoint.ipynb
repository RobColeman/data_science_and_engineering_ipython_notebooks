{
 "cells": [
  {
   "cell_type": "code",
   "execution_count": 6,
   "metadata": {
    "collapsed": true
   },
   "outputs": [],
   "source": [
    "%matplotlib inline\n",
    "#%load_ext autoreload\n",
    "#%autoreload 2\n",
    "%reload_ext autoreload\n",
    "import numpy as np\n",
    "import matplotlib.pyplot as plt\n",
    "import math, sys, os\n",
    "from numpy.random import randn"
   ]
  },
  {
   "cell_type": "markdown",
   "metadata": {},
   "source": [
    "#### loading methods"
   ]
  },
  {
   "cell_type": "code",
   "execution_count": 11,
   "metadata": {
    "collapsed": true
   },
   "outputs": [],
   "source": [
    "\n",
    "def get_text_files(cwd = os.getcwd().replace(\"/information_retrieval\",\"/data/text/gutenberg\")):\n",
    "    paths = []\n",
    "    for f in os.listdir(cwd):\n",
    "        if f.endswith(\".txt\"):\n",
    "            paths.append(cwd + \"/\" + f )\n",
    "    return paths\n",
    "\n",
    "\n",
    "def clean_line(line):\n",
    "    remove_chs = [\"\\n\",\".\",\",\",\";\",\":\",\"/\",\"!\",\"[\",\"]\",\"?\"]\n",
    "    for ch in remove_chs:\n",
    "        line = line.replace(ch,\"\")\n",
    "    return line.lower()\n",
    "\n",
    "\n",
    "def get_local_filename(file_path): \n",
    "    return file_path.split(\"/\")[-1].replace(\".txt\",\"\")\n",
    "\n",
    "\n",
    "def tokenize_line(line, doc_name = False):\n",
    "    line = clean_line(line)\n",
    "    if len(line) == 0: \n",
    "        return []\n",
    "    if doc_name:\n",
    "        return [((doc_name,word),1) for word in line.split(\" \")]\n",
    "    else:\n",
    "        return [(word,1) for word in line.split(\" \")]\n",
    "\n",
    "\n",
    "def tokenize_text_file(file_path, with_doc_name = False):\n",
    "    tokens = []\n",
    "    if with_doc_name:\n",
    "        doc_name = get_local_filename(file_path)\n",
    "    else:\n",
    "        doc_name = False\n",
    "    tokens = []\n",
    "    for line in open(file_path,\"r+\"):\n",
    "        tokens.extend(tokenize_line(line, doc_name))\n",
    "    \n",
    "    return tokens\n",
    "\n",
    "total_count_key = \"_total\"\n",
    "doc_name_key = \"_document_name\"\n",
    "\n",
    "def word_count_hash_from_text_file(file_path):\n",
    "    wch = {total_count_key: 0, \n",
    "           doc_name_key: get_local_filename(file_path)}\n",
    "    \n",
    "    for line in open(file_path,\"r+\"):\n",
    "        line = clean_line(line)\n",
    "        if len(line) == 0: \n",
    "            continue\n",
    "        for word in line.split(\" \"):\n",
    "            if word in wch:\n",
    "                wch[word] += 1\n",
    "            else:\n",
    "                wch[word] = 1\n",
    "            wch[total_count_key] += 1\n",
    "    \n",
    "    return wch\n",
    "\n",
    "def word_frequency_hash_from_text_file(file_path):\n",
    "    wch = word_count_hash_from_text_file(file_path)\n",
    "    total = float(wch[total_count_key])\n",
    "    for word, count in wch.items():\n",
    "        if word == total_count_key:\n",
    "            continue\n",
    "        if not type(count) == int:\n",
    "            continue\n",
    "        wch[word] = count / total\n",
    "    return wch\n",
    "    "
   ]
  },
  {
   "cell_type": "markdown",
   "metadata": {},
   "source": [
    "## The Inverted Index"
   ]
  },
  {
   "cell_type": "code",
   "execution_count": 65,
   "metadata": {
    "collapsed": true
   },
   "outputs": [],
   "source": [
    "def get_inverted_index_and_counts(file_paths):\n",
    "    index = {}\n",
    "    wchs = {}\n",
    "    for file_path in file_paths:\n",
    "        wch = word_count_hash_from_text_file(file_path)\n",
    "        \n",
    "        for w in wch.keys():\n",
    "            if w in index:\n",
    "                index[w].add(wch[doc_name_key]) # add doc to posting list\n",
    "            else:\n",
    "                index[w] = set([wch[doc_name_key]]) # create new word key and doc to posting list\n",
    "        wchs[wch[doc_name_key]] = wch\n",
    "    \n",
    "    return (index, wchs)\n"
   ]
  },
  {
   "cell_type": "code",
   "execution_count": 40,
   "metadata": {
    "collapsed": true
   },
   "outputs": [],
   "source": [
    "inverted_index, wchs = get_inverted_index_and_counts(get_text_files())\n",
    "# a query method wrapper around the index\n",
    "docs_with = lambda word: inverted_index[word]"
   ]
  },
  {
   "cell_type": "code",
   "execution_count": 41,
   "metadata": {
    "collapsed": false
   },
   "outputs": [
    {
     "data": {
      "text/plain": [
       "75191"
      ]
     },
     "execution_count": 41,
     "metadata": {},
     "output_type": "execute_result"
    }
   ],
   "source": [
    "len(inverted_index)"
   ]
  },
  {
   "cell_type": "markdown",
   "metadata": {},
   "source": [
    "### Query processing"
   ]
  },
  {
   "cell_type": "markdown",
   "metadata": {},
   "source": [
    "#### By term"
   ]
  },
  {
   "cell_type": "code",
   "execution_count": 60,
   "metadata": {
    "collapsed": false
   },
   "outputs": [
    {
     "name": "stdout",
     "output_type": "stream",
     "text": [
      "Search for: 'cooking'\n",
      "set(['whitman-leaves', 'chesterton-ball', 'melville-moby_dick', 'bryant-stories'])\n",
      "\n",
      "Search for: 'dollar'\n",
      "set(['whitman-leaves', 'chesterton-ball', 'melville-moby_dick'])\n",
      "\n",
      "Search for: 'dime'\n",
      "set(['whitman-leaves'])\n",
      "\n",
      "Search for: 'peak'\n",
      "set(['whitman-leaves', 'melville-moby_dick', 'chesterton-thursday', 'chesterton-brown'])\n",
      "\n",
      "Search for: 'whale'\n",
      "set(['melville-moby_dick', 'shakespeare-hamlet', 'bible-kjv', 'chesterton-ball', 'bryant-stories', 'whitman-leaves'])\n"
     ]
    }
   ],
   "source": [
    "word0 = \"cooking\"\n",
    "word1 = \"dollar\"\n",
    "word2 = \"dime\"\n",
    "word3 = \"peak\"\n",
    "word4 = \"mountain\"\n",
    "word5 = \"climb\"\n",
    "word6 = \"whale\"\n",
    "\n",
    "print \"Search for: '%s'\" % word0\n",
    "print docs_with(word0)\n",
    "\n",
    "print \"\"\n",
    "print \"Search for: '%s'\" % word1\n",
    "print docs_with(word1)\n",
    "\n",
    "print \"\"\n",
    "print \"Search for: '%s'\" % word2\n",
    "print docs_with(word2)\n",
    "\n",
    "print \"\"\n",
    "print \"Search for: '%s'\" % word3\n",
    "print docs_with(word3)\n",
    "\n",
    "print \"\"\n",
    "print \"Search for: '%s'\" % word6\n",
    "print docs_with(word6)"
   ]
  },
  {
   "cell_type": "markdown",
   "metadata": {},
   "source": [
    "#### Using set operations we can handle more complicated queries"
   ]
  },
  {
   "cell_type": "code",
   "execution_count": 63,
   "metadata": {
    "collapsed": false
   },
   "outputs": [
    {
     "name": "stdout",
     "output_type": "stream",
     "text": [
      "query: 'cooking and dollar' \n",
      "set(['whitman-leaves', 'chesterton-ball', 'melville-moby_dick'])\n",
      "\n",
      "query: 'cooking and dollar and not dime' \n",
      "set(['chesterton-ball', 'melville-moby_dick'])\n",
      "\n",
      "query: 'cooking or peak and not whale' \n",
      "set(['chesterton-thursday', 'chesterton-brown'])\n"
     ]
    }
   ],
   "source": [
    "print \"query: '%s and %s' \" % (word0, word1)\n",
    "print docs_with(word0).intersection(docs_with(word1))\n",
    "print \"\"\n",
    "print \"query: '%s and %s and not %s' \" % (word0, word1, word2)\n",
    "print docs_with(word0).intersection(docs_with(word1)).difference(docs_with(word2))\n",
    "print \"\"\n",
    "print \"query: '%s or %s and not %s' \" % (word0, word3, word6)\n",
    "print docs_with(word0).union(docs_with(word3)).difference(docs_with(word6))"
   ]
  },
  {
   "cell_type": "markdown",
   "metadata": {},
   "source": [
    "We can of course optimize this futher by ordering the posting lists by, ascending, term frequency, and intelligently ordering the set operations."
   ]
  },
  {
   "cell_type": "code",
   "execution_count": null,
   "metadata": {
    "collapsed": false
   },
   "outputs": [],
   "source": []
  },
  {
   "cell_type": "markdown",
   "metadata": {
    "collapsed": true
   },
   "source": [
    "## Skip pointers"
   ]
  },
  {
   "cell_type": "code",
   "execution_count": null,
   "metadata": {
    "collapsed": true
   },
   "outputs": [],
   "source": [
    "class Posting_Node:\n",
    "    \n",
    "    def __init__(self, document_id, next = None):\n",
    "        self.documentId = documentId\n",
    "        self.skip_ponter = None\n",
    "        self.next = next\n",
    "        \n",
    "    def update_skip_pointer(self, n_nodes):\n",
    "        pointee = self\n",
    "        for x in range(n_nodes):\n",
    "            pointee = pointee.next\n",
    "        self.skip_ponter = pointee\n",
    "    \n",
    "    def append(self, document_id):\n",
    "        new = Posting_Node(document_id, None)\n",
    "        self.next = new\n",
    "        return new\n",
    "    # implicit ordering\n",
    "\n",
    "def add_to_new_posting_list(l, document_id):\n",
    "    if l == None:\n",
    "        return Posting_Node(document_id)\n",
    "    else:\n",
    "        return l.append(document_id)\n",
    "\n",
    "def skip_advance(p_lower, p_upper):\n",
    "    if (not p_lower.skip_ponter == None) and (p_lower.skip_ponter.document_id < p_upper.document_id):\n",
    "        return skip_advance(p_lower.skip_ponter, p_upper)\n",
    "    elif (not p_lower.skip_ponter == None) and (p_lower.skip_ponter.document_id == p_upper.document_id):\n",
    "        return p_lower.skip_ponter\n",
    "    else:\n",
    "        return p_lower.next\n",
    "    \n",
    "def intersect(p1, p2):\n",
    "    \"\"\"\n",
    "    p1: set of Postings, head of a singly linked list\n",
    "    p2: set of postings, head of a singly linked list\n",
    "    \n",
    "    we use the skip pointers to collect the intersection of the two in \n",
    "    \"\"\"\n",
    "    intersect_list = None\n",
    "    while (not p1.next == Node) and (not p2.next == Node):\n",
    "        if p1.document_id == p2.document_id:\n",
    "            intersect_list = add_to_new_posting_list(intersect_list, p1.document_id)\n",
    "            p1 = p1.next\n",
    "            p2 = p2.next\n",
    "        elif p1.document_id < p2.document_id:\n",
    "            p1 = skip_advance(p1, p2)\n",
    "        else:\n",
    "            p2 = skip_advance(p2, p1)\n",
    "    \n",
    "    return intersect_list\n",
    "\n"
   ]
  }
 ],
 "metadata": {
  "kernelspec": {
   "display_name": "Python 2",
   "language": "python",
   "name": "python2"
  },
  "language_info": {
   "codemirror_mode": {
    "name": "ipython",
    "version": 2
   },
   "file_extension": ".py",
   "mimetype": "text/x-python",
   "name": "python",
   "nbconvert_exporter": "python",
   "pygments_lexer": "ipython2",
   "version": "2.7.10"
  }
 },
 "nbformat": 4,
 "nbformat_minor": 0
}
