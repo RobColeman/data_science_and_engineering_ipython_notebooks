{
 "cells": [
  {
   "cell_type": "markdown",
   "metadata": {},
   "source": [
    "# Ball and bean sampling"
   ]
  },
  {
   "cell_type": "code",
   "execution_count": 4,
   "metadata": {
    "collapsed": false
   },
   "outputs": [],
   "source": [
    "from math import factorial\n",
    "\n",
    "def prob_dec_red(W,R):\n",
    "    return 1 - 2*(W / (W+R)) + ((W / (W+R)))**2\n",
    "\n",
    "def n_choose_k(n,k):\n",
    "    return factorial(n) / (factorial(k) * factorial(n - k))\n",
    "\n",
    "def compute_prob_of_last_white(W,R):\n",
    "    if W == 0: \n",
    "        return 0\n",
    "    \n",
    "    output_prob = 0\n",
    "    # up to w - 1\n",
    "    # prob of selecting all of 0 until w - 1\n",
    "    # sum of probs of selecting this many W and all R\n",
    "    for num_W_selected in range(W):\n",
    "        n_trials = num_W_selected + R\n",
    "        coeff = n_choose_k(n_trials, R)\n",
    "        p = R / float(R + W)\n",
    "        output_prob += p ** R * (1 - p)**(num_W_selected)\n",
    "\n",
    "    return output_prob\n"
   ]
  },
  {
   "cell_type": "markdown",
   "metadata": {
    "collapsed": true
   },
   "source": [
    "# 50 card deck of 5 colors and 10 numbers\n",
    "\n",
    "There are 50 cards of 5 different colors. It comprises of 10 Red cards, 10 blue cards, 10 orange cards, 10 green cards and 10 yellow cards. Each color will have the cards numbered between 1 to10. You pick 2 cards at random. What is the probability that they are not of same color and not of same number.  \n",
    "\n",
    "Solution:\n",
    "\n",
    "Given your card, whatever color and type (say red and 5), you now have 49 card remaining, 9 red, 4 fives, and the rest unchanged.  The probability of the next card being not red and not a five is P(~red, ~5 | remaining cards).  Red and 5 are not dependant in this case so we can break this into P(~red | remaining cards) * P(~5 | remaining cards).\n",
    "\n",
    "P(red | remaining cards) = 9 / 49,\n",
    "\n",
    "P(5 | remaining cards) = 4 / 49\n",
    "\n",
    "The law of total probability allows us to get the compliments:\n",
    "\n",
    "P(~red | remaining cards) = 1 - (9 / 49) = 40 / 49,\n",
    "\n",
    "P(~5 | remaining cards) = 1 - (4 / 49) = 45 / 49\n",
    "\n",
    "So,\n",
    "\n",
    "40 / 49 * 45 / 49 =  1800 / 2401"
   ]
  },
  {
   "cell_type": "code",
   "execution_count": null,
   "metadata": {
    "collapsed": true
   },
   "outputs": [],
   "source": []
  }
 ],
 "metadata": {
  "kernelspec": {
   "display_name": "Python 3",
   "language": "python",
   "name": "python3"
  },
  "language_info": {
   "codemirror_mode": {
    "name": "ipython",
    "version": 3
   },
   "file_extension": ".py",
   "mimetype": "text/x-python",
   "name": "python",
   "nbconvert_exporter": "python",
   "pygments_lexer": "ipython3",
   "version": "3.5.1"
  }
 },
 "nbformat": 4,
 "nbformat_minor": 0
}
