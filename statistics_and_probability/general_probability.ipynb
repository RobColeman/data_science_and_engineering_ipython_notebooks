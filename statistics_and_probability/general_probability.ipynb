{
 "cells": [
  {
   "cell_type": "markdown",
   "metadata": {},
   "source": [
    "# Ball and bean sampling"
   ]
  },
  {
   "cell_type": "code",
   "execution_count": 4,
   "metadata": {
    "collapsed": false
   },
   "outputs": [],
   "source": [
    "from math import factorial\n",
    "\n",
    "def prob_dec_red(W,R):\n",
    "    return 1 - 2*(W / (W+R)) + ((W / (W+R)))**2\n",
    "\n",
    "def n_choose_k(n,k):\n",
    "    return factorial(n) / (factorial(k) * factorial(n - k))\n",
    "\n",
    "def compute_prob_of_last_white(W,R):\n",
    "    if W == 0: \n",
    "        return 0\n",
    "    \n",
    "    output_prob = 0\n",
    "    # up to w - 1\n",
    "    # prob of selecting all of 0 until w - 1\n",
    "    # sum of probs of selecting this many W and all R\n",
    "    for num_W_selected in range(W):\n",
    "        n_trials = num_W_selected + R\n",
    "        coeff = n_choose_k(n_trials, R)\n",
    "        p = R / float(R + W)\n",
    "        output_prob += p ** R * (1 - p)**(num_W_selected)\n",
    "\n",
    "    return output_prob\n"
   ]
  },
  {
   "cell_type": "code",
   "execution_count": null,
   "metadata": {
    "collapsed": true
   },
   "outputs": [],
   "source": []
  }
 ],
 "metadata": {
  "kernelspec": {
   "display_name": "Python 2",
   "language": "python",
   "name": "python2"
  },
  "language_info": {
   "codemirror_mode": {
    "name": "ipython",
    "version": 2
   },
   "file_extension": ".py",
   "mimetype": "text/x-python",
   "name": "python",
   "nbconvert_exporter": "python",
   "pygments_lexer": "ipython2",
   "version": "2.7.10"
  }
 },
 "nbformat": 4,
 "nbformat_minor": 0
}
