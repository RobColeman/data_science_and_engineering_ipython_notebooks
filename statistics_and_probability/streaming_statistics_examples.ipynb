{
 "cells": [
  {
   "cell_type": "markdown",
   "metadata": {},
   "source": [
    "# Example Streaming Statistics Algorithms"
   ]
  },
  {
   "cell_type": "code",
   "execution_count": 56,
   "metadata": {
    "collapsed": true
   },
   "outputs": [],
   "source": [
    "%matplotlib inline\n",
    "#%load_ext autoreload\n",
    "#%autoreload 2\n",
    "%reload_ext autoreload\n",
    "import numpy as np\n",
    "import matplotlib.pyplot as plt\n",
    "import math, sys, os\n",
    "from copy import deepcopy\n",
    "from numpy.random import randn\n",
    "\n",
    "# and pandas\n",
    "import pandas as pd"
   ]
  },
  {
   "cell_type": "markdown",
   "metadata": {},
   "source": [
    "## Sample Moments"
   ]
  },
  {
   "cell_type": "code",
   "execution_count": 65,
   "metadata": {
    "collapsed": false
   },
   "outputs": [],
   "source": [
    "class SampleMoments:\n",
    "    \n",
    "    def __init__(self):\n",
    "        self.n = 0.0\n",
    "        self.sum = 0.0\n",
    "        self.mean = 0.0\n",
    "        self._M2 = 0.0\n",
    "        self.variance = 0.0\n",
    "    \n",
    "    def show(self):\n",
    "        s = \"  count: %f , sum: %f , mean: %f , variance: %f\" % (self.n, self.sum, self.mean, self.variance)\n",
    "        print(\"SampleMoments: \")\n",
    "        print(s)\n",
    "    \n",
    "    def _update(self, data):\n",
    "        for x in data:\n",
    "            self.n += 1.0\n",
    "            self.sum += float(x)\n",
    "            delta = float(x - self.mean)\n",
    "            self.mean += delta / float(self.n)\n",
    "            self._M2 += delta**2\n",
    "            if self.n < 2:\n",
    "                self.variance = 0.0\n",
    "            else:\n",
    "                self.variance = self._M2 / float(self.n - 1)\n",
    "\n",
    "    def update(self, arg):\n",
    "        if (type(arg) == list) or (type(arg) == np.ndarray):\n",
    "            data = arg\n",
    "        elif (type(arg) == int) or (type(arg) == float):\n",
    "            data = [arg]\n",
    "        else:\n",
    "            raise TypeError(\"Incompatable type: %s\" % str(type(arg)))\n",
    "        self._update(data)"
   ]
  },
  {
   "cell_type": "code",
   "execution_count": 66,
   "metadata": {
    "collapsed": false
   },
   "outputs": [
    {
     "name": "stdout",
     "output_type": "stream",
     "text": [
      "SampleMoments: \n",
      "  count: 0.000000 , sum: 0.000000 , mean: 0.000000 , variance: 0.000000\n",
      "SampleMoments: \n",
      "  count: 5.000000 , sum: 10.000000 , mean: 2.000000 , variance: 3.375000\n",
      "SampleMoments: \n",
      "  count: 10.000000 , sum: 45.000000 , mean: 4.500000 , variance: 10.666667\n",
      "SampleMoments: \n",
      "  count: 110.000000 , sum: 1045.000000 , mean: 9.500000 , variance: 3.545897\n"
     ]
    },
    {
     "data": {
      "text/plain": [
       "<matplotlib.axes._subplots.AxesSubplot at 0x1090c0050>"
      ]
     },
     "execution_count": 66,
     "metadata": {},
     "output_type": "execute_result"
    },
    {
     "data": {
      "image/png": "[encoded data removed]",
      "text/plain": [
       "<matplotlib.figure.Figure at 0x109036350>"
      ]
     },
     "metadata": {},
     "output_type": "display_data"
    }
   ],
   "source": [
    "a0 = [0,1,2,3,4]\n",
    "a1 = [5,6,7,8,9]\n",
    "a2 = [10]*100\n",
    "\n",
    "SM = SampleMoments()\n",
    "SM.show()\n",
    "SM.update(a0)\n",
    "SM.show()\n",
    "SM.update(a1)\n",
    "SM.show()\n",
    "SM.update(a2)\n",
    "SM.show()\n",
    "\n",
    "MU = []\n",
    "SIGMA = []\n",
    "SM = SampleMoments()\n",
    "data = a0 + a1 + a2\n",
    "N = range(1,len(data) + 1)\n",
    "for i in data:\n",
    "    SM.update(i)\n",
    "    MU += [SM.mean]\n",
    "    SIGMA += [SM.variance]\n",
    "\n",
    "# plot it\n",
    "MU = pd.Series(MU, index = N)\n",
    "SIGMA = pd.Series(SIGMA, index = N)\n",
    "pd.concat([MU,SIGMA],axis=1,keys=['mean', 'variance']).plot()"
   ]
  },
  {
   "cell_type": "markdown",
   "metadata": {},
   "source": [
    "## Iterpolation based Approximate Histogram"
   ]
  },
  {
   "cell_type": "code",
   "execution_count": 67,
   "metadata": {
    "collapsed": true
   },
   "outputs": [],
   "source": [
    "# TODO\n",
    "# class tDigest:"
   ]
  },
  {
   "cell_type": "code",
   "execution_count": null,
   "metadata": {
    "collapsed": true
   },
   "outputs": [],
   "source": []
  }
 ],
 "metadata": {
  "kernelspec": {
   "display_name": "Python 2",
   "language": "python",
   "name": "python2"
  },
  "language_info": {
   "codemirror_mode": {
    "name": "ipython",
    "version": 2
   },
   "file_extension": ".py",
   "mimetype": "text/x-python",
   "name": "python",
   "nbconvert_exporter": "python",
   "pygments_lexer": "ipython2",
   "version": "2.7.10"
  }
 },
 "nbformat": 4,
 "nbformat_minor": 0
}
