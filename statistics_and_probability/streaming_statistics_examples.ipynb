{
 "cells": [
  {
   "cell_type": "markdown",
   "metadata": {},
   "source": [
    "# Example Streaming Statistics Algorithms"
   ]
  },
  {
   "cell_type": "code",
   "execution_count": 56,
   "metadata": {
    "collapsed": true
   },
   "outputs": [],
   "source": [
    "%matplotlib inline\n",
    "#%load_ext autoreload\n",
    "#%autoreload 2\n",
    "%reload_ext autoreload\n",
    "import numpy as np\n",
    "import matplotlib.pyplot as plt\n",
    "import math, sys, os\n",
    "from copy import deepcopy\n",
    "from numpy.random import randn\n",
    "\n",
    "# and pandas\n",
    "import pandas as pd"
   ]
  },
  {
   "cell_type": "markdown",
   "metadata": {},
   "source": [
    "## Sample Moments"
   ]
  },
  {
   "cell_type": "code",
   "execution_count": 103,
   "metadata": {
    "collapsed": false
   },
   "outputs": [],
   "source": [
    "class SampleMoments(object):\n",
    "    \n",
    "    def __init__(self):\n",
    "        self.n = 0.0\n",
    "        self.sum = 0.0\n",
    "        self.mean = 0.0\n",
    "        self._M2 = 0.0\n",
    "        self.variance = 0.0\n",
    "    \n",
    "    def __repr__(self):\n",
    "        return \"\"\"<SampleMoments: count=%.8f, sum=%.8f, mean=%.8f, variance=%.8f>\"\"\" % (self.n, self.sum, self.mean, self.variance)\n",
    "    \n",
    "    def __eq__(self, other):\n",
    "        n = self.n == other.n\n",
    "        s = self.sum == other.sum\n",
    "        m = self.mean == other.mean\n",
    "        v = self.variance == other.variance\n",
    "        return n and s and m and v\n",
    "    \n",
    "    \n",
    "    def update(self, x):\n",
    "        if not (type(x) == int) or (type(x) == float):\n",
    "            raise TypeError(\"Incompatable type: %s\" % str(type(x)))\n",
    "        self.n += 1.0\n",
    "        self.sum += float(x)\n",
    "        delta = float(x - self.mean)\n",
    "        self.mean += delta / float(self.n)\n",
    "        self._M2 += delta**2\n",
    "        if self.n < 2:\n",
    "            self.variance = 0.0\n",
    "        else:\n",
    "            self.variance = self._M2 / float(self.n - 1)\n",
    "\n",
    "    def batch_update(self, arg):\n",
    "        if (type(arg) == list) or (type(arg) == np.ndarray):\n",
    "            data = arg\n",
    "        elif (type(arg) == int) or (type(arg) == float):\n",
    "            data = [arg]\n",
    "        else:\n",
    "            raise TypeError(\"Incompatable type: %s\" % str(type(arg)))\n",
    "        \n",
    "        for x in data:\n",
    "            self.update(x)\n"
   ]
  },
  {
   "cell_type": "code",
   "execution_count": 104,
   "metadata": {
    "collapsed": false
   },
   "outputs": [
    {
     "name": "stdout",
     "output_type": "stream",
     "text": [
      "<SampleMoments: count=0.00000000, sum=0.00000000, mean=0.00000000, variance=0.00000000>\n",
      "<SampleMoments: count=5.00000000, sum=10.00000000, mean=2.00000000, variance=3.37500000>\n",
      "<SampleMoments: count=10.00000000, sum=45.00000000, mean=4.50000000, variance=10.66666667>\n",
      "<SampleMoments: count=100.00000000, sum=945.00000000, mean=9.45000000, variance=3.87602436>\n"
     ]
    },
    {
     "data": {
      "text/plain": [
       "<matplotlib.axes._subplots.AxesSubplot at 0x10a79b2d0>"
      ]
     },
     "execution_count": 104,
     "metadata": {},
     "output_type": "execute_result"
    },
    {
     "data": {
      "image/png": "[encoded data removed]",
      "text/plain": [
       "<matplotlib.figure.Figure at 0x109ac5c50>"
      ]
     },
     "metadata": {},
     "output_type": "display_data"
    }
   ],
   "source": [
    "a0 = [0,1,2,3,4]\n",
    "a1 = [5,6,7,8,9]\n",
    "a2 = [10]*90\n",
    "\n",
    "SM = SampleMoments()\n",
    "print(SM)\n",
    "SM.batch_update(a0)\n",
    "print(SM)\n",
    "SM.batch_update(a1)\n",
    "print(SM)\n",
    "SM.batch_update(a2)\n",
    "print(SM)\n",
    "\n",
    "\n",
    "\n",
    "MU = []\n",
    "SIGMA = []\n",
    "SM = SampleMoments()\n",
    "data = a0 + a1 + a2\n",
    "N = range(1,len(data) + 1)\n",
    "for i in data:\n",
    "    SM.update(i)\n",
    "    MU += [SM.mean]\n",
    "    SIGMA += [SM.variance]\n",
    "\n",
    "# plot it\n",
    "MU = pd.Series(MU, index = N)\n",
    "SIGMA = pd.Series(SIGMA, index = N)\n",
    "pd.concat([MU,SIGMA],axis=1,keys=['mean', 'variance']).plot()\n",
    "\n"
   ]
  },
  {
   "cell_type": "markdown",
   "metadata": {},
   "source": [
    "## Iterpolation based Approximate Histogram"
   ]
  },
  {
   "cell_type": "markdown",
   "metadata": {},
   "source": [
    "### tDigest\n",
    "\n",
    "There are very good, optimized, implimentations freely available.\n",
    "\n",
    "[paper](https://github.com/tdunning/t-digest/blob/master/docs/t-digest-paper/histo.pdf)\n",
    "[java](https://github.com/tdunning/t-digest)\n",
    "[python](https://github.com/CamDavidsonPilon/tdigest/blob/master/tdigest/tdigest.py)\n",
    "\n",
    "My own quick, scala implimentation can be found as a Gist [here](https://gist.github.com/RobColeman/c4c948f6365dc788a09d)."
   ]
  },
  {
   "cell_type": "code",
   "execution_count": null,
   "metadata": {
    "collapsed": true
   },
   "outputs": [],
   "source": []
  }
 ],
 "metadata": {
  "kernelspec": {
   "display_name": "Python 2",
   "language": "python",
   "name": "python2"
  },
  "language_info": {
   "codemirror_mode": {
    "name": "ipython",
    "version": 2
   },
   "file_extension": ".py",
   "mimetype": "text/x-python",
   "name": "python",
   "nbconvert_exporter": "python",
   "pygments_lexer": "ipython2",
   "version": "2.7.10"
  }
 },
 "nbformat": 4,
 "nbformat_minor": 0
}
