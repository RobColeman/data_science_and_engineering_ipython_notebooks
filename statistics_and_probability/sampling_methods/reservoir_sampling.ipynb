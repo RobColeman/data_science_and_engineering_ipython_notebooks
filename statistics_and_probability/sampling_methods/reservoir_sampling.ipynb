{
 "cells": [
  {
   "cell_type": "markdown",
   "metadata": {},
   "source": [
    "# Reservoir sampling\n",
    "\n",
    "Is a sampling method use to collect iid samples from am unbounded stream of data.\n",
    "\n",
    "The concept is that you have a stream of valus comming in starting at index 0, and growing to index n, where n is increasing forever.  You have a sample from this stream of size k, where each value has an equal probability of being in the sample (k/n).\n",
    "\n",
    "The algorithm:\n",
    "    For the first k values, collect them all and put them in your sample array.\n",
    "    For the n = k+1, or the k+1th value in the stream, \n",
    "        keep the new item with probability k/n,\n",
    "        if we choose to keep the new item, we replace one of the current samples with the new sample, with a uniform probability (1/k),\n",
    "        This means that the probability of each item remaining in the sample is (k/n) * (1/k), or (1/n), which is what we want."
   ]
  },
  {
   "cell_type": "code",
   "execution_count": 14,
   "metadata": {
    "collapsed": false
   },
   "outputs": [
    {
     "name": "stdout",
     "output_type": "stream",
     "text": [
      "[953, 955, 2, 414, 210, 916, 690, 750, 902, 64, 947, 11, 44, 545, 688, 38, 245, 45, 776, 211, 326, 599, 905, 362, 730]\n"
     ]
    }
   ],
   "source": [
    "from random import randint\n",
    "\n",
    "class ReservoirSampler:\n",
    "    \n",
    "    def __init__(self, sample_size):\n",
    "        self.samples = []\n",
    "        self.sample_size = sample_size\n",
    "        self.seen_values = 0\n",
    "    \n",
    "    def is_full(self):\n",
    "        return len(self.samples) == self.sample_size\n",
    "    \n",
    "    def update_sample(self, new_value):\n",
    "        self.seen_values += 1\n",
    "        if not self.is_full():\n",
    "            # collect the first k\n",
    "            self.samples.append(new_value)\n",
    "        else:\n",
    "            # select value, j, between (0,n-1)\n",
    "            # it has a k/n probability of being in range (0,k-1)\n",
    "            # if it is, replace samples[j] with the new value\n",
    "            j = randint(0,self.seen_values)\n",
    "            if j < self.sample_size:\n",
    "                self.samples[j] = new_value\n",
    "        \n",
    "\n",
    "r_sampler = ReservoirSampler(25)\n",
    "for i in range(1000):\n",
    "    r_sampler.update_sample(i)\n",
    "\n",
    "print(r_sampler.samples)"
   ]
  },
  {
   "cell_type": "code",
   "execution_count": null,
   "metadata": {
    "collapsed": true
   },
   "outputs": [],
   "source": []
  }
 ],
 "metadata": {
  "kernelspec": {
   "display_name": "Python 3",
   "language": "python",
   "name": "python3"
  },
  "language_info": {
   "codemirror_mode": {
    "name": "ipython",
    "version": 3
   },
   "file_extension": ".py",
   "mimetype": "text/x-python",
   "name": "python",
   "nbconvert_exporter": "python",
   "pygments_lexer": "ipython3",
   "version": "3.5.1"
  }
 },
 "nbformat": 4,
 "nbformat_minor": 0
}
