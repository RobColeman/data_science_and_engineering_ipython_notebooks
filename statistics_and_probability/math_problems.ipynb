{
 "cells": [
  {
   "cell_type": "markdown",
   "metadata": {},
   "source": [
    "## powers of 3"
   ]
  },
  {
   "cell_type": "code",
   "execution_count": 10,
   "metadata": {
    "collapsed": false
   },
   "outputs": [
    {
     "name": "stdout",
     "output_type": "stream",
     "text": [
      "True\n",
      "True\n",
      "True\n",
      "True\n",
      "True\n",
      "True\n",
      "True\n",
      "True\n",
      "True\n",
      "True\n"
     ]
    }
   ],
   "source": [
    "import math\n",
    "def is_power_of_three(n):\n",
    "    \"\"\"\n",
    "    :type n: int\n",
    "    :rtype: bool\n",
    "    \"\"\"\n",
    "    if n < 1:\n",
    "        return False\n",
    "    if n == 1:\n",
    "        return True\n",
    "    else:\n",
    "        while n > 3:\n",
    "            n = n / float(3)\n",
    "\n",
    "        if n == 3:\n",
    "            return True\n",
    "        else:\n",
    "            return False\n",
    "\n",
    "print is_power_of_three(1) == True\n",
    "print is_power_of_three(2) == False\n",
    "print is_power_of_three(3) == True\n",
    "print is_power_of_three(6) == False\n",
    "print is_power_of_three(9) == True\n",
    "print is_power_of_three(27) == True\n",
    "print is_power_of_three(28) == False\n",
    "print is_power_of_three(81) == True\n",
    "print is_power_of_three(100) == False\n",
    "print is_power_of_three(81*3) == True"
   ]
  },
  {
   "cell_type": "code",
   "execution_count": 11,
   "metadata": {
    "collapsed": true
   },
   "outputs": [],
   "source": [
    "## max number"
   ]
  },
  {
   "cell_type": "markdown",
   "metadata": {
    "collapsed": true
   },
   "source": [
    "Given two arrays of length m and n with digits 0-9 representing two numbers. Create the maximum number of length k <= m + n from digits of the two. The relative order of the digits from the same array must be preserved. Return an array of the k digits. You should try to optimize your time and space complexity.\n",
    "\n",
    "Example 1:\n",
    "\n",
    "nums1 = [3, 4, 6, 5]\n",
    "\n",
    "nums2 = [9, 1, 2, 5, 8, 3]\n",
    "\n",
    "k = 5\n",
    "\n",
    "return [9, 8, 6, 5, 3]\n",
    "\n",
    "Example 2:\n",
    "\n",
    "nums1 = [6, 7]\n",
    "\n",
    "nums2 = [6, 0, 4]\n",
    "\n",
    "k = 5\n",
    "\n",
    "return [6, 7, 6, 0, 4]\n",
    "\n",
    "Example 3:\n",
    "\n",
    "nums1 = [3, 9]\n",
    "\n",
    "nums2 = [8, 9]\n",
    "\n",
    "k = 3\n",
    "\n",
    "return [9, 8, 9]"
   ]
  },
  {
   "cell_type": "code",
   "execution_count": null,
   "metadata": {
    "collapsed": true
   },
   "outputs": [],
   "source": [
    "\n"
   ]
  }
 ],
 "metadata": {
  "kernelspec": {
   "display_name": "Python 2",
   "language": "python",
   "name": "python2"
  },
  "language_info": {
   "codemirror_mode": {
    "name": "ipython",
    "version": 2
   },
   "file_extension": ".py",
   "mimetype": "text/x-python",
   "name": "python",
   "nbconvert_exporter": "python",
   "pygments_lexer": "ipython2",
   "version": "2.7.10"
  }
 },
 "nbformat": 4,
 "nbformat_minor": 0
}
