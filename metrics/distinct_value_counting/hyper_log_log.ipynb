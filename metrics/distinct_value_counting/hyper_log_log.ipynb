{
 "cells": [
  {
   "cell_type": "code",
   "execution_count": null,
   "metadata": {
    "collapsed": true
   },
   "outputs": [],
   "source": []
  },
  {
   "cell_type": "code",
   "execution_count": 5,
   "metadata": {
    "collapsed": false
   },
   "outputs": [
    {
     "data": {
      "text/plain": [
       "0.673"
      ]
     },
     "execution_count": 5,
     "metadata": {},
     "output_type": "execute_result"
    }
   ],
   "source": [
    "class HyperLogLog:\n",
    "    \n",
    "    def __init__(self, b, scheduler_type = \"round_robin\"):\n",
    "        \"\"\"\n",
    "        b: rightmost bits to use, in [4,16]\n",
    "        \"\"\"\n",
    "        self.b = b\n",
    "        m, alpha = self._config(b)\n",
    "        self.alpha = alpha\n",
    "        self.m = m\n",
    "        self._registers = [0]*m\n",
    "        self.count = 0\n",
    "        self._get_register_index = self._config_get_scheduler_index(scheduler_type)\n",
    "    \n",
    "    def _config(self, b):\n",
    "        m = 2**b\n",
    "        if m == 16:\n",
    "            alpha = 0.673\n",
    "        elif m == 32:\n",
    "            alpha = 0.697\n",
    "        elif m == 64:\n",
    "            alpha = 0.709\n",
    "        else:\n",
    "            alpha = 0.7213/(1 + 1.079/m)\n",
    "        \n",
    "        return (m, alpha)\n",
    "    \n",
    "    def round_robin_scheduler(self):\n",
    "        return self.count % self.m\n",
    "    \n",
    "    def random_scheduler(self):\n",
    "        return randint(self.m)\n",
    "\n",
    "    def _config_get_register_index(scheduler_type = \"round_robin\"):\n",
    "        if scheduler_type == \"random\":\n",
    "            return random_scheduler\n",
    "        else:\n",
    "            return round_robin_scheduler\n",
    "    \n",
    "    def _run_of_zeros(h):\n",
    "        max_run, counter = 0, 0\n",
    "        for i in h[self.b:]:\n",
    "            if i == 0:\n",
    "                counter += 1\n",
    "            else:\n",
    "                counter = 0\n",
    "            if counter > max_run:\n",
    "                max_run = counter\n",
    "        return max_run\n",
    "    \n",
    "    def _count_of_zero_registers(self):\n",
    "        return sum([1 for r in self._registers if r == 0])\n",
    "    \n",
    "    def update(self, h):\n",
    "        \"\"\"\n",
    "        h: binary-hashed data\n",
    "        \"\"\"\n",
    "        register_index = self._get_register_index(h)\n",
    "        run_length = self._run_of_zeros(h)\n",
    "        self._registers[register_index] = max(self._registers[ register_index ], run_length)\n",
    "    \n",
    "    def estimate_DV(self):\n",
    "        harm_mean = self.m**2 * 1.0 / sum([2^-r for r in self._registers])\n",
    "        DV_est = self.alpha * harm_mean\n",
    "        \n",
    "        if DV_est < (5/2.0 * self.m): # small range correction\n",
    "            V = _count_of_zero_registers()\n",
    "            if V == 0:  # if none of the registers are empty, use the HLL estimate\n",
    "                  DV = DV_est\n",
    "            else:\n",
    "                  DV = self.m * log(self.m / V) # i.e. balls and bins correction\n",
    "        \n",
    "        if DV_est <= ( 1/30 * 2^32 ): # intermediate range, no correction\n",
    "             DV = DV_est\n",
    "        \n",
    "        if DV_est > ( 1/30 * 2^32 ): # large range correction\n",
    "             DV = -2^32 * log( 1 - DV_est/2^32)\n",
    "        \n",
    "        return DV\n",
    "\n",
    "    \n",
    "hll = HyperLogLog(4)\n",
    "hll.alpha"
   ]
  },
  {
   "cell_type": "code",
   "execution_count": null,
   "metadata": {
    "collapsed": true
   },
   "outputs": [],
   "source": []
  }
 ],
 "metadata": {
  "kernelspec": {
   "display_name": "Python 2",
   "language": "python",
   "name": "python2"
  },
  "language_info": {
   "codemirror_mode": {
    "name": "ipython",
    "version": 2
   },
   "file_extension": ".py",
   "mimetype": "text/x-python",
   "name": "python",
   "nbconvert_exporter": "python",
   "pygments_lexer": "ipython2",
   "version": "2.7.10"
  }
 },
 "nbformat": 4,
 "nbformat_minor": 0
}
