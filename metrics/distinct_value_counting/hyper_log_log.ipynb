{
 "cells": [
  {
   "cell_type": "code",
   "execution_count": null,
   "metadata": {
    "collapsed": true
   },
   "outputs": [],
   "source": []
  },
  {
   "cell_type": "code",
   "execution_count": null,
   "metadata": {
    "collapsed": true
   },
   "outputs": [],
   "source": []
  },
  {
   "cell_type": "code",
   "execution_count": null,
   "metadata": {
    "collapsed": true
   },
   "outputs": [],
   "source": []
  },
  {
   "cell_type": "code",
   "execution_count": null,
   "metadata": {
    "collapsed": true
   },
   "outputs": [],
   "source": []
  },
  {
   "cell_type": "code",
   "execution_count": 1,
   "metadata": {
    "collapsed": false
   },
   "outputs": [
    {
     "ename": "NameError",
     "evalue": "name 'b' is not defined",
     "output_type": "error",
     "traceback": [
      "\u001b[0;31m---------------------------------------------------------------------------\u001b[0m",
      "\u001b[0;31mNameError\u001b[0m                                 Traceback (most recent call last)",
      "\u001b[0;32m<ipython-input-1-1adf39de965e>\u001b[0m in \u001b[0;36m<module>\u001b[0;34m()\u001b[0m\n\u001b[0;32m----> 1\u001b[0;31m \u001b[0mm\u001b[0m \u001b[0;34m=\u001b[0m \u001b[0;36m2\u001b[0m\u001b[0;34m^\u001b[0m\u001b[0mb\u001b[0m \u001b[0;31m#with b in [4...16]\u001b[0m\u001b[0;34m\u001b[0m\u001b[0m\n\u001b[0m\u001b[1;32m      2\u001b[0m \u001b[0;34m\u001b[0m\u001b[0m\n\u001b[1;32m      3\u001b[0m \u001b[0;32mif\u001b[0m \u001b[0mm\u001b[0m \u001b[0;34m==\u001b[0m \u001b[0;36m16\u001b[0m\u001b[0;34m:\u001b[0m\u001b[0;34m\u001b[0m\u001b[0m\n\u001b[1;32m      4\u001b[0m     \u001b[0malpha\u001b[0m \u001b[0;34m=\u001b[0m \u001b[0;36m0.673\u001b[0m\u001b[0;34m\u001b[0m\u001b[0m\n\u001b[1;32m      5\u001b[0m \u001b[0;32melif\u001b[0m \u001b[0mm\u001b[0m \u001b[0;34m==\u001b[0m \u001b[0;36m32\u001b[0m\u001b[0;34m:\u001b[0m\u001b[0;34m\u001b[0m\u001b[0m\n",
      "\u001b[0;31mNameError\u001b[0m: name 'b' is not defined"
     ]
    }
   ],
   "source": [
    "m = 2^b #with b in [4...16]\n",
    " \n",
    "if m == 16:\n",
    "    alpha = 0.673\n",
    "elif m == 32:\n",
    "    alpha = 0.697\n",
    "elif m == 64:\n",
    "    alpha = 0.709\n",
    "else:\n",
    "    alpha = 0.7213/(1 + 1.079/m)\n",
    " \n",
    "registers = [0]*m # initialize m registers to 0\n",
    " \n",
    "##############################################################################################\n",
    "# Construct the HLL structure\n",
    "for h in hashed(data):\n",
    "    register_index = 1 + get_register_index( h,b ) # binary address of the rightmost b bits\n",
    "    run_length = run_of_zeros( h,b ) # length of the run of zeroes starting at bit b+1\n",
    "    registers[ register_index ] = max( registers[ register_index ], run_length )\n",
    " \n",
    "##############################################################################################\n",
    "# Determine the cardinality\n",
    "DV_est = alpha * m^2 * 1/sum( 2^ -register )  # the DV estimate\n",
    " \n",
    "if DV_est < 5/2 * m: # small range correction\n",
    "    V = count_of_zero_registers( registers ) # the number of registers equal to zero\n",
    "    if V == 0:  # if none of the registers are empty, use the HLL estimate\n",
    "          DV = DV_est\n",
    "    else:\n",
    "          DV = m * log(m/V)  # i.e. balls and bins correction\n",
    " \n",
    "if DV_est <= ( 1/30 * 2^32 ):  # intermediate range, no correction\n",
    "     DV = DV_est\n",
    "if DV_est > ( 1/30 * 2^32 ):  # large range correction\n",
    "     DV = -2^32 * log( 1 - DV_est/2^32)"
   ]
  },
  {
   "cell_type": "code",
   "execution_count": null,
   "metadata": {
    "collapsed": true
   },
   "outputs": [],
   "source": [
    "class HyperLogLog:\n",
    "    \n",
    "    \n",
    "    def __init__(self,b):\n",
    "        m = 2**b \n",
    "        \n",
    "        if m == 16:\n",
    "            alpha = 0.673\n",
    "        elif m == 32:\n",
    "            alpha = 0.697\n",
    "        elif m == 64:\n",
    "            alpha = 0.709\n",
    "        else:\n",
    "            alpha = 0.7213/(1 + 1.079/m)\n",
    "        self._registers = [0]*m\n",
    "    \n",
    "    def update(self,h):\n",
    "        # binary address of the rightmost b bits\n",
    "        register_index = 1 + get_register_index( h,b ) \n",
    "        # length of the run of zeroes starting at bit b+1\n",
    "        run_length = run_of_zeros( h,b )\n",
    "        registers[ register_index ] = max( registers[ register_index ], run_length )"
   ]
  }
 ],
 "metadata": {
  "kernelspec": {
   "display_name": "Python 2",
   "language": "python",
   "name": "python2"
  },
  "language_info": {
   "codemirror_mode": {
    "name": "ipython",
    "version": 2
   },
   "file_extension": ".py",
   "mimetype": "text/x-python",
   "name": "python",
   "nbconvert_exporter": "python",
   "pygments_lexer": "ipython2",
   "version": "2.7.10"
  }
 },
 "nbformat": 4,
 "nbformat_minor": 0
}
