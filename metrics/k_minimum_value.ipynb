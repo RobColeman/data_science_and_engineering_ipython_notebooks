{
 "cells": [
  {
   "cell_type": "code",
   "execution_count": 47,
   "metadata": {
    "collapsed": true
   },
   "outputs": [],
   "source": [
    "%matplotlib inline\n",
    "#%load_ext autoreload\n",
    "#%autoreload 2\n",
    "%reload_ext autoreload\n",
    "import numpy as np\n",
    "import matplotlib.pyplot as plt\n",
    "import math, sys, os"
   ]
  },
  {
   "cell_type": "markdown",
   "metadata": {},
   "source": [
    "## K Minimum Value estimator for Approximate distinct Values\n",
    "\n",
    "K Miminum Value Distinct Value Estimation works by assuming that you can design a hash function that will spread your data *uniformly* across a closed interval [0,1].  If this is so, we can estimate the average spacing between each of our hashed datapoints with the first order statistic S<sub>1</sub>, by DV_hat = 1 / S<sub>1</sub>."
   ]
  },
  {
   "cell_type": "code",
   "execution_count": 48,
   "metadata": {
    "collapsed": false
   },
   "outputs": [
    {
     "name": "stdout",
     "output_type": "stream",
     "text": [
      "2381.74164606\n"
     ]
    }
   ],
   "source": [
    "from random import random as rand\n",
    "\n",
    "class MVEstimator:\n",
    "    \n",
    "    def __init__(self):\n",
    "        self.min_value = None\n",
    "    \n",
    "    def update(self,v):\n",
    "        if self.min_value == None:\n",
    "            self.min_value = v\n",
    "        else:\n",
    "            self.min_value = min(self.min_value,v)\n",
    "    \n",
    "    def estimate_DV(self):\n",
    "        return 1 / self.min_value\n",
    "\n",
    "\n",
    "MV = MVEstimator()\n",
    "for i in range(10000):\n",
    "    MV.update(rand())\n",
    "\n",
    "print MV.estimate_DV()"
   ]
  },
  {
   "cell_type": "markdown",
   "metadata": {},
   "source": [
    "Now, since this estimator is derived from a single value, S<sub>1</sub>, the variance of this estimator is going to be equal to the variance of S<sub>1</sub>.  A straitforward way to reduce variance of this estimator is to change from using S<sub>1</sub>, to using S<sub>k</sub>, the k-th order statistic.  "
   ]
  },
  {
   "cell_type": "code",
   "execution_count": 60,
   "metadata": {
    "collapsed": false
   },
   "outputs": [
    {
     "data": {
      "text/plain": [
       "<matplotlib.axes._subplots.AxesSubplot at 0x117332610>"
      ]
     },
     "execution_count": 60,
     "metadata": {},
     "output_type": "execute_result"
    },
    {
     "data": {
      "image/png": "[encoded data removed]",
      "text/plain": [
       "<matplotlib.figure.Figure at 0x116e4ffd0>"
      ]
     },
     "metadata": {},
     "output_type": "display_data"
    }
   ],
   "source": [
    "import heapq\n",
    "import pandas as pd\n",
    "\n",
    "class KMV:\n",
    "    \n",
    "    def __init__(self, k):\n",
    "        self._heap = []\n",
    "        self._count = 0\n",
    "        self.k = k\n",
    "    \n",
    "    def show(self):\n",
    "        return sorted([-1 * x for x in self._heap])\n",
    "        \n",
    "    def total_seen(self):\n",
    "        return self.__count\n",
    "    \n",
    "    def size(self):\n",
    "        return len(self._heap)\n",
    "    \n",
    "    def __heappush(self, v):\n",
    "        \"\"\"\n",
    "        storing the values as negatives, to make a max-heap\n",
    "        \"\"\"\n",
    "        heapq.heappush(self._heap, v)\n",
    "        self._count += 1\n",
    "        \n",
    "    def __heappop(self):\n",
    "        return -1 * heapq.heappop(self._heap)\n",
    "    \n",
    "    def kth_smallest(self):\n",
    "        return -1 * self._heap[0]\n",
    "    \n",
    "    def update(self, v):\n",
    "        if self.size() < self.k:\n",
    "            self.__heappush(-1 * v)\n",
    "        elif v < self.kth_smallest():\n",
    "            self.__heappop()\n",
    "            self.__heappush(-1 * v)\n",
    "    \n",
    "    def estimate_DV(self):\n",
    "        if self._count < self.k:\n",
    "            return self._count\n",
    "        else:\n",
    "            return (self.k - 1) / self.kth_smallest()\n",
    "\n",
    "\n",
    "kmv = KMV(100)\n",
    "DV_error = []\n",
    "samples = list(range(1000000))\n",
    "for i in samples:\n",
    "    kmv.update(rand())\n",
    "    DV_error.append(i - kmv.estimate_DV())\n",
    "\n",
    "    \n",
    "DV_error = pd.Series(DV_error)\n",
    "DV_error.plot()"
   ]
  },
  {
   "cell_type": "markdown",
   "metadata": {},
   "source": [
    "## Multi-sets"
   ]
  },
  {
   "cell_type": "code",
   "execution_count": null,
   "metadata": {
    "collapsed": true
   },
   "outputs": [],
   "source": []
  }
 ],
 "metadata": {
  "kernelspec": {
   "display_name": "Python 2",
   "language": "python",
   "name": "python2"
  },
  "language_info": {
   "codemirror_mode": {
    "name": "ipython",
    "version": 2
   },
   "file_extension": ".py",
   "mimetype": "text/x-python",
   "name": "python",
   "nbconvert_exporter": "python",
   "pygments_lexer": "ipython2",
   "version": "2.7.10"
  }
 },
 "nbformat": 4,
 "nbformat_minor": 0
}
