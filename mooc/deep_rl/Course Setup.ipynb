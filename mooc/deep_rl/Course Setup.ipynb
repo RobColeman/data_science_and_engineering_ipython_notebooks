{
 "cells": [
  {
   "cell_type": "markdown",
   "metadata": {},
   "source": [
    "Setup for Deep Reinforcement learning:\n",
    "\n",
    "course link:\n",
    "https://www.udemy.com/deep-reinforcement-learning-in-python/learn/v4/content\n",
    "\n",
    "software/libraries required:\n",
    "\n",
    "python:\n",
    "Python 3\n",
    "(anaconda distro is fine)\n",
    "\n",
    "theano:\n",
    "pip install theano\n",
    "\n",
    "tensorflow:\n",
    "pip install tensorflow\n",
    "\n",
    "cmake:\n",
    "brew install cmake\n",
    "\n",
    "openAI gym:\n",
    "sudo pip install gym[all]\n",
    "\n",
    "course code (solutions)\n",
    "https://github.com/lazyprogrammer/machine_learning_examples/tree/master/rl2\n",
    "\n"
   ]
  }
 ],
 "metadata": {
  "kernelspec": {
   "display_name": "Python 3",
   "language": "python",
   "name": "python3"
  },
  "language_info": {
   "codemirror_mode": {
    "name": "ipython",
    "version": 3
   },
   "file_extension": ".py",
   "mimetype": "text/x-python",
   "name": "python",
   "nbconvert_exporter": "python",
   "pygments_lexer": "ipython3",
   "version": "3.6.1"
  }
 },
 "nbformat": 4,
 "nbformat_minor": 2
}
