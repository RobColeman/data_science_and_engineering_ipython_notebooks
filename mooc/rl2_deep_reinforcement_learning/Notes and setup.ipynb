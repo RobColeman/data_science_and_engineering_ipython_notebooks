{
 "cells": [
  {
   "cell_type": "markdown",
   "metadata": {},
   "source": [
    "Udemy Course:\n",
    "\n",
    "located at: \n",
    "https://www.udemy.com/deep-reinforcement-learning-in-python/learn/v4/content\n",
    "\n",
    "instructor code at: \n",
    "https://github.com/lazyprogrammer/machine_learning_examples/tree/master/rl2\n",
    "\n",
    "languages:\n",
    "Python\n",
    "\n",
    "\n",
    "Libraries:\n",
    "Theano\n",
    "TensorFlow\n",
    "Nympy\n",
    "cmake (brew install cmake)\n",
    "OpenAI gym (sudo pip install gym OR sudo pip install gym[all] OR sudo pip isntall gym[atari])\n",
    "\n",
    "\n"
   ]
  }
 ],
 "metadata": {
  "kernelspec": {
   "display_name": "Python [conda root]",
   "language": "python",
   "name": "conda-root-py"
  },
  "language_info": {
   "codemirror_mode": {
    "name": "ipython",
    "version": 3
   },
   "file_extension": ".py",
   "mimetype": "text/x-python",
   "name": "python",
   "nbconvert_exporter": "python",
   "pygments_lexer": "ipython3",
   "version": "3.5.2"
  }
 },
 "nbformat": 4,
 "nbformat_minor": 2
}
